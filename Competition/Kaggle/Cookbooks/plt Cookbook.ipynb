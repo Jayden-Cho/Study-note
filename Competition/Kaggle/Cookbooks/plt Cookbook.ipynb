{
 "cells": [
  {
   "cell_type": "markdown",
   "metadata": {},
   "source": [
    "# %matplotlib inline\n",
    "주피터 노트북 상에서 그래프를 표현하기 위한 라인."
   ]
  },
  {
   "cell_type": "markdown",
   "metadata": {},
   "source": [
    "<BR><BR>\n",
    "# plt.fill_between()\n",
    "두 horizontal curve의 범위로 채워넣는다.\n",
    "\n",
    "**parameter**: x, y1, y2, alpha, color\n",
    "\n",
    "- alpha: 투명도 조절."
   ]
  },
  {
   "cell_type": "code",
   "execution_count": null,
   "metadata": {},
   "outputs": [],
   "source": [
    "# 예제\n",
    "plt.fill_between(train_sizes, train_scores_mean-train_scores_std,\n",
    "                train_scores_mean + train_scores_std, alpha=0.1)"
   ]
  },
  {
   "cell_type": "markdown",
   "metadata": {},
   "source": [
    "<BR><BR>\n",
    "# plt.gcf()\n",
    "객체 설정과 비슷한듯.\n",
    "instance를 생성해 class를 instaniate하듯이.\n",
    "\n",
    "set_size_inches(x, y)를 사용하기 위해 필요함."
   ]
  },
  {
   "cell_type": "code",
   "execution_count": null,
   "metadata": {},
   "outputs": [],
   "source": [
    "fig = plt.gcf()"
   ]
  },
  {
   "cell_type": "markdown",
   "metadata": {},
   "source": [
    "<br><BR>\n",
    "# fig.set_size_inches(x, y)\n",
    "\n",
    "사용하기 위해선 *fig=plt.gcf*로 객체 생성해야. x, y는 각각 크기 설정."
   ]
  },
  {
   "cell_type": "markdown",
   "metadata": {},
   "source": [
    "<br><br>\n",
    "# plt.subplot()\n",
    "여러 개의 그래프를 일일히 적어 출력"
   ]
  },
  {
   "cell_type": "code",
   "execution_count": null,
   "metadata": {},
   "outputs": [],
   "source": [
    "plt.subplot(2, 1, 1)\n",
    "plt.subplot(2, 1, 2)"
   ]
  },
  {
   "cell_type": "markdown",
   "metadata": {},
   "source": [
    "<br><br>\n",
    "# plt.subplots()\n",
    "여러 개의 그래프를 한 번의 입력으로 출력.\n",
    "\n",
    "**Parameters**: nrows, ncols, sharex, sharey, figsize\n",
    "\n",
    "- sharex, sharey: x, y축을 공유하냐마냐 결정"
   ]
  },
  {
   "cell_type": "code",
   "execution_count": null,
   "metadata": {},
   "outputs": [],
   "source": [
    "fig, ax = plt.subplots(nrows=2, ncols=2, \n",
    "                       sharex='all', figsize=(15, 15))"
   ]
  },
  {
   "cell_type": "markdown",
   "metadata": {},
   "source": [
    "<br><br>\n",
    "# plt.suptitle()\n",
    "figure에 center title을 박아줌. 주로 나는 sns plot에 박음.\n",
    "\n",
    "**Parameter**: title"
   ]
  },
  {
   "cell_type": "code",
   "execution_count": null,
   "metadata": {},
   "outputs": [],
   "source": [
    "# 예제\n",
    "g = sns.factorplot(x='SibSp', y='Survived', data=train, \n",
    "                   kind='bar', size=6)\n",
    "g.despine(left=True)\n",
    "g.set_ylabels('Survival Probability')\n",
    "g.fig.suptitle('SibSp vs. Survived')\n",
    "plt.show()"
   ]
  },
  {
   "cell_type": "markdown",
   "metadata": {},
   "source": [
    "<br><br>\n",
    "# plt.tick_params\n",
    "tick의 설정을 변경.\n",
    "\n",
    "**Parameter**: 사용처마다 너무 다름."
   ]
  },
  {
   "cell_type": "code",
   "execution_count": null,
   "metadata": {},
   "outputs": [],
   "source": []
  }
 ],
 "metadata": {
  "kernelspec": {
   "display_name": "Python 3",
   "language": "python",
   "name": "python3"
  },
  "language_info": {
   "codemirror_mode": {
    "name": "ipython",
    "version": 3
   },
   "file_extension": ".py",
   "mimetype": "text/x-python",
   "name": "python",
   "nbconvert_exporter": "python",
   "pygments_lexer": "ipython3",
   "version": "3.7.4"
  }
 },
 "nbformat": 4,
 "nbformat_minor": 2
}
