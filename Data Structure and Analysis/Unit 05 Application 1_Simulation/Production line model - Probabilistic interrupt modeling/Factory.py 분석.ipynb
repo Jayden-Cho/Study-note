{
 "cells": [
  {
   "cell_type": "code",
   "execution_count": 5,
   "metadata": {},
   "outputs": [
    {
     "ename": "NameError",
     "evalue": "name 'ManufacturingProcess' is not defined",
     "output_type": "error",
     "traceback": [
      "\u001b[0;31m---------------------------------------------------------------------------\u001b[0m",
      "\u001b[0;31mNameError\u001b[0m                                 Traceback (most recent call last)",
      "\u001b[0;32m<ipython-input-5-c00661df4373>\u001b[0m in \u001b[0;36m<module>\u001b[0;34m\u001b[0m\n\u001b[0;32m----> 1\u001b[0;31m \u001b[0;32mclass\u001b[0m \u001b[0mFactory\u001b[0m\u001b[0;34m(\u001b[0m\u001b[0mManufacturingProcess\u001b[0m\u001b[0;34m)\u001b[0m\u001b[0;34m:\u001b[0m\u001b[0;34m\u001b[0m\u001b[0;34m\u001b[0m\u001b[0m\n\u001b[0m\u001b[1;32m      2\u001b[0m     \u001b[0;31m# 기본값. 2행 5열. Product 두개로 시작.\u001b[0m\u001b[0;34m\u001b[0m\u001b[0;34m\u001b[0m\u001b[0;34m\u001b[0m\u001b[0m\n\u001b[1;32m      3\u001b[0m     \u001b[0mrow\u001b[0m \u001b[0;34m=\u001b[0m \u001b[0;36m2\u001b[0m\u001b[0;34m\u001b[0m\u001b[0;34m\u001b[0m\u001b[0m\n\u001b[1;32m      4\u001b[0m     \u001b[0mcol\u001b[0m \u001b[0;34m=\u001b[0m \u001b[0;36m5\u001b[0m\u001b[0;34m\u001b[0m\u001b[0;34m\u001b[0m\u001b[0m\n\u001b[1;32m      5\u001b[0m     \u001b[0mnumStartProduct\u001b[0m \u001b[0;34m=\u001b[0m \u001b[0;36m2\u001b[0m\u001b[0;34m\u001b[0m\u001b[0;34m\u001b[0m\u001b[0m\n",
      "\u001b[0;31mNameError\u001b[0m: name 'ManufacturingProcess' is not defined"
     ]
    }
   ],
   "source": [
    "class Factory(ManufacturingProcess):\n",
    "    # 기본값. 2행 5열. Product 두개로 시작.\n",
    "    row = 2\n",
    "    col = 5\n",
    "    numStartProduct = 2"
   ]
  },
  {
   "cell_type": "markdown",
   "metadata": {},
   "source": [
    "# def \\__init__( )"
   ]
  },
  {
   "cell_type": "code",
   "execution_count": null,
   "metadata": {},
   "outputs": [],
   "source": [
    "    def __init__(self, strFileName, breakProb):    # breakProb이 뭔지 모르겠다. 특정 station을 탈출할 확률?\n",
    "                                                   # main.py에 0.3인걸 보니 30% 확률로 탈출인 듯.\n",
    "        self.breakProb = breakProb    # main.py에서는 0.3\n",
    "        self.waitingProduct = ProductionList(strFileName)    # 생산 라인에 투입되기 전 product들.\n",
    "        self.completedProduct = ProductionList('')    # 공정을 마친 product 넣기 위한 빈 리스트.\n",
    "\n",
    "        self.processes = [[[] for j in range(self.col)] for i in range(self.row)]    # 초기 변수로 받은 행렬값으로 생산공정 생성.\n",
    "        for i in range(self.row):    # 2\n",
    "            for j in range(self.col):    # 5\n",
    "                if i == 0:\n",
    "                    self.processes[i][j] = ManufacturingProcess('queue')    # 첫 번째 라인은 Queue 방식으로.\n",
    "                if i == 1:\n",
    "                    self.processes[i][j] = ManufacturingProcess('stack')    # 두 번째 라인은 Stack 방식으로."
   ]
  },
  {
   "cell_type": "markdown",
   "metadata": {},
   "source": [
    "# def selectLine( )"
   ]
  },
  {
   "cell_type": "code",
   "execution_count": null,
   "metadata": {},
   "outputs": [],
   "source": [
    "    def selectLine(self, matCost):    # Return line = 1 or 2 by selecting a line by dynamic\n",
    "                                      # programming. matCost = (Line) X (Processor)\n",
    "                                      # Line = this.row, Processor = this.col\n",
    "                                      # 아마 이 메소드는 process 모두 끝나고 어느 라인을 선택할지 사용하는 메소드인듯\n",
    "                                      # 아니고서야 이런 미친짓 할리 없다.\n",
    "        matShortestCost = np.zeros((self.row, self.col))    # memoization table.\n",
    "        matPrevLine = np.zeros((self.row, self.col))    # retrace table\n",
    "\n",
    "        for i in range(self.row):\n",
    "            matShortestCost[i][0] = matCost[i][0]    # memoization의 첫 번째 value는 matCost의 첫 번째 value.\n",
    "\n",
    "        for i in range(1, self.col):    # 1, 2, 3, 4\n",
    "            for j in range(self.row):    # 0, 1\n",
    "                if matShortestCost[0][i-1] + matCost[j][1] < matShortestCost[1][j-1] + matCost[j][i] :\n",
    "                    matShortestCost[j][i] = matShortestCost[0][i-1] + matCost[j][i]\n",
    "                    matPrevLine[j][i] = int(0)\n",
    "                else:\n",
    "                    matShortestCost[j][i] = matShortestCost[1][i-1] + matCost[j][i]\n",
    "                    matPrevLine[j][i] = int(1)\n",
    "\n",
    "        if matShortestCost[0][self.col-1] < matShortestCost[1][self.col-1] :\n",
    "            endLine = int(0)\n",
    "        else:\n",
    "            endLine = int(1)\n",
    "\n",
    "        for i in range(self.col-1, 0, -1):    # 4, 3, 2, 1\n",
    "            endLine = int(matPrevLine[endLine][i])\n",
    "            \n",
    "        line = endLine\n",
    "        \n",
    "        print('======================')\n",
    "        print('Cost Matrix : ')\n",
    "        print(matShortestCost)\n",
    "        print('Retrace Matrix : ')\n",
    "        print(matPrevLine)\n",
    "        return line"
   ]
  },
  {
   "cell_type": "markdown",
   "metadata": {},
   "source": [
    "# def getCostMatrix( )\n",
    "- cost = 특정 station에 jam되있는 product의 개수?\n",
    "- cost = time to process to the next station?"
   ]
  },
  {
   "cell_type": "code",
   "execution_count": null,
   "metadata": {},
   "outputs": [],
   "source": [
    "    def getCostMatrix(self):    # 위의 selectLine() 메소드에서 활용할 matCost 변수를 계산하는 메소드.\n",
    "        matCost = np.zeros((self.row, self.col))    # 똑같이 초기값은 2x5 영행렬.\n",
    "        for i in range(self.row):    # 2\n",
    "            for j in range(self.col):    # 5\n",
    "                matCost[i][j] = self.processes[i][j].getSize()    # 생산 공정 속 특정 stiation의 size. \n",
    "                                                                  # station에 몇 개의 product가 있는지.\n",
    "                                                                  # j=0이면 Queue, j=1이면 Stack.\n",
    "        return matCost"
   ]
  }
 ],
 "metadata": {
  "kernelspec": {
   "display_name": "Python 3",
   "language": "python",
   "name": "python3"
  },
  "language_info": {
   "codemirror_mode": {
    "name": "ipython",
    "version": 3
   },
   "file_extension": ".py",
   "mimetype": "text/x-python",
   "name": "python",
   "nbconvert_exporter": "python",
   "pygments_lexer": "ipython3",
   "version": "3.7.4"
  }
 },
 "nbformat": 4,
 "nbformat_minor": 2
}
