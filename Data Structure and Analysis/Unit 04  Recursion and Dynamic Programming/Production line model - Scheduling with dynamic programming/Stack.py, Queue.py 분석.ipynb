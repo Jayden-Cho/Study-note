{
 "cells": [
  {
   "cell_type": "markdown",
   "metadata": {},
   "source": [
    "# Stack.py\n",
    "Stack은 LIFO. Last-In-First-Out. 마지막에 들어간게 먼저 나온다.\n",
    "- Stack이든 Queue든 일단 나오는건 첫 번째 노드.\n",
    "- 하지만 Stack은 노드 저장을 첫 번째 노드에 한다."
   ]
  },
  {
   "cell_type": "code",
   "execution_count": 1,
   "metadata": {},
   "outputs": [],
   "source": [
    "from ProductionList import ProductionList\n",
    "\n",
    "class Stack(ProductionList):\n",
    "    def __init__(self):\n",
    "        # ProductionList를 instantiate하여 self.List라는 instance 생성.\n",
    "        # 원래 변수에는 csv 파일이 있어야.\n",
    "        self.List = ProductionList('')\n",
    "        \n",
    "    # 여기서부턴 ProductionList의 함수들 차용.\n",
    "    def add(self, Object):\n",
    "        self.List.addFirst(Object)\n",
    "        \n",
    "    def get(self):\n",
    "        node = self.List.removeFirst()\n",
    "        return node\n",
    "    \n",
    "    def getSize(self):\n",
    "        size = self.List.getSize()\n",
    "        return size\n",
    "    \n",
    "    def getListString(self):\n",
    "        string = self.List.getListString()\n",
    "        return string"
   ]
  },
  {
   "cell_type": "markdown",
   "metadata": {},
   "source": [
    "# Queue.py\n",
    "Queue는 FIFO. First-In-First-Out. 처음 들어간게 처음으로 나온다.\n",
    "- 나오는건 첫 번째 노드, 나가는 것도 첫 번째 노드."
   ]
  },
  {
   "cell_type": "code",
   "execution_count": null,
   "metadata": {},
   "outputs": [],
   "source": [
    "from ProductionList import ProductionList\n",
    "\n",
    "class Queue(ProductionList):\n",
    "    def __init__(self):\n",
    "        self.List = productionList('')\n",
    "        \n",
    "    def add(self, Object):\n",
    "        self.List.addLast(Object)\n",
    "        \n",
    "    def get(self):\n",
    "        node = self.List.removeFirst()\n",
    "        return node\n",
    "    \n",
    "    def getSize(self):\n",
    "        size = self.List.getSize()\n",
    "        return size\n",
    "    \n",
    "    def getListString(self):\n",
    "        string = self.List.getListString()\n",
    "        return String"
   ]
  }
 ],
 "metadata": {
  "kernelspec": {
   "display_name": "Python 3",
   "language": "python",
   "name": "python3"
  },
  "language_info": {
   "codemirror_mode": {
    "name": "ipython",
    "version": 3
   },
   "file_extension": ".py",
   "mimetype": "text/x-python",
   "name": "python",
   "nbconvert_exporter": "python",
   "pygments_lexer": "ipython3",
   "version": "3.7.4"
  }
 },
 "nbformat": 4,
 "nbformat_minor": 2
}
