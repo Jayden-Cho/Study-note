{
 "cells": [
  {
   "cell_type": "code",
   "execution_count": null,
   "metadata": {},
   "outputs": [],
   "source": [
    "class PlanNode:\n",
    "    # 저번보다 constructor에 들어갈 parameter가 줄어들었다.\n",
    "    def __init__(self, numNo, strSerialNumber, strModel):\n",
    "        self.numNo = numNo\n",
    "        self.strSerialNumber = strSerialNumber\n",
    "        self.strModel = strModel\n",
    "        \n",
    "    def printOut(self):\n",
    "        print('No :', self.numNo, ', SerialNum : ', self.strSerialNumber, ',Model:', self.strModel)\n",
    "        \n",
    "    def getNextNode(self):\n",
    "        node = self.nextNode\n",
    "        return node\n",
    "    \n",
    "    def getPrevNode(self):\n",
    "        node = self.prevNode\n",
    "        return node\n",
    "    \n",
    "    def setNextNode(self, node):\n",
    "        self.nextNode = node\n",
    "        \n",
    "    def setPrevNode(self, node):\n",
    "        self.prevNode = node"
   ]
  }
 ],
 "metadata": {
  "kernelspec": {
   "display_name": "Python 3",
   "language": "python",
   "name": "python3"
  },
  "language_info": {
   "codemirror_mode": {
    "name": "ipython",
    "version": 3
   },
   "file_extension": ".py",
   "mimetype": "text/x-python",
   "name": "python",
   "nbconvert_exporter": "python",
   "pygments_lexer": "ipython3",
   "version": "3.7.4"
  }
 },
 "nbformat": 4,
 "nbformat_minor": 2
}
