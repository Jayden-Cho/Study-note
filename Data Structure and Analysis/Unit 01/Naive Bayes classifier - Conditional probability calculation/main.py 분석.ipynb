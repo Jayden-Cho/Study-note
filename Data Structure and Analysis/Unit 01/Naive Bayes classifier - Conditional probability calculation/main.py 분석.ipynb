{
 "cells": [
  {
   "cell_type": "markdown",
   "metadata": {},
   "source": [
    "동일한 directory에 있는 SentiAnaylzer를 import한다."
   ]
  },
  {
   "cell_type": "code",
   "execution_count": 8,
   "metadata": {},
   "outputs": [],
   "source": [
    "from SentiAnalyzer import *"
   ]
  },
  {
   "cell_type": "markdown",
   "metadata": {},
   "source": [
    "encoding을 cp949 형식으로 하지 않으면 에러 발생:\n",
    "- UnicodeDecodeError: 'utf-8' codec can't decode byte 0xbf in position 414: invalid start byte\n",
    "\n",
    "word.csv 파일을 열고 확인 시험차 열어보자."
   ]
  },
  {
   "cell_type": "code",
   "execution_count": 14,
   "metadata": {},
   "outputs": [],
   "source": [
    "import csv\n",
    "\n",
    "f1 = open('word.csv', encoding='cp949')\n",
    "rdr1 = csv.reader(f1)\n",
    "word = []\n",
    "for row in rdr1:\n",
    "    word.append(row)\n",
    "len(word)\n",
    "f1.close()"
   ]
  },
  {
   "cell_type": "markdown",
   "metadata": {},
   "source": [
    "word.csv 파일에 총 28,624개의 단어가 들어있다.\n",
    "\n",
    "다음은 sentidata.csv를 열어보자."
   ]
  },
  {
   "cell_type": "code",
   "execution_count": 18,
   "metadata": {},
   "outputs": [],
   "source": [
    "f2 = open('sentidata.csv')\n",
    "rdr2 = csv.reader(f2)\n",
    "sentidata = []\n",
    "for row in rdr2:\n",
    "    sentidata.append(row)\n",
    "f2.close()"
   ]
  },
  {
   "cell_type": "markdown",
   "metadata": {},
   "source": [
    "sentidata는 총 198개의 행(리뷰)과 28624개의 열(단어 유무)이 존재하고, 각 행이 1과 0으로 이루어져 있는데 해당 단어가 있다면 1, 없다면 0이다.\n",
    "\n",
    "이제 본격적으로 SentiAnalyzer를 불러오고 분석하자.\n",
    "- runAnalysis() 함수를 요약하자면 특정 리뷰의 인덱스를 입력하고 그 리뷰에 등장한 단어들을 분석해서 리뷰가 긍정적인지 부정적인지 출력한다."
   ]
  },
  {
   "cell_type": "code",
   "execution_count": 31,
   "metadata": {},
   "outputs": [
    {
     "name": "stdout",
     "output_type": "stream",
     "text": [
      "This is a senti analyzer\n",
      "1)\n",
      "Positive\n",
      "2)\n",
      "Positive\n",
      "3)\n",
      "Positive\n",
      "-1301.6877187983882 -3094.9019186328865 Positive\n"
     ]
    }
   ],
   "source": [
    "# SentiAnalyzer를 instantiate한다.\n",
    "s = SentiAnalyzer()\n",
    "\n",
    "print('1)')\n",
    "# 8번째 리뷰를 분석한다.\n",
    "s.runAnalysis(sentidata, word, 8)\n",
    "\n",
    "# 12번째 리뷰를 분석한다.\n",
    "print('2)')\n",
    "s.runAnalysis(sentidata, word, 12)\n",
    "\n",
    "# 12번째 리뷰의 긍정적일 확률, 부정적일 확률의 log변환 수치와 최종 결과를 출력한다.\n",
    "print('3)')\n",
    "pos, neg, sent = s.runAnalysis(sentidata, word, 12)\n",
    "print(pos, neg, sent)"
   ]
  },
  {
   "cell_type": "code",
   "execution_count": 43,
   "metadata": {},
   "outputs": [
    {
     "name": "stdout",
     "output_type": "stream",
     "text": [
      "-1.0397717886451763 -0.43623676677491796\n",
      "0.35353535353535354 0.6464646464646465\n"
     ]
    }
   ],
   "source": [
    "probLogPositive, probLogNegative = 0, 0\n",
    "positiveProb1, negativeProb1 = s.probPositiveAndNegative(sentidata)\n",
    "\n",
    "probLogPositive = math.log(positiveProb1)\n",
    "probLogNegative = math.log(negativeProb1)\n",
    "print(probLogPositive, probLogNegative)\n",
    "print(positiveProb1, negativeProb1)"
   ]
  },
  {
   "cell_type": "code",
   "execution_count": 42,
   "metadata": {},
   "outputs": [
    {
     "name": "stdout",
     "output_type": "stream",
     "text": [
      "-0.4462871026284195\n"
     ]
    }
   ],
   "source": [
    "a = math.log(0.64)\n",
    "print(a)"
   ]
  },
  {
   "cell_type": "code",
   "execution_count": 48,
   "metadata": {},
   "outputs": [],
   "source": [
    "temp = [int(float(x))for x in sentidata[197][:-1]]"
   ]
  },
  {
   "cell_type": "code",
   "execution_count": null,
   "metadata": {},
   "outputs": [],
   "source": []
  }
 ],
 "metadata": {
  "kernelspec": {
   "display_name": "Python 3",
   "language": "python",
   "name": "python3"
  },
  "language_info": {
   "codemirror_mode": {
    "name": "ipython",
    "version": 3
   },
   "file_extension": ".py",
   "mimetype": "text/x-python",
   "name": "python",
   "nbconvert_exporter": "python",
   "pygments_lexer": "ipython3",
   "version": "3.7.4"
  }
 },
 "nbformat": 4,
 "nbformat_minor": 2
}
