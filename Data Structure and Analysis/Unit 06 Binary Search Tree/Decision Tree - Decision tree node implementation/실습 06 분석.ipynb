{
 "cells": [
  {
   "cell_type": "markdown",
   "metadata": {},
   "source": [
    "# voterecord.py\n",
    "\n",
    "- Record 클래스 보유.\n",
    "    - 필요 생성자 : csvline\n",
    "        - csvline : 주어진 csv 파일의 행."
   ]
  },
  {
   "cell_type": "code",
   "execution_count": null,
   "metadata": {},
   "outputs": [],
   "source": [
    "# 해당 record 줄에 대한 분석.\n",
    "class Record:\n",
    "\n",
    "    types = ['republican', 'democrat']\n",
    "    values = ['y', 'n', '?']\n",
    "    numValues = 16\n",
    "\n",
    "    # 정당과 투표 결과값 분리.\n",
    "    def __init__(self, csvline):\n",
    "        self.party = csvline[0]    # csvline의 첫 번째 요소는 정당. 따로 빼두기.\n",
    "        self.feature = []    # 법안에 대한 특정 정치인의 투표 결과를 저장할 리스트.\n",
    "        for itr in range(1, len(csvline)):    # 해당 csvline에 있는 투표 결과 모두(정당 제외) 위 리스트에 저장.\n",
    "            self.feature.append(csvline[itr])\n",
    "\n",
    "    def __str__(self):    # 인스턴스 자체를 출력 할 때의 형식을 지정해주는 함수.\n",
    "                          # 후에 Record instance을 생성하고 생성된 instance를 출력할 때 사용됨.\n",
    "        ret = 'Classification : '+self.party+', Features : '+str(self.feature)\n",
    "        return ret"
   ]
  },
  {
   "cell_type": "markdown",
   "metadata": {},
   "source": [
    "# decisiontreenode.py"
   ]
  },
  {
   "cell_type": "code",
   "execution_count": null,
   "metadata": {},
   "outputs": [],
   "source": [
    "import csv\n",
    "import math\n",
    "from voterecord import Record    # 위에 작성했던 Record 클래스 사용.\n",
    "\n",
    "class Node:"
   ]
  },
  {
   "cell_type": "markdown",
   "metadata": {},
   "source": [
    "## def \\__init__( ):"
   ]
  },
  {
   "cell_type": "code",
   "execution_count": 3,
   "metadata": {},
   "outputs": [
    {
     "data": {
      "text/plain": [
       "{'Repub': 0}"
      ]
     },
     "execution_count": 3,
     "metadata": {},
     "output_type": "execute_result"
    }
   ],
   "source": [
    "    def __init__(self, records):\n",
    "        self.blnSplit = False    # boolean split. split을 했는지 확인해주는 불린.\n",
    "                                 # splitNode() 함수 사용하면 True됨.\n",
    "        self.children = {}    # root의 child 초기화인듯.\n",
    "        self.records = records    # Record() 함수로 받아온 레코드.\n",
    "        self.decisionAttribute = -1    # 결정에 영향을 주는 Attribute가 몇갠지. 초기값은 -1.\n",
    "        self.stat = {}    # 공화당/민주당 몇명인지 보여주는 딕셔너리 생성.\n",
    "\n",
    "        # 각각 정당인이 몇명인지. \n",
    "        # result : {'republican': 168, 'democrat': 267}\n",
    "        for type in Record.types:    # 공화당, 민주당 둘 중 하나\n",
    "            self.stat[type] = 0    # 각각 정당의 type란에 0 저장.\n",
    "            for record in records:\n",
    "                if record.party == type:    # 해당 record 라인의 정당이 type과 일치한다면\n",
    "                    self.stat[type] = self.stat[type] + 1    # 해당 값에 1 더하기.   "
   ]
  },
  {
   "cell_type": "markdown",
   "metadata": {},
   "source": [
    "## def \\__str__( ):"
   ]
  },
  {
   "cell_type": "code",
   "execution_count": null,
   "metadata": {},
   "outputs": [],
   "source": [
    "    def __str__(self):    # Node로 만든 instance 실행될 때 출력.\n",
    "        if self.blnSplit == True:    # splitNode() 함수를 사용하면 True가 된다.\n",
    "            ret = 'Feature '+str(self.decisionAttribute)+ '('+str(self.stat)+')' + '\\n'\n",
    "            for key in self.children.keys():    # information gains를 나타내는 keys()\n",
    "                ret = ret + '---- key : '+str(key)+ ' '+str(self.children[key])\n",
    "        else:    # 영향 미치는 factor가 없다면\n",
    "            ret = str(self.stat) + '\\n'\n",
    "        return ret "
   ]
  },
  {
   "cell_type": "markdown",
   "metadata": {},
   "source": [
    "## def splitNode( ):"
   ]
  },
  {
   "cell_type": "code",
   "execution_count": null,
   "metadata": {},
   "outputs": [],
   "source": [
    "    def splitNode(self):\n",
    "        self.blnSplit = True\n",
    "        gains = self.calculateInformationGainPerFeatures()    # 정보이득 저장된 값.\n",
    "        idxMaxGainFeature = -1\n",
    "        maxGain = -999999999999999999.0\n",
    "        for itr in range(len(gains)):    # 16번 for loop.\n",
    "            if maxGain < gains[itr]:\n",
    "                maxGain = gains[itr]    # 가장 의사결정에 도움이 되는 infoGain.\n",
    "                idxMaxGainFeature = itr    # 해당 infoGain의 인덱스.\n",
    "                \n",
    "        for value in Record.values:    # y, n, ? 세개.\n",
    "            childRecords = []\n",
    "            for record in self.records:   # record 마다\n",
    "                if record.feature[idxMaxGainFeature] == value:   # 해당 record의 해당 인덱스(여기선 3)에 그 value가 있다면:\n",
    "                    childRecords.append(record)    # 해당 record를 childRecords 리스트에 저장.\n",
    "            self.children[value] = Node(childRecords)\n",
    "        self.decisionAttribute = idxMaxGainFeature\n",
    "        return self.children"
   ]
  },
  {
   "cell_type": "markdown",
   "metadata": {},
   "source": [
    "## def calculateInformationGainPerFeatures( ):"
   ]
  },
  {
   "cell_type": "code",
   "execution_count": null,
   "metadata": {},
   "outputs": [],
   "source": [
    "    # Feature(투표 결과. 16개)마다 정보이득(information gain) 계산.\n",
    "    # gains value가 클수록 해당 리뷰가 의사결정에 도움이 된다는 뜻.\n",
    "    def calculateInformationGainPerFeatures(self):\n",
    "        gains = []    # 계산한 정보이득 값들 저장할 곳.\n",
    "        entropyClass = self.calculateClassEntropy()    # 0.9623080486960709. 모든 투표 결과에 대한 entropy.\n",
    "        for itr in range(Record.numValues):    # 0부터 15 총 16개.\n",
    "            entropyConditional = self.calculateConditionalEntropy(itr)    \n",
    "            gains.append(entropyClass-entropyConditional)\n",
    "        return gains"
   ]
  },
  {
   "cell_type": "markdown",
   "metadata": {},
   "source": [
    "## def calculateClassEntropy( ):"
   ]
  },
  {
   "cell_type": "code",
   "execution_count": null,
   "metadata": {},
   "outputs": [],
   "source": [
    "    # 전체 결과에 대한 entropy. 공화/민주당원이 몇명인지에 따른 entropy.\n",
    "    def calculateClassEntropy(self):\n",
    "        entropy = 0.0    # 초기 엔트로피 값.\n",
    "        for type in Record.types:    # 공화/민주\n",
    "            cnt = 0.0\n",
    "            for record in self.records:    # 밑에서 저장한 records값.\n",
    "                if record.party == type:    #\n",
    "                    cnt = cnt + 1.0\n",
    "            size = float(len(self.records))    # 전체 레코드 수.\n",
    "            prob = float(cnt / size)    \n",
    "            entropy = entropy - prob * math.log(prob, 2)\n",
    "        return entropy"
   ]
  },
  {
   "cell_type": "markdown",
   "metadata": {},
   "source": [
    "## calculateConditionalEntropy( ):"
   ]
  },
  {
   "cell_type": "code",
   "execution_count": null,
   "metadata": {},
   "outputs": [],
   "source": [
    "    # 특정 투표의 결과에 대한 엔트로피. 결과가 응집력이 높을수록 엔트로피가 낮다.\n",
    "    def calculateConditionalEntropy(self, idxFeature):\n",
    "        entropy = 0.0\n",
    "        for value in Record.values:    # y, n, ? 세개.\n",
    "            for type in Record.types:    # 공화/민주\n",
    "                cntFeature = 0.0    # 해당 법안에 대한 투표 결과값\n",
    "                cntFeatureAndClass = 0.0\n",
    "                for record in self.records:\n",
    "                    if record.feature[idxFeature] == value:\n",
    "                        cntFeature = cntFeature + 1\n",
    "                        if record.party == type:\n",
    "                            cntFeatureAndClass = cntFeatureAndClass + 1.0\n",
    "                size = float(len(self.records))\n",
    "                probFeature = cntFeature / size + 0.000001\n",
    "                probFeatureAndClass = cntFeatureAndClass / size + 0.000001\n",
    "                entropy = entropy + probFeatureAndClass * math.log(probFeature/probFeatureAndClass, 2)\n",
    "        return entropy"
   ]
  },
  {
   "cell_type": "markdown",
   "metadata": {},
   "source": [
    "## if \\__name\\__ == \"\\_main\\_\":"
   ]
  },
  {
   "cell_type": "code",
   "execution_count": null,
   "metadata": {},
   "outputs": [],
   "source": [
    "# 이 파일을 실행했을 때 이하의 구문들이 출력된다. 오로지 import만 했을 경우에는 실행되지 않는다.\n",
    "# 아마 이번 실습에는 필요없고 다음 실습에서 사용될때를 위한 것 같다.\n",
    "# 자세한 설명은 https://wikidocs.net/29 여기서.\n",
    "if __name__ == \"__main__\":\n",
    "    csvfile = open('house-votes-84.csv','rt')    # rt: text모드를 read.\n",
    "    reader = csv.reader(csvfile,delimiter=',')\n",
    "    records = []\n",
    "\n",
    "    for row in reader:\n",
    "        record = Record(row)    # 각 행마다 정당/결과 분리\n",
    "        print (record)    # __str__ 함수에 의해 출력.\n",
    "        records.append(record)\n",
    "\n",
    "    node = Node(records)\n",
    "    print(node)\n",
    "    node.splitNode()\n",
    "    print(node)"
   ]
  },
  {
   "cell_type": "markdown",
   "metadata": {},
   "source": [
    "# 출력 결과"
   ]
  },
  {
   "cell_type": "code",
   "execution_count": null,
   "metadata": {},
   "outputs": [],
   "source": [
    "print(record) 출력 결과\n",
    "'''\n",
    "Classficiation : republican, Features : ['n', 'y', 'n', 'y', 'y', 'y', 'n', 'n', 'n', 'y', '?', 'y', 'y', 'y', 'n', 'y']\n",
    "Classficiation : republican, Features : ['n', 'y', 'n', 'y', 'y', 'y', 'n', 'n', 'n', 'n', 'n', 'y', 'y', 'y', 'n', '?']\n",
    ".\n",
    ".\n",
    ".\n",
    "Classficiation : republican, Features : ['n', 'n', 'n', 'y', 'y', 'y', '?', '?', '?', '?', 'n', 'y', 'y', 'y', 'n', 'y']\n",
    "Classficiation : republican, Features : ['n', 'y', 'n', 'y', 'y', 'y', 'n', 'n', 'n', 'y', 'n', 'y', 'y', 'y', '?', 'n']\n",
    "'''\n",
    "\n",
    "print(node) 출력 결과\n",
    "'''\n",
    "{'republican': 168, 'democrat': 267}\n",
    "'''\n",
    "\n",
    "node.split() 후 print(node) 출력 결과\n",
    "'''\n",
    "Feature 3({'republican': 168, 'democrat': 267})\n",
    "---- key : y {'republican': 163, 'democrat': 14}\n",
    "---- key : n {'republican': 2, 'democrat': 245}\n",
    "---- key : ? {'republican': 3, 'democrat': 8}\n",
    "'''"
   ]
  },
  {
   "cell_type": "markdown",
   "metadata": {},
   "source": [
    "# 전체 코드"
   ]
  },
  {
   "cell_type": "code",
   "execution_count": null,
   "metadata": {},
   "outputs": [],
   "source": [
    "import csv\n",
    "import math\n",
    "from voterecord import Record\n",
    "\n",
    "class Node:\n",
    "    \n",
    "    def __init__(self, records):\n",
    "        self.blnSplit = False\n",
    "        self.children = {}\n",
    "        self.records = records\n",
    "        self.decisionAttribute = -1\n",
    "        self.stat = {}\n",
    "        \n",
    "        for type in Record.types:\n",
    "            self.stat[type] = 0\n",
    "            for record in records:\n",
    "                if record.party == type:\n",
    "                    self.stat[type] = self.stat[type] + 1\n",
    "                    \n",
    "    def __str__(self):\n",
    "        if self.blnSplit == True:\n",
    "            ret = 'Feature '+str(self.decisionAttribute)+'('+str(self.stat)+')'+'\\n'\n",
    "            for key in self.children.keys():\n",
    "                ret = ret+'----key : '+str(key)+' '+str(self.children[key])\n",
    "        else:\n",
    "            ret = str(self.stat)+'\\n'\n",
    "        return ret\n",
    "    \n",
    "    def splitNode(self):\n",
    "        self.blnSplit = True\n",
    "        gains = self.calculateInformationGainPerFeatures()\n",
    "        idxMaxGainFeature = -1\n",
    "        maxGain = -999999999999999999.0\n",
    "        for itr in range(len(gains)):\n",
    "            if maxGain < gains[itr]:\n",
    "                maxGain = gains[itr]\n",
    "                idxMaxGainFeature = itr\n",
    "                \n",
    "        for value in Record.values:\n",
    "            childRecords = []\n",
    "            for record in self.records:\n",
    "                if record.feature[idxMaxGainFeature] == value:\n",
    "                    childRecords.append(record)\n",
    "            self.children[value] = Node(childRecords)\n",
    "        self.decisionAttribute = idxMaxGainFeature\n",
    "        return self.children\n",
    "    \n",
    "    def calculateInformationGainPerFeatures(self):\n",
    "        gains = []\n",
    "        entropyClass = self.calculateClassEntropy()\n",
    "        for itr in range(Record.numValues):\n",
    "            entropyConditional = self.calculateConditionalEntropy(itr)\n",
    "            gains.append(entropyClass-entropyConditional)\n",
    "        return gains\n",
    "    \n",
    "    def calculateClassEntropy(self):\n",
    "        entropy = 0.0\n",
    "        for type in Record.types:\n",
    "            cnt = 0.0\n",
    "            for record in self.records:\n",
    "                if record.party == type:\n",
    "                    cnt = cnt + 1.0\n",
    "            size = float(len(self.records))\n",
    "            prob = float(cnt / size)\n",
    "            entropy = entropy - prob * math.log(prob, 2)\n",
    "        return entropy\n",
    "    \n",
    "    def calculateConditionalEntropy(self, idxFeature):\n",
    "        entropy = 0.0\n",
    "        for value in Record.values:\n",
    "            for type in Record.types:    # 먼저 yes한 공화당원이라 생각하자.\n",
    "                cntFeature = 0.0\n",
    "                cntFeatureAndClass = 0.0\n",
    "                for record in self.records:    # 해당 정치인 투표결과 record.\n",
    "                    if record.feature[idxFeature] == value:    # 해당 정치인이 idx번째 법안에 대해 yes를 했다면,\n",
    "                        cntFeature = cntFeature + 1\n",
    "                        if record.party == type:    # 그리고 그 정치인이 공화당원이라면,\n",
    "                            cntFeatureAndClass = cntFeatureAndClass + 1.0\n",
    "                size = float(len(self.records))\n",
    "                probFeature = cntFeature / size + 0.000001\n",
    "                probFeatureAndClass = cntFeatureAndClass / size + 0.000001\n",
    "                entropy = entropy + probFeatureAndClass * math.log(probFeature/probFeatureAndClass, 2)\n",
    "        return entropy\n",
    "    \n",
    "if __name__ == \"__main__\":\n",
    "    csvfile = open('house-votes-84.csv','rt')    \n",
    "    reader = csv.reader(csvfile,delimiter=',')\n",
    "    records = []\n",
    "\n",
    "    for row in reader:\n",
    "        record = Record(row)   \n",
    "        print (record) \n",
    "        records.append(record)\n",
    "\n",
    "    node = Node(records)\n",
    "    print(node)\n",
    "    node.splitNode()\n",
    "    print(node)"
   ]
  },
  {
   "cell_type": "markdown",
   "metadata": {},
   "source": [
    "# 연습"
   ]
  },
  {
   "cell_type": "code",
   "execution_count": 41,
   "metadata": {},
   "outputs": [],
   "source": [
    "import csv\n",
    "import math"
   ]
  },
  {
   "cell_type": "code",
   "execution_count": 5,
   "metadata": {},
   "outputs": [
    {
     "name": "stdout",
     "output_type": "stream",
     "text": [
      "0.5300898855559345\n",
      "0.9623080486960709\n"
     ]
    },
    {
     "data": {
      "text/plain": [
       "0.9623080486960709"
      ]
     },
     "execution_count": 5,
     "metadata": {},
     "output_type": "execute_result"
    }
   ],
   "source": [
    "import csv\n",
    "import math\n",
    "\n",
    "class Record:\n",
    "\n",
    "    types = ['republican','democrat']\n",
    "    values = ['y','n','?']\n",
    "    numValues = 16\n",
    "\n",
    "    def __init__(self,csvline):\n",
    "        self.party = csvline[0]    # 정당 추출\n",
    "        self.feature = []\n",
    "        for itr in range(1,len(csvline)):\n",
    "            self.feature.append(csvline[itr])    # 나머지 결과물 값을 feature에 저장.\n",
    "\n",
    "    def __str__(self):\n",
    "        ret = 'Classficiation : '+self.party+', Features : '+str(self.feature)    # 출력될 때 위에서 저장된 값들 표시.\n",
    "        return ret\n",
    "    \n",
    "csvfile = open('house-votes-84.csv', 'rt')\n",
    "reader = csv.reader(csvfile, delimiter=',')\n",
    "records = []\n",
    "\n",
    "for row in reader:\n",
    "    record = Record(row)\n",
    "    records.append(record)\n",
    "\n",
    "stat = {}    \n",
    "for type in Record.types:    # 공화당, 민주당 둘 중 하나\n",
    "    stat[type] = 0    # 각각 정당의 type란에 0 저장.\n",
    "    for record in records:\n",
    "        if record.party == type:    # 해당 record 라인의 정당이 type과 일치한다면\n",
    "            stat[type] = stat[type] + 1    # 해당 값에 1 더하기.  \n",
    "\n",
    "# print(stat)\n",
    "\n",
    "\n",
    "def calculateClassEntropy():\n",
    "    entropy = 0.0    # 초기 엔트로피 값.\n",
    "    for type in Record.types:    # 공화/민주\n",
    "        cnt = 0.0\n",
    "        for record in records:    # 밑에서 저장한 records값.\n",
    "            if record.party == type:    #\n",
    "                cnt = cnt + 1.0\n",
    "        size = float(len(records))    # 전체 레코드 수.\n",
    "        prob = float(cnt / size)    #\n",
    "        entropy = entropy - prob * math.log(prob, 2)\n",
    "    return entropy\n",
    "    \n",
    "# calculateClassEntropy()\n",
    "\n"
   ]
  },
  {
   "cell_type": "code",
   "execution_count": 9,
   "metadata": {},
   "outputs": [],
   "source": [
    "    def calculateConditionalEntropy(idxFeature):\n",
    "        entropy = 0.0\n",
    "        for value in Record.values:    # y, n, ? 세개.\n",
    "            for type in Record.types:    # 공화/민주\n",
    "                cntFeature = 0.0\n",
    "                cntFeatureAndClass = 0.0\n",
    "                for record in records:\n",
    "                    if record.feature[idxFeature] == value:\n",
    "                        cntFeature = cntFeature + 1\n",
    "                        if record.party == type:\n",
    "                            cntFeatureAndClass = cntFeatureAndClass + 1.0\n",
    "                size = float(len(records))\n",
    "                probFeature = cntFeature / size + 0.000001\n",
    "                probFeatureAndClass = cntFeatureAndClass / size + 0.000001\n",
    "                entropy = entropy + probFeatureAndClass * math.log(probFeature/probFeatureAndClass, 2)\n",
    "        return entropy"
   ]
  },
  {
   "cell_type": "code",
   "execution_count": 11,
   "metadata": {},
   "outputs": [
    {
     "name": "stdout",
     "output_type": "stream",
     "text": [
      "0.8362378942240004\n",
      "0.9619493060825638\n",
      "0.5299935852029543\n",
      "0.22228413737143013\n",
      "0.5398630143616605\n",
      "0.8150771679569329\n",
      "0.7646276771075199\n",
      "0.6220862810623345\n",
      "0.6517557586533733\n",
      "0.9572280633109926\n",
      "0.8550188844974302\n",
      "0.5880608771647896\n",
      "0.7345102487791235\n",
      "0.6270300614352008\n",
      "0.7419094152078063\n",
      "0.860331965637684\n"
     ]
    }
   ],
   "source": [
    "for itr in range(16):    # 0부터 15 총 16개.\n",
    "    entropyConditional = calculateConditionalEntropy(itr)   \n",
    "    print(entropyConditional)"
   ]
  },
  {
   "cell_type": "code",
   "execution_count": 22,
   "metadata": {},
   "outputs": [
    {
     "data": {
      "text/plain": [
       "4"
      ]
     },
     "execution_count": 22,
     "metadata": {},
     "output_type": "execute_result"
    }
   ],
   "source": [
    "h = 0\n",
    "d = 2\n",
    "n = -1\n",
    "V = 5\n",
    "cnt = 1\n",
    "while True:\n",
    "    h = h + d\n",
    "    if h == V:\n",
    "        break\n",
    "    h = h + n\n",
    "    cnt += 1\n",
    "cnt"
   ]
  },
  {
   "cell_type": "code",
   "execution_count": 24,
   "metadata": {},
   "outputs": [
    {
     "name": "stdout",
     "output_type": "stream",
     "text": [
      "2 1 5\n"
     ]
    },
    {
     "data": {
      "text/plain": [
       "4"
      ]
     },
     "execution_count": 24,
     "metadata": {},
     "output_type": "execute_result"
    }
   ],
   "source": [
    "A, B, V = map(int, input().split())\n",
    "h = 0\n",
    "cnt = 1\n",
    "while True:\n",
    "    h = h + A\n",
    "    if h == V:\n",
    "        break\n",
    "    h = h - B\n",
    "    cnt += 1\n",
    "print(cnt)"
   ]
  },
  {
   "cell_type": "code",
   "execution_count": 17,
   "metadata": {},
   "outputs": [
    {
     "data": {
      "text/plain": [
       "1"
      ]
     },
     "execution_count": 17,
     "metadata": {},
     "output_type": "execute_result"
    }
   ],
   "source": [
    "A, B, V = map(int, input().split())\n",
    "\n"
   ]
  },
  {
   "cell_type": "code",
   "execution_count": 40,
   "metadata": {},
   "outputs": [
    {
     "name": "stdout",
     "output_type": "stream",
     "text": [
      "2 1 5\n",
      "5.0\n"
     ]
    }
   ],
   "source": [
    "A, B, V = map(int, input().split())\n",
    "D = (V / (A-B))\n",
    "if D > int(D):\n",
    "    round(D)\n",
    "print(D)"
   ]
  },
  {
   "cell_type": "code",
   "execution_count": 37,
   "metadata": {},
   "outputs": [
    {
     "data": {
      "text/plain": [
       "1"
      ]
     },
     "execution_count": 37,
     "metadata": {},
     "output_type": "execute_result"
    }
   ],
   "source": [
    "3//2"
   ]
  },
  {
   "cell_type": "code",
   "execution_count": 39,
   "metadata": {},
   "outputs": [
    {
     "name": "stdout",
     "output_type": "stream",
     "text": [
      "2 1 5\n",
      "4\n"
     ]
    }
   ],
   "source": [
    "A, B, V = list(map(int, input().split()))\n",
    "print((V - B - 1) // (A - B) + 1)"
   ]
  },
  {
   "cell_type": "code",
   "execution_count": null,
   "metadata": {},
   "outputs": [],
   "source": []
  }
 ],
 "metadata": {
  "kernelspec": {
   "display_name": "Python 3",
   "language": "python",
   "name": "python3"
  },
  "language_info": {
   "codemirror_mode": {
    "name": "ipython",
    "version": 3
   },
   "file_extension": ".py",
   "mimetype": "text/x-python",
   "name": "python",
   "nbconvert_exporter": "python",
   "pygments_lexer": "ipython3",
   "version": "3.7.4"
  }
 },
 "nbformat": 4,
 "nbformat_minor": 2
}
