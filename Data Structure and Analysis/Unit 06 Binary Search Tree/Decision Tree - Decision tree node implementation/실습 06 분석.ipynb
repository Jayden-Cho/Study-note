{
 "cells": [
  {
   "cell_type": "markdown",
   "metadata": {},
   "source": [
    "# voterecord.py"
   ]
  },
  {
   "cell_type": "code",
   "execution_count": null,
   "metadata": {},
   "outputs": [],
   "source": [
    "class Record:\n",
    "\n",
    "    types = ['republican', 'democrat']\n",
    "    values = ['y', 'n', '?']\n",
    "    numValues = 16\n",
    "\n",
    "    def __init__(self, csvline):\n",
    "        self.party = csvline[0]\n",
    "        self.feature = []\n",
    "        for itr in range(1, len(csvline)):\n",
    "            self.feature.append(csvline[itr])\n",
    "\n",
    "    def __str__(self):    # 인스턴스 자체를 출력 할 때의 형식을 지정해주는 함수.\n",
    "        ret = 'Classification : '+self.party+', Features : '+str(self.feature)\n",
    "        return ret"
   ]
  },
  {
   "cell_type": "markdown",
   "metadata": {},
   "source": [
    "# decisiontreenode.py"
   ]
  },
  {
   "cell_type": "markdown",
   "metadata": {},
   "source": [
    "## def \\__init__( ):"
   ]
  },
  {
   "cell_type": "code",
   "execution_count": 3,
   "metadata": {},
   "outputs": [
    {
     "data": {
      "text/plain": [
       "{'Repub': 0}"
      ]
     },
     "execution_count": 3,
     "metadata": {},
     "output_type": "execute_result"
    }
   ],
   "source": [
    "    def __init__(self, records):\n",
    "        self.blnSplit = False    # 아마 결정에 영향을 주는 row가 있는지 T/F로 표시하는 듯.\n",
    "        self.children = {}    # root에 대한 child 초기화인듯.\n",
    "        self.records = records    # Record() 함수로 받아온 레코드.\n",
    "        self.decisionAttribute = -1    # 결정에 영향을 주는 Attribute가 몇갠지. 초기값은 -1.\n",
    "        self.stat = {}    # 공화당/민주당 몇명인지 보여주는 딕셔너리 생성.\n",
    "\n",
    "        for type in Record.types:    # 공화당, 민주당 둘 중 하나\n",
    "            self.stat[type] = 0    # 각각 정당의 type란에 0 저장.\n",
    "            for record in records:\n",
    "                if record.party == type:    # 해당 라인의 record의 정당이 type과 일치한다면\n",
    "                    self.stat[type] = self.stat[type] + 1    # 해당 값에 1 더하기.   "
   ]
  },
  {
   "cell_type": "markdown",
   "metadata": {},
   "source": [
    "## def \\__str__( ):"
   ]
  },
  {
   "cell_type": "code",
   "execution_count": null,
   "metadata": {},
   "outputs": [],
   "source": [
    "    def __str__(self):    # Node 클래스 실행될 때 출력.\n",
    "        if self.blnSplit == True:    # 영향 미치는 factor가 있는가? 기존 default 값은 False.\n",
    "            ret = 'Feature '+str(self.decisionAttribute)+ '('+str(self.stat)+')' + '\\n'\n",
    "            for key in self.children.keys():    # 후에 뭐 설정할껀가본데 아직까진 나온거 없음.\n",
    "                ret = ret + '---- key : '+str(key)+ ' '+str(self.children[key])\n",
    "        else:    # 영향 미치는 factor가 없다면\n",
    "            ret = str(self.stat) + '\\n'\n",
    "        return ret "
   ]
  },
  {
   "cell_type": "markdown",
   "metadata": {},
   "source": [
    "## def splitNode( ):"
   ]
  },
  {
   "cell_type": "code",
   "execution_count": null,
   "metadata": {},
   "outputs": [],
   "source": [
    "    def splitNode(self):\n",
    "        self.blnSplit = True\n",
    "        gains = self.calculateInformationGainPerFeatures()    # 정보이득 저장된 값.\n",
    "        idxMaxGainFeature = -1\n",
    "        maxGain = -999999999999999999.0\n",
    "        for itr in range(len(gains)):\n",
    "            if maxGain < gains[itr]:\n",
    "                maxGain = gains[itr]\n",
    "                idxMaxGainFeature = itr\n",
    "                \n",
    "        for value in Record.values:    # y, n, ? 세개.\n",
    "            childRecords = []\n",
    "            for recod in self.records:\n",
    "                if record.feature[idxMaxGainFeature] == value:\n",
    "                    childRecords.append(record)\n",
    "            self.children[value] = Node(childRecords)\n",
    "        self.decisionAttribute = idxMaxGainFeature\n",
    "        return self.children"
   ]
  },
  {
   "cell_type": "markdown",
   "metadata": {},
   "source": [
    "## def calculateInformationGainPerFeatures( ):"
   ]
  },
  {
   "cell_type": "code",
   "execution_count": null,
   "metadata": {},
   "outputs": [],
   "source": [
    "    # Feature(아마도 행)마다 정보이득(information gain) 계산.\n",
    "    def calculateInformationGainPerFeatures(self):\n",
    "        gains = []    # 계산한 정보이득 값들 저장할 곳.\n",
    "        entropyClass = self.calculateClassEntropy()\n",
    "        for itr in range(Record.numValues):    # 0부터 15 총 16개.\n",
    "            entropyConditional = self.calculateConditionalEntropy(itr)    \n",
    "            gains.append(entropyClass-entropyConditional)\n",
    "        return gains"
   ]
  },
  {
   "cell_type": "markdown",
   "metadata": {},
   "source": [
    "## def calculateClassEntropy( ):"
   ]
  },
  {
   "cell_type": "code",
   "execution_count": null,
   "metadata": {},
   "outputs": [],
   "source": [
    "    # 기존의 entropy 그냥 걍 엔트로피. 주어진 결괏값으로만 계산한 엔트로피.\n",
    "    def calculateClassEntropy(self):\n",
    "        entropy = 0.0    # 초기 엔트로피 값.\n",
    "        for type in Record.types:    # 공화/민주\n",
    "            cnt = 0.0\n",
    "            for record in self.records:    # 밑에서 저장한 records값.\n",
    "                if record.party == type:    #\n",
    "                    cnt = cnt + 1.0\n",
    "            size = float(len(self.records))    # 전체 레코드 수.\n",
    "            prob = float(cnt / size)    #\n",
    "            entropy = entropy - prob * math.log(prob, 2)\n",
    "        return entropy"
   ]
  },
  {
   "cell_type": "markdown",
   "metadata": {},
   "source": [
    "## calculateConditionalEntropy( ):"
   ]
  },
  {
   "cell_type": "code",
   "execution_count": null,
   "metadata": {},
   "outputs": [],
   "source": [
    "    def calculateConditionalEntropy(self, idxFeature):\n",
    "        entropy = 0.0\n",
    "        for value in Record.vales:    # y, n, ? 세개.\n",
    "            for type in Record.types:    # 공화/민주\n",
    "                cntFeature = 0.0\n",
    "                cntFeatureAndClass = 0.0\n",
    "                for record in self.records:\n",
    "                    if record.feature[idxFeature] == value:\n",
    "                        cntFeature = cntFeature + 1\n",
    "                        if record.party == type:\n",
    "                            cntFeatureAndClass = cntFeatureAndClass + 1.0\n",
    "                size = float(len(self.records))\n",
    "                probFeature = cntFeature / size + 0.000001\n",
    "                probFeatureAndClass = cntFeatureAndClass / size + 0.000001\n",
    "                entropy = entropy + probFeatureAndClass * math.log(probFeature/probFeatureAndClass, 2)\n",
    "        return entropy"
   ]
  },
  {
   "cell_type": "markdown",
   "metadata": {},
   "source": [
    "## if \\__name\\__ == \"\\_main\\_\":"
   ]
  },
  {
   "cell_type": "code",
   "execution_count": null,
   "metadata": {},
   "outputs": [],
   "source": [
    "# 이 파일을 실행했을 때 이하의 구문들이 출력된다. 오로지 import만 했을 경우에는 실행되지 않는다.\n",
    "# 아마 이번 싧습에는 필요없고 다음 실습에서 사용될때를 위한 것 같다.\n",
    "# 자세한 설명은 https://wikidocs.net/29 여기서.\n",
    "if __name__ == \"__main__\":\n",
    "    csvfile = open('house-votes-84.csv','rt')    # rt: text모드를 read.\n",
    "    reader = csv.reader(csvfile,delimiter=',')\n",
    "    records = []\n",
    "\n",
    "    for row in reader:\n",
    "        record = Record(row)    # 각 행마다 정당/결과 분리\n",
    "        print (record)    # __str__ 함수에 의해 출력.\n",
    "        records.append(record)\n",
    "\n",
    "    node = Node(records)\n",
    "    print(node)\n",
    "    node.splitNode()\n",
    "    print(node)"
   ]
  },
  {
   "cell_type": "markdown",
   "metadata": {},
   "source": [
    "# 연습"
   ]
  },
  {
   "cell_type": "code",
   "execution_count": 41,
   "metadata": {},
   "outputs": [],
   "source": [
    "import csv\n",
    "import math"
   ]
  },
  {
   "cell_type": "code",
   "execution_count": 49,
   "metadata": {},
   "outputs": [
    {
     "name": "stdout",
     "output_type": "stream",
     "text": [
      "0.5300898855559345\n",
      "0.9623080486960709\n"
     ]
    },
    {
     "data": {
      "text/plain": [
       "0.9623080486960709"
      ]
     },
     "execution_count": 49,
     "metadata": {},
     "output_type": "execute_result"
    }
   ],
   "source": [
    "class Record:\n",
    "\n",
    "    types = ['republican','democrat']\n",
    "    values = ['y','n','?']\n",
    "    numValues = 16\n",
    "\n",
    "    def __init__(self,csvline):\n",
    "        self.party = csvline[0]    # 정당 추출\n",
    "        self.feature = []\n",
    "        for itr in range(1,len(csvline)):\n",
    "            self.feature.append(csvline[itr])    # 나머지 결과물 값을 feature에 저장.\n",
    "\n",
    "    def __str__(self):\n",
    "        ret = 'Classficiation : '+self.party+', Features : '+str(self.feature)    # 출력될 때 위에서 저장된 값들 표시.\n",
    "        return ret\n",
    "    \n",
    "csvfile = open('house-votes-84.csv', 'rt')\n",
    "reader = csv.reader(csvfile, delimiter=',')\n",
    "records = []\n",
    "\n",
    "for row in reader:\n",
    "    record = Record(row)\n",
    "    records.append(record)\n",
    "    \n",
    "\n",
    "def calculateClassEntropy():\n",
    "    entropy = 0.0    # 초기 엔트로피 값.\n",
    "    for type in Record.types:    # 공화/민주\n",
    "        cnt = 0.0\n",
    "        for record in records:    # 밑에서 저장한 records값.\n",
    "            if record.party == type:    #\n",
    "                cnt = cnt + 1.0\n",
    "        size = float(len(records))    # 전체 레코드 수.\n",
    "        prob = float(cnt / size)    #\n",
    "        entropy = entropy - prob * math.log(prob, 2)\n",
    "        print(entropy)\n",
    "    return entropy\n",
    "    \n",
    "calculateClassEntropy()"
   ]
  },
  {
   "cell_type": "code",
   "execution_count": 48,
   "metadata": {},
   "outputs": [
    {
     "data": {
      "text/plain": [
       "['y', 'n', '?']"
      ]
     },
     "execution_count": 48,
     "metadata": {},
     "output_type": "execute_result"
    }
   ],
   "source": [
    "Record.values"
   ]
  },
  {
   "cell_type": "code",
   "execution_count": null,
   "metadata": {},
   "outputs": [],
   "source": []
  }
 ],
 "metadata": {
  "kernelspec": {
   "display_name": "Python 3",
   "language": "python",
   "name": "python3"
  },
  "language_info": {
   "codemirror_mode": {
    "name": "ipython",
    "version": 3
   },
   "file_extension": ".py",
   "mimetype": "text/x-python",
   "name": "python",
   "nbconvert_exporter": "python",
   "pygments_lexer": "ipython3",
   "version": "3.7.4"
  }
 },
 "nbformat": 4,
 "nbformat_minor": 2
}
