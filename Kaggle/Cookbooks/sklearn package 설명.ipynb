{
 "cells": [
  {
   "cell_type": "code",
   "execution_count": 5,
   "metadata": {},
   "outputs": [],
   "source": [
    "import pandas as pd"
   ]
  },
  {
   "cell_type": "markdown",
   "metadata": {},
   "source": [
    "# sklearn.metrics"
   ]
  },
  {
   "cell_type": "markdown",
   "metadata": {},
   "source": [
    "## confusion_matrix()\n",
    "Classification의 정확도 측정.\n",
    "\n",
    "**y_true**\n",
    "- 타겟 데이터.\n",
    "\n",
    "**y_pred**\n",
    "- 훈련된 모델로 타겟 데이터에 대해 예측한 데이터."
   ]
  },
  {
   "cell_type": "code",
   "execution_count": null,
   "metadata": {},
   "outputs": [],
   "source": [
    "import sklearn.metrics import confusion_matrix\n",
    "\n",
    "confusion_matrix(Y, y_pred)"
   ]
  },
  {
   "cell_type": "markdown",
   "metadata": {},
   "source": [
    "# sklearn.model_selection"
   ]
  },
  {
   "cell_type": "markdown",
   "metadata": {},
   "source": [
    "## cross_val_score()\n",
    "\n",
    "Parameters:\n",
    "\n",
    "**estimator**\n",
    "- 평가하려는 모델\n",
    "\n",
    "**X**\n",
    "- 훈련시킬 데이터\n",
    "\n",
    "**Y**\n",
    "- 타겟 데이터\n",
    "\n",
    "**cv**\n",
    "- 얼마나 분할할지. default는 5.\n",
    "\n",
    "**scoring**\n",
    "- 원하는 평가 지표. 분류에서는 'accuracy'가 주로 쓰임."
   ]
  },
  {
   "cell_type": "code",
   "execution_count": null,
   "metadata": {},
   "outputs": [],
   "source": [
    "# 예제\n",
    "from sklearn.model_selection import cross_val_score\n",
    "from sklearn.datasets import load_iris\n",
    "from sklearn.linear_model import LogisticRegression\n",
    "\n",
    "iris = load_iris()\n",
    "logreg = LogisticRegression()\n",
    "\n",
    "scores = cross_val_score(logreg, iris.data, iris.target)"
   ]
  },
  {
   "cell_type": "markdown",
   "metadata": {},
   "source": [
    "<br>\n",
    "\n",
    "## GridSearchCV()\n",
    "\n",
    "**estimator**\n",
    "- 사용할 모델.\n",
    "\n",
    "**param_grid**\n",
    "- 딕셔너리 형태. 검색 대상 매개변수 지정.\n",
    "\n",
    "**cv**\n",
    "- 원하는 교차 검증 개수."
   ]
  },
  {
   "cell_type": "code",
   "execution_count": null,
   "metadata": {},
   "outputs": [],
   "source": [
    "from sklearn.model_selection import GridSearchCV\n",
    "\n",
    "C = [0.05,0.1,0.2,0.3,0.25,0.4,0.5,0.6,0.7,0.8,0.9,1]\n",
    "gamma = [0.1,0.2,0.3,0.4,0.5,0.6,0.7,0.8,0.9,1.0]\n",
    "kernel = ['rbf', 'linear']\n",
    "hyper = {'kernel': kernel, 'C': C, 'gamma': gamma}\n",
    "\n",
    "gd = GridSearchCV(estimator=svm.SVC(), param_grid=hyper, verbose=True)"
   ]
  },
  {
   "cell_type": "markdown",
   "metadata": {},
   "source": [
    "<Br>\n",
    "    \n",
    "## train_test_split(\\*arrays, **options)"
   ]
  },
  {
   "cell_type": "code",
   "execution_count": 6,
   "metadata": {},
   "outputs": [],
   "source": [
    "from sklearn.model_selection import train_test_split"
   ]
  },
  {
   "cell_type": "markdown",
   "metadata": {},
   "source": [
    "### Parameter 설명\n",
    "\n",
    "**arrays**: Train과 Test로 나눌 indexable한 sequence. \n",
    "- list, numpy array, pd dataframe 입력 가능. \n",
    "<Br>\n",
    "<br>\n",
    "    \n",
    "**test_size**: float, int, or None. \n",
    "- float이라면, 비율을 나타내는 0.0부터 1.0 사이 값.\n",
    "- int라면, test sample의 개수.\n",
    "- None이라면, train_size에 할당된 만큼 제외하고.\n",
    "- test_size, train_size 둘 다 없다면 0.25.\n",
    "<br><BR>\n",
    "    \n",
    "**train_size**: float, int, or None\n",
    "- test_size와 정반대.\n",
    "<br><BR>\n",
    "    \n",
    "**random_state**: \n",
    "- 주로 int로 쓰임. int면 해당 int가 seed가 되고 그 seed에 값이 할당된다.\n",
    "- 입력하지 않으면 실행할때 마다 random한 값이 나온다.\n",
    "<br><br>\n",
    "\n",
    "**shuffle**: boolean\n",
    "- 데이터를 분할하기 전에 섞을지 말지 boolean으로.\n",
    "<br><br>\n",
    "\n",
    "**stratify**: array-like or None.\n",
    "- stratify에 입력된 array의 비율에 맞게 데이터가 분할된다."
   ]
  },
  {
   "cell_type": "markdown",
   "metadata": {},
   "source": [
    "### 예제"
   ]
  },
  {
   "cell_type": "code",
   "execution_count": 8,
   "metadata": {},
   "outputs": [],
   "source": [
    "data = pd.read_csv('train.csv')\n",
    "train, test = train_test_split(data, test_size=0.3, random_state=0, \n",
    "                               stratify=data['Survived'])"
   ]
  },
  {
   "cell_type": "code",
   "execution_count": null,
   "metadata": {},
   "outputs": [],
   "source": []
  }
 ],
 "metadata": {
  "kernelspec": {
   "display_name": "Python 3",
   "language": "python",
   "name": "python3"
  },
  "language_info": {
   "codemirror_mode": {
    "name": "ipython",
    "version": 3
   },
   "file_extension": ".py",
   "mimetype": "text/x-python",
   "name": "python",
   "nbconvert_exporter": "python",
   "pygments_lexer": "ipython3",
   "version": "3.7.4"
  }
 },
 "nbformat": 4,
 "nbformat_minor": 2
}
