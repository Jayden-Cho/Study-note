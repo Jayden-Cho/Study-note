{
 "cells": [
  {
   "cell_type": "markdown",
   "metadata": {},
   "source": [
    "# sklearn.impute"
   ]
  },
  {
   "cell_type": "markdown",
   "metadata": {},
   "source": [
    "## simpleimputer()"
   ]
  },
  {
   "cell_type": "markdown",
   "metadata": {},
   "source": [
    "# sklearn.metrics"
   ]
  },
  {
   "cell_type": "markdown",
   "metadata": {},
   "source": [
    "## confusion_matrix()\n",
    "Classification의 정확도 측정.\n",
    "\n",
    "**y_true**\n",
    "- 타겟 데이터.\n",
    "\n",
    "**y_pred**\n",
    "- 훈련된 모델로 타겟 데이터에 대해 예측한 데이터."
   ]
  },
  {
   "cell_type": "code",
   "execution_count": null,
   "metadata": {},
   "outputs": [],
   "source": [
    "import sklearn.metrics import confusion_matrix\n",
    "\n",
    "confusion_matrix(Y, y_pred)"
   ]
  },
  {
   "cell_type": "markdown",
   "metadata": {},
   "source": [
    "# sklearn.model_selection"
   ]
  },
  {
   "cell_type": "markdown",
   "metadata": {},
   "source": [
    "## sklearn.model_selection.cross_val_score()\n",
    "\n",
    "Parameters:\n",
    "\n",
    "**estimator**\n",
    "- 평가하려는 모델\n",
    "\n",
    "**X**\n",
    "- 훈련시킬 데이터\n",
    "\n",
    "**Y**\n",
    "- 타겟 데이터\n",
    "\n",
    "**cv**\n",
    "- 얼마나 분할할지. default는 5.\n",
    "\n",
    "**scoring**\n",
    "- 원하는 평가 지표. 분류에서는 'accuracy'가 주로 쓰임."
   ]
  },
  {
   "cell_type": "code",
   "execution_count": null,
   "metadata": {},
   "outputs": [],
   "source": [
    "# 예제\n",
    "from sklearn.model_selection import cross_val_score\n",
    "from sklearn.datasets import load_iris\n",
    "from sklearn.linear_model import LogisticRegression\n",
    "\n",
    "iris = load_iris()\n",
    "logreg = LogisticRegression()\n",
    "\n",
    "scores = cross_val_score(logreg, iris.data, iris.target)"
   ]
  },
  {
   "cell_type": "markdown",
   "metadata": {},
   "source": [
    "## sklearn.model_selection.learning_curve\n",
    "Training set 크기별 교차검증 성적을 plot.\n",
    "\n",
    "**Parameters**: estimator, X, y, cv, n_jobs, train_sizes\n",
    "\n",
    "- train_sizes: 훈련세트 범위를 지정. default는 `np.linspace(0.1, 1.0, 5)`."
   ]
  },
  {
   "cell_type": "code",
   "execution_count": null,
   "metadata": {},
   "outputs": [],
   "source": [
    "from sklearn.model_selection import learning_curve\n",
    "\n",
    "learning_curve(SVMC, X_train, Y_train, cv=kfold, n_jobs=-1,\n",
    "              train_sizes=np.linspace(.1, 1.0, 5))"
   ]
  },
  {
   "cell_type": "markdown",
   "metadata": {},
   "source": [
    "<br>\n",
    "\n",
    "## GridSearchCV()\n",
    "\n",
    "**Parameter**: estimator, param_grid, cv, scoring, n_jobs, verbose\n",
    "\n",
    "**estimator**\n",
    "- 사용할 모델.\n",
    "\n",
    "**param_grid**\n",
    "- 딕셔너리 형태. 검색 대상 매개변수 지정.\n",
    "\n",
    "**cv**\n",
    "- 원하는 교차 검증 개수.\n",
    "\n",
    "**verbose**\n",
    "- 표시되는 문구. 숫자가 높을수록 많이 표기됨."
   ]
  },
  {
   "cell_type": "code",
   "execution_count": null,
   "metadata": {},
   "outputs": [],
   "source": [
    "from sklearn.model_selection import GridSearchCV\n",
    "\n",
    "C = [0.05,0.1,0.2,0.3,0.25,0.4,0.5,0.6,0.7,0.8,0.9,1]\n",
    "gamma = [0.1,0.2,0.3,0.4,0.5,0.6,0.7,0.8,0.9,1.0]\n",
    "kernel = ['rbf', 'linear']\n",
    "hyper = {'kernel': kernel, 'C': C, 'gamma': gamma}\n",
    "\n",
    "gd = GridSearchCV(estimator=svm.SVC(), param_grid=hyper, verbose=True)\n",
    "\n",
    "gd.fit(X_train, Y_train)"
   ]
  },
  {
   "cell_type": "markdown",
   "metadata": {},
   "source": [
    "생성한 클래스 객체 `gd`에 위와 같이 `fit()` 메소드를 실행하면 최적의 파라미터를 찾아준다. \n",
    "- 찾는 과정 속에 복수개의 내부 모형이 생성되고 그에 대한 실행 결과는 다음 속성에 저장된다:\n",
    "\n",
    "\n",
    "1. `grid_scores`: 모든 파라미터 조합에 대한 성능 결과.\n",
    "2. `best_score_`: 최고 점수\n",
    "3. `best_params_`: 최고 점수를 낸 파라미터\n",
    "4. `best_estimator_`: 최고 점수를 낸 파라미터를 가진 모형."
   ]
  },
  {
   "cell_type": "markdown",
   "metadata": {},
   "source": [
    "# learning_curve\n",
    "Training set 크기별로 교차검증 점수(Train, Test 둘 다)를 plot."
   ]
  },
  {
   "cell_type": "code",
   "execution_count": null,
   "metadata": {},
   "outputs": [],
   "source": [
    "from sklearn.model_selection import learning_curve\n",
    "\n",
    "learning_curve(estimator, X, y, cv)"
   ]
  },
  {
   "cell_type": "markdown",
   "metadata": {},
   "source": [
    "**estimator**\n",
    "- `fit`이나 `predict`로 만들어진 object.\n",
    "<br><br>\n",
    "\n",
    "**X, y**\n",
    "- 훈련과 테스트 데이터. Unsupervised learning에서는 필요없음.\n",
    "<br><BR>\n",
    "    \n",
    "**cv**\n",
    "- 교차 검증 방법을 결정."
   ]
  },
  {
   "cell_type": "code",
   "execution_count": null,
   "metadata": {},
   "outputs": [],
   "source": [
    "# 예제\n",
    "def plot_learning_curve(estimator, title, X, y, ylim=None,\n",
    "                       cv=None, n_jobs=-1, train_sizes=np.linspace(.1, 1.0, 5)):\n",
    "    plt.figure()\n",
    "    plt.title(title)\n",
    "    if ylim is not None:\n",
    "        plt.ylim(*ylim)\n",
    "    plt.xlabel('Training examples')\n",
    "    plt.ylabel('Score')\n",
    "    train_sizes, train_scores, test_scores = learning_curve(\n",
    "        estimator, X, y, cv=cv, n_jobs=n_jobs, train_sizes=train_sizes)\n",
    "    train_scores_mean = np.mean(train_scores, axis=1)\n",
    "    train_scores_std = np.std(train_scores, axis=1)\n",
    "    test_scores_mean = np.mean(test_scores, axis=1)\n",
    "    test_scores_std = np.std(test_scores, axis=1)\n",
    "    plt.grid()\n",
    "    \n",
    "    plt.fill_between(train_sizes, train_scores_mean-train_scores_std,\n",
    "                    train_scores_mean+train_scores_std, alpha=0.1,\n",
    "                    color='r')\n",
    "    plt.fill_between(train_sizes, test_scores_mean-test_scores_std,\n",
    "                    test_scores_mean+test_scores_std, alpha=0.1,\n",
    "                    color='g')\n",
    "    \n",
    "    plt.plot(train_sizes, train_scores_mean, 'o-', color='r',\n",
    "            label='Training score')\n",
    "    plt.plot(train_sizes, test_scores_mean, 'o-', color='g',\n",
    "            label='Cross-validation score')\n",
    "    \n",
    "    plt.legend(loc='best')\n",
    "    return plt\n",
    "\n",
    "g = plot_learning_curve(gsRFC.best_estimator, 'RF learning curves', X_train, Y_train, cv=kfold)"
   ]
  },
  {
   "cell_type": "markdown",
   "metadata": {},
   "source": [
    "# StratifiedKFold\n",
    "데이터가 편향되어 있을 경우(몰려있을경우) 사용할 교차검증법."
   ]
  },
  {
   "cell_type": "code",
   "execution_count": 1,
   "metadata": {},
   "outputs": [],
   "source": [
    "from sklearn.model_selection import StratifiedKFold"
   ]
  },
  {
   "cell_type": "markdown",
   "metadata": {},
   "source": [
    "### Parameter 설명\n",
    "\n",
    "**n_splits** \n",
    "- 몇 개로 분할할지 정하는 매개변수.\n",
    "<br><Br>\n",
    "    \n",
    "**shuffle**\n",
    "- default값 False. True를 하면 Fold를 하기 전에 무작위로 섞는다.\n",
    "<br><BR>\n",
    "    \n",
    "**random_state**"
   ]
  },
  {
   "cell_type": "code",
   "execution_count": null,
   "metadata": {},
   "outputs": [],
   "source": [
    "skf = StratifiedKFold(n_splits=10, shuffle=True, random_state=0)\n",
    "score = cross_val_score(logreg, iris.data, iris.target, cv=skf)\n",
    "print(score.mean())"
   ]
  },
  {
   "cell_type": "markdown",
   "metadata": {},
   "source": [
    "<Br>\n",
    "    \n",
    "## train_test_split(\\*arrays, **options)"
   ]
  },
  {
   "cell_type": "code",
   "execution_count": 6,
   "metadata": {},
   "outputs": [],
   "source": [
    "from sklearn.model_selection import train_test_split"
   ]
  },
  {
   "cell_type": "markdown",
   "metadata": {},
   "source": [
    "### Parameter 설명\n",
    "\n",
    "**arrays**: Train과 Test로 나눌 indexable한 sequence. \n",
    "- list, numpy array, pd dataframe 입력 가능. \n",
    "<Br>\n",
    "<br>\n",
    "    \n",
    "**test_size**: float, int, or None. \n",
    "- float이라면, 비율을 나타내는 0.0부터 1.0 사이 값.\n",
    "- int라면, test sample의 개수.\n",
    "- None이라면, train_size에 할당된 만큼 제외하고.\n",
    "- test_size, train_size 둘 다 없다면 0.25.\n",
    "<br><BR>\n",
    "    \n",
    "**train_size**: float, int, or None\n",
    "- test_size와 정반대.\n",
    "<br><BR>\n",
    "    \n",
    "**random_state**: \n",
    "- 주로 int로 쓰임. int면 해당 int가 seed가 되고 그 seed에 값이 할당된다.\n",
    "- 입력하지 않으면 실행할때 마다 random한 값이 나온다.\n",
    "<br><br>\n",
    "\n",
    "**shuffle**: boolean\n",
    "- 데이터를 분할하기 전에 섞을지 말지 boolean으로.\n",
    "<br><br>\n",
    "\n",
    "**stratify**: array-like or None.\n",
    "- stratify에 입력된 array의 비율에 맞게 데이터가 분할된다."
   ]
  },
  {
   "cell_type": "markdown",
   "metadata": {},
   "source": [
    "### 예제"
   ]
  },
  {
   "cell_type": "code",
   "execution_count": 8,
   "metadata": {},
   "outputs": [],
   "source": [
    "data = pd.read_csv('train.csv')\n",
    "train, test = train_test_split(data, test_size=0.3, random_state=0, \n",
    "                               stratify=data['Survived'])"
   ]
  }
 ],
 "metadata": {
  "kernelspec": {
   "display_name": "Python 3",
   "language": "python",
   "name": "python3"
  },
  "language_info": {
   "codemirror_mode": {
    "name": "ipython",
    "version": 3
   },
   "file_extension": ".py",
   "mimetype": "text/x-python",
   "name": "python",
   "nbconvert_exporter": "python",
   "pygments_lexer": "ipython3",
   "version": "3.7.4"
  }
 },
 "nbformat": 4,
 "nbformat_minor": 2
}
