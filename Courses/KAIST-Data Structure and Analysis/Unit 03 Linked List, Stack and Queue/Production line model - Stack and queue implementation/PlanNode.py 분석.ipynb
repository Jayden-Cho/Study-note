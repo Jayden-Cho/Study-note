{
 "cells": [
  {
   "cell_type": "code",
   "execution_count": null,
   "metadata": {},
   "outputs": [],
   "source": [
    "class PlanNode:\n",
    "    def __init__(self, numNo, strSerialNumber, strModel, numModelNumber, dateStart, numAssemblyOrder, dateEnd, strOrderOrigin):\n",
    "        self.numNo = numNo    \n",
    "        self.strSerialNumber = strSerialNumber   \n",
    "        self.strModel = strModel   \n",
    "        self.numModelNumber = numModelNumber\n",
    "        self.dateStart = dateStart\n",
    "        self.numAssemblyOrder = numAssemblyOrder\n",
    "        self.dateEnd = dateEnd\n",
    "        self.strOrderOrigin = strOrderOrigin\n",
    "        \n",
    "    def printOut(self):\n",
    "        print('No :', self.numNo, ', SerialNum : ', self.strSerialNumber, ',Model:', self.strModel, ',Start Date:', self.dateStart)\n",
    "        \n",
    "    def getNextNode(self):\n",
    "        node = self.nextNode\n",
    "        return node\n",
    "    \n",
    "    def getPrevNode(self):\n",
    "        node = self.prevNode\n",
    "        return node\n",
    "    \n",
    "    def setNextNode(self, node):\n",
    "        self.nextNode = node\n",
    "        \n",
    "    def setPrevNode(self, node):\n",
    "        self.prevNode = node"
   ]
  },
  {
   "cell_type": "code",
   "execution_count": null,
   "metadata": {},
   "outputs": [],
   "source": [
    "class PlanNode:\n",
    "    # 기본값 입력.\n",
    "    def __init__():\n",
    "        \n",
    "    # 기본 설정 출력.\n",
    "    def printOut():\n",
    "    \n",
    "    # 다음 노드 불러오기.\n",
    "    def getNextNode():\n",
    "    \n",
    "    # 이전 노드 불러오기.\n",
    "    def getPrevNode():\n",
    "    \n",
    "    # 다음 노드 설정하기.\n",
    "    def setNextNode():\n",
    "        \n",
    "    # 이전 노드 설정하기.\n",
    "    def setPrevNode():"
   ]
  }
 ],
 "metadata": {
  "kernelspec": {
   "display_name": "Python 3",
   "language": "python",
   "name": "python3"
  },
  "language_info": {
   "codemirror_mode": {
    "name": "ipython",
    "version": 3
   },
   "file_extension": ".py",
   "mimetype": "text/x-python",
   "name": "python",
   "nbconvert_exporter": "python",
   "pygments_lexer": "ipython3",
   "version": "3.7.4"
  }
 },
 "nbformat": 4,
 "nbformat_minor": 2
}
