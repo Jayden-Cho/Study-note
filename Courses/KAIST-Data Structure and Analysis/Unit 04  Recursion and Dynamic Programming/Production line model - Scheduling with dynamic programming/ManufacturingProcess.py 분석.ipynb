{
 "cells": [
  {
   "cell_type": "code",
   "execution_count": null,
   "metadata": {},
   "outputs": [],
   "source": [
    "class ManufacturingProcess(Queue, Stack):\n",
    "    # 제조공정이 Stack인지 Queue인지.\n",
    "    def __init__(self, typ):\n",
    "        if typ == 'queue':\n",
    "            self.waitingLine = Queue()\n",
    "        if typ == 'stack':\n",
    "            self.waitingLine = Stack()\n",
    "\n",
    "    # 제조공정에 product 추가.\n",
    "    def arriveProduct(self, plan):\n",
    "        self.waitingLine.add(plan)\n",
    "\n",
    "    # waiting line에 있는 product를 출력.\n",
    "    def leaveProduct(self):\n",
    "        # waiting line에 product 있으면 출력.\n",
    "        if self.getSize() > 0:\n",
    "            plan = self.waitingLine.get()\n",
    "        # 없으면 없다고 출력.\n",
    "        else:\n",
    "            plan = 'None'\n",
    "        return plan\n",
    "    \n",
    "    # waiting line에 들어있는 product 개수 출력.\n",
    "    def getSize(self):\n",
    "        size = self.waitingLine.getSize()\n",
    "        return size\n",
    "    \n",
    "    # waiting line의 번호 출력.\n",
    "    def getListString(self):\n",
    "        String = self.waitingLine.getListString()\n",
    "        return String"
   ]
  }
 ],
 "metadata": {
  "kernelspec": {
   "display_name": "Python 3",
   "language": "python",
   "name": "python3"
  },
  "language_info": {
   "codemirror_mode": {
    "name": "ipython",
    "version": 3
   },
   "file_extension": ".py",
   "mimetype": "text/x-python",
   "name": "python",
   "nbconvert_exporter": "python",
   "pygments_lexer": "ipython3",
   "version": "3.7.4"
  }
 },
 "nbformat": 4,
 "nbformat_minor": 2
}
