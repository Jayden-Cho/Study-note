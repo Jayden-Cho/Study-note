{
 "cells": [
  {
   "cell_type": "markdown",
   "metadata": {},
   "source": [
    "# 전체 코드"
   ]
  },
  {
   "cell_type": "code",
   "execution_count": 15,
   "metadata": {},
   "outputs": [],
   "source": [
    "import matplotlib.pyplot as plt\n",
    "import numpy as np\n",
    "\n",
    "from PlanNode import PlanNode\n",
    "\n",
    "class ProductionList(PlanNode):\n",
    "    def __init__(self, Filename):\n",
    "        self.nodeHead = PlanNode(-1, 'head' ,'')\n",
    "        self.nodeTail = PlanNode(-1, 'tail', '')\n",
    "        \n",
    "        # 저번이랑 비슷함.\n",
    "        self.nodeHead.setNextNode(self.nodeTail)\n",
    "        self.nodeTail.setPrevNode(self.nodeHead)\n",
    "        \n",
    "        if Filename != '':\n",
    "            f = open(Filename)\n",
    "            temp = f.readlines()\n",
    "            f.close()\n",
    "            \n",
    "            dataset = []\n",
    "            for row in temp: \n",
    "                dataset.append(row[:-1].split(','))\n",
    "            Dataset = np.asarray(dataset[1:]).T\n",
    "            \n",
    "            # 저번보다 parameter 줄어서 3개만.\n",
    "            numNos = Dataset[0].astype('int')\n",
    "            strSerialNumbers = Dataset[1].astype('str')\n",
    "            strModels = Dataset[2].astype('str')      \n",
    "            \n",
    "            for i in range(len(numNos)):\n",
    "                node = PlanNode(numNos[i], strSerialNumbers[i], strModels[i])\n",
    "                node.printOut()\n",
    "                self.addLast(node)\n",
    "                \n",
    "    def addLast(self, node):\n",
    "        nodeLast = self.nodeTail.getPrevNode()\n",
    "        node.setPrevNode(nodeLast)\n",
    "        nodeLast.setNextNode(node)\n",
    "        node.setNextNode(self.nodeTail)\n",
    "        self.nodeTail.setPrevNode(node)\n",
    "        \n",
    "    def addFirst(self, node):\n",
    "        nodeFirst = self.nodeHead.getNextNode()\n",
    "        node.setNextNode(nodeFirst)\n",
    "        nodeFirst.setPrevNode(node)\n",
    "        node.setPrevNode(self.nodeHead)\n",
    "        self.nodeHead.setNextNode(node)\n",
    "        \n",
    "    def removeLast(self):\n",
    "        node = self.nodeTail.getPrevNode()\n",
    "        if node.strSerialNumber != 'head':\n",
    "            prevNode = node.getPrevNode()\n",
    "            prevNode.setNextNode(self.nodeTail)\n",
    "            self.nodeTail.setPrevNode(prevNode)\n",
    "        return node\n",
    "        \n",
    "    def removeFirst(self):\n",
    "        node = self.nodeHead.getNextNode()\n",
    "        if node.strSerialNumber != 'tail':\n",
    "            nextNode = node.getNextNode()\n",
    "            nextNode.setPrevNode(self.nodeHead)\n",
    "            self.nodeHead.setNextNode(nextNode)\n",
    "        return node\n",
    "    \n",
    "    def getSize(self):\n",
    "        node = self.nodeHead\n",
    "        cnt = 0\n",
    "        while node.getNextNode().strSerialNumber != 'tail':\n",
    "            node = node.getNextNode()\n",
    "            cnt += 1\n",
    "        return cnt\n",
    "    \n",
    "    # 각 node의 numNo 출력.\n",
    "    def getListString(self):\n",
    "        node = self.nodeHead\n",
    "        ListString = ''\n",
    "        while node.getNextNode().strSerialNumber != 'tail':\n",
    "            node = node.getNextNode()\n",
    "            ListString = ListString + ','\n",
    "            ListString = ListString + str(node.numNo)\n",
    "        return ListString\n",
    "    \n",
    "    def showPlanChart(self):\n",
    "        allStartDate = []\n",
    "        allModel = []\n",
    "        node = self.nodeHead\n",
    "        \n",
    "        while node.getNextNode() != self.nodeTail:\n",
    "            node = node.getNextNode()\n",
    "            allStartDate.append(node.dateStart)\n",
    "             "
   ]
  },
  {
   "cell_type": "markdown",
   "metadata": {},
   "source": [
    "# def \\__init__( )"
   ]
  },
  {
   "cell_type": "code",
   "execution_count": 16,
   "metadata": {},
   "outputs": [],
   "source": [
    "# 생성자. 초기에 파일이 요구된다.\n",
    "def __init__(self, Filename):\n",
    "    # Linked list 초기값 설정\n",
    "    self.nodeHead = PlanNode(-1, 'head', '')\n",
    "    self.nodeTail = PlanNode(-1, 'tail', '')\n",
    "    self.nodeHead.setNextNode(self.nodeTail)\n",
    "    self.nodeTail.setPrevNode(self.nodeHead)\n",
    "\n",
    "    # 파일 불러오기.\n",
    "    if Filename != '':\n",
    "        f = open(Filename)\n",
    "        temp = f.readlines()\n",
    "        f.close()\n",
    "            \n",
    "        # 입력받은 변수들 다듬기.\n",
    "        dataset = []\n",
    "        for row in temp:\n",
    "            dataset.append(row[:-1].split(','))\n",
    "        Dataset = np.asarray(dataset[1:]).T\n",
    "\n",
    "        numNos = Dataset[0].astype('int')\n",
    "        strSerialNumbers = Dataset[1].astype('str')\n",
    "        strModels = Dataset[2].astype('str')\n",
    "            \n",
    "        # 다듬은 변수들로 Linked list 생성.\n",
    "        for i in range(len(numNos)):\n",
    "            node = PlanNode(numNos[i], strSerialNumbers[i], strModels[i])\n",
    "            node.printOut()\n",
    "            self.addLast(node)"
   ]
  },
  {
   "cell_type": "markdown",
   "metadata": {},
   "source": [
    "# 세부 분석"
   ]
  },
  {
   "cell_type": "code",
   "execution_count": 17,
   "metadata": {},
   "outputs": [
    {
     "name": "stdout",
     "output_type": "stream",
     "text": [
      "['NO,SerialNumber,Model\\n', '1,P11M8738,R180LC-9S\\n', '2,P11N0001,R220LC-9S\\n', '3,P11N0002,R160LC-9S\\n', '4,P11N0006,R220LC-9S\\n', '5,P11N0007,R160LC-9S\\n', '6,P11N0008,R220LC-9S\\n', '7,P11N0009,R220LC-9S\\n', '8,P11N0011,R160LC-9S\\n', '9,P11N0027,R220LC-9S\\n', '10,P11N0028,R220LC-9S(L/R)\\n']\n"
     ]
    }
   ],
   "source": [
    "f = open('Plan-2012.12.24.csv')\n",
    "line = f.readlines()\n",
    "f.close()\n",
    "print(line)"
   ]
  },
  {
   "cell_type": "code",
   "execution_count": 18,
   "metadata": {},
   "outputs": [
    {
     "name": "stdout",
     "output_type": "stream",
     "text": [
      "[['NO', 'SerialNumber', 'Model'], ['1', 'P11M8738', 'R180LC-9S'], ['2', 'P11N0001', 'R220LC-9S'], ['3', 'P11N0002', 'R160LC-9S'], ['4', 'P11N0006', 'R220LC-9S'], ['5', 'P11N0007', 'R160LC-9S'], ['6', 'P11N0008', 'R220LC-9S'], ['7', 'P11N0009', 'R220LC-9S'], ['8', 'P11N0011', 'R160LC-9S'], ['9', 'P11N0027', 'R220LC-9S'], ['10', 'P11N0028', 'R220LC-9S(L/R)']]\n"
     ]
    }
   ],
   "source": [
    "dataset = []\n",
    "for row in line:\n",
    "    dataset.append(row[:-1].split(','))\n",
    "print(dataset)"
   ]
  },
  {
   "cell_type": "code",
   "execution_count": 19,
   "metadata": {},
   "outputs": [
    {
     "name": "stdout",
     "output_type": "stream",
     "text": [
      "[['1' 'P11M8738' 'R180LC-9S']\n",
      " ['2' 'P11N0001' 'R220LC-9S']\n",
      " ['3' 'P11N0002' 'R160LC-9S']\n",
      " ['4' 'P11N0006' 'R220LC-9S']\n",
      " ['5' 'P11N0007' 'R160LC-9S']\n",
      " ['6' 'P11N0008' 'R220LC-9S']\n",
      " ['7' 'P11N0009' 'R220LC-9S']\n",
      " ['8' 'P11N0011' 'R160LC-9S']\n",
      " ['9' 'P11N0027' 'R220LC-9S']\n",
      " ['10' 'P11N0028' 'R220LC-9S(L/R)']]\n"
     ]
    }
   ],
   "source": [
    "Dataset = np.asarray(dataset[1:])\n",
    "print(Dataset)"
   ]
  },
  {
   "cell_type": "code",
   "execution_count": 20,
   "metadata": {},
   "outputs": [
    {
     "name": "stdout",
     "output_type": "stream",
     "text": [
      "[['1' '2' '3' '4' '5' '6' '7' '8' '9' '10']\n",
      " ['P11M8738' 'P11N0001' 'P11N0002' 'P11N0006' 'P11N0007' 'P11N0008'\n",
      "  'P11N0009' 'P11N0011' 'P11N0027' 'P11N0028']\n",
      " ['R180LC-9S' 'R220LC-9S' 'R160LC-9S' 'R220LC-9S' 'R160LC-9S' 'R220LC-9S'\n",
      "  'R220LC-9S' 'R160LC-9S' 'R220LC-9S' 'R220LC-9S(L/R)']]\n"
     ]
    }
   ],
   "source": [
    "Dataset = np.asarray(dataset[1:]).T\n",
    "print(Dataset)"
   ]
  },
  {
   "cell_type": "code",
   "execution_count": 21,
   "metadata": {},
   "outputs": [
    {
     "data": {
      "text/plain": [
       "array(['1', '2', '3', '4', '5', '6', '7', '8', '9', '10'], dtype='<U14')"
      ]
     },
     "execution_count": 21,
     "metadata": {},
     "output_type": "execute_result"
    }
   ],
   "source": [
    "numNos = Dataset[0]\n",
    "numNos"
   ]
  },
  {
   "cell_type": "code",
   "execution_count": 22,
   "metadata": {},
   "outputs": [
    {
     "data": {
      "text/plain": [
       "array([ 1,  2,  3,  4,  5,  6,  7,  8,  9, 10])"
      ]
     },
     "execution_count": 22,
     "metadata": {},
     "output_type": "execute_result"
    }
   ],
   "source": [
    "numNos = Dataset[0].astype('int')\n",
    "numNos"
   ]
  },
  {
   "cell_type": "code",
   "execution_count": 23,
   "metadata": {},
   "outputs": [
    {
     "name": "stdout",
     "output_type": "stream",
     "text": [
      "['P11M8738' 'P11N0001' 'P11N0002' 'P11N0006' 'P11N0007' 'P11N0008'\n",
      " 'P11N0009' 'P11N0011' 'P11N0027' 'P11N0028']\n",
      "['R180LC-9S' 'R220LC-9S' 'R160LC-9S' 'R220LC-9S' 'R160LC-9S' 'R220LC-9S'\n",
      " 'R220LC-9S' 'R160LC-9S' 'R220LC-9S' 'R220LC-9S(L/R)']\n"
     ]
    }
   ],
   "source": [
    "strSerialNumbers = Dataset[1].astype('str')\n",
    "strModels = Dataset[2].astype('str')\n",
    "print(strSerialNumbers)\n",
    "print(strModels)"
   ]
  },
  {
   "cell_type": "markdown",
   "metadata": {},
   "source": [
    "# add/remove/get( ) 함수"
   ]
  },
  {
   "cell_type": "code",
   "execution_count": 24,
   "metadata": {},
   "outputs": [],
   "source": [
    "    # 리스트 마지막에 노드 추가\n",
    "    def addLast(self, node):\n",
    "        nodeLast = self.nodeTail.getPrevNode()\n",
    "        node.setPrevNode(nodeLast)\n",
    "        nodeLast.setNextNode(node)\n",
    "        node.setNextNode(self.nodeTail)\n",
    "        self.nodeTail.setPrevNode(node)\n",
    "     \n",
    "    # 리스트 처음에 노드 추가.\n",
    "    def addFirst(self, node):\n",
    "        nodeFirst = self.nodeHead.getNextNode()\n",
    "        node.setNextNode(nodeFirst)\n",
    "        nodeFirst.setPrevNode(node)\n",
    "        node.setPrevNode(self.nodeHead)\n",
    "        self.nodeHead.setNextNode(node)\n",
    "        \n",
    "    # 마지막 노드 삭제.\n",
    "    def removeLast(self):\n",
    "        node = self.nodeTail.getPrevNode()\n",
    "        # remove할 노드가 node인데 그게 Head면 지울 수 없으므로 if문 설정.\n",
    "        if node.strSerialNumber != 'head':\n",
    "            prevNode = node.getPrevNode()\n",
    "            prevNode.setNextNode(self.nodeTail)\n",
    "            self.nodeTail.setPrevNode(prevNode)\n",
    "        return node\n",
    "    \n",
    "    # 첫 번째 노드 삭제.\n",
    "    def removeFirst(self):\n",
    "        node = self.nodeHead.getNextNode()\n",
    "        if node.strSerialNumber != 'tail':\n",
    "            nextNode = node.getNextNode()\n",
    "            nextNode.setPrevNode(self.nodeHead)\n",
    "            self.nodeHead.setNextNode(nextNode)      \n",
    "    \n",
    "    def getSize(self):\n",
    "        cnt = 0\n",
    "        node = self.nodeHead\n",
    "        while node.getNextNode().strSerialNumber != 'tail':\n",
    "            node = node.getNextNode()\n",
    "            cnt += 1\n",
    "        return cnt\n",
    "    \n",
    "    def getListString(self):\n",
    "        node = self.nodeHead\n",
    "        ListString = ''\n",
    "        while node.getNextNode().strSerialNumber != 'tail':\n",
    "            node = node.getNextNode()\n",
    "            ListString = ListString + ','\n",
    "            ListString = ListString + str(node.numNo)"
   ]
  },
  {
   "cell_type": "markdown",
   "metadata": {},
   "source": [
    "# def showPlanChart( )\n",
    "- 이게 있긴 한데 쓰이지는 않는다.\n",
    "- 우리가 가진 csv 파일에는 startdate이 없다."
   ]
  },
  {
   "cell_type": "code",
   "execution_count": 25,
   "metadata": {},
   "outputs": [],
   "source": [
    "    def showPlanChart(self):\n",
    "\n",
    "        allStartDate = []\n",
    "        allModel = []\n",
    "        node = self.nodeHead\n",
    "\n",
    "        while node.getNextNode() != self.nodeTail:\n",
    "            node = node.getNextNode()\n",
    "            allStartDate.append(node.dateStart)\n",
    "            allModel.append(node.strModel)\n",
    "\n",
    "        Uniq_allModel = list(set(allModel))\n",
    "        Counting_allModel = [allModel.count(a) for a in Uniq_allModel]\n",
    "        xlabel = [i for i in range(len(Uniq_allModel))]\n",
    "        plt.bar(xlabel[0:10], Counting_allModel[0:10], align='center')\n",
    "        plt.xticks(xlabel[0:10], Uniq_allModel[0:10])\n",
    "        plt.xlabel('Model')\n",
    "        plt.ylabel('Number of Orders')\n",
    "        plt.show()\n",
    "\n",
    "        Uniq_allStartDate = list(set(allStartDate))\n",
    "        Counting_dateStart = [allStartDate.count(a) for a in Uniq_allStartDate]\n",
    "        xlabel = [i for i in range(len(Uniq_allStartDate))]\n",
    "        plt.bar(xlabel[0:10], Counting_dateStart[0:10], align='center')\n",
    "        plt.xticks(xlabel[0:10], Uniq_allStartDate[0:10])\n",
    "        plt.xlabel('Date')\n",
    "        plt.ylabel('Number of Orders')\n",
    "        plt.show()"
   ]
  }
 ],
 "metadata": {
  "kernelspec": {
   "display_name": "Python 3",
   "language": "python",
   "name": "python3"
  },
  "language_info": {
   "codemirror_mode": {
    "name": "ipython",
    "version": 3
   },
   "file_extension": ".py",
   "mimetype": "text/x-python",
   "name": "python",
   "nbconvert_exporter": "python",
   "pygments_lexer": "ipython3",
   "version": "3.7.4"
  }
 },
 "nbformat": 4,
 "nbformat_minor": 2
}
