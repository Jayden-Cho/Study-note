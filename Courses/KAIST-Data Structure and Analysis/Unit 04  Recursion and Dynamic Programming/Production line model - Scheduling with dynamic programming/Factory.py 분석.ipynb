{
 "cells": [
  {
   "cell_type": "markdown",
   "metadata": {},
   "source": [
    "# def \\__init__( )"
   ]
  },
  {
   "cell_type": "code",
   "execution_count": null,
   "metadata": {},
   "outputs": [],
   "source": [
    "    # 생성자 초기값에 파일 입력.\n",
    "    def __init__(slf, strFilename):\n",
    "        # ProductionList()에는 아직 waiting line에 들어가지 못한 product들의 리스트.\n",
    "        self.waitingProduct = ProductionList(strFilename)\n",
    "        # 아무 것도 없는 빈 리스트.\n",
    "        self.completedProduct = ProductionList('')\n",
    "\n",
    "        row = 2\n",
    "        col = 3\n",
    "\n",
    "        # 2x3의 빈 리스트 행렬 생성.\n",
    "        self.processes = [[[] for j in range(col)] for i in range(row)]\n",
    "\n",
    "        # 행 먼저 훑고 다음 행으로 넘어가 훑고하는 식.\n",
    "        # 두번 loop.\n",
    "        for i in range(row):\n",
    "            # 세번 loop.\n",
    "            for j in range(col):\n",
    "                # 첫 번째 행에는 Queue 방식으로.\n",
    "                if i == 0:\n",
    "                    self.processes[i][j] = ManufacturingProcess('queue')\n",
    "                elif i == 1:\n",
    "                    self.processes[i][j] = ManufacturingProcess('stack')"
   ]
  },
  {
   "cell_type": "code",
   "execution_count": 2,
   "metadata": {},
   "outputs": [
    {
     "data": {
      "text/plain": [
       "[[[], [], []], [[], [], []]]"
      ]
     },
     "execution_count": 2,
     "metadata": {},
     "output_type": "execute_result"
    }
   ],
   "source": [
    "# 2x3의 빈 리스트 행렬 생성.\n",
    "processes = [[[] for j in range(3)] for i in range(2)]\n",
    "processes"
   ]
  },
  {
   "cell_type": "markdown",
   "metadata": {},
   "source": [
    "# def run( )\n",
    "- 공정 끝난 product의 개수가 10개가 될 때까지 while loop 돌림.\n",
    "    - 3, 2, 1, 0,.. 계속 반복.\n",
    "        - 3부터 시작하는 이유는 마지막에 complete 채워보고 다 찼으면 loop 끝내게.\n",
    "        - 안찼으면 뒤에서 부터 땡김."
   ]
  },
  {
   "cell_type": "code",
   "execution_count": 4,
   "metadata": {},
   "outputs": [
    {
     "name": "stdout",
     "output_type": "stream",
     "text": [
      "0\n",
      "3\n",
      "1\n",
      "3\n",
      "0\n",
      "2\n",
      "1\n",
      "2\n",
      "0\n",
      "1\n",
      "1\n",
      "1\n",
      "0\n",
      "0\n",
      "1\n",
      "0\n"
     ]
    }
   ],
   "source": [
    "    def run(self):\n",
    "        # 투입 전 product들의 개수. 초기값은 10.\n",
    "        cntProduct = self.waitingProduct.getSize()\n",
    "\n",
    "        # 공정 끝낸 product가 10가 될 때 까지.\n",
    "        while self.completedProduct.getSize() != cntProduct:\n",
    "            # loop 끝날 때 까지 fig 출력.\n",
    "            fig = plt.figure()\n",
    "\n",
    "            # 4x2 행렬.\n",
    "            # 3, 2, 1, 0 출력.\n",
    "            for j in range(3, -1, -1):\n",
    "                for i in range(2):\n",
    "                    # 첫 번째 행.\n",
    "                    if j == 0:\n",
    "                        # Queue, Stack 상관 없이 removeFirst는 동일.\n",
    "                        # waiting product 중 첫 번째 뽑아냄.\n",
    "                        product = self.waitingProduct.removeFirst()\n",
    "                        # waiting에 모두 뽑아냈다면 생략.\n",
    "                        if product != 'none':\n",
    "                            # 첫 번째 product 추가.\n",
    "                            self.processes[i][j].arriveProduct(product)\n",
    "                        # 일단 모르겠고 해당 process의 번호를 출력.\n",
    "                        plt.text(100, 50 + i * 100, self.processes[i][j].getListString(), style='italic')\n",
    "\n",
    "                    # 마지막 아웃풋 칸.\n",
    "                    elif j == 3:\n",
    "                        # 마지막 바로 전에 있는 product 뽑아내기.\n",
    "                        product = self.processes[i][j - 1].leaveProduct()\n",
    "                        # product가 그 위치에 있으면,\n",
    "                        if product != 'none':\n",
    "                            # 아까 뽑아낸 product를 completedProduct에 추가.\n",
    "                            self.completedProduct.addLast(product)\n",
    "                        # completeList에 그 동안 추가한 product 출력.\n",
    "                        # 이제 이게 10이면 while loop 종료.\n",
    "                        plt.text(100 + j * 50, 100, self.completedProduct.getListString(), style='italic')\n",
    "\n",
    "                    # 다음 공정으로 넘기기.\n",
    "                    else:\n",
    "                        # 그 위치에 있는 product 뽑아내기.\n",
    "                        product = self.processes[i][j - 1].leaveProduct()\n",
    "                        if product != 'none':\n",
    "                            # 뽑아낸 product 다음 위치에 넣기.\n",
    "                            self.processes[i][j].arriveProduct(product)\n",
    "                        # fig에 그 위치에 product 번호 입력.\n",
    "                        plt.text(100 + 50 * j, 50 + i * 100, self.processes[i][j].getListString(), style='italic')\n",
    "\n",
    "                # 공정 들어가기 전 product 세팅.\n",
    "                plt.text(50, 100, self.waitingProduct.getListString(), style='italic')\n",
    "                plt.axis([0, 350, 0, 200])\n",
    "                plt.show()"
   ]
  },
  {
   "cell_type": "code",
   "execution_count": 5,
   "metadata": {},
   "outputs": [
    {
     "name": "stdout",
     "output_type": "stream",
     "text": [
      "3\n",
      "2\n",
      "1\n",
      "0\n"
     ]
    }
   ],
   "source": [
    "for j in range(3, -1, -1):\n",
    "    print(j)"
   ]
  },
  {
   "cell_type": "markdown",
   "metadata": {},
   "source": [
    "# 전체 코드"
   ]
  },
  {
   "cell_type": "code",
   "execution_count": null,
   "metadata": {},
   "outputs": [],
   "source": [
    "from ManufacturingProcess import ManufacturingProcess\n",
    "from ProductionList import ProductionList\n",
    "import matplotlib.pyplot as plt\n",
    "\n",
    "class Factory(ManufacturingProcess):\n",
    "    \n",
    "    def __init__(self, strFilename):\n",
    "        self.waitingProduct = ProductionList(strFilename)\n",
    "        self.completedProduct = ProductionList('')\n",
    "\n",
    "        row = 2\n",
    "        col = 3\n",
    "\n",
    "        self.processes = [[[] for j in range(col)] for i in range(row)]\n",
    "        for i in range(row):\n",
    "            for j in range(col):\n",
    "                if i == 0:\n",
    "                    self.processes[i][j] = ManufacturingProcess('queue')\n",
    "                elif i == 1:\n",
    "                    self.processes[i][j] = ManufacturingProcess('stack')\n",
    "\n",
    "    def run(self):\n",
    "        cntProduct = self.waitingProduct.getSize()\n",
    "\n",
    "        while self.completedProduct.getSize() != cntProduct:\n",
    "            fig = plt.figure()\n",
    "\n",
    "            for j in range(3,-1, -1):\n",
    "                for i in range(2):\n",
    "                    if j == 0:\n",
    "                        product = self.waitingProduct.removeFirst()\n",
    "                        if product != 'none':\n",
    "                            self.processes[i][j].arriveProduct(product)\n",
    "                        plt.text(100, 50 + i * 100, self.processes[i][j].getListString(), style='italic')\n",
    "\n",
    "                    elif j == 3:\n",
    "                        product = self.processes[i][j - 1].leaveProduct()\n",
    "                        if product != 'none':\n",
    "                            self.completedProduct.addLast(product)\n",
    "                        plt.text(100 + j * 50, 100, self.completedProduct.getListString(), style='italic')\n",
    "\n",
    "                    else:\n",
    "                        product = self.processes[i][j - 1].leaveProduct()\n",
    "                        if product != 'none':\n",
    "                            self.processes[i][j].arriveProduct(product)\n",
    "                        plt.text(100 + 50 * j, 50 + i * 100, self.processes[i][j].getListString(), style='italic')\n",
    "\n",
    "            plt.text(50, 100, self.waitingProduct.getListString(), style='italic')\n",
    "            plt.axis([0, 350, 0, 200])\n",
    "            plt.show()"
   ]
  }
 ],
 "metadata": {
  "kernelspec": {
   "display_name": "Python 3",
   "language": "python",
   "name": "python3"
  },
  "language_info": {
   "codemirror_mode": {
    "name": "ipython",
    "version": 3
   },
   "file_extension": ".py",
   "mimetype": "text/x-python",
   "name": "python",
   "nbconvert_exporter": "python",
   "pygments_lexer": "ipython3",
   "version": "3.7.4"
  }
 },
 "nbformat": 4,
 "nbformat_minor": 2
}
