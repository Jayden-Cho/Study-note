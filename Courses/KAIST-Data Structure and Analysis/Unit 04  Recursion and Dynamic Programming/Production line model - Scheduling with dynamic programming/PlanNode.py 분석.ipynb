{
 "cells": [
  {
   "cell_type": "code",
   "execution_count": null,
   "metadata": {},
   "outputs": [],
   "source": [
    "class PlanNode:\n",
    "    # 생성자; instance 생성할 때 세 가지 변수가 필요하다.\n",
    "    def __init__(self, numNo, strSerialNumber, strModel):\n",
    "        self.numNo = numNo\n",
    "        self.strSerialNumber = strSerialNumber\n",
    "        self.strModel = strModel\n",
    "\n",
    "    # instance 생성될 때 입력받은 값 출력.\n",
    "    def printOut(self):\n",
    "        print('No :', self.numNo, ', SerialNum : ', self.strSerialNumber, ',Model:', self.strModel)\n",
    "        \n",
    "    # simple get/set methods.\n",
    "    def getNextNode(self):\n",
    "        return self.nextNode\n",
    "    def getPrevNode(self):\n",
    "        return self.prevNode\n",
    "\n",
    "    def setNextNode(self, node):\n",
    "        self.nextNode = node\n",
    "    def setPrevNode(self, node):\n",
    "        self.prevNode = node"
   ]
  },
  {
   "cell_type": "code",
   "execution_count": null,
   "metadata": {},
   "outputs": [],
   "source": []
  }
 ],
 "metadata": {
  "kernelspec": {
   "display_name": "Python 3",
   "language": "python",
   "name": "python3"
  },
  "language_info": {
   "codemirror_mode": {
    "name": "ipython",
    "version": 3
   },
   "file_extension": ".py",
   "mimetype": "text/x-python",
   "name": "python",
   "nbconvert_exporter": "python",
   "pygments_lexer": "ipython3",
   "version": "3.7.4"
  }
 },
 "nbformat": 4,
 "nbformat_minor": 2
}
