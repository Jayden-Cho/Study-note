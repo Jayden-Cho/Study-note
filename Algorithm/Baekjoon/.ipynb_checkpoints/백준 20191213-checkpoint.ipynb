{
 "cells": [
  {
   "cell_type": "markdown",
   "metadata": {},
   "source": [
    "# 1316\n",
    "그룹 단어란 단어에 존재하는 모든 문자에 대해서, 각 문자가 연속해서 나타나는 경우만을 말한다. 예를 들면, ccazzzzbb는 c, a, z, b가 모두 연속해서 나타나고, kin도 k, i, n이 연속해서 나타나기 때문에 그룹 단어이지만, aabbbccb는 b가 떨어져서 나타나기 때문에 그룹 단어가 아니다.\n",
    "\n",
    "단어 N개를 입력으로 받아 그룹 단어의 개수를 출력하는 프로그램을 작성하시오.\n",
    "\n",
    "첫째 줄에 단어의 개수 N이 들어온다. N은 100보다 작거나 같은 자연수이다. 둘째 줄부터 N개의 줄에 단어가 들어온다. 단어는 알파벳 소문자로만 되어있고 중복되지 않으며, 길이는 최대 100이다."
   ]
  },
  {
   "cell_type": "code",
   "execution_count": 69,
   "metadata": {},
   "outputs": [
    {
     "name": "stdout",
     "output_type": "stream",
     "text": [
      "3\n",
      "happy\n",
      "a\n",
      "a\n"
     ]
    }
   ],
   "source": [
    "def groupWordChecker(word):\n",
    "    stdList = []\n",
    "    while len(word) != 0:\n",
    "        std = word[0]    # 첫 번째 알파벳을 기준으로 만들고\n",
    "        stdList.append(std)\n",
    "        del word[0]    # 기준 잡은거 없애고\n",
    "    \n",
    "        if len(word) == 0:\n",
    "            return 1\n",
    "        elif std == word[0]:    # 다음 알파벳과 기준이 같으면 계속.\n",
    "            continue\n",
    "        elif std != word[0]:\n",
    "            std = word[0]   # 아니면 그 알파벳을 새로운 기준으로 잡는다.\n",
    "            if std in stdList:   # 기준들에 \n",
    "                return 0\n",
    "            else:\n",
    "                continue\n",
    "\n",
    "T = int(input())\n",
    "\n",
    "words = [input() for _ in range(T)]\n",
    "\n",
    "count = 0\n",
    "for word in words:\n",
    "    count += groupWordChecker(list(word))\n",
    "print(count)"
   ]
  },
  {
   "cell_type": "markdown",
   "metadata": {},
   "source": [
    "# 2839\n",
    "상근이는 요즘 설탕공장에서 설탕을 배달하고 있다. 상근이는 지금 사탕가게에 설탕을 정확하게 N킬로그램을 배달해야 한다. 설탕공장에서 만드는 설탕은 봉지에 담겨져 있다. 봉지는 3킬로그램 봉지와 5킬로그램 봉지가 있다.\n",
    "\n",
    "상근이는 귀찮기 때문에, 최대한 적은 봉지를 들고 가려고 한다. 예를 들어, 18킬로그램 설탕을 배달해야 할 때, 3킬로그램 봉지 6개를 가져가도 되지만, 5킬로그램 3개와 3킬로그램 1개를 배달하면, 더 적은 개수의 봉지를 배달할 수 있다.\n",
    "\n",
    "상근이가 설탕을 정확하게 N킬로그램 배달해야 할 때, 봉지 몇 개를 가져가면 되는지 그 수를 구하는 프로그램을 작성하시오."
   ]
  },
  {
   "cell_type": "markdown",
   "metadata": {},
   "source": [
    "6/5"
   ]
  },
  {
   "cell_type": "code",
   "execution_count": 112,
   "metadata": {},
   "outputs": [
    {
     "name": "stdout",
     "output_type": "stream",
     "text": [
      "10\n",
      "9999\n"
     ]
    }
   ],
   "source": [
    "N = int(input())\n",
    "mn = 9999\n",
    "xRan = N // 3\n",
    "for i in range(0, xRan+1):\n",
    "    x = i\n",
    "    y = (N-3*x) / 5\n",
    "    if (N-3*x) % 5 != 0:\n",
    "        continue\n",
    "    else:\n",
    "        res = int(x+y)\n",
    "        if res < mn:\n",
    "            mn = res\n",
    "    if mn == 9999:\n",
    "        mn = -1\n",
    "print(mn)"
   ]
  },
  {
   "cell_type": "markdown",
   "metadata": {},
   "source": [
    "# 1978\n",
    "주어진 수 N개 중에서 소수가 몇 개인지 찾아서 출력하는 프로그램을 작성하시오.\n",
    "\n",
    "첫 줄에 수의 개수 N이 주어진다. N은 100이하이다. 다음으로 N개의 수가 주어지는데 수는 1,000 이하의 자연수이다."
   ]
  },
  {
   "cell_type": "code",
   "execution_count": null,
   "metadata": {},
   "outputs": [
    {
     "name": "stdout",
     "output_type": "stream",
     "text": [
      "4\n",
      "1 3 5 7\n"
     ]
    }
   ],
   "source": [
    "N = 3\n",
    "\n",
    "def findPrimeNum(n):\n",
    "    if n == 1:\n",
    "        return 0\n",
    "    else:\n",
    "        for i in range(2, n):\n",
    "            if n%i == 0:    # 나눠지는게 하나라도 있으면\n",
    "                return 0 \n",
    "                break\n",
    "            return 1\n",
    "\n",
    "T = int(input())\n",
    "\n",
    "nums = [map(int, input().split()) for _ in range(T)]\n",
    "\n",
    "count = 0\n",
    "for num in nums:\n",
    "    count += findPrimeNum()\n",
    "print(count)"
   ]
  },
  {
   "cell_type": "code",
   "execution_count": 121,
   "metadata": {},
   "outputs": [
    {
     "name": "stdout",
     "output_type": "stream",
     "text": [
      "2 소수아님\n",
      "3 소수\n",
      "4 소수아님\n",
      "5 소수\n",
      "6 소수\n",
      "7 소수\n"
     ]
    }
   ],
   "source": [
    "n = 8\n",
    "cnt = 0\n",
    "for i in range(2, n):\n",
    "    if n%i == 0:    # 나눠지는게 하나라도 있으면\n",
    "        cnt += 1\n",
    "        break\n",
    "    else:\n",
    "        continue"
   ]
  },
  {
   "cell_type": "code",
   "execution_count": 136,
   "metadata": {},
   "outputs": [
    {
     "data": {
      "text/plain": [
       "[1, 3, 5]"
      ]
     },
     "execution_count": 136,
     "metadata": {},
     "output_type": "execute_result"
    }
   ],
   "source": []
  },
  {
   "cell_type": "code",
   "execution_count": null,
   "metadata": {},
   "outputs": [],
   "source": []
  }
 ],
 "metadata": {
  "kernelspec": {
   "display_name": "Python 3",
   "language": "python",
   "name": "python3"
  },
  "language_info": {
   "codemirror_mode": {
    "name": "ipython",
    "version": 3
   },
   "file_extension": ".py",
   "mimetype": "text/x-python",
   "name": "python",
   "nbconvert_exporter": "python",
   "pygments_lexer": "ipython3",
   "version": "3.7.4"
  }
 },
 "nbformat": 4,
 "nbformat_minor": 2
}
