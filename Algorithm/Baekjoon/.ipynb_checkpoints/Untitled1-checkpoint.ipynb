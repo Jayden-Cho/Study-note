{
 "cells": [
  {
   "cell_type": "code",
   "execution_count": 18,
   "metadata": {},
   "outputs": [
    {
     "name": "stdout",
     "output_type": "stream",
     "text": [
      "10\n",
      "[5.0, 9]\n",
      "[5.0, 3.0, 8]\n",
      "[5.0, 3.0, 4.0, 7]\n",
      "[5.0, 3.0, 4.0, 6]\n",
      "4\n"
     ]
    }
   ],
   "source": [
    "N = int(input())\n",
    "lst = []\n",
    "cnt = 0\n",
    "lst.append(N)\n",
    "for i in lst:\n",
    "    if i % 3 == 0:\n",
    "        lst.append(i/3)\n",
    "    if i % 2 == 0:\n",
    "        lst.append(i/2)\n",
    "    lst.append(i-1)\n",
    "    lst.remove(i)\n",
    "    print(lst)\n",
    "    if 1 in lst:\n",
    "        break\n",
    "    cnt += 1\n",
    "    \n",
    "print(cnt)"
   ]
  },
  {
   "cell_type": "code",
   "execution_count": 25,
   "metadata": {},
   "outputs": [],
   "source": [
    "def fn(lst):\n",
    "    for i in lst:\n",
    "        if i % 3 == 0:\n",
    "            lst.append(i/3)\n",
    "        if i % 2 == 0:\n",
    "            lst.append(i/2)\n",
    "        lst.append(i-1)\n",
    "        lst.remove(i)\n",
    "        print(lst)\n",
    "        fn(lst)"
   ]
  },
  {
   "cell_type": "code",
   "execution_count": 37,
   "metadata": {},
   "outputs": [],
   "source": [
    "def fn(i):\n",
    "    if i % 3 == 0:\n",
    "        lst.append(i/3)\n",
    "    if i % 2 == 0:\n",
    "        lst.append(i/2)\n",
    "    lst.append(i-1)"
   ]
  },
  {
   "cell_type": "code",
   "execution_count": null,
   "metadata": {},
   "outputs": [],
   "source": [
    "lst=[10]\n",
    "for N in lst:\n",
    "    fn(N)\n",
    "print(lst)"
   ]
  },
  {
   "cell_type": "code",
   "execution_count": null,
   "metadata": {},
   "outputs": [],
   "source": []
  }
 ],
 "metadata": {
  "kernelspec": {
   "display_name": "Python 3",
   "language": "python",
   "name": "python3"
  },
  "language_info": {
   "codemirror_mode": {
    "name": "ipython",
    "version": 3
   },
   "file_extension": ".py",
   "mimetype": "text/x-python",
   "name": "python",
   "nbconvert_exporter": "python",
   "pygments_lexer": "ipython3",
   "version": "3.7.4"
  }
 },
 "nbformat": 4,
 "nbformat_minor": 2
}
