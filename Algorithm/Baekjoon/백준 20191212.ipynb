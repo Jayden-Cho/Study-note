{
 "cells": [
  {
   "cell_type": "markdown",
   "metadata": {},
   "source": [
    "# 10951"
   ]
  },
  {
   "cell_type": "code",
   "execution_count": 127,
   "metadata": {},
   "outputs": [
    {
     "name": "stdout",
     "output_type": "stream",
     "text": [
      "0 0\n"
     ]
    }
   ],
   "source": [
    "while(True):\n",
    "    A, B = list(map(int, input().split()))\n",
    "    if(A == 0 and B == 0):\n",
    "        break\n",
    "    else:\n",
    "        print(A + B)"
   ]
  },
  {
   "cell_type": "markdown",
   "metadata": {},
   "source": [
    "# 1157"
   ]
  },
  {
   "cell_type": "code",
   "execution_count": 107,
   "metadata": {},
   "outputs": [
    {
     "name": "stdout",
     "output_type": "stream",
     "text": [
      "abbc\n",
      "B\n"
     ]
    }
   ],
   "source": [
    "word = input().upper()\n",
    "aList = list(set(word))    \n",
    "cntList = []\n",
    "mx = 0  \n",
    "a_mx = ''    \n",
    "\n",
    "for a in aList: \n",
    "    cnt = word.count(a)  \n",
    "    cntList.append(cnt)     \n",
    "\n",
    "    if mx < cnt:\n",
    "        mx = cnt    \n",
    "        a_mx = a  \n",
    "if cntList.count(mx) > 1: \n",
    "    print('?')\n",
    "else:\n",
    "    print(a_mx)"
   ]
  },
  {
   "cell_type": "code",
   "execution_count": 105,
   "metadata": {},
   "outputs": [
    {
     "name": "stdout",
     "output_type": "stream",
     "text": [
      "z\n",
      "Z\n"
     ]
    }
   ],
   "source": [
    "word = input().upper()\n",
    "aList = list(set(word))    # ['P', 'M', 'S', 'I']\n",
    "cntList = []\n",
    "mx = 0    # 최댓값 초기화.\n",
    "a_mx = ''    # 최댓값 가진 단어 초기화.\n",
    "\n",
    "for a in aList:    # P, M, S, I로 loop\n",
    "    cnt = word.count(a)    # word에서 알파벳 나온만큼 카운트.\n",
    "    cntList.append(cnt)    # 카운트한거 리스트에 저장.    \n",
    "\n",
    "    if mx < cnt:\n",
    "        mx = cnt    # 최댓값.\n",
    "        a_mx = a    # 최댓값 가진 단어.\n",
    "if cntList.count(mx) > 1:    # 카운트 리스트에 최댓값이 1개 이상이라면,\n",
    "    print('?')\n",
    "else:\n",
    "    print(a_mx)"
   ]
  },
  {
   "cell_type": "markdown",
   "metadata": {},
   "source": [
    "# 1110\n",
    "0보다 크거나 같고, 99보다 작거나 같은 정수가 주어질 때 다음과 같은 연산을 할 수 있다. 먼저 주어진 수가 10보다 작다면 앞에 0을 붙여 두 자리 수로 만들고, 각 자리의 숫자를 더한다. 그 다음, 주어진 수의 가장 오른쪽 자리 수와 앞에서 구한 합의 가장 오른쪽 자리 수를 이어 붙이면 새로운 수를 만들 수 있다. 다음 예를 보자.\n",
    "\n",
    "26부터 시작한다. 2+6 = 8이다. 새로운 수는 68이다. 6+8 = 14이다. 새로운 수는 84이다. 8+4 = 12이다. 새로운 수는 42이다. 4+2 = 6이다. 새로운 수는 26이다.\n",
    "\n",
    "위의 예는 4번만에 원래 수로 돌아올 수 있다. 따라서 26의 사이클의 길이는 4이다.\n",
    "\n",
    "N이 주어졌을 때, N의 사이클의 길이를 구하는 프로그램을 작성하시오."
   ]
  },
  {
   "cell_type": "code",
   "execution_count": 142,
   "metadata": {},
   "outputs": [
    {
     "name": "stdout",
     "output_type": "stream",
     "text": [
      "55\n",
      "3\n"
     ]
    }
   ],
   "source": [
    "def sum_digit(number):\n",
    "    result = 0\n",
    "    for i in str(number):\n",
    "        result += int(i)\n",
    "    return result\n",
    "\n",
    "def find_unit_digit(number):\n",
    "    numList = list(map(int, str(number)))\n",
    "    if len(numList) == 2:\n",
    "        unit = numList[1]\n",
    "    else:\n",
    "        unit = numList[0]\n",
    "    return unit\n",
    "\n",
    "num = int(input())\n",
    "check = num\n",
    "cnt = 0\n",
    "while True:\n",
    "    result = find_unit_digit(num)*10 + find_unit_digit(sum_digit(num))\n",
    "    cnt += 1\n",
    "    num = result\n",
    "    if result == check:\n",
    "        break\n",
    "\n",
    "print(cnt)"
   ]
  },
  {
   "cell_type": "markdown",
   "metadata": {},
   "source": [
    "# 15596\n",
    "정수 n개가 주어졌을 때, n개의 합을 구하는 함수를 작성하시오."
   ]
  },
  {
   "cell_type": "code",
   "execution_count": 144,
   "metadata": {},
   "outputs": [],
   "source": [
    "def solve(a):\n",
    "    s = 0\n",
    "    for n in a:\n",
    "        s += n\n",
    "    return s"
   ]
  },
  {
   "cell_type": "markdown",
   "metadata": {},
   "source": [
    "# 1065\n",
    "어떤 양의 정수 X의 자리수가 등차수열을 이룬다면, 그 수를 한수라고 한다. 등차수열은 연속된 두 개의 수의 차이가 일정한 수열을 말한다. N이 주어졌을 때, 1보다 크거나 같고, N보다 작거나 같은 한수의 개수를 출력하는 프로그램을 작성하시오. "
   ]
  },
  {
   "cell_type": "code",
   "execution_count": 158,
   "metadata": {},
   "outputs": [
    {
     "name": "stdout",
     "output_type": "stream",
     "text": [
      "210\n",
      "105\n"
     ]
    }
   ],
   "source": [
    "num = int(input())\n",
    "result = 0\n",
    "if num < 100:\n",
    "    result = num\n",
    "elif 99 <= num <= 110:\n",
    "    result = 99\n",
    "if num > 110:\n",
    "    result = 99\n",
    "    for i in range(110, num+1):\n",
    "        n = list(map(int, str(i)))\n",
    "        if n[0] - n[1] == n[1] - n[2]:\n",
    "            result += 1\n",
    "print(result)"
   ]
  },
  {
   "cell_type": "markdown",
   "metadata": {},
   "source": [
    "# 2941"
   ]
  },
  {
   "cell_type": "code",
   "execution_count": 198,
   "metadata": {},
   "outputs": [
    {
     "name": "stdout",
     "output_type": "stream",
     "text": [
      "ljes=njak\n",
      "6\n"
     ]
    }
   ],
   "source": [
    "cro = input()\n",
    "lst = ['c=', 'c-', 'dz=', 'd-', 'lj', 'nj', 's=', 'z=']\n",
    "result = 0\n",
    "for word in lst:\n",
    "    if word in cro:\n",
    "        result += cro.count(word)\n",
    "        cro = cro.replace(word, ' ')\n",
    "cro = cro.replace(' ', '')\n",
    "if len(cro) != 0:\n",
    "    result += len(list(cro))\n",
    "print(result)"
   ]
  },
  {
   "cell_type": "code",
   "execution_count": null,
   "metadata": {},
   "outputs": [],
   "source": []
  }
 ],
 "metadata": {
  "kernelspec": {
   "display_name": "Python 3",
   "language": "python",
   "name": "python3"
  },
  "language_info": {
   "codemirror_mode": {
    "name": "ipython",
    "version": 3
   },
   "file_extension": ".py",
   "mimetype": "text/x-python",
   "name": "python",
   "nbconvert_exporter": "python",
   "pygments_lexer": "ipython3",
   "version": "3.7.4"
  }
 },
 "nbformat": 4,
 "nbformat_minor": 2
}
