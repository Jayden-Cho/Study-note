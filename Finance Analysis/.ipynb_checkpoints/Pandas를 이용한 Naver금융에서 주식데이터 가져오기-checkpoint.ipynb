{
 "cells": [
  {
   "cell_type": "markdown",
   "metadata": {},
   "source": [
    "Pandas를 이용해 Naver금융에서 주식데이터를 가져오기."
   ]
  },
  {
   "cell_type": "markdown",
   "metadata": {},
   "source": [
    "# 한국거래소(krx)에서 종목코드 가져오기\n",
    "\n",
    "원하는 종목의 주식데이터를 가져오기 위해 코스피(KOSPI)와 코스닥(KOSDAQ)의 종목코드가 필요하다.\n",
    "- `pandas`모듈의 `pandas.read_html()`을 이용해 종목코드를 가져올 수 있다.\n",
    "    - `pandas.read_html()`은 HTML에서 `<table></table>` 태그를 찾아 자동으로 `DataFrame`형식으로 만들어준다."
   ]
  },
  {
   "cell_type": "code",
   "execution_count": 48,
   "metadata": {
    "scrolled": true
   },
   "outputs": [
    {
     "data": {
      "text/plain": [
       "[           회사명    종목코드               업종  \\\n",
       " 0          DSR  155660      1차 비철금속 제조업   \n",
       " 1        GS글로벌    1250        상품 종합 도매업   \n",
       " 2        HSD엔진   82740    일반 목적용 기계 제조업   \n",
       " 3        LG이노텍   11070         전자부품 제조업   \n",
       " 4          OCI   10060      기초 화학물질 제조업   \n",
       " ...        ...     ...              ...   \n",
       " 2332        툴젠  199800  자연과학 및 공학 연구개발업   \n",
       " 2333        틸론  217880   소프트웨어 개발 및 공급업   \n",
       " 2334     판도라티비  202960   소프트웨어 개발 및 공급업   \n",
       " 2335  한국미라클피플사  331660      기타 화학제품 제조업   \n",
       " 2336     한국비엔씨  226610       의료용 기기 제조업   \n",
       " \n",
       "                                                    주요제품         상장일  결산월  \\\n",
       " 0                                                합섬섬유로프  2013-05-15  12월   \n",
       " 1     수출입업(시멘트,철강금속,전기전자,섬유,기계화학),상품중개,광업,채석업/하수처리 서...  1976-06-26  12월   \n",
       " 2                                        대형선박용엔진,내연발전엔진  2011-01-04  12월   \n",
       " 3                                           기타 전자부품 제조업  2008-07-24  12월   \n",
       " 4      타르제품,카본블랙,무수프탈산,농약원제,석탄화학제품,정밀화학제품,플라스틱창호재 제조,판매  1985-07-09  12월   \n",
       " ...                                                 ...         ...  ...   \n",
       " 2332  유전자가위 (유전체 교정 도구) 및 이를 이용한 유전자세포치료제, 고부가가치 가축,...  2014-06-25  12월   \n",
       " 2333                    Cloud Solution (D,A,E,Rstation)  2015-05-28  12월   \n",
       " 2334                                     판도라TV, KM 플레이어  2014-08-11  12월   \n",
       " 2335                                     은나노스텝, 닥터오렌지 등  2019-10-28  12월   \n",
       " 2336     필러 등 메조테라피제품, 유착방지재, 콜라겐흡수성창상피복재, 콜라겐사용조직보충재 등  2015-12-18  12월   \n",
       " \n",
       "                             대표자명                         홈페이지     지역  \n",
       " 0                            홍석빈           http://www.dsr.com  부산광역시  \n",
       " 1                            김태형       http://www.gsgcorp.com  서울특별시  \n",
       " 2                            고영열  http://www.doosanengine.com   경상남도  \n",
       " 3                            정철동   http://www.lginnotek.co.kr  서울특별시  \n",
       " 4     백우석, 이우현, 김택중(3인, 각자 대표이사)         http://www.oci.co.kr  서울특별시  \n",
       " ...                          ...                          ...    ...  \n",
       " 2332                         김종문       http://www.toolgen.com  서울특별시  \n",
       " 2333                    최백준, 최용호       http://www.tilon.co.kr  서울특별시  \n",
       " 2334                         김경익        http://www.pandora.tv    경기도  \n",
       " 2335                         이호경        http://www.kmpc.co.kr    경기도  \n",
       " 2336                         최완규    http://www.bnckorea.co.kr  대구광역시  \n",
       " \n",
       " [2337 rows x 9 columns]]"
      ]
     },
     "execution_count": 48,
     "metadata": {},
     "output_type": "execute_result"
    }
   ],
   "source": [
    "import pandas as pd\n",
    "\n",
    "code_df = pd.read_html('http://kind.krx.co.kr/corpgeneral/corpList.do?method=download&searchType=13')\n",
    "code_df"
   ]
  },
  {
   "cell_type": "markdown",
   "metadata": {},
   "source": [
    "알아보기 어려운 데이터들로 가득하다. \n",
    "- 먼저 데이터 타입이 무엇인지, 길이가 몇인지 알아보자."
   ]
  },
  {
   "cell_type": "code",
   "execution_count": 49,
   "metadata": {},
   "outputs": [
    {
     "name": "stdout",
     "output_type": "stream",
     "text": [
      "type : <class 'list'> , length : 1\n"
     ]
    }
   ],
   "source": [
    "print('type :',type(code_df),', length :',len(code_df))"
   ]
  },
  {
   "cell_type": "markdown",
   "metadata": {},
   "source": [
    "그래도 적어도 데이터 자체가 리스트 안에 있다는 것을 알 수 있다.\n",
    "- 데이터 타입이 리스트이므로 인덱싱이 가능하다. 첫번째(이자 물론 마지막) 요소를 인덱싱하자.\n",
    "- 인덱싱에 추가로 첫 번째 열을 `header`로 설정하자. `header=0`으로 설정하면 된다."
   ]
  },
  {
   "cell_type": "code",
   "execution_count": 50,
   "metadata": {
    "scrolled": true
   },
   "outputs": [
    {
     "data": {
      "text/html": [
       "<div>\n",
       "<style scoped>\n",
       "    .dataframe tbody tr th:only-of-type {\n",
       "        vertical-align: middle;\n",
       "    }\n",
       "\n",
       "    .dataframe tbody tr th {\n",
       "        vertical-align: top;\n",
       "    }\n",
       "\n",
       "    .dataframe thead th {\n",
       "        text-align: right;\n",
       "    }\n",
       "</style>\n",
       "<table border=\"1\" class=\"dataframe\">\n",
       "  <thead>\n",
       "    <tr style=\"text-align: right;\">\n",
       "      <th></th>\n",
       "      <th>회사명</th>\n",
       "      <th>종목코드</th>\n",
       "      <th>업종</th>\n",
       "      <th>주요제품</th>\n",
       "      <th>상장일</th>\n",
       "      <th>결산월</th>\n",
       "      <th>대표자명</th>\n",
       "      <th>홈페이지</th>\n",
       "      <th>지역</th>\n",
       "    </tr>\n",
       "  </thead>\n",
       "  <tbody>\n",
       "    <tr>\n",
       "      <td>0</td>\n",
       "      <td>DSR</td>\n",
       "      <td>155660</td>\n",
       "      <td>1차 비철금속 제조업</td>\n",
       "      <td>합섬섬유로프</td>\n",
       "      <td>2013-05-15</td>\n",
       "      <td>12월</td>\n",
       "      <td>홍석빈</td>\n",
       "      <td>http://www.dsr.com</td>\n",
       "      <td>부산광역시</td>\n",
       "    </tr>\n",
       "    <tr>\n",
       "      <td>1</td>\n",
       "      <td>GS글로벌</td>\n",
       "      <td>1250</td>\n",
       "      <td>상품 종합 도매업</td>\n",
       "      <td>수출입업(시멘트,철강금속,전기전자,섬유,기계화학),상품중개,광업,채석업/하수처리 서...</td>\n",
       "      <td>1976-06-26</td>\n",
       "      <td>12월</td>\n",
       "      <td>김태형</td>\n",
       "      <td>http://www.gsgcorp.com</td>\n",
       "      <td>서울특별시</td>\n",
       "    </tr>\n",
       "    <tr>\n",
       "      <td>2</td>\n",
       "      <td>HSD엔진</td>\n",
       "      <td>82740</td>\n",
       "      <td>일반 목적용 기계 제조업</td>\n",
       "      <td>대형선박용엔진,내연발전엔진</td>\n",
       "      <td>2011-01-04</td>\n",
       "      <td>12월</td>\n",
       "      <td>고영열</td>\n",
       "      <td>http://www.doosanengine.com</td>\n",
       "      <td>경상남도</td>\n",
       "    </tr>\n",
       "    <tr>\n",
       "      <td>3</td>\n",
       "      <td>LG이노텍</td>\n",
       "      <td>11070</td>\n",
       "      <td>전자부품 제조업</td>\n",
       "      <td>기타 전자부품 제조업</td>\n",
       "      <td>2008-07-24</td>\n",
       "      <td>12월</td>\n",
       "      <td>정철동</td>\n",
       "      <td>http://www.lginnotek.co.kr</td>\n",
       "      <td>서울특별시</td>\n",
       "    </tr>\n",
       "    <tr>\n",
       "      <td>4</td>\n",
       "      <td>OCI</td>\n",
       "      <td>10060</td>\n",
       "      <td>기초 화학물질 제조업</td>\n",
       "      <td>타르제품,카본블랙,무수프탈산,농약원제,석탄화학제품,정밀화학제품,플라스틱창호재 제조,판매</td>\n",
       "      <td>1985-07-09</td>\n",
       "      <td>12월</td>\n",
       "      <td>백우석, 이우현, 김택중(3인, 각자 대표이사)</td>\n",
       "      <td>http://www.oci.co.kr</td>\n",
       "      <td>서울특별시</td>\n",
       "    </tr>\n",
       "  </tbody>\n",
       "</table>\n",
       "</div>"
      ],
      "text/plain": [
       "     회사명    종목코드             업종  \\\n",
       "0    DSR  155660    1차 비철금속 제조업   \n",
       "1  GS글로벌    1250      상품 종합 도매업   \n",
       "2  HSD엔진   82740  일반 목적용 기계 제조업   \n",
       "3  LG이노텍   11070       전자부품 제조업   \n",
       "4    OCI   10060    기초 화학물질 제조업   \n",
       "\n",
       "                                                주요제품         상장일  결산월  \\\n",
       "0                                             합섬섬유로프  2013-05-15  12월   \n",
       "1  수출입업(시멘트,철강금속,전기전자,섬유,기계화학),상품중개,광업,채석업/하수처리 서...  1976-06-26  12월   \n",
       "2                                     대형선박용엔진,내연발전엔진  2011-01-04  12월   \n",
       "3                                        기타 전자부품 제조업  2008-07-24  12월   \n",
       "4   타르제품,카본블랙,무수프탈산,농약원제,석탄화학제품,정밀화학제품,플라스틱창호재 제조,판매  1985-07-09  12월   \n",
       "\n",
       "                         대표자명                         홈페이지     지역  \n",
       "0                         홍석빈           http://www.dsr.com  부산광역시  \n",
       "1                         김태형       http://www.gsgcorp.com  서울특별시  \n",
       "2                         고영열  http://www.doosanengine.com   경상남도  \n",
       "3                         정철동   http://www.lginnotek.co.kr  서울특별시  \n",
       "4  백우석, 이우현, 김택중(3인, 각자 대표이사)         http://www.oci.co.kr  서울특별시  "
      ]
     },
     "execution_count": 50,
     "metadata": {},
     "output_type": "execute_result"
    }
   ],
   "source": [
    "code_df = pd.read_html('http://kind.krx.co.kr/corpgeneral/corpList.do?method=download&searchType=13', header=0)[0]\n",
    "code_df.head()"
   ]
  },
  {
   "cell_type": "markdown",
   "metadata": {},
   "source": [
    "데이터프레임을 성공적으로 출력했으니 이제 입맛에 맞게 수정하자."
   ]
  },
  {
   "cell_type": "code",
   "execution_count": 51,
   "metadata": {},
   "outputs": [
    {
     "data": {
      "text/plain": [
       "0       155660\n",
       "1         1250\n",
       "2        82740\n",
       "3        11070\n",
       "4        10060\n",
       "         ...  \n",
       "2332    199800\n",
       "2333    217880\n",
       "2334    202960\n",
       "2335    331660\n",
       "2336    226610\n",
       "Name: 종목코드, Length: 2337, dtype: int64"
      ]
     },
     "execution_count": 51,
     "metadata": {},
     "output_type": "execute_result"
    }
   ],
   "source": [
    "code_df.종목코드"
   ]
  },
  {
   "cell_type": "markdown",
   "metadata": {},
   "source": [
    "종목코드열을 보면 4자리부터 6자리까지 다양하다. 일괄적으로 6자리로 맞추자.\n",
    "- `map()` 함수를 사용하면 일괄적인 처리가 가능하다. code_df.\n",
    "- 종목코드는 Series 타입이므로 map() 함수 사용이 가능하다."
   ]
  },
  {
   "cell_type": "code",
   "execution_count": 52,
   "metadata": {
    "scrolled": true
   },
   "outputs": [
    {
     "data": {
      "text/html": [
       "<div>\n",
       "<style scoped>\n",
       "    .dataframe tbody tr th:only-of-type {\n",
       "        vertical-align: middle;\n",
       "    }\n",
       "\n",
       "    .dataframe tbody tr th {\n",
       "        vertical-align: top;\n",
       "    }\n",
       "\n",
       "    .dataframe thead th {\n",
       "        text-align: right;\n",
       "    }\n",
       "</style>\n",
       "<table border=\"1\" class=\"dataframe\">\n",
       "  <thead>\n",
       "    <tr style=\"text-align: right;\">\n",
       "      <th></th>\n",
       "      <th>회사명</th>\n",
       "      <th>종목코드</th>\n",
       "      <th>업종</th>\n",
       "      <th>주요제품</th>\n",
       "      <th>상장일</th>\n",
       "      <th>결산월</th>\n",
       "      <th>대표자명</th>\n",
       "      <th>홈페이지</th>\n",
       "      <th>지역</th>\n",
       "    </tr>\n",
       "  </thead>\n",
       "  <tbody>\n",
       "    <tr>\n",
       "      <td>0</td>\n",
       "      <td>DSR</td>\n",
       "      <td>155660</td>\n",
       "      <td>1차 비철금속 제조업</td>\n",
       "      <td>합섬섬유로프</td>\n",
       "      <td>2013-05-15</td>\n",
       "      <td>12월</td>\n",
       "      <td>홍석빈</td>\n",
       "      <td>http://www.dsr.com</td>\n",
       "      <td>부산광역시</td>\n",
       "    </tr>\n",
       "    <tr>\n",
       "      <td>1</td>\n",
       "      <td>GS글로벌</td>\n",
       "      <td>001250</td>\n",
       "      <td>상품 종합 도매업</td>\n",
       "      <td>수출입업(시멘트,철강금속,전기전자,섬유,기계화학),상품중개,광업,채석업/하수처리 서...</td>\n",
       "      <td>1976-06-26</td>\n",
       "      <td>12월</td>\n",
       "      <td>김태형</td>\n",
       "      <td>http://www.gsgcorp.com</td>\n",
       "      <td>서울특별시</td>\n",
       "    </tr>\n",
       "    <tr>\n",
       "      <td>2</td>\n",
       "      <td>HSD엔진</td>\n",
       "      <td>082740</td>\n",
       "      <td>일반 목적용 기계 제조업</td>\n",
       "      <td>대형선박용엔진,내연발전엔진</td>\n",
       "      <td>2011-01-04</td>\n",
       "      <td>12월</td>\n",
       "      <td>고영열</td>\n",
       "      <td>http://www.doosanengine.com</td>\n",
       "      <td>경상남도</td>\n",
       "    </tr>\n",
       "    <tr>\n",
       "      <td>3</td>\n",
       "      <td>LG이노텍</td>\n",
       "      <td>011070</td>\n",
       "      <td>전자부품 제조업</td>\n",
       "      <td>기타 전자부품 제조업</td>\n",
       "      <td>2008-07-24</td>\n",
       "      <td>12월</td>\n",
       "      <td>정철동</td>\n",
       "      <td>http://www.lginnotek.co.kr</td>\n",
       "      <td>서울특별시</td>\n",
       "    </tr>\n",
       "    <tr>\n",
       "      <td>4</td>\n",
       "      <td>OCI</td>\n",
       "      <td>010060</td>\n",
       "      <td>기초 화학물질 제조업</td>\n",
       "      <td>타르제품,카본블랙,무수프탈산,농약원제,석탄화학제품,정밀화학제품,플라스틱창호재 제조,판매</td>\n",
       "      <td>1985-07-09</td>\n",
       "      <td>12월</td>\n",
       "      <td>백우석, 이우현, 김택중(3인, 각자 대표이사)</td>\n",
       "      <td>http://www.oci.co.kr</td>\n",
       "      <td>서울특별시</td>\n",
       "    </tr>\n",
       "  </tbody>\n",
       "</table>\n",
       "</div>"
      ],
      "text/plain": [
       "     회사명    종목코드             업종  \\\n",
       "0    DSR  155660    1차 비철금속 제조업   \n",
       "1  GS글로벌  001250      상품 종합 도매업   \n",
       "2  HSD엔진  082740  일반 목적용 기계 제조업   \n",
       "3  LG이노텍  011070       전자부품 제조업   \n",
       "4    OCI  010060    기초 화학물질 제조업   \n",
       "\n",
       "                                                주요제품         상장일  결산월  \\\n",
       "0                                             합섬섬유로프  2013-05-15  12월   \n",
       "1  수출입업(시멘트,철강금속,전기전자,섬유,기계화학),상품중개,광업,채석업/하수처리 서...  1976-06-26  12월   \n",
       "2                                     대형선박용엔진,내연발전엔진  2011-01-04  12월   \n",
       "3                                        기타 전자부품 제조업  2008-07-24  12월   \n",
       "4   타르제품,카본블랙,무수프탈산,농약원제,석탄화학제품,정밀화학제품,플라스틱창호재 제조,판매  1985-07-09  12월   \n",
       "\n",
       "                         대표자명                         홈페이지     지역  \n",
       "0                         홍석빈           http://www.dsr.com  부산광역시  \n",
       "1                         김태형       http://www.gsgcorp.com  서울특별시  \n",
       "2                         고영열  http://www.doosanengine.com   경상남도  \n",
       "3                         정철동   http://www.lginnotek.co.kr  서울특별시  \n",
       "4  백우석, 이우현, 김택중(3인, 각자 대표이사)         http://www.oci.co.kr  서울특별시  "
      ]
     },
     "execution_count": 52,
     "metadata": {},
     "output_type": "execute_result"
    }
   ],
   "source": [
    "# {인덱스:0개수d'}'.format(숫자)\n",
    "code_df.종목코드 = code_df.종목코드.map('{:06d}'.format)\n",
    "code_df.head()"
   ]
  },
  {
   "cell_type": "markdown",
   "metadata": {},
   "source": [
    "다음은 불필요한 열을 제거하자.\n",
    "- 지금 필요한 것은 회사명과 종목코드. 나머지 열들은 제외하자."
   ]
  },
  {
   "cell_type": "code",
   "execution_count": 53,
   "metadata": {},
   "outputs": [
    {
     "data": {
      "text/html": [
       "<div>\n",
       "<style scoped>\n",
       "    .dataframe tbody tr th:only-of-type {\n",
       "        vertical-align: middle;\n",
       "    }\n",
       "\n",
       "    .dataframe tbody tr th {\n",
       "        vertical-align: top;\n",
       "    }\n",
       "\n",
       "    .dataframe thead th {\n",
       "        text-align: right;\n",
       "    }\n",
       "</style>\n",
       "<table border=\"1\" class=\"dataframe\">\n",
       "  <thead>\n",
       "    <tr style=\"text-align: right;\">\n",
       "      <th></th>\n",
       "      <th>회사명</th>\n",
       "      <th>종목코드</th>\n",
       "    </tr>\n",
       "  </thead>\n",
       "  <tbody>\n",
       "    <tr>\n",
       "      <td>0</td>\n",
       "      <td>DSR</td>\n",
       "      <td>155660</td>\n",
       "    </tr>\n",
       "    <tr>\n",
       "      <td>1</td>\n",
       "      <td>GS글로벌</td>\n",
       "      <td>001250</td>\n",
       "    </tr>\n",
       "    <tr>\n",
       "      <td>2</td>\n",
       "      <td>HSD엔진</td>\n",
       "      <td>082740</td>\n",
       "    </tr>\n",
       "    <tr>\n",
       "      <td>3</td>\n",
       "      <td>LG이노텍</td>\n",
       "      <td>011070</td>\n",
       "    </tr>\n",
       "    <tr>\n",
       "      <td>4</td>\n",
       "      <td>OCI</td>\n",
       "      <td>010060</td>\n",
       "    </tr>\n",
       "  </tbody>\n",
       "</table>\n",
       "</div>"
      ],
      "text/plain": [
       "     회사명    종목코드\n",
       "0    DSR  155660\n",
       "1  GS글로벌  001250\n",
       "2  HSD엔진  082740\n",
       "3  LG이노텍  011070\n",
       "4    OCI  010060"
      ]
     },
     "execution_count": 53,
     "metadata": {},
     "output_type": "execute_result"
    }
   ],
   "source": [
    "code_df = code_df[['회사명', '종목코드']]\n",
    "code_df.head()"
   ]
  },
  {
   "cell_type": "markdown",
   "metadata": {},
   "source": [
    "이제 한글로된 컬럼명을 영어로 바꿔준다."
   ]
  },
  {
   "cell_type": "code",
   "execution_count": 55,
   "metadata": {},
   "outputs": [
    {
     "data": {
      "text/html": [
       "<div>\n",
       "<style scoped>\n",
       "    .dataframe tbody tr th:only-of-type {\n",
       "        vertical-align: middle;\n",
       "    }\n",
       "\n",
       "    .dataframe tbody tr th {\n",
       "        vertical-align: top;\n",
       "    }\n",
       "\n",
       "    .dataframe thead th {\n",
       "        text-align: right;\n",
       "    }\n",
       "</style>\n",
       "<table border=\"1\" class=\"dataframe\">\n",
       "  <thead>\n",
       "    <tr style=\"text-align: right;\">\n",
       "      <th></th>\n",
       "      <th>name</th>\n",
       "      <th>code</th>\n",
       "    </tr>\n",
       "  </thead>\n",
       "  <tbody>\n",
       "    <tr>\n",
       "      <td>0</td>\n",
       "      <td>DSR</td>\n",
       "      <td>155660</td>\n",
       "    </tr>\n",
       "    <tr>\n",
       "      <td>1</td>\n",
       "      <td>GS글로벌</td>\n",
       "      <td>001250</td>\n",
       "    </tr>\n",
       "    <tr>\n",
       "      <td>2</td>\n",
       "      <td>HSD엔진</td>\n",
       "      <td>082740</td>\n",
       "    </tr>\n",
       "    <tr>\n",
       "      <td>3</td>\n",
       "      <td>LG이노텍</td>\n",
       "      <td>011070</td>\n",
       "    </tr>\n",
       "    <tr>\n",
       "      <td>4</td>\n",
       "      <td>OCI</td>\n",
       "      <td>010060</td>\n",
       "    </tr>\n",
       "  </tbody>\n",
       "</table>\n",
       "</div>"
      ],
      "text/plain": [
       "    name    code\n",
       "0    DSR  155660\n",
       "1  GS글로벌  001250\n",
       "2  HSD엔진  082740\n",
       "3  LG이노텍  011070\n",
       "4    OCI  010060"
      ]
     },
     "execution_count": 55,
     "metadata": {},
     "output_type": "execute_result"
    }
   ],
   "source": [
    "code_df = code_df.rename(columns={'회사명' : 'name', '종목코드' : 'code'})\n",
    "code_df.head()"
   ]
  },
  {
   "cell_type": "markdown",
   "metadata": {},
   "source": [
    "# Naver금융에서 종목 별 일자 데이터 가져오기\n",
    "\n",
    "예시로 신라젠(215600)의 일자 데이터를 가져오자."
   ]
  },
  {
   "cell_type": "code",
   "execution_count": 67,
   "metadata": {},
   "outputs": [
    {
     "name": "stdout",
     "output_type": "stream",
     "text": [
      "요청 URL = http://finance.naver.com/item/sise_day.nhn?code=215600\n"
     ]
    },
    {
     "data": {
      "text/html": [
       "<div>\n",
       "<style scoped>\n",
       "    .dataframe tbody tr th:only-of-type {\n",
       "        vertical-align: middle;\n",
       "    }\n",
       "\n",
       "    .dataframe tbody tr th {\n",
       "        vertical-align: top;\n",
       "    }\n",
       "\n",
       "    .dataframe thead th {\n",
       "        text-align: right;\n",
       "    }\n",
       "</style>\n",
       "<table border=\"1\" class=\"dataframe\">\n",
       "  <thead>\n",
       "    <tr style=\"text-align: right;\">\n",
       "      <th></th>\n",
       "      <th>날짜</th>\n",
       "      <th>종가</th>\n",
       "      <th>전일비</th>\n",
       "      <th>시가</th>\n",
       "      <th>고가</th>\n",
       "      <th>저가</th>\n",
       "      <th>거래량</th>\n",
       "    </tr>\n",
       "  </thead>\n",
       "  <tbody>\n",
       "    <tr>\n",
       "      <td>1</td>\n",
       "      <td>2019.11.29</td>\n",
       "      <td>15300.0</td>\n",
       "      <td>150.0</td>\n",
       "      <td>15250.0</td>\n",
       "      <td>15600.0</td>\n",
       "      <td>15000.0</td>\n",
       "      <td>850185.0</td>\n",
       "    </tr>\n",
       "    <tr>\n",
       "      <td>2</td>\n",
       "      <td>2019.11.28</td>\n",
       "      <td>15150.0</td>\n",
       "      <td>0.0</td>\n",
       "      <td>15050.0</td>\n",
       "      <td>16050.0</td>\n",
       "      <td>15000.0</td>\n",
       "      <td>4003367.0</td>\n",
       "    </tr>\n",
       "    <tr>\n",
       "      <td>3</td>\n",
       "      <td>2019.11.27</td>\n",
       "      <td>15150.0</td>\n",
       "      <td>1450.0</td>\n",
       "      <td>16750.0</td>\n",
       "      <td>16800.0</td>\n",
       "      <td>15100.0</td>\n",
       "      <td>7392710.0</td>\n",
       "    </tr>\n",
       "    <tr>\n",
       "      <td>4</td>\n",
       "      <td>2019.11.26</td>\n",
       "      <td>16600.0</td>\n",
       "      <td>800.0</td>\n",
       "      <td>17650.0</td>\n",
       "      <td>17750.0</td>\n",
       "      <td>16600.0</td>\n",
       "      <td>6179093.0</td>\n",
       "    </tr>\n",
       "    <tr>\n",
       "      <td>5</td>\n",
       "      <td>2019.11.25</td>\n",
       "      <td>17400.0</td>\n",
       "      <td>350.0</td>\n",
       "      <td>17350.0</td>\n",
       "      <td>18050.0</td>\n",
       "      <td>17350.0</td>\n",
       "      <td>2509961.0</td>\n",
       "    </tr>\n",
       "  </tbody>\n",
       "</table>\n",
       "</div>"
      ],
      "text/plain": [
       "           날짜       종가     전일비       시가       고가       저가        거래량\n",
       "1  2019.11.29  15300.0   150.0  15250.0  15600.0  15000.0   850185.0\n",
       "2  2019.11.28  15150.0     0.0  15050.0  16050.0  15000.0  4003367.0\n",
       "3  2019.11.27  15150.0  1450.0  16750.0  16800.0  15100.0  7392710.0\n",
       "4  2019.11.26  16600.0   800.0  17650.0  17750.0  16600.0  6179093.0\n",
       "5  2019.11.25  17400.0   350.0  17350.0  18050.0  17350.0  2509961.0"
      ]
     },
     "execution_count": 67,
     "metadata": {},
     "output_type": "execute_result"
    }
   ],
   "source": [
    "def get_url(item_name, code_df):\n",
    "    code = (code_df.query(\"name=='{}'\".format(item_name))['code'].to_string(index=False)).lstrip()\n",
    "    url = 'http://finance.naver.com/item/sise_day.nhn?code={code}'.format(code=code)\n",
    "    \n",
    "    print(\"요청 URL = {}\".format(url))\n",
    "    return url\n",
    "\n",
    "item_name = '신라젠'\n",
    "url = get_url(item_name, code_df)\n",
    "\n",
    "df = pd.DataFrame()\n",
    "\n",
    "for page in range(1, 21):\n",
    "    pg_url = '{url}&page={page}'.format(url=url, page=page)\n",
    "    df = df.append(pd.read_html(pg_url, header=0)[0], ignore_index=True)\n",
    "    \n",
    "df = df.dropna()\n",
    "\n",
    "df.head()"
   ]
  },
  {
   "cell_type": "code",
   "execution_count": 62,
   "metadata": {},
   "outputs": [
    {
     "name": "stdout",
     "output_type": "stream",
     "text": [
      "a b\n",
      "ab\n"
     ]
    }
   ],
   "source": [
    "print('a','b')\n",
    "print('a'+'b')"
   ]
  },
  {
   "cell_type": "code",
   "execution_count": 74,
   "metadata": {},
   "outputs": [
    {
     "name": "stdout",
     "output_type": "stream",
     "text": [
      "요청 URL = http://finance.naver.com/item/sise_day.nhn?code=215600\n"
     ]
    },
    {
     "data": {
      "text/html": [
       "<div>\n",
       "<style scoped>\n",
       "    .dataframe tbody tr th:only-of-type {\n",
       "        vertical-align: middle;\n",
       "    }\n",
       "\n",
       "    .dataframe tbody tr th {\n",
       "        vertical-align: top;\n",
       "    }\n",
       "\n",
       "    .dataframe thead th {\n",
       "        text-align: right;\n",
       "    }\n",
       "</style>\n",
       "<table border=\"1\" class=\"dataframe\">\n",
       "  <thead>\n",
       "    <tr style=\"text-align: right;\">\n",
       "      <th></th>\n",
       "      <th>날짜</th>\n",
       "      <th>종가</th>\n",
       "      <th>전일비</th>\n",
       "      <th>시가</th>\n",
       "      <th>고가</th>\n",
       "      <th>저가</th>\n",
       "      <th>거래량</th>\n",
       "    </tr>\n",
       "  </thead>\n",
       "  <tbody>\n",
       "    <tr>\n",
       "      <td>1</td>\n",
       "      <td>2019.11.29</td>\n",
       "      <td>14500.0</td>\n",
       "      <td>650.0</td>\n",
       "      <td>15250.0</td>\n",
       "      <td>15600.0</td>\n",
       "      <td>14400.0</td>\n",
       "      <td>3029463.0</td>\n",
       "    </tr>\n",
       "    <tr>\n",
       "      <td>2</td>\n",
       "      <td>2019.11.28</td>\n",
       "      <td>15150.0</td>\n",
       "      <td>0.0</td>\n",
       "      <td>15050.0</td>\n",
       "      <td>16050.0</td>\n",
       "      <td>15000.0</td>\n",
       "      <td>4003367.0</td>\n",
       "    </tr>\n",
       "    <tr>\n",
       "      <td>3</td>\n",
       "      <td>2019.11.27</td>\n",
       "      <td>15150.0</td>\n",
       "      <td>1450.0</td>\n",
       "      <td>16750.0</td>\n",
       "      <td>16800.0</td>\n",
       "      <td>15100.0</td>\n",
       "      <td>7392710.0</td>\n",
       "    </tr>\n",
       "    <tr>\n",
       "      <td>4</td>\n",
       "      <td>2019.11.26</td>\n",
       "      <td>16600.0</td>\n",
       "      <td>800.0</td>\n",
       "      <td>17650.0</td>\n",
       "      <td>17750.0</td>\n",
       "      <td>16600.0</td>\n",
       "      <td>6179093.0</td>\n",
       "    </tr>\n",
       "    <tr>\n",
       "      <td>5</td>\n",
       "      <td>2019.11.25</td>\n",
       "      <td>17400.0</td>\n",
       "      <td>350.0</td>\n",
       "      <td>17350.0</td>\n",
       "      <td>18050.0</td>\n",
       "      <td>17350.0</td>\n",
       "      <td>2509961.0</td>\n",
       "    </tr>\n",
       "  </tbody>\n",
       "</table>\n",
       "</div>"
      ],
      "text/plain": [
       "           날짜       종가     전일비       시가       고가       저가        거래량\n",
       "1  2019.11.29  14500.0   650.0  15250.0  15600.0  14400.0  3029463.0\n",
       "2  2019.11.28  15150.0     0.0  15050.0  16050.0  15000.0  4003367.0\n",
       "3  2019.11.27  15150.0  1450.0  16750.0  16800.0  15100.0  7392710.0\n",
       "4  2019.11.26  16600.0   800.0  17650.0  17750.0  16600.0  6179093.0\n",
       "5  2019.11.25  17400.0   350.0  17350.0  18050.0  17350.0  2509961.0"
      ]
     },
     "execution_count": 74,
     "metadata": {},
     "output_type": "execute_result"
    }
   ],
   "source": [
    "def get_url(item_name, code_df):\n",
    "    code = (code_df.query(\"name=='{}'\".format(item_name))['code'].to_string(index=False)).replace(' ', '')\n",
    "    url = 'http://finance.naver.com/item/sise_day.nhn?code={code}'.format(code=code)\n",
    "    \n",
    "    print(\"요청 URL = {}\".format(url))\n",
    "    return url\n",
    "\n",
    "item_name = '신라젠'\n",
    "url = get_url(item_name, code_df)\n",
    "\n",
    "df = pd.DataFrame()\n",
    "\n",
    "for page in range(1, 21):\n",
    "    pg_url = '{url}&page={page}'.format(url=url, page=page)\n",
    "    df = df.append(pd.read_html(pg_url, header=0)[0], ignore_index=True)\n",
    "    \n",
    "df = df.dropna()\n",
    "\n",
    "df.head()"
   ]
  }
 ],
 "metadata": {
  "kernelspec": {
   "display_name": "Python 3",
   "language": "python",
   "name": "python3"
  },
  "language_info": {
   "codemirror_mode": {
    "name": "ipython",
    "version": 3
   },
   "file_extension": ".py",
   "mimetype": "text/x-python",
   "name": "python",
   "nbconvert_exporter": "python",
   "pygments_lexer": "ipython3",
   "version": "3.7.4"
  }
 },
 "nbformat": 4,
 "nbformat_minor": 2
}
