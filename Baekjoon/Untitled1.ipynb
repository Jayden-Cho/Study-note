{
 "cells": [
  {
   "cell_type": "code",
   "execution_count": 18,
   "metadata": {},
   "outputs": [
    {
     "name": "stdout",
     "output_type": "stream",
     "text": [
      "10\n",
      "[5.0, 9]\n",
      "[5.0, 3.0, 8]\n",
      "[5.0, 3.0, 4.0, 7]\n",
      "[5.0, 3.0, 4.0, 6]\n",
      "4\n"
     ]
    }
   ],
   "source": [
    "N = int(input())\n",
    "lst = []\n",
    "cnt = 0\n",
    "lst.append(N)\n",
    "for i in lst:\n",
    "    if i % 3 == 0:\n",
    "        lst.append(i/3)\n",
    "    if i % 2 == 0:\n",
    "        lst.append(i/2)\n",
    "    lst.append(i-1)\n",
    "    lst.remove(i)\n",
    "    print(lst)\n",
    "    if 1 in lst:\n",
    "        break\n",
    "    cnt += 1\n",
    "    \n",
    "print(cnt)"
   ]
  },
  {
   "cell_type": "code",
   "execution_count": 25,
   "metadata": {},
   "outputs": [],
   "source": [
    "def fn(lst):\n",
    "    for i in lst:\n",
    "        if i % 3 == 0:\n",
    "            lst.append(i/3)\n",
    "        if i % 2 == 0:\n",
    "            lst.append(i/2)\n",
    "        lst.append(i-1)\n",
    "        lst.remove(i)\n",
    "        print(lst)\n",
    "        fn(lst)"
   ]
  },
  {
   "cell_type": "code",
   "execution_count": 48,
   "metadata": {},
   "outputs": [],
   "source": [
    "def fn(i):\n",
    "    lst = []\n",
    "    if i % 3 == 0:\n",
    "        lst.append(i/3)\n",
    "    if i % 2 == 0:\n",
    "        lst.append(i/2)\n",
    "    lst.append(i-1)\n",
    "    return lst"
   ]
  },
  {
   "cell_type": "code",
   "execution_count": 45,
   "metadata": {},
   "outputs": [
    {
     "data": {
      "text/plain": [
       "[5.0, 9]"
      ]
     },
     "execution_count": 45,
     "metadata": {},
     "output_type": "execute_result"
    }
   ],
   "source": [
    "fn(10)"
   ]
  },
  {
   "cell_type": "code",
   "execution_count": 53,
   "metadata": {},
   "outputs": [
    {
     "name": "stdout",
     "output_type": "stream",
     "text": [
      "[5.0, 9]\n"
     ]
    }
   ],
   "source": [
    "lst = []\n",
    "lst.append(fn(10))\n",
    "for i in lst:\n",
    "    print(i)"
   ]
  },
  {
   "cell_type": "code",
   "execution_count": 57,
   "metadata": {},
   "outputs": [
    {
     "name": "stdout",
     "output_type": "stream",
     "text": [
      "10\n",
      "[9, 5.0]\n",
      "[8, 3.0, 4.0]\n",
      "[7, 4.0, 2.0, 1.0, 3.0, 2.0]\n",
      "3\n"
     ]
    }
   ],
   "source": [
    "a = int(input())\n",
    "count = 0\n",
    "minimum=[a]\n",
    "def cal(a):\n",
    "    list = []\n",
    "    for i in a:\n",
    "        list.append(i-1)\n",
    "        if i%3 == 0:\n",
    "            list.append(i/3)\n",
    "        if i%2 == 0:\n",
    "            list.append(i/2)\n",
    "    return list\n",
    " \n",
    "while True:\n",
    "    if a == 1:\n",
    "        print(count)\n",
    "        break\n",
    "    temp = minimum[:]\n",
    "    minimum = []\n",
    "    minimum = cal(temp)\n",
    "    print(minimum)\n",
    "    count +=1\n",
    "    if min(minimum) == 1:\n",
    "        print(count)\n",
    "        break"
   ]
  },
  {
   "cell_type": "code",
   "execution_count": 56,
   "metadata": {},
   "outputs": [
    {
     "name": "stdout",
     "output_type": "stream",
     "text": [
      "10\n",
      "[9, 5.0]\n",
      "[8, 3.0, 4.0]\n",
      "[7, 4.0, 2.0, 1.0, 3.0, 2.0]\n",
      "3\n"
     ]
    }
   ],
   "source": [
    "a = int(input())\n",
    "cnt = 0 \n",
    "mn = [a]\n",
    "def cal(a):\n",
    "    lst = []\n",
    "    for i in a:\n",
    "        lst.append(i-1)\n",
    "        if i%3 == 0:\n",
    "            lst.append(i/3)\n",
    "        if i%2 == 0:\n",
    "            lst.append(i/2)\n",
    "    return lst\n",
    "\n",
    "while True:\n",
    "    if a == 1:\n",
    "        print(cnt)\n",
    "        break\n",
    "    mn = cal(mn)\n",
    "    print(mn)\n",
    "    cnt += 1\n",
    "    if min(mn) == 1:\n",
    "        print(cnt)\n",
    "        break"
   ]
  },
  {
   "cell_type": "code",
   "execution_count": 58,
   "metadata": {},
   "outputs": [
    {
     "name": "stdout",
     "output_type": "stream",
     "text": [
      "10\n",
      "3\n"
     ]
    }
   ],
   "source": [
    "N = int(input())\n",
    "cnt = 0\n",
    "lst = [N]\n",
    "\n",
    "def cal(a):\n",
    "    lst = []\n",
    "    for i in a:\n",
    "        lst.append(i-1)\n",
    "        if i % 3 == 0:\n",
    "            lst.append(i/3)\n",
    "        if i % 2 == 0:\n",
    "            lst.append(i/2)\n",
    "    return lst\n",
    "\n",
    "while True:\n",
    "    if N == 1:\n",
    "        print(cnt)\n",
    "        break\n",
    "    temp = lst[:]\n",
    "    lst = cal(temp)\n",
    "    cnt += 1\n",
    "    if min(lst) == 1:\n",
    "        print(cnt)\n",
    "        break"
   ]
  },
  {
   "cell_type": "code",
   "execution_count": null,
   "metadata": {},
   "outputs": [],
   "source": []
  }
 ],
 "metadata": {
  "kernelspec": {
   "display_name": "Python 3",
   "language": "python",
   "name": "python3"
  },
  "language_info": {
   "codemirror_mode": {
    "name": "ipython",
    "version": 3
   },
   "file_extension": ".py",
   "mimetype": "text/x-python",
   "name": "python",
   "nbconvert_exporter": "python",
   "pygments_lexer": "ipython3",
   "version": "3.7.4"
  }
 },
 "nbformat": 4,
 "nbformat_minor": 2
}
