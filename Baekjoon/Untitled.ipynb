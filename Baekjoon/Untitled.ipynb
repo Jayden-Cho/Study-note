{
 "cells": [
  {
   "cell_type": "code",
   "execution_count": 41,
   "metadata": {},
   "outputs": [
    {
     "name": "stdout",
     "output_type": "stream",
     "text": [
      "[[ 0  1  2  3  4  5  6  7  8  9 10 11 12 13]\n",
      " [ 0  0  0  0  0  0  0  0  0  0  0  0  0  0]\n",
      " [ 0  0  0  0  0  0  0  0  0  0  0  0  0  0]\n",
      " [ 0  0  0  0  0  0  0  0  0  0  0  0  0  0]\n",
      " [ 0  0  0  0  0  0  0  0  0  0  0  0  0  0]\n",
      " [ 0  0  0  0  0  0  0  0  0  0  0  0  0  0]\n",
      " [ 0  0  0  0  0  0  0  0  0  0  0  0  0  0]\n",
      " [ 0  0  0  0  0  0  0  0  0  0  0  0  0  0]\n",
      " [ 0  0  0  0  0  0  0  0  0  0  0  0  0  0]\n",
      " [ 0  0  0  0  0  0  0  0  0  0  0  0  0  0]\n",
      " [ 0  0  0  0  0  0  0  0  0  0  0  0  0  0]\n",
      " [ 0  0  0  0  0  0  0  0  0  0  0  0  0  0]\n",
      " [ 0  0  0  0  0  0  0  0  0  0  0  0  0  0]\n",
      " [ 0  0  0  0  0  0  0  0  0  0  0  0  0  0]]\n"
     ]
    }
   ],
   "source": [
    "import numpy as np\n",
    "ary = np.zeros((14, 14)).astype(int)\n",
    "\n",
    "ary[0] = np.arange(0, 14)\n",
    "print(ary)"
   ]
  },
  {
   "cell_type": "code",
   "execution_count": 42,
   "metadata": {},
   "outputs": [
    {
     "name": "stdout",
     "output_type": "stream",
     "text": [
      "[[ 0  1  2  3  4  5  6  7  8  9 10 11 12 13]\n",
      " [ 0  1  3  6 10 15 21 28 36 45 55 66 78 91]\n",
      " [ 0  0  0  0  0  0  0  0  0  0  0  0  0  0]\n",
      " [ 0  0  0  0  0  0  0  0  0  0  0  0  0  0]\n",
      " [ 0  0  0  0  0  0  0  0  0  0  0  0  0  0]\n",
      " [ 0  0  0  0  0  0  0  0  0  0  0  0  0  0]\n",
      " [ 0  0  0  0  0  0  0  0  0  0  0  0  0  0]\n",
      " [ 0  0  0  0  0  0  0  0  0  0  0  0  0  0]\n",
      " [ 0  0  0  0  0  0  0  0  0  0  0  0  0  0]\n",
      " [ 0  0  0  0  0  0  0  0  0  0  0  0  0  0]\n",
      " [ 0  0  0  0  0  0  0  0  0  0  0  0  0  0]\n",
      " [ 0  0  0  0  0  0  0  0  0  0  0  0  0  0]\n",
      " [ 0  0  0  0  0  0  0  0  0  0  0  0  0  0]\n",
      " [ 0  0  0  0  0  0  0  0  0  0  0  0  0  0]]\n"
     ]
    }
   ],
   "source": [
    "for i in range(14):\n",
    "    ary[1][i] = sum(ary[0][:i+1])\n",
    "print(ary)"
   ]
  },
  {
   "cell_type": "code",
   "execution_count": 43,
   "metadata": {},
   "outputs": [
    {
     "name": "stdout",
     "output_type": "stream",
     "text": [
      "[[      0       1       2       3       4       5       6       7       8\n",
      "        9      10      11      12      13]\n",
      " [      0       1       3       6      10      15      21      28      36\n",
      "       45      55      66      78      91]\n",
      " [      0       1       4      10      20      35      56      84     120\n",
      "      165     220     286     364     455]\n",
      " [      0       1       5      15      35      70     126     210     330\n",
      "      495     715    1001    1365    1820]\n",
      " [      0       1       6      21      56     126     252     462     792\n",
      "     1287    2002    3003    4368    6188]\n",
      " [      0       1       7      28      84     210     462     924    1716\n",
      "     3003    5005    8008   12376   18564]\n",
      " [      0       1       8      36     120     330     792    1716    3432\n",
      "     6435   11440   19448   31824   50388]\n",
      " [      0       1       9      45     165     495    1287    3003    6435\n",
      "    12870   24310   43758   75582  125970]\n",
      " [      0       1      10      55     220     715    2002    5005   11440\n",
      "    24310   48620   92378  167960  293930]\n",
      " [      0       1      11      66     286    1001    3003    8008   19448\n",
      "    43758   92378  184756  352716  646646]\n",
      " [      0       1      12      78     364    1365    4368   12376   31824\n",
      "    75582  167960  352716  705432 1352078]\n",
      " [      0       1      13      91     455    1820    6188   18564   50388\n",
      "   125970  293930  646646 1352078 2704156]\n",
      " [      0       1      14     105     560    2380    8568   27132   77520\n",
      "   203490  497420 1144066 2496144 5200300]\n",
      " [      0       1      15     120     680    3060   11628   38760  116280\n",
      "   319770  817190 1961256 4457400 9657700]]\n"
     ]
    }
   ],
   "source": [
    "for i in range(1, 14):\n",
    "    for j in range(1, 14):\n",
    "        ary[i][j] = sum(ary[i-1][:j+1])\n",
    "print(ary)"
   ]
  },
  {
   "cell_type": "code",
   "execution_count": 49,
   "metadata": {},
   "outputs": [
    {
     "name": "stdout",
     "output_type": "stream",
     "text": [
      "2\n",
      "1\n",
      "3\n",
      "1 3\n",
      "2\n",
      "4\n",
      "2 4\n"
     ]
    }
   ],
   "source": [
    "T = int(input())\n",
    "for i in range(T):\n",
    "    A = int(input())\n",
    "    B = int(input())\n",
    "    print(A, B)"
   ]
  },
  {
   "cell_type": "code",
   "execution_count": 57,
   "metadata": {},
   "outputs": [
    {
     "name": "stdout",
     "output_type": "stream",
     "text": [
      "[[       0        1        2        3        4        5        6        7\n",
      "         8        9       10       11       12       13       14]\n",
      " [       0        1        3        6       10       15       21       28\n",
      "        36       45       55       66       78       91      105]\n",
      " [       0        1        4       10       20       35       56       84\n",
      "       120      165      220      286      364      455      560]\n",
      " [       0        1        5       15       35       70      126      210\n",
      "       330      495      715     1001     1365     1820     2380]\n",
      " [       0        1        6       21       56      126      252      462\n",
      "       792     1287     2002     3003     4368     6188     8568]\n",
      " [       0        1        7       28       84      210      462      924\n",
      "      1716     3003     5005     8008    12376    18564    27132]\n",
      " [       0        1        8       36      120      330      792     1716\n",
      "      3432     6435    11440    19448    31824    50388    77520]\n",
      " [       0        1        9       45      165      495     1287     3003\n",
      "      6435    12870    24310    43758    75582   125970   203490]\n",
      " [       0        1       10       55      220      715     2002     5005\n",
      "     11440    24310    48620    92378   167960   293930   497420]\n",
      " [       0        1       11       66      286     1001     3003     8008\n",
      "     19448    43758    92378   184756   352716   646646  1144066]\n",
      " [       0        1       12       78      364     1365     4368    12376\n",
      "     31824    75582   167960   352716   705432  1352078  2496144]\n",
      " [       0        1       13       91      455     1820     6188    18564\n",
      "     50388   125970   293930   646646  1352078  2704156  5200300]\n",
      " [       0        1       14      105      560     2380     8568    27132\n",
      "     77520   203490   497420  1144066  2496144  5200300 10400600]\n",
      " [       0        1       15      120      680     3060    11628    38760\n",
      "    116280   319770   817190  1961256  4457400  9657700 20058300]\n",
      " [       0        1       16      136      816     3876    15504    54264\n",
      "    170544   490314  1307504  3268760  7726160 17383860 37442160]]\n",
      "1\n",
      "0\n",
      "0\n",
      "0\n"
     ]
    }
   ],
   "source": [
    "import numpy as np\n",
    "ary = np.zeros((15, 15)).astype(int)\n",
    "\n",
    "ary[0] = np.arange(0, 15)\n",
    "\n",
    "for i in range(1, 15):\n",
    "    for j in range(1, 15):\n",
    "        ary[i][j] = sum(ary[i-1][:j+1])\n",
    "print(ary)\n",
    "\n",
    "ans = []\n",
    "T = int(input())\n",
    "for i in range(T):\n",
    "    A = int(input())\n",
    "    B = int(input())\n",
    "    ans.append(ary[A][B])\n",
    "for i in ans:\n",
    "    print(i)"
   ]
  },
  {
   "cell_type": "code",
   "execution_count": 87,
   "metadata": {},
   "outputs": [
    {
     "name": "stdout",
     "output_type": "stream",
     "text": [
      "1\n",
      "0\n",
      "0\n",
      "0\n"
     ]
    }
   ],
   "source": [
    "import numpy as np\n",
    "def whatFloor(A, B):\n",
    "    ary = np.zeros((A+1, B+1)).astype(int)\n",
    "\n",
    "    ary[0] = np.arange(0, B+1)\n",
    "\n",
    "    for i in range(1, A+1):\n",
    "        for j in range(B+1):\n",
    "            ary[i][j] = sum(ary[i-1][:j+1])\n",
    "    return ary[A][B]\n",
    "\n",
    "T = int(input())\n",
    "for i in range(T):\n",
    "    A = int(input())\n",
    "    B = int(input())\n",
    "    print(whatFloor(A, B))"
   ]
  },
  {
   "cell_type": "code",
   "execution_count": 62,
   "metadata": {},
   "outputs": [
    {
     "data": {
      "text/plain": [
       "array([0, 1, 2, 3])"
      ]
     },
     "execution_count": 62,
     "metadata": {},
     "output_type": "execute_result"
    }
   ],
   "source": [
    "np.arange(0, 4)"
   ]
  },
  {
   "cell_type": "code",
   "execution_count": 86,
   "metadata": {},
   "outputs": [
    {
     "name": "stdout",
     "output_type": "stream",
     "text": [
      "1\n",
      "0\n",
      "0\n"
     ]
    },
    {
     "ename": "IndexError",
     "evalue": "list index out of range",
     "output_type": "error",
     "traceback": [
      "\u001b[0;31m---------------------------------------------------------------------------\u001b[0m",
      "\u001b[0;31mIndexError\u001b[0m                                Traceback (most recent call last)",
      "\u001b[0;32m<ipython-input-86-5c38dd430088>\u001b[0m in \u001b[0;36m<module>\u001b[0;34m\u001b[0m\n\u001b[1;32m      7\u001b[0m         \u001b[0;32mfor\u001b[0m \u001b[0mj\u001b[0m \u001b[0;32min\u001b[0m \u001b[0mrange\u001b[0m\u001b[0;34m(\u001b[0m\u001b[0;36m1\u001b[0m\u001b[0;34m,\u001b[0m \u001b[0mn\u001b[0m\u001b[0;34m)\u001b[0m\u001b[0;34m:\u001b[0m\u001b[0;34m\u001b[0m\u001b[0;34m\u001b[0m\u001b[0m\n\u001b[1;32m      8\u001b[0m             \u001b[0mnum\u001b[0m\u001b[0;34m[\u001b[0m\u001b[0mj\u001b[0m\u001b[0;34m]\u001b[0m \u001b[0;34m+=\u001b[0m \u001b[0mnum\u001b[0m\u001b[0;34m[\u001b[0m\u001b[0mj\u001b[0m\u001b[0;34m-\u001b[0m\u001b[0;36m1\u001b[0m\u001b[0;34m]\u001b[0m\u001b[0;34m\u001b[0m\u001b[0;34m\u001b[0m\u001b[0m\n\u001b[0;32m----> 9\u001b[0;31m     \u001b[0mprint\u001b[0m\u001b[0;34m(\u001b[0m\u001b[0mnum\u001b[0m\u001b[0;34m[\u001b[0m\u001b[0;34m-\u001b[0m\u001b[0;36m1\u001b[0m\u001b[0;34m]\u001b[0m\u001b[0;34m)\u001b[0m\u001b[0;34m\u001b[0m\u001b[0;34m\u001b[0m\u001b[0m\n\u001b[0m",
      "\u001b[0;31mIndexError\u001b[0m: list index out of range"
     ]
    }
   ],
   "source": [
    "Case = input()\n",
    "for _ in range(int(Case)):\n",
    "    k = int(input())\n",
    "    n = int(input())\n",
    "    num = [i for i in range(1, n + 1)]\n",
    "    for _ in range(k):\n",
    "        for j in range(1, n):\n",
    "            num[j] += num[j-1]\n",
    "    print(num[-1])"
   ]
  },
  {
   "cell_type": "code",
   "execution_count": null,
   "metadata": {},
   "outputs": [],
   "source": []
  }
 ],
 "metadata": {
  "kernelspec": {
   "display_name": "Python 3",
   "language": "python",
   "name": "python3"
  },
  "language_info": {
   "codemirror_mode": {
    "name": "ipython",
    "version": 3
   },
   "file_extension": ".py",
   "mimetype": "text/x-python",
   "name": "python",
   "nbconvert_exporter": "python",
   "pygments_lexer": "ipython3",
   "version": "3.7.4"
  }
 },
 "nbformat": 4,
 "nbformat_minor": 2
}
