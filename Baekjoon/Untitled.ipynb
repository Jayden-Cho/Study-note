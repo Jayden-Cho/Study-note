{
 "cells": [
  {
   "cell_type": "markdown",
   "metadata": {},
   "source": [
    "# 10951"
   ]
  },
  {
   "cell_type": "code",
   "execution_count": null,
   "metadata": {},
   "outputs": [],
   "source": [
    "while(True):\n",
    "    A, B = list(map(int, input().split()))\n",
    "    if(A == 0 and B == 0):\n",
    "        break\n",
    "    else:\n",
    "        print(A + B)"
   ]
  },
  {
   "cell_type": "markdown",
   "metadata": {},
   "source": [
    "# 1157"
   ]
  },
  {
   "cell_type": "code",
   "execution_count": 51,
   "metadata": {},
   "outputs": [
    {
     "name": "stdout",
     "output_type": "stream",
     "text": [
      "11\n"
     ]
    }
   ],
   "source": [
    "word = input().upper()\n",
    "aList = list(set(word))    \n",
    "cntList = []\n",
    "mx = 0  \n",
    "a_mx = ''    \n",
    "\n",
    "for a in aList: \n",
    "    cnt = word.count(a)  \n",
    "    cntList.append(cnt)     \n",
    "\n",
    "    if mx < cnt:\n",
    "        mx = cnt    \n",
    "        a_mx = a  \n",
    "if cntList.count(mx) > 1: \n",
    "    print('?')\n",
    "else:\n",
    "    print(a_mx)"
   ]
  },
  {
   "cell_type": "code",
   "execution_count": 105,
   "metadata": {},
   "outputs": [
    {
     "name": "stdout",
     "output_type": "stream",
     "text": [
      "z\n",
      "Z\n"
     ]
    }
   ],
   "source": [
    "word = input().upper()\n",
    "aList = list(set(word))    # ['P', 'M', 'S', 'I']\n",
    "cntList = []\n",
    "mx = 0    # 최댓값 초기화.\n",
    "a_mx = ''    # 최댓값 가진 단어 초기화.\n",
    "\n",
    "for a in aList:    # P, M, S, I로 loop\n",
    "    cnt = word.count(a)    # word에서 알파벳 나온만큼 카운트.\n",
    "    cntList.append(cnt)    # 카운트한거 리스트에 저장.    \n",
    "\n",
    "    if mx < cnt:\n",
    "        mx = cnt    # 최댓값.\n",
    "        a_mx = a    # 최댓값 가진 단어.\n",
    "if cntList.count(mx) > 1:    # 카운트 리스트에 최댓값이 1개 이상이라면,\n",
    "    print('?')\n",
    "else:\n",
    "    print(a_mx)"
   ]
  },
  {
   "cell_type": "code",
   "execution_count": 73,
   "metadata": {},
   "outputs": [
    {
     "data": {
      "text/plain": [
       "['C', 'A', 'B']"
      ]
     },
     "execution_count": 73,
     "metadata": {},
     "output_type": "execute_result"
    }
   ],
   "source": [
    "max를 찾고 max가 dict안에 더있다면 "
   ]
  },
  {
   "cell_type": "code",
   "execution_count": 77,
   "metadata": {},
   "outputs": [
    {
     "name": "stdout",
     "output_type": "stream",
     "text": [
      "4\n",
      "4\n",
      "4\n",
      "4\n"
     ]
    }
   ],
   "source": [
    "word = input().upper()\n",
    "aList = list(set(word))    \n",
    "cntList = []\n",
    "mx = 0  \n",
    "a_mx = ''    \n",
    "\n",
    "for a in aList: \n",
    "    cnt = word.count(a)  \n",
    "    cntList.append(cnt)     \n",
    "\n",
    "    if mx < cnt:\n",
    "        mx = cnt    \n",
    "        a_mx = a  \n",
    "if cntList.count(mx) > 1: \n",
    "    print('?')\n",
    "else:\n",
    "    print(a_mx)"
   ]
  },
  {
   "cell_type": "code",
   "execution_count": 97,
   "metadata": {},
   "outputs": [
    {
     "name": "stdout",
     "output_type": "stream",
     "text": [
      "B 1\n"
     ]
    },
    {
     "data": {
      "text/plain": [
       "\"\\nif cntList.count(mx) > 1:    # 카운트 리스트에 최댓값이 1개 이상이라면,\\n    print('?')\\nelse:\\n    print(a_mx)\""
      ]
     },
     "execution_count": 97,
     "metadata": {},
     "output_type": "execute_result"
    }
   ],
   "source": [
    "word = 'baaa'.upper()\n",
    "aList = list(set(word))    # ['A', 'B']\n",
    "cntList = []\n",
    "\n",
    "for a in aList:    # A, B로 loop.\n",
    "    cnt = word.count(a)    # word에서 알파벳 나온만큼 카운트.\n",
    "    cntList.append(cnt)    # 카운트한거 리스트에 저장.\n",
    "    \n",
    "    mx = 0    # 최댓값 초기화.\n",
    "    a_mx = ''    # 최댓값 가진 단어 초기화.\n",
    "    if mx < cnt:\n",
    "        mx = cnt    # 최댓값.\n",
    "        a_mx = a    # 최댓값 가진 단어.\n",
    "print(a_mx, mx)\n",
    "\n",
    "'''\n",
    "if cntList.count(mx) > 1:    # 카운트 리스트에 최댓값이 1개 이상이라면,\n",
    "    print('?')\n",
    "else:\n",
    "    print(a_mx)'''"
   ]
  },
  {
   "cell_type": "code",
   "execution_count": 101,
   "metadata": {},
   "outputs": [
    {
     "name": "stdout",
     "output_type": "stream",
     "text": [
      "[3]\n",
      "[3, 1]\n"
     ]
    }
   ],
   "source": [
    "word = 'baaa'.upper()\n",
    "aList = list(set(word))    # ['A', 'B']\n",
    "cntList = []\n",
    "\n",
    "mx = 0\n",
    "a_mx = ''\n",
    "for a in aList:\n",
    "    cnt = word.count(a)\n",
    "    cntList.append(cnt)\n",
    "    \n",
    "    if mx < cnt:\n",
    "    print(cntList)"
   ]
  },
  {
   "cell_type": "code",
   "execution_count": null,
   "metadata": {},
   "outputs": [],
   "source": []
  }
 ],
 "metadata": {
  "kernelspec": {
   "display_name": "Python 3",
   "language": "python",
   "name": "python3"
  },
  "language_info": {
   "codemirror_mode": {
    "name": "ipython",
    "version": 3
   },
   "file_extension": ".py",
   "mimetype": "text/x-python",
   "name": "python",
   "nbconvert_exporter": "python",
   "pygments_lexer": "ipython3",
   "version": "3.7.4"
  }
 },
 "nbformat": 4,
 "nbformat_minor": 2
}
