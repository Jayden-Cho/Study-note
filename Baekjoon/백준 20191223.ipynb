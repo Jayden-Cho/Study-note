{
 "cells": [
  {
   "cell_type": "markdown",
   "metadata": {},
   "source": [
    "# 1463\n",
    "## 문제\n",
    "정수 X에 사용할 수 있는 연산은 다음과 같이 세 가지 이다.\n",
    "\n",
    "X가 3으로 나누어 떨어지면, 3으로 나눈다.\n",
    "X가 2로 나누어 떨어지면, 2로 나눈다.\n",
    "1을 뺀다.\n",
    "정수 N이 주어졌을 때, 위와 같은 연산 세 개를 적절히 사용해서 1을 만들려고 한다. 연산을 사용하는 횟수의 최솟값을 출력하시오.\n",
    "\n",
    "## 입력\n",
    "첫째 줄에 1보다 크거나 같고, 106보다 작거나 같은 정수 N이 주어진다.\n",
    "\n",
    "## 출력\n",
    "첫째 줄에 연산을 하는 횟수의 최솟값을 출력한다."
   ]
  },
  {
   "cell_type": "code",
   "execution_count": 6,
   "metadata": {},
   "outputs": [
    {
     "name": "stdout",
     "output_type": "stream",
     "text": [
      "10\n",
      "3\n"
     ]
    }
   ],
   "source": [
    "a = int(input())\n",
    "cnt = 0\n",
    "mn = [a]\n",
    "\n",
    "def cal(a):\n",
    "    lst = []\n",
    "    for i in a:\n",
    "        lst.append(i-1)\n",
    "        if i%3 == 0:\n",
    "            lst.append(i/3)\n",
    "        if i%2 == 0:\n",
    "            lst.append(i/2)\n",
    "    return lst  \n",
    "\n",
    "while True:\n",
    "    if a == 1:\n",
    "        print(cnt)\n",
    "        break\n",
    "    temp = mn[:]\n",
    "    mn = cal(temp)\n",
    "    cnt += 1\n",
    "    if min(mn) == 1:\n",
    "        print(cnt)\n",
    "        break"
   ]
  },
  {
   "cell_type": "markdown",
   "metadata": {},
   "source": [
    "### 다른 방법"
   ]
  },
  {
   "cell_type": "code",
   "execution_count": 8,
   "metadata": {},
   "outputs": [
    {
     "name": "stdout",
     "output_type": "stream",
     "text": [
      "10\n",
      "3\n"
     ]
    }
   ],
   "source": [
    "X = int(input())\n",
    "\n",
    "dp = [X]\n",
    "cnt = 0\n",
    "\n",
    "while(True):\n",
    "    if(1 in dp):\n",
    "        print(cnt)\n",
    "        break\n",
    "    calc = []\n",
    "    for i in dp:\n",
    "        if(i % 2 == 0):\n",
    "            calc.append(i / 2)\n",
    "        if(i % 3 == 0):\n",
    "            calc.append(i / 3)\n",
    "        calc.append(i - 1)\n",
    "    dp = calc\n",
    "\n",
    "    cnt += 1"
   ]
  },
  {
   "cell_type": "code",
   "execution_count": null,
   "metadata": {},
   "outputs": [],
   "source": [
    "N = int(input())\n",
    "cnt = 0\n",
    "mn = [a]\n",
    "\n",
    "def cal(N):\n",
    "    lst = []\n",
    "    for i in N:\n",
    "        lst.append(i-1)\n",
    "        if i%3 == 0:\n",
    "            lst.append(i/3)\n",
    "        if i%2 == 0:\n",
    "            lst.append(i/2)  \n",
    "    return lst\n",
    "\n",
    "while True:\n",
    "    "
   ]
  }
 ],
 "metadata": {
  "kernelspec": {
   "display_name": "Python 3",
   "language": "python",
   "name": "python3"
  },
  "language_info": {
   "codemirror_mode": {
    "name": "ipython",
    "version": 3
   },
   "file_extension": ".py",
   "mimetype": "text/x-python",
   "name": "python",
   "nbconvert_exporter": "python",
   "pygments_lexer": "ipython3",
   "version": "3.7.4"
  }
 },
 "nbformat": 4,
 "nbformat_minor": 2
}
