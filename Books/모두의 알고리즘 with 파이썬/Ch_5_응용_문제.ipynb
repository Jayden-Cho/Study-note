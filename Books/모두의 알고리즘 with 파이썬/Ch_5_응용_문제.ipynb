{
  "nbformat": 4,
  "nbformat_minor": 0,
  "metadata": {
    "colab": {
      "name": "Ch 5 응용 문제",
      "provenance": [],
      "collapsed_sections": [
        "rOa7I3FBIWWo",
        "CfSKPhcuI6Gu",
        "BUDAb6e0Sq4V",
        "ll4cFeHuO-Gj",
        "PWhIynX6fDh-",
        "a-Rfy6JM4j7j",
        "N0CsV0SAwSzF",
        "PUauF9ZDxIbN",
        "bkrsiLJky8Z9",
        "VBdXCuk6zvas"
      ]
    },
    "kernelspec": {
      "name": "python3",
      "display_name": "Python 3"
    }
  },
  "cells": [
    {
      "cell_type": "markdown",
      "metadata": {
        "id": "rOa7I3FBIWWo",
        "colab_type": "text"
      },
      "source": [
        "# 문제 16 **미로 찾기 알고리즘**\n",
        "\n",
        "**미로의 형태와 출발점과 도착점이 주어졌을 때, 출발점에서 도착점까지 가기 위한 최다 경로를 찾는 알고리즘 만들기**"
      ]
    },
    {
      "cell_type": "markdown",
      "metadata": {
        "id": "CfSKPhcuI6Gu",
        "colab_type": "text"
      },
      "source": [
        "##### **문제 분석과 모델링**"
      ]
    },
    {
      "cell_type": "markdown",
      "metadata": {
        "id": "j0yrE85xI-AV",
        "colab_type": "text"
      },
      "source": [
        "사람에게는 쉬운 문제지만 컴퓨터에게는 아니다. 이 때 필요한 것이 모델링.\n",
        "- 주어진 현실의 문제를 정형화하거나 단순화하여 수학이나 컴퓨터 프로그램으로 쉽게 설명할 수 있도록 다시 표현하는 것.\n",
        "- 자연이나 사회현상을 사람의 언어로 표현한 문제를 컴퓨터가 쉽게 이해할 수 있도록 번역하는 절차."
      ]
    },
    {
      "cell_type": "markdown",
      "metadata": {
        "id": "ZCWgktQCJWFe",
        "colab_type": "text"
      },
      "source": [
        "미로를 풀려면 미로 안의 공간을 정형화해야 한다.\n",
        "- 먼저 이동 가능한 위치를 각각의 구역으로 나누고, 구역마다 알파벳으로 이름을 붙이자."
      ]
    },
    {
      "cell_type": "markdown",
      "metadata": {
        "id": "b5VY1v6TJh9e",
        "colab_type": "text"
      },
      "source": [
        "모델링해서 문제를 다시 적어보면 다음과 같다:\n",
        "- **출발점 a에서 시작해 벽으로 막히지 않은 위치를 차례로 이동해 도착점 p에 이르는 가장 짧은 경로를 구하고, 그 과정에서 지나간 위치의 이름을 출력하는 알고리즘 만들기**"
      ]
    },
    {
      "cell_type": "markdown",
      "metadata": {
        "id": "uQFqRKNtRtKs",
        "colab_type": "text"
      },
      "source": [
        "문제 15에서 풀었던 그래프 탐색 문제와 같다.\n",
        "- 위치 열여섯 개를 각각 꼭짓점으로 만들고, 각 위치에서 벽으로 막히지 않아 이동할 수 있는 이웃한 위치를 모두 선으로 연결하면 미로 정보가 그래프로 만들어진다."
      ]
    },
    {
      "cell_type": "code",
      "metadata": {
        "id": "AcQKKoFgINC4",
        "colab_type": "code",
        "colab": {}
      },
      "source": [
        "# 미로 정보\n",
        "# 미로의 각 위치에 알파벳으로 이름을 지정\n",
        "# 각 위치에서 한 번에 이동할 수 있는 모든 위치를 선으로 연결해 그래프로 표현.\n",
        "\n",
        "maze = {\n",
        "    'a': ['e'],\n",
        "    'b': ['c', 'f'],\n",
        "    'c': ['b', 'd'],\n",
        "    'd': ['c'],\n",
        "    'e': ['a', 'i'],\n",
        "    'f': ['b', 'g', 'j'],\n",
        "    'g': ['f', 'h'],\n",
        "    'h': ['g', 'l'],\n",
        "    'i': ['e', 'm'],\n",
        "    'j': ['f', 'k', 'n'],\n",
        "    'k': ['j', 'o'],\n",
        "    'l': ['h', 'p'],\n",
        "    'm': ['i', 'n'],\n",
        "    'n': ['m', 'j'],\n",
        "    'o': ['k'],\n",
        "    'p': ['l']\n",
        "}"
      ],
      "execution_count": 0,
      "outputs": []
    },
    {
      "cell_type": "markdown",
      "metadata": {
        "id": "BUDAb6e0Sq4V",
        "colab_type": "text"
      },
      "source": [
        "##### **미로 찾기 알고리즘**"
      ]
    },
    {
      "cell_type": "markdown",
      "metadata": {
        "id": "JcLAMkvwSubc",
        "colab_type": "text"
      },
      "source": [
        "그림으로 주어진 미로 문제가 모델링을 통해 그래프가 되고, 그 그래프가 파이썬 언어가 이해할 수 있는 딕셔너리로 표현되었다."
      ]
    },
    {
      "cell_type": "code",
      "metadata": {
        "id": "RCpN4uttSoGn",
        "colab_type": "code",
        "outputId": "0f8cae65-26b1-420f-b0db-874f24f312b6",
        "colab": {
          "base_uri": "https://localhost:8080/",
          "height": 35
        }
      },
      "source": [
        "# 미로 찾기 프로그램\n",
        "# 입력: 미로 정보 g, 출발점 start, 도착점 end\n",
        "# 출력: 미로를 나가기 위한 이동 경로는 문자열, 나갈 수 없는 미로면 물음표(\"?\")\n",
        "\n",
        "def solve_maze(g, start, end):\n",
        "  qu = []  # 기억 장소 1: 앞으로 처리해야 할 이동 경로를 큐에 저장\n",
        "  done = set()  # 기억 장소 2: 이미 큐에 추가한 꼭짓점들을 집합에 기록(중복 방지)\n",
        "\n",
        "  qu.append(start)  # 출발점을 큐에 넣고 시작\n",
        "  done.add(start)  # 집합에도 추가\n",
        "\n",
        "  while qu:  # 큐에 처리할 경로가 남아 있다면\n",
        "    p = qu.pop(0)  # 큐에서 처리 대상을 꺼냄.\n",
        "    v = p[-1]  # 큐에 저장된 이동 경로의 마지막 문자가 현재 처리해야 할 꼭짓점\n",
        "    if v == end:  # 처리해야 할 꼭짓점이 도착점이면(목적지 도착)\n",
        "      return p  # 지금까지의 전체 이동 경로를 돌려주고 종료\n",
        "    for x in g[v]:  # 대상 꼭짓점에 연결된 꼭짓점들 중에\n",
        "      if x not in done:  # 아직 큐에 추가된 적이 없는 꼭짓점을\n",
        "        qu.append(p+x)  # 이동 경로에 새 꼭짓점으로 추가해 큐에 저장하고\n",
        "        done.add(x)  # 집합에도 추가.\n",
        "\n",
        "  # 탐색을 마칠 때까지 도착점이 나오지 않으면 나갈 수 없는 미로.\n",
        "  return \"?\"\n",
        "\n",
        "# 미로 정보\n",
        "# 미로의 각 위치에 알파벳으로 이름을 지정\n",
        "# 각 위치에서 한 번에 이동할 수 있는 모든 위치를 선으로 연결해 그래프로 표현.\n",
        "\n",
        "maze = {\n",
        "    'a': ['e'],\n",
        "    'b': ['c', 'f'],\n",
        "    'c': ['b', 'd'],\n",
        "    'd': ['c'],\n",
        "    'e': ['a', 'i'],\n",
        "    'f': ['b', 'g', 'j'],\n",
        "    'g': ['f', 'h'],\n",
        "    'h': ['g', 'l'],\n",
        "    'i': ['e', 'm'],\n",
        "    'j': ['f', 'k', 'n'],\n",
        "    'k': ['j', 'o'],\n",
        "    'l': ['h', 'p'],\n",
        "    'm': ['i', 'n'],\n",
        "    'n': ['m', 'j'],\n",
        "    'o': ['k'],\n",
        "    'p': ['l']\n",
        "}\n",
        "\n",
        "print(solve_maze(maze, 'a', 'p'))"
      ],
      "execution_count": 0,
      "outputs": [
        {
          "output_type": "stream",
          "text": [
            "aeimnjfghlp\n"
          ],
          "name": "stdout"
        }
      ]
    },
    {
      "cell_type": "markdown",
      "metadata": {
        "id": "ll4cFeHuO-Gj",
        "colab_type": "text"
      },
      "source": [
        "# 문제 17 **가짜 동전 찾기**\n",
        "\n",
        "**겉보기에는 같은 동전이 n개가 있다. 이중에 한 개는 싸고 가벼운 재료로 만들어진 가짜 동전이다. 좌우 무게를 비교할 수 있는 양팔 저울을 이용해 다른 종전보다 가벼운 가짜 동전을 찾아내는 알고리즘을 만들기**"
      ]
    },
    {
      "cell_type": "markdown",
      "metadata": {
        "id": "PWhIynX6fDh-",
        "colab_type": "text"
      },
      "source": [
        "##### **방법 1: 하나씩 비교하기**"
      ]
    },
    {
      "cell_type": "code",
      "metadata": {
        "id": "QKWN6IwTPBVT",
        "colab_type": "code",
        "outputId": "2d3fb799-61b4-4f23-f5c5-b3ddd0e4ac8d",
        "colab": {
          "base_uri": "https://localhost:8080/",
          "height": 35
        }
      },
      "source": [
        "# 주어진 동전 n개 중에 가짜 동전(fake)을 찾아내는 알고리즘\n",
        "# 입력: 전체 동전 위치의 시작과 끝(0, n-1)\n",
        "# 출력: 가짜 동전의 위치 번호\n",
        "\n",
        "# 무게 재기 함수\n",
        "# a에서 b까지에 놓인 동전과 c에서 d까지에 놓인 동전의 무게를 비교.\n",
        "# a에서 b까지에 가짜 동전이 있으면 -1\n",
        "# c에서 d까지에 가짜 동전이 있으면 1\n",
        "# 가짜 동전이 없으면 0\n",
        "def weigh(a, b, c, d):\n",
        "  fake = 29  # 가짜 동전의 위치(알고리즘은 weigh() 함수를 이용해 이 값을 맞혀야 함)\n",
        "  if a <= fake and fake <= b:\n",
        "    return -1\n",
        "  if c <= fake and fake <= d:\n",
        "    return 1\n",
        "  return 0\n",
        "\n",
        "# weigh() 함수(저울질)를 이용하여\n",
        "# left에서 right까지 놓인 가짜 동전의 위치를 찾아냄\n",
        "def find_fakecoin(left, right):\n",
        "  for i in range(left+1, right+1):  # left+1부터 right까지 반복\n",
        "    # 가장 왼쪽 동전과 나머지 동전을 차례로 비교\n",
        "    result = weigh(left, left, i , i)\n",
        "    if result == -1:  # left 동전이 가벼움(left 동전이 가짜)\n",
        "      return left\n",
        "    elif result == 1:  # i 동전이 가벼움(i 동전이 가짜)\n",
        "      return i\n",
        "    # 두 동전의 무게 같으면 다음 동전으로\n",
        "  \n",
        "  # 모든 동전의 무게가 같으면 가짜 동전이 없는 예외 경우\n",
        "  return -1\n",
        "\n",
        "n = 100  # 전체 동전 개수\n",
        "print(find_fakecoin(0, n-1))"
      ],
      "execution_count": 0,
      "outputs": [
        {
          "output_type": "stream",
          "text": [
            "29\n"
          ],
          "name": "stdout"
        }
      ]
    },
    {
      "cell_type": "markdown",
      "metadata": {
        "id": "a-Rfy6JM4j7j",
        "colab_type": "text"
      },
      "source": [
        "##### **방법 2: 반씩 그룹으로 나눠 비교하기**"
      ]
    },
    {
      "cell_type": "code",
      "metadata": {
        "id": "bIDpy5bnScfT",
        "colab_type": "code",
        "colab": {}
      },
      "source": [
        "# 주어진 동전 n개 중에 가짜 동전(fake)을 찾아내는 알고리즘\n",
        "# 입력: 전체 동전 위치의 시작과 끝(0, n-1)\n",
        "# 출력: 가짜 동전의 위치 번호\n",
        "\n",
        "# 무게 재기 함수\n",
        "# a에서 b까지에 놓인 동전과 c에서 d까지에 놓인 동전의 무게를 비교\n",
        "# a에서 b까지에 가짜 동전이 있으면 -1 c에서 d까지에 가짜 동전이 있으면 1\n",
        "# 가짜 동전이 없으면 0\n",
        "def weigh(a, b, c, d):\n",
        "  fake = 29  # 가짜 동전의 위치(알고리즘은 weigh() 함수를 이용해 이 값을 맞혀야 함)\n",
        "  if a <= fake and fake <= b:\n",
        "    return -1\n",
        "  if c <= fake and fake <= d: \n",
        "    return 1\n",
        "  return 0\n",
        "\n",
        "# weigh() 함수(저울질)를 이용해\n",
        "# left에서 right까지에 놓인 가짜 동전의 위치를 찾아냄\n",
        "def find_fakecoin(left, right):\n",
        "  # 종료 조건: 가짜 동전이 있을 범위 안에 동전이 한 개뿐이면 그 동전이 가짜 동전\n",
        "  if left == right:\n",
        "    return left\n",
        "  # left에서 right까지에 놓인 동전을 두 그룹(g1_left~g1_right, g2_left~g2_right)으로 나눔\n",
        "  # 동전 수가 홀수면 두 그룹으로 나누고 한 개가 남음\n",
        "  half = (right-left+1) // 2\n",
        "  g1_left = left\n",
        "  g1_right = left + half - 1\n",
        "  g2_left = left + half\n",
        "  g2_right = g2_left + half - 1\n",
        "  # 나눠진 두 그룹을 weight() 함수를 이용해 저울질함\n",
        "  result = weigh(g1_left, g1_right, g2_left, g2_right)\n",
        "  if result == -1:  # 그룹 1이 가벼움(가짜 동전이 이 그룹에 있음)\n",
        "    # 그룹 1 범위를 재귀 호출로 다시 조사\n",
        "    return find_fakecoin(g1_left, g1_right)\n",
        "  elif result == 1:  # 그룹 2가 가벼움\n",
        "    # 그룹 2 범위를 재귀 호출로 다시 조사\n",
        "    return find_fakecoin(g2_left, g2_right)\n",
        "  else:  # 두 그룹의 무게가 같으면\n",
        "    return right  # 두 그룹으로 나뉘지 않고 남은 나머지 한 개의 동전이 가짜 동전.\n",
        "\n",
        "n = 100\n",
        "print(find_fakecoin(0, n-1))"
      ],
      "execution_count": 0,
      "outputs": []
    },
    {
      "cell_type": "markdown",
      "metadata": {
        "id": "N0CsV0SAwSzF",
        "colab_type": "text"
      },
      "source": [
        "# 문제 18 **최대 수익 알고리즘**\n",
        "\n",
        "**어떤 주식에 대해 특정 기간 동안의 가격 변화가 주어졌을 때, 그 주식 한 주를 한 번 사고 팔아 얻을 수 있는 최대 수익을 계산하는 알고리즘 만들기**"
      ]
    },
    {
      "cell_type": "markdown",
      "metadata": {
        "id": "UOHqi9IN1Nrl",
        "colab_type": "text"
      },
      "source": [
        "어떤 주식의 가격이 10일 동안 아래와 같이 변했다고 가정하자. 이 주식 한 주를 팔아서 얻을 수 있는 최대 수익은?\n",
        "- 손해가 난다면 매매할 필요 없다. 따라서 최대 수익은 항상 0 이상이다.\n",
        "- 얻을 수 있는 최대 수익만 궁금하므로 날짜 정보는 생략해도 된다."
      ]
    },
    {
      "cell_type": "code",
      "metadata": {
        "id": "pzp0pkodweND",
        "colab_type": "code",
        "colab": {}
      },
      "source": [
        "stock = [10300, 9600, 9800, 8200, 7800, 9500, 9800, 10200, 9500]"
      ],
      "execution_count": 0,
      "outputs": []
    },
    {
      "cell_type": "markdown",
      "metadata": {
        "id": "PUauF9ZDxIbN",
        "colab_type": "text"
      },
      "source": [
        "##### **방법 1: 가능한 모든 경우를 비교하기**"
      ]
    },
    {
      "cell_type": "markdown",
      "metadata": {
        "id": "-CIcvL1G2NWe",
        "colab_type": "text"
      },
      "source": [
        "가장 간단한 방법은 매매, 매도 가능한 주가를 비교해 가장 큰 수익을 찾는 것.\n",
        "- 첫째 날에 매매했다면 둘째 날부터 매도, 마찬가지로 둘째 날에 매매했다면 셋째 날부터 매도.\n",
        "- 문제 3 동명이인 찾기와 유사한 문제."
      ]
    },
    {
      "cell_type": "code",
      "metadata": {
        "id": "aEuCg95YZK_S",
        "colab_type": "code",
        "colab": {
          "base_uri": "https://localhost:8080/",
          "height": 34
        },
        "outputId": "f9ca351c-4c9f-474e-9eda-8303e3e032f9"
      },
      "source": [
        "# 주어진 주식 가격을 보고 얻을 수 있는 최대 수익을 구하는 알고리즘\n",
        "# 입력: 주식 가격의 변화 값(리스트: prices)\n",
        "# 출력: 한 주를 한 번 사고팔아 얻을 수 있는 최대 수의 값\n",
        "def max_profit(prices):\n",
        "  n = len(prices)\n",
        "  max_profit = 0  # 최대 수익은 항상 0 이상의 값\n",
        "\n",
        "  for i in range(0, n-1):\n",
        "    for j in range(i+1, n):\n",
        "      # i날에 사서 j날에 팔았을 때 얻을 수 있는 수익\n",
        "      profit = prices[j] - prices[i]\n",
        "      # 이 수익이 지금까지 최대 수익보다 크면 값을 고침\n",
        "      if profit > max_profit:\n",
        "        max_profit = profit\n",
        "  return max_profit\n",
        "\n",
        "print(max_profit(stock))"
      ],
      "execution_count": 5,
      "outputs": [
        {
          "output_type": "stream",
          "text": [
            "2400\n"
          ],
          "name": "stdout"
        }
      ]
    },
    {
      "cell_type": "markdown",
      "metadata": {
        "id": "bkrsiLJky8Z9",
        "colab_type": "text"
      },
      "source": [
        "##### **방법 2: 한 번 반복으로 최대 수익 찾기**"
      ]
    },
    {
      "cell_type": "markdown",
      "metadata": {
        "id": "YD4g1IXDaQvt",
        "colab_type": "text"
      },
      "source": [
        "위 방법은 간단하고 직관적이지만, 불필요한 반복이 포함되어 있다.\n",
        "- 방법 2는 파는 날을 중심으로. 오늘 주식을 매도했다고 가정했을 때, 얻을 수 있는 최고 수익은 지난 주가 중 가장 낮았던 날에 매수한 날."
      ]
    },
    {
      "cell_type": "markdown",
      "metadata": {
        "id": "Vu4GhRxFaljS",
        "colab_type": "text"
      },
      "source": [
        "정리해보자면:\n",
        "1. 최대 수익을 저장하는 변수를 만들고 0을 저장한다.\n",
        "2. 지금까지의 최저 주가를 저장하는 변수를 만들고 첫째 날의 주가를 기록한다.\n",
        "3. 둘째 날의 주가부터 마지막 날의 주가까지 반복한다.\n",
        "4. 반복하는 동안 그날의 주가에서 최저 주가를 뺀 값이 현재 최대 수익보다 크면 최대 수익 값을 그 값으로 고친다.\n",
        "5. 그날의 주가가 최저 주가보다 낮으면 최저 주가 값을 그날의 주가로 고친다.\n",
        "6. 처리할 날이 남았으면 4번 과정으로 돌아가 반복하고, 다 마쳤으면 최대 수익에 저장된 값을 결괏값으로 돌려주고 종료한다."
      ]
    },
    {
      "cell_type": "code",
      "metadata": {
        "id": "H1ESYUNBax-u",
        "colab_type": "code",
        "colab": {
          "base_uri": "https://localhost:8080/",
          "height": 34
        },
        "outputId": "73c5e149-dd82-4b9a-ae74-3b7ae7e6dc64"
      },
      "source": [
        "# 주어진 주식 가격을 보고 얻을 수 있는 최대 수익을 구하는 알고리즘\n",
        "# 입력: 주식 가격의 변화 값(리스트: prices)\n",
        "# 출력: 한 주를 한 번 사고팔아 얻을 수 있는 최대 수익 값\n",
        "\n",
        "def max_profit(prices):\n",
        "  n = len(prices)\n",
        "  max_profit = 0\n",
        "  min_price = prices[0]  # 첫째 날의 주가를 주가의 최솟값으로 기억\n",
        "\n",
        "  for i in range(1, n):\n",
        "    # 지금까지의 최솟값에 주식을 사서 i날에 팔 떄의 수익\n",
        "    profit = prices[i] - min_price\n",
        "    if profit > max_profit:\n",
        "      max_profit = profit\n",
        "    if min_price > prices[i]:\n",
        "      min_price = prices[i]\n",
        "  \n",
        "  return max_profit\n",
        "\n",
        "print(max_profit(stock))"
      ],
      "execution_count": 12,
      "outputs": [
        {
          "output_type": "stream",
          "text": [
            "2400\n"
          ],
          "name": "stdout"
        }
      ]
    },
    {
      "cell_type": "markdown",
      "metadata": {
        "id": "VBdXCuk6zvas",
        "colab_type": "text"
      },
      "source": [
        "##### **알고리즘 분석**"
      ]
    },
    {
      "cell_type": "markdown",
      "metadata": {
        "id": "UvFnFZGkiXRy",
        "colab_type": "text"
      },
      "source": [
        "첫 번째 알고리즘의 계산 복잡도는 $O(n^2)$. 두 번째 알고리즘의 계산 복잡도는 $O(n)$.\n",
        "- 두 알고리즘의 수행 시간을 비교해보자."
      ]
    },
    {
      "cell_type": "code",
      "metadata": {
        "id": "QRy-n4xzzmgG",
        "colab_type": "code",
        "outputId": "877acb30-fe66-4f24-959c-34528b7272a3",
        "colab": {
          "base_uri": "https://localhost:8080/",
          "height": 0
        }
      },
      "source": [
        "import time\n",
        "import random\n",
        "\n",
        "def max_profit_slow(prices):\n",
        "  n = len(prices)\n",
        "  max_profit = 0\n",
        "\n",
        "  for i in range(0, n-1):\n",
        "    for j in range(i+1, n):\n",
        "      profit = prices[j] - prices[i]\n",
        "      if profit > max_profit:\n",
        "        max_profit = profit\n",
        "  return max_profit\n",
        "\n",
        "def max_profit_fast(prices):\n",
        "  n = len(prices)\n",
        "  max_profit = 0\n",
        "  min_price = prices[0]\n",
        "\n",
        "  for i in range(1, n):\n",
        "    profit = prices[i] - min_price\n",
        "    if profit > max_profit:\n",
        "      max_profit = profit\n",
        "    if prices[i] < min_price:\n",
        "      min_price = prices[i]\n",
        "\n",
        "  return max_profit\n",
        "\n",
        "def test(n):\n",
        "  a = []\n",
        "  for i in range(0, n):\n",
        "    a.append(random.randint(5000, 20000))\n",
        "  start = time.time()\n",
        "  mps = max_profit_slow(a)\n",
        "  end = time.time()\n",
        "  time_slow = end - start\n",
        "\n",
        "  start = time.time()\n",
        "  mpf = max_profit_fast(a)\n",
        "  end = time.time()\n",
        "  time_fast = end - start\n",
        "\n",
        "  print(n, mps, mpf)\n",
        "\n",
        "  m = 0\n",
        "  if time_fast > 0:\n",
        "    m = time_slow / time_fast\n",
        "  print(\"%d %.5f %.5f %.2f\" % (n, time_slow, time_fast, m))\n",
        "\n",
        "test(100)\n",
        "test(10000)"
      ],
      "execution_count": 13,
      "outputs": [
        {
          "output_type": "stream",
          "text": [
            "100 14907 14907\n",
            "100 0.00056 0.00001 41.95\n",
            "10000 14994 14994\n",
            "10000 5.33470 0.00125 4282.37\n"
          ],
          "name": "stdout"
        }
      ]
    }
  ]
}