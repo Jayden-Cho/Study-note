{
  "nbformat": 4,
  "nbformat_minor": 0,
  "metadata": {
    "colab": {
      "name": "Ch 5 응용 문제",
      "provenance": [],
      "collapsed_sections": [
        "rOa7I3FBIWWo",
        "CfSKPhcuI6Gu",
        "BUDAb6e0Sq4V"
      ]
    },
    "kernelspec": {
      "name": "python3",
      "display_name": "Python 3"
    }
  },
  "cells": [
    {
      "cell_type": "markdown",
      "metadata": {
        "id": "rOa7I3FBIWWo",
        "colab_type": "text"
      },
      "source": [
        "# 문제 16 **미로 찾기 알고리즘**\n",
        "\n",
        "**미로의 형태와 출발점과 도착점이 주어졌을 때, 출발점에서 도착점까지 가기 위한 최다 경로를 찾는 알고리즘 만들기**"
      ]
    },
    {
      "cell_type": "markdown",
      "metadata": {
        "id": "CfSKPhcuI6Gu",
        "colab_type": "text"
      },
      "source": [
        "##### **문제 분석과 모델링**"
      ]
    },
    {
      "cell_type": "markdown",
      "metadata": {
        "id": "j0yrE85xI-AV",
        "colab_type": "text"
      },
      "source": [
        "사람에게는 쉬운 문제지만 컴퓨터에게는 아니다. 이 때 필요한 것이 모델링.\n",
        "- 주어진 현실의 문제를 정형화하거나 단순화하여 수학이나 컴퓨터 프로그램으로 쉽게 설명할 수 있도록 다시 표현하는 것.\n",
        "- 자연이나 사회현상을 사람의 언어로 표현한 문제를 컴퓨터가 쉽게 이해할 수 있도록 번역하는 절차."
      ]
    },
    {
      "cell_type": "markdown",
      "metadata": {
        "id": "ZCWgktQCJWFe",
        "colab_type": "text"
      },
      "source": [
        "미로를 풀려면 미로 안의 공간을 정형화해야 한다.\n",
        "- 먼저 이동 가능한 위치를 각각의 구역으로 나누고, 구역마다 알파벳으로 이름을 붙이자."
      ]
    },
    {
      "cell_type": "markdown",
      "metadata": {
        "id": "b5VY1v6TJh9e",
        "colab_type": "text"
      },
      "source": [
        "모델링해서 문제를 다시 적어보면 다음과 같다:\n",
        "- **출발점 a에서 시작해 벽으로 막히지 않은 위치를 차례로 이동해 도착점 p에 이르는 가장 짧은 경로를 구하고, 그 과정에서 지나간 위치의 이름을 출력하는 알고리즘 만들기**"
      ]
    },
    {
      "cell_type": "markdown",
      "metadata": {
        "id": "uQFqRKNtRtKs",
        "colab_type": "text"
      },
      "source": [
        "문제 15에서 풀었던 그래프 탐색 문제와 같다.\n",
        "- 위치 열여섯 개를 각각 꼭짓점으로 만들고, 각 위치에서 벽으로 막히지 않아 이동할 수 있는 이웃한 위치를 모두 선으로 연결하면 미로 정보가 그래프로 만들어진다."
      ]
    },
    {
      "cell_type": "code",
      "metadata": {
        "id": "AcQKKoFgINC4",
        "colab_type": "code",
        "colab": {}
      },
      "source": [
        "# 미로 정보\n",
        "# 미로의 각 위치에 알파벳으로 이름을 지정\n",
        "# 각 위치에서 한 번에 이동할 수 있는 모든 위치를 선으로 연결해 그래프로 표현.\n",
        "\n",
        "maze = {\n",
        "    'a': ['e'],\n",
        "    'b': ['c', 'f'],\n",
        "    'c': ['b', 'd'],\n",
        "    'd': ['c'],\n",
        "    'e': ['a', 'i'],\n",
        "    'f': ['b', 'g', 'j'],\n",
        "    'g': ['f', 'h'],\n",
        "    'h': ['g', 'l'],\n",
        "    'i': ['e', 'm'],\n",
        "    'j': ['f', 'k', 'n'],\n",
        "    'k': ['j', 'o'],\n",
        "    'l': ['h', 'p'],\n",
        "    'm': ['i', 'n'],\n",
        "    'n': ['m', 'j'],\n",
        "    'o': ['k'],\n",
        "    'p': ['l']\n",
        "}"
      ],
      "execution_count": 0,
      "outputs": []
    },
    {
      "cell_type": "markdown",
      "metadata": {
        "id": "BUDAb6e0Sq4V",
        "colab_type": "text"
      },
      "source": [
        "##### **미로 찾기 알고리즘**"
      ]
    },
    {
      "cell_type": "markdown",
      "metadata": {
        "id": "JcLAMkvwSubc",
        "colab_type": "text"
      },
      "source": [
        "그림으로 주어진 미로 문제가 모델링을 통해 그래프가 되고, 그 그래프가 파이썬 언어가 이해할 수 있는 딕셔너리로 표현되었다."
      ]
    },
    {
      "cell_type": "code",
      "metadata": {
        "id": "RCpN4uttSoGn",
        "colab_type": "code",
        "outputId": "0f8cae65-26b1-420f-b0db-874f24f312b6",
        "colab": {
          "base_uri": "https://localhost:8080/",
          "height": 35
        }
      },
      "source": [
        "# 미로 찾기 프로그램\n",
        "# 입력: 미로 정보 g, 출발점 start, 도착점 end\n",
        "# 출력: 미로를 나가기 위한 이동 경로는 문자열, 나갈 수 없는 미로면 물음표(\"?\")\n",
        "\n",
        "def solve_maze(g, start, end):\n",
        "  qu = []  # 기억 장소 1: 앞으로 처리해야 할 이동 경로를 큐에 저장\n",
        "  done = set()  # 기억 장소 2: 이미 큐에 추가한 꼭짓점들을 집합에 기록(중복 방지)\n",
        "\n",
        "  qu.append(start)  # 출발점을 큐에 넣고 시작\n",
        "  done.add(start)  # 집합에도 추가\n",
        "\n",
        "  while qu:  # 큐에 처리할 경로가 남아 있다면\n",
        "    p = qu.pop(0)  # 큐에서 처리 대상을 꺼냄.\n",
        "    v = p[-1]  # 큐에 저장된 이동 경로의 마지막 문자가 현재 처리해야 할 꼭짓점\n",
        "    if v == end:  # 처리해야 할 꼭짓점이 도착점이면(목적지 도착)\n",
        "      return p  # 지금까지의 전체 이동 경로를 돌려주고 종료\n",
        "    for x in g[v]:  # 대상 꼭짓점에 연결된 꼭짓점들 중에\n",
        "      if x not in done:  # 아직 큐에 추가된 적이 없는 꼭짓점을\n",
        "        qu.append(p+x)  # 이동 경로에 새 꼭짓점으로 추가해 큐에 저장하고\n",
        "        done.add(x)  # 집합에도 추가.\n",
        "\n",
        "  # 탐색을 마칠 때까지 도착점이 나오지 않으면 나갈 수 없는 미로.\n",
        "  return \"?\"\n",
        "\n",
        "# 미로 정보\n",
        "# 미로의 각 위치에 알파벳으로 이름을 지정\n",
        "# 각 위치에서 한 번에 이동할 수 있는 모든 위치를 선으로 연결해 그래프로 표현.\n",
        "\n",
        "maze = {\n",
        "    'a': ['e'],\n",
        "    'b': ['c', 'f'],\n",
        "    'c': ['b', 'd'],\n",
        "    'd': ['c'],\n",
        "    'e': ['a', 'i'],\n",
        "    'f': ['b', 'g', 'j'],\n",
        "    'g': ['f', 'h'],\n",
        "    'h': ['g', 'l'],\n",
        "    'i': ['e', 'm'],\n",
        "    'j': ['f', 'k', 'n'],\n",
        "    'k': ['j', 'o'],\n",
        "    'l': ['h', 'p'],\n",
        "    'm': ['i', 'n'],\n",
        "    'n': ['m', 'j'],\n",
        "    'o': ['k'],\n",
        "    'p': ['l']\n",
        "}\n",
        "\n",
        "print(solve_maze(maze, 'a', 'p'))"
      ],
      "execution_count": 0,
      "outputs": [
        {
          "output_type": "stream",
          "text": [
            "aeimnjfghlp\n"
          ],
          "name": "stdout"
        }
      ]
    }
  ]
}