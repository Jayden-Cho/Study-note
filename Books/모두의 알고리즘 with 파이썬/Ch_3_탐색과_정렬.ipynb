{
  "nbformat": 4,
  "nbformat_minor": 0,
  "metadata": {
    "colab": {
      "name": "Ch 3 탐색과 정렬",
      "provenance": [],
      "collapsed_sections": [
        "spwdKkcLG8WG",
        "wt7esVcvHIV-",
        "bKfHm3qnIT3S",
        "4ScAJr-tJNsz",
        "A5Rq1kyB-JBD",
        "mQnr9XU5JzgZ",
        "mF3hhSf-Le3h",
        "5d3MvnmZOB6j",
        "oceXCkGCJs1h",
        "k0JdhMB4O12o",
        "SSwwBIKoUcLs",
        "rtEyQ2b3iozU",
        "_yo5HNb5PviW",
        "OqXEfOwHO4nB",
        "pFSv1UQOnvG7",
        "ypFAbPuDn0C2",
        "43KlXywzn5au",
        "Dtr_lYGzo4VE",
        "q_TYrnSyo8r5",
        "jTa-Pbfgpuc8",
        "PSoIiZI66xwf",
        "Yh1bwhoaFd2V"
      ]
    },
    "kernelspec": {
      "name": "python3",
      "display_name": "Python 3"
    }
  },
  "cells": [
    {
      "cell_type": "markdown",
      "metadata": {
        "id": "spwdKkcLG8WG",
        "colab_type": "text"
      },
      "source": [
        "## 문제 07 **순차 탐색**\n",
        "\n",
        "**주어진 리스트에 특정한 값이 있는지 찾아 위치를 돌려주는 알고리즘 만들기**"
      ]
    },
    {
      "cell_type": "markdown",
      "metadata": {
        "id": "wt7esVcvHIV-",
        "colab_type": "text"
      },
      "source": [
        "##### **순차 탐색으로 특정 값의 위치 찾기**"
      ]
    },
    {
      "cell_type": "markdown",
      "metadata": {
        "id": "Tq5gEW1EHO4m",
        "colab_type": "text"
      },
      "source": [
        "아래는 순차 탐색 알고리즘을 이용해 주어진 리스트에서 특정 갑슬 찾아 위치 번호를 돌려 주는 프로그램이다."
      ]
    },
    {
      "cell_type": "code",
      "metadata": {
        "id": "BB8HNt04DQkk",
        "colab_type": "code",
        "outputId": "471870a7-021b-40c6-8a83-21b6ccda9c09",
        "colab": {
          "base_uri": "https://localhost:8080/",
          "height": 71
        }
      },
      "source": [
        "# 리스트에서 특정 숫자의 위치 찾기\n",
        "# 입력: 리스트 a, 찾는 값 x\n",
        "# 출력: 찾으면 그 값의 위치, 찾지 못하면 -1\n",
        "\n",
        "def search_list(a, x):\n",
        "  n = len(a)\n",
        "  for i in range(0, n):\n",
        "    if x == a[i]:\n",
        "      return i\n",
        "  return -1\n",
        "\n",
        "v = [17, 92, 18, 33, 58, 7, 33, 42]\n",
        "print(search_list(v,18))\n",
        "print(search_list(v, 33))\n",
        "print(search_list(v, 900))"
      ],
      "execution_count": 0,
      "outputs": [
        {
          "output_type": "stream",
          "text": [
            "2\n",
            "3\n",
            "-1\n"
          ],
          "name": "stdout"
        }
      ]
    },
    {
      "cell_type": "markdown",
      "metadata": {
        "id": "bKfHm3qnIT3S",
        "colab_type": "text"
      },
      "source": [
        "##### **알고리즘 분석**"
      ]
    },
    {
      "cell_type": "markdown",
      "metadata": {
        "id": "voO-SATrIW3W",
        "colab_type": "text"
      },
      "source": [
        "순차 탐색 알고리즘에서 원하는 값을 얻으려면 계산(비교)을 얼마나 해야 할까?\n",
        "- 경우에 따라 다르다. 원하는 값이 앞에 있다면 한 번의 계산으로 끝나지만, 리스트에 없거나 마지막에 위치해 있다면 리스트 길이만큼 계산해야 한다."
      ]
    },
    {
      "cell_type": "markdown",
      "metadata": {
        "id": "qhrfFA5bI1Nt",
        "colab_type": "text"
      },
      "source": [
        "이처럼 계산 횟수가 경우에 따라 다르다면 보통 최악의 경우를 분석한다.\n",
        "- 길이가 n인 리스트를 순차 탐색한다면 최악의 경우의 계산 복잡도는 $O(n)$이다."
      ]
    },
    {
      "cell_type": "markdown",
      "metadata": {
        "id": "4ScAJr-tJNsz",
        "colab_type": "text"
      },
      "source": [
        "##### **연습 문제**"
      ]
    },
    {
      "cell_type": "code",
      "metadata": {
        "id": "J-dOGYUdIITD",
        "colab_type": "code",
        "outputId": "f532288d-de44-4271-e41d-37e971442183",
        "colab": {
          "base_uri": "https://localhost:8080/",
          "height": 35
        }
      },
      "source": [
        "# 7-1. 찾는 값이 나오는 모든 위치를 리스트로 돌려주는 탐색 알고리즘 만들기.\n",
        "def search_list(a, x):\n",
        "  lst = []\n",
        "  lst_len = len(a)\n",
        "  for i in range(lst_len):\n",
        "    if x == a[i]:\n",
        "      lst.append(i)\n",
        "      \n",
        "  return lst\n",
        "\n",
        "v = [1,2, 3, 4, 5, 6, 5, 4, 3, 2, 1]\n",
        "print(search_list(v, 2))"
      ],
      "execution_count": 0,
      "outputs": [
        {
          "output_type": "stream",
          "text": [
            "[1, 9]\n"
          ],
          "name": "stdout"
        }
      ]
    },
    {
      "cell_type": "code",
      "metadata": {
        "id": "uSvHeWZaKF-q",
        "colab_type": "code",
        "colab": {}
      },
      "source": [
        "# 7-2. 연습 문제 7-1 프로그램은 계산 복잡도는?\n",
        "\n",
        "# 기존의 순차 탐색 알고리즘과 동일. O(n)."
      ],
      "execution_count": 0,
      "outputs": []
    },
    {
      "cell_type": "code",
      "metadata": {
        "id": "sAtEwOF8J0Ey",
        "colab_type": "code",
        "outputId": "47fac47c-fbd8-4b58-931a-fd2d4838d44b",
        "colab": {
          "base_uri": "https://localhost:8080/",
          "height": 53
        }
      },
      "source": [
        "# 7-3. \n",
        "def search_name(no_list, name_list, n):\n",
        "  lst_len = len(no_list)\n",
        "  for i in range(0, lst_len):\n",
        "    if n == no_list[i]:\n",
        "      return name_list[i]\n",
        "      \n",
        "  return \"?\"\n",
        "\n",
        "stu_no = [39, 14, 67, 105]\n",
        "stu_name = ['Justin', 'John', 'Mike', 'Summer']\n",
        "print(search_name(stu_no, stu_name, 39))\n",
        "print(search_name(stu_no, stu_name, 1))"
      ],
      "execution_count": 0,
      "outputs": [
        {
          "output_type": "stream",
          "text": [
            "Justin\n",
            "?\n"
          ],
          "name": "stdout"
        }
      ]
    },
    {
      "cell_type": "markdown",
      "metadata": {
        "id": "A5Rq1kyB-JBD",
        "colab_type": "text"
      },
      "source": [
        "# 문제 08 **선택 정렬**\n",
        "\n",
        "**주어진 리스트 안의 자료를 작은 수부터 큰 수 순서로 배열하는 정렬 알고리즘 만들기**"
      ]
    },
    {
      "cell_type": "markdown",
      "metadata": {
        "id": "mQnr9XU5JzgZ",
        "colab_type": "text"
      },
      "source": [
        "##### **쉽게 설명한 선택 정렬 알고리즘**"
      ]
    },
    {
      "cell_type": "code",
      "metadata": {
        "id": "a87hRf5OJhjZ",
        "colab_type": "code",
        "outputId": "7b9fb3e7-61dd-4553-cc74-7b9cd7491f94",
        "colab": {
          "base_uri": "https://localhost:8080/",
          "height": 35
        }
      },
      "source": [
        "# 입력: 리스트 a\n",
        "# 출력: 정렬된 새 리스트\n",
        "# 주어진 리스트에서 최솟값의 위치를 돌려주는 함수\n",
        "\n",
        "def find_min_idx(a):\n",
        "  min_idx = 0\n",
        "  for i in range(0, len(a)):\n",
        "    if a[i] < a[min_idx]:\n",
        "      min_idx = i\n",
        "  return min_idx\n",
        "\n",
        "def sel_sort(a):\n",
        "  result = []\n",
        "  while a:  # 리스트 a가 빌 때 까지\n",
        "    min_idx = find_min_idx(a)  # 리스트 a의 최솟값 인덱스를 찾고\n",
        "    value = a.pop(min_idx)  # 그 value를 추출한 후 저장하고\n",
        "    result.append(value)  # 저장한 value를 result 리스트에 추가.\n",
        "  return result\n",
        "\n",
        "print(sel_sort([1, 3, 5, 4, 2]))"
      ],
      "execution_count": 0,
      "outputs": [
        {
          "output_type": "stream",
          "text": [
            "[1, 2, 3, 4, 5]\n"
          ],
          "name": "stdout"
        }
      ]
    },
    {
      "cell_type": "markdown",
      "metadata": {
        "id": "mF3hhSf-Le3h",
        "colab_type": "text"
      },
      "source": [
        "##### **일반적인 선택 정렬 알고리즘**"
      ]
    },
    {
      "cell_type": "code",
      "metadata": {
        "id": "11aQQy1CLcdD",
        "colab_type": "code",
        "outputId": "127a57be-f09e-4313-86e6-c4e06be784e9",
        "colab": {
          "base_uri": "https://localhost:8080/",
          "height": 35
        }
      },
      "source": [
        "# 입력: 리스트 a\n",
        "# 출력: 없음(입력으로 주어진 a가 정렬됨)\n",
        "\n",
        "def sel_sort(a):\n",
        "  n = len(a)\n",
        "  min_idx = 0\n",
        "  for i in range(0, n-1):\n",
        "    min_idx = i\n",
        "    for j in range(i+1, n):\n",
        "      if a[j] < a[min_idx]:\n",
        "        min_idx = j\n",
        "    a[i], a[min_idx] = a[min_idx], a[i]\n",
        "\n",
        "a = [1, 3, 5, 4, 2]\n",
        "sel_sort(a)\n",
        "print(a)"
      ],
      "execution_count": 0,
      "outputs": [
        {
          "output_type": "stream",
          "text": [
            "[1, 2, 3, 4, 5]\n"
          ],
          "name": "stdout"
        }
      ]
    },
    {
      "cell_type": "markdown",
      "metadata": {
        "id": "OhtYwQb7MQN9",
        "colab_type": "text"
      },
      "source": [
        "##### **알고리즘 분석**"
      ]
    },
    {
      "cell_type": "markdown",
      "metadata": {
        "id": "8oxjVxZ_NCaq",
        "colab_type": "text"
      },
      "source": [
        "문제 03에서 처리했던 방식과 유사하다. $\\frac{n(n-1)}{2}$. 계산 복잡도는 $O(n^2)$.\n",
        "- 이해하기 쉽고 간단해서 많이 이용되는데, 이 문제의 계산 복잡도 특성 상 입력 크기가 커지면 정렬하는데 오랜 시간이 걸린다.\n"
      ]
    },
    {
      "cell_type": "markdown",
      "metadata": {
        "id": "5d3MvnmZOB6j",
        "colab_type": "text"
      },
      "source": [
        "##### **연습 문제**"
      ]
    },
    {
      "cell_type": "code",
      "metadata": {
        "id": "cqklj8VPODmc",
        "colab_type": "code",
        "outputId": "26c34325-c600-42b2-aa64-2731410646ab",
        "colab": {
          "base_uri": "https://localhost:8080/",
          "height": 35
        }
      },
      "source": [
        "# 8-2. 프로그램 8-1과 8-2는 오름차순이였는데, 문제를 내림차순으로 바꾸려면 어느 부분을 수정해야 할까?\n",
        "\n",
        "def sel_sort(a):\n",
        "  n = len(a)\n",
        "  max_idx = 0 \n",
        "  for i in range(0, n-1):\n",
        "    max_idx = i\n",
        "    for j in range(i+1, n):\n",
        "      if a[j] > a[max_idx]:\n",
        "        max_idx = j\n",
        "    a[max_idx], a[i] = a[i], a[max_idx]\n",
        "\n",
        "a = [1, 3, 5, 4, 2]\n",
        "sel_sort(a)\n",
        "a"
      ],
      "execution_count": 0,
      "outputs": [
        {
          "output_type": "execute_result",
          "data": {
            "text/plain": [
              "[5, 4, 3, 2, 1]"
            ]
          },
          "metadata": {
            "tags": []
          },
          "execution_count": 17
        }
      ]
    },
    {
      "cell_type": "markdown",
      "metadata": {
        "id": "oceXCkGCJs1h",
        "colab_type": "text"
      },
      "source": [
        "# 문제 09 **삽입 정렬**\n",
        "\n",
        "**리스트 안의 자료를 작은 수부터 큰 수 순서로 배열하는 정렬 알고리즘을 만들기**"
      ]
    },
    {
      "cell_type": "markdown",
      "metadata": {
        "id": "k0JdhMB4O12o",
        "colab_type": "text"
      },
      "source": [
        "##### **쉽게 설명한 삽입 정렬 알고리즘**"
      ]
    },
    {
      "cell_type": "code",
      "metadata": {
        "id": "inUOwp4UO0cr",
        "colab_type": "code",
        "outputId": "a05c79c2-80b3-49b9-9d38-f161592719da",
        "colab": {
          "base_uri": "https://localhost:8080/",
          "height": 35
        }
      },
      "source": [
        "# 입력: 리스트 a\n",
        "# 출력: 정렬된 새 리스트\n",
        "\n",
        "# 리스트 r에서 v가 들어가야 할 위치를 돌려주는 함수\n",
        "def find_ins_idx(r, v):\n",
        "  # 이미 정렬된 리스트 r의자료를 앞에서부터 차례로 확인하여\n",
        "  for i in range(0, len(r)):\n",
        "    # v값보다 i번 위치에 있는 자료 값이 크면\n",
        "    # v가 그 값 바로 앞에 놓여야 정렬 순서가 유지됨\n",
        "    if v < r[i]:\n",
        "      return i\n",
        "  # 적절한 위치를 못 찾았을 떄는\n",
        "  # v가 r의 모든 자료보다 크다는 뜻이므로 맨 뒤에 삽입.\n",
        "  return len(r)\n",
        "\n",
        "def ins_sort(a):\n",
        "  result = []  # 새 리스트를 만들어 정렬된 값을 저장.\n",
        "  while a:  # 기존 리스트에 값이 남아 있는 동안 반복.\n",
        "    value = a.pop(0)  # 기존 리스트의 첫 번째를 꺼냄\n",
        "    ins_idx = find_ins_idx(result, value)  # 꺼낸 값이 들어갈 적당한 위치 찾기\n",
        "    result.insert(ins_idx, value)  # 찾은 위치에 값 삽입(이후 값은 한 칸씩 밀려남)\n",
        "  return result\n",
        "\n",
        "d = [1, 3, 5, 4, 2]\n",
        "print(ins_sort(d))"
      ],
      "execution_count": 0,
      "outputs": [
        {
          "output_type": "stream",
          "text": [
            "[1, 2, 3, 4, 5]\n"
          ],
          "name": "stdout"
        }
      ]
    },
    {
      "cell_type": "markdown",
      "metadata": {
        "id": "SSwwBIKoUcLs",
        "colab_type": "text"
      },
      "source": [
        "##### **일반적인 삽입 정렬 알고리즘**"
      ]
    },
    {
      "cell_type": "code",
      "metadata": {
        "id": "tlkqFnMxR6vf",
        "colab_type": "code",
        "outputId": "4b740374-8a56-4f23-8ce0-d0cd4f2ef20f",
        "colab": {
          "base_uri": "https://localhost:8080/",
          "height": 35
        }
      },
      "source": [
        "# 입력: 리스트 a\n",
        "# 출력: 없음(입력으로 주어진 a가 정렬됨)\n",
        "\n",
        "def ins_sort(a):\n",
        "  n = len(a)\n",
        "  for i in range(1, n):  # 1부터 n-1까지\n",
        "    key = a[i]  # i번 위치에 있는 값을 key에 저장\n",
        "    # j를 i 바로 왼쪽 위치로 저장\n",
        "    j = i-1\n",
        "    # 리스트의 j번 위치에 있는 값과 key를 비교해 key가 삽입될 적절한 위치를 찾음\n",
        "    while j >= 0 and a[j] > key:\n",
        "      a[j+1] = a[j]  # 삽입할 공간이 생기도록 값을 오른쪽으로 한 칸 이동\n",
        "      j -= 1\n",
        "    a[j+1] = key\n",
        "\n",
        "d = [1, 3, 5, 4, 2]\n",
        "ins_sort(d)\n",
        "print(d)"
      ],
      "execution_count": 0,
      "outputs": [
        {
          "output_type": "stream",
          "text": [
            "[1, 2, 3, 4, 5]\n"
          ],
          "name": "stdout"
        }
      ]
    },
    {
      "cell_type": "markdown",
      "metadata": {
        "id": "rtEyQ2b3iozU",
        "colab_type": "text"
      },
      "source": [
        "##### **알고리즘 분석**"
      ]
    },
    {
      "cell_type": "markdown",
      "metadata": {
        "id": "rwheIp-PirDu",
        "colab_type": "text"
      },
      "source": [
        "계산복잡도는 조금 독특함.\n",
        "- 정렬된 리스트는 $O(n)$으로 마칠수 있지만, 이런 경우는 특별한 경우.\n",
        "- 일반적인 입력에서는 선택 정렬과 같은 $O(n^2)$다."
      ]
    },
    {
      "cell_type": "markdown",
      "metadata": {
        "id": "_yo5HNb5PviW",
        "colab_type": "text"
      },
      "source": [
        "##### **연습 문제**"
      ]
    },
    {
      "cell_type": "code",
      "metadata": {
        "id": "hi44-RlMihfL",
        "colab_type": "code",
        "outputId": "08e980af-68d6-49a2-b41d-ecb8d5731fbe",
        "colab": {
          "base_uri": "https://localhost:8080/",
          "height": 35
        }
      },
      "source": [
        "# 9-2. 오름차순 정렬인 위 프로그램을 내림차순으로 바꾸기.\n",
        "def ins_sort(a):\n",
        "  n = len(a)\n",
        "  for i in range(1, n):\n",
        "    key = a[i]\n",
        "    j = i-1\n",
        "    while j>=0 and a[j]<key:\n",
        "      a[j+1] = a[j]\n",
        "      j -= 1\n",
        "    a[j+1] = key\n",
        "\n",
        "d = [1, 3, 5, 4, 2]\n",
        "ins_sort(d)\n",
        "d"
      ],
      "execution_count": 0,
      "outputs": [
        {
          "output_type": "execute_result",
          "data": {
            "text/plain": [
              "[5, 4, 3, 2, 1]"
            ]
          },
          "metadata": {
            "tags": []
          },
          "execution_count": 16
        }
      ]
    },
    {
      "cell_type": "markdown",
      "metadata": {
        "id": "OqXEfOwHO4nB",
        "colab_type": "text"
      },
      "source": [
        "# 문제 10 **병합 정렬**\n",
        "\n",
        "**리스트 안의 자료를 작은 수 부터 큰 수 순서로 배열하는 정렬 알고리즘 만들기**"
      ]
    },
    {
      "cell_type": "markdown",
      "metadata": {
        "id": "pFSv1UQOnvG7",
        "colab_type": "text"
      },
      "source": [
        "##### **쉽게 설명한 병합 정렬 알고리즘**"
      ]
    },
    {
      "cell_type": "code",
      "metadata": {
        "id": "mUmmg_klO7RU",
        "colab_type": "code",
        "outputId": "f144f49c-09ff-4ef3-ed99-e564f8f634dd",
        "colab": {
          "base_uri": "https://localhost:8080/",
          "height": 35
        }
      },
      "source": [
        "def merge_sort(a):\n",
        "  n = len(a)\n",
        "  # 종료 조건: 정렬할 리스트의 자료 개수가 한 개 이하면 정렬할 필요 없음.\n",
        "  if n <= 1:\n",
        "    return a\n",
        "  # 그룹을 나누어 각각 병합 정렬을 호출하는 과정\n",
        "  mid = n // 2  # 중간을 기준으로 두 그룹으로 나눔\n",
        "  g1 = merge_sort(a[:mid])  # 재귀 호출로 첫 번째 그룹을 정렬\n",
        "  g2 = merge_sort(a[mid:])  # 재귀 호출로 두 번째 그룹을 정렬\n",
        "\n",
        "  # 두 그룹을 하나로 병합\n",
        "  result = []  # 두 그룹을 합쳐 만들 최종 결과\n",
        "  while g1 and g2:  # 두 그룹에 모두 자료가 남아 있는 동안 반복\n",
        "    if g1[0] < g2[0]:\n",
        "      # g1 값이 더 작으면 그 값을 빼내어 결과로 추가\n",
        "      result.append(g1.pop(0))\n",
        "    else:\n",
        "      # g2 값이 더 작으면 그 값을 빼내어 결과로 추가\n",
        "      result.append(g2.pop(0))\n",
        "  # 아직 남아 있는 자료들을 결과에 추가\n",
        "  # g1과 g2 중 이미 빈 것은 while을 바로 지나감\n",
        "  while g1:\n",
        "    result.append(g1.pop(0))\n",
        "  while g2:\n",
        "    result.append(g2.pop(0))\n",
        "  return result\n",
        "\n",
        "d = [6, 8, 3, 9, 10, 1, 2, 4, 7, 5]\n",
        "print(merge_sort(d))"
      ],
      "execution_count": 0,
      "outputs": [
        {
          "output_type": "stream",
          "text": [
            "[1, 2, 3, 4, 5, 6, 7, 8, 9, 10]\n"
          ],
          "name": "stdout"
        }
      ]
    },
    {
      "cell_type": "markdown",
      "metadata": {
        "id": "ypFAbPuDn0C2",
        "colab_type": "text"
      },
      "source": [
        "##### **일반적인 병합 정렬 알고리즘**"
      ]
    },
    {
      "cell_type": "code",
      "metadata": {
        "id": "aEWh0avsQjSa",
        "colab_type": "code",
        "outputId": "4f7310fd-f652-4b88-d770-4cdec2636859",
        "colab": {
          "base_uri": "https://localhost:8080/",
          "height": 35
        }
      },
      "source": [
        "def merge_sort(a):\n",
        "  n = len(a)\n",
        "  # 종료 조건: 정렬할 리스트의 자료 개수가 한 개 이하면 정렬할 필요 없음.\n",
        "  if n <= 1:\n",
        "    return \n",
        "  # 그룹을 나누어 각각 병합 정렬을 호출하는 과정\n",
        "  mid = n // 2  # 중간을 기준으로 두 그룹으로 나눔\n",
        "  g1 = a[:mid]\n",
        "  g2 = a[mid:]\n",
        "  merge_sort(g1)\n",
        "  merge_sort(g2)\n",
        "  # 두 그룹을 하나로 병합\n",
        "  i1 = 0\n",
        "  i2 = 0\n",
        "  ia = 0\n",
        "  while i1 < len(g1) and i2 < len(g2):  # 두 리스트 중 하나가 빌 때 까지\n",
        "    if g1[i1] < g2[i2]:\n",
        "      a[ia] = g1[i1]\n",
        "      i1 += 1\n",
        "      ia += 1\n",
        "    else:\n",
        "      a[ia] = g2[i2]\n",
        "      i2 += 1\n",
        "      ia += 1\n",
        "  # 아직 남아 있는 자료들을 결과에 추가\n",
        "  while i1 < len(g1):\n",
        "    a[ia] = g1[i1]\n",
        "    i1 += 1\n",
        "    ia += 1\n",
        "  while i2 < len(g2):\n",
        "    a[ia] = g2[i2]\n",
        "    i2 += 1\n",
        "    ia += 1\n",
        "\n",
        "d = [6, 8, 3, 9, 10, 1, 2, 4, 7, 5]\n",
        "merge_sort(d)\n",
        "print(d)"
      ],
      "execution_count": 0,
      "outputs": [
        {
          "output_type": "stream",
          "text": [
            "[1, 2, 3, 4, 5, 6, 7, 8, 9, 10]\n"
          ],
          "name": "stdout"
        }
      ]
    },
    {
      "cell_type": "markdown",
      "metadata": {
        "id": "43KlXywzn5au",
        "colab_type": "text"
      },
      "source": [
        "##### **알고리즘 분석**"
      ]
    },
    {
      "cell_type": "markdown",
      "metadata": {
        "id": "iHtmXeh8n8tV",
        "colab_type": "text"
      },
      "source": [
        "병합 정렬은 주어진 문제를 절반으로 나눈 다음 각각을 재귀 호출로 풀어 가는 방식이다.\n",
        "- 이런 알고리즘 설계 기법을 **분할 정복**(divide and conquer)라고 한다.\n",
        "- 분할 정복을 이용한 병합 정렬의 계산 복잡도는 $O(n \\cdot \\log n)$.\n",
        "  - 선택 정렬이나 삽입 정렬의 계산 복잡도보다 훨씬 낮다."
      ]
    },
    {
      "cell_type": "markdown",
      "metadata": {
        "id": "Dtr_lYGzo4VE",
        "colab_type": "text"
      },
      "source": [
        "##### **연습 문제**"
      ]
    },
    {
      "cell_type": "code",
      "metadata": {
        "id": "4I-ZJfy6nHeX",
        "colab_type": "code",
        "outputId": "35d3de85-5d3f-4f83-e330-c80adb498835",
        "colab": {
          "base_uri": "https://localhost:8080/",
          "height": 35
        }
      },
      "source": [
        "# 10-1. 내림차순으로 변경\n",
        "\n",
        "def merge_sort(a):\n",
        "  n = len(a)\n",
        "  if n <= 1:\n",
        "    return\n",
        "  mid = n // 2\n",
        "  g1 = a[:mid]\n",
        "  g2 = a[mid:]\n",
        "  merge_sort(g1)\n",
        "  merge_sort(g2)\n",
        "  i1 = 0\n",
        "  i2 = 0\n",
        "  ia = 0\n",
        "  while i1 < len(g1) and i2 < len(g2):\n",
        "    if g1[i1] < g2[i2]:\n",
        "      a[ia] = g2[i2]\n",
        "      ia += 1\n",
        "      i2 += 1\n",
        "    else:\n",
        "      a[ia] = g1[i1]\n",
        "      ia += 1\n",
        "      i1 += 1\n",
        "  while i1 < len(g1):\n",
        "    a[ia] = g1[i1]\n",
        "    ia += 1\n",
        "    i1 += 1\n",
        "  while i2 < len(g2):\n",
        "    a[ia] = g2[i2]\n",
        "    ia += 1\n",
        "    i2 += 1\n",
        "\n",
        "d = [6, 8, 3, 9, 10, 1, 2, 4, 7, 5]\n",
        "merge_sort(d)\n",
        "print(d)"
      ],
      "execution_count": 0,
      "outputs": [
        {
          "output_type": "stream",
          "text": [
            "[10, 9, 8, 7, 6, 5, 4, 3, 2, 1]\n"
          ],
          "name": "stdout"
        }
      ]
    },
    {
      "cell_type": "markdown",
      "metadata": {
        "id": "SekL2dS0nszz",
        "colab_type": "text"
      },
      "source": [
        "# 문제 11 **퀵 정렬**\n",
        "\n",
        "**리스트 안의 자료를 작은 수부터 큰 수 순서로 배열하는 정렬 알고리즘 만들기**"
      ]
    },
    {
      "cell_type": "markdown",
      "metadata": {
        "id": "q_TYrnSyo8r5",
        "colab_type": "text"
      },
      "source": [
        "##### **쉽게 설명한 퀵 정렬 알고리즘**"
      ]
    },
    {
      "cell_type": "code",
      "metadata": {
        "id": "hcOWX0EonvX4",
        "colab_type": "code",
        "outputId": "8c06fdd9-04d0-4c46-f334-01d6be12de96",
        "colab": {
          "base_uri": "https://localhost:8080/",
          "height": 35
        }
      },
      "source": [
        "# 입력: 리스트 a\n",
        "# 출력: 정렬된 새 리스트\n",
        "\n",
        "def quick_sort(a):\n",
        "  n = len(a)\n",
        "  if n <= 1:\n",
        "    return a\n",
        "  # 기준 값을 정하고 기준에 맞춰 그룹을 나누는 과정.\n",
        "  pivot = a[-1]  # 편의상 리스트의 마지막 값을 기준 값으로 정함.\n",
        "  g1, g2 = [], []  # 기준보다 작은 값을 g1에, 큰 값을 g2에 담음.\n",
        "  for i in range(0, n-1):  # 마지막 값은 기준 값이므로 제외.\n",
        "    if a[i] < pivot:  # 기준 값과 비교\n",
        "      g1.append(a[i])\n",
        "    else:\n",
        "      g2.append(a[i])\n",
        "  # 각 그룹에 대해 재귀 호출로 퀵 정렬을 한 후 \n",
        "  # 기준 값과 합쳐 하나의 리스트로 결괏값 반환\n",
        "  return quick_sort(g1) + [pivot] + quick_sort(g2)\n",
        "\n",
        "d = [6, 8,  3, 9, 10, 1, 2, 4, 7, 5]\n",
        "print(quick_sort(d))"
      ],
      "execution_count": 0,
      "outputs": [
        {
          "output_type": "stream",
          "text": [
            "[1, 2, 3, 4, 5, 6, 7, 8, 9, 10]\n"
          ],
          "name": "stdout"
        }
      ]
    },
    {
      "cell_type": "markdown",
      "metadata": {
        "id": "jTa-Pbfgpuc8",
        "colab_type": "text"
      },
      "source": [
        "##### **일반적인 퀵 정렬 알고리즘**"
      ]
    },
    {
      "cell_type": "code",
      "metadata": {
        "id": "xhNv3NhuovDc",
        "colab_type": "code",
        "outputId": "1aad6513-9a1a-4cf2-9a20-92c04dbca3b7",
        "colab": {
          "base_uri": "https://localhost:8080/",
          "height": 35
        }
      },
      "source": [
        "# 입력: 리스트 a\n",
        "# 출력: 없음(입력으로 주어진 a가 정렬됨)\n",
        "\n",
        "# 리스트 a에서 어디부터(start) 어디까지(end)가 정렬 대상인지\n",
        "# 범위를 지정하여 정렬하는 재귀 호출 함수\n",
        "def quick_sort_sub(a, start, end):\n",
        "  # 종료 조건: 정렬 대상이 한 개 이하면 정렬할 필요 없음.\n",
        "  if end - start <= 0:\n",
        "    return \n",
        "  # 기준 값을 정하고 기준 값에 맞춰 리스트 안에서 각 자료의 위치를 맞춤\n",
        "  # [기준 값보다 작은 값들, 기준 값, 기준 값보다 큰 값들]\n",
        "  pivot = a[end]  # 편의상 리스트의 마지막 값을 기준 값으로 정함\n",
        "  i = start\n",
        "  for j in range(start, end):\n",
        "    if a[j] <= pivot:\n",
        "      a[i], a[j] = a[j], a[i]\n",
        "      i += 1\n",
        "  a[i], a[end] = a[end], a[i]\n",
        "    # 재귀 호출 부분\n",
        "  quick_sort_sub(a, start, i-1)  # 기준 값보다 작은 그룹을 재귀 호출로 다시 정렬\n",
        "  quick_sort_sub(a, i+1, end)  # 기준 값보다 큰 그룹을 재귀 호출로 다시 정렬\n",
        "\n",
        "# 리스트 전체(0~len(a)-1)를 대상으로 재귀 호출 함수 호출\n",
        "def quick_sort(a):\n",
        "  quick_sort_sub(a, 0, len(a)-1)\n",
        "\n",
        "d = [6, 8, 3, 9, 10, 1, 2, 4, 7, 5]\n",
        "quick_sort(d)\n",
        "print(d)"
      ],
      "execution_count": 0,
      "outputs": [
        {
          "output_type": "stream",
          "text": [
            "[1, 2, 3, 4, 5, 6, 7, 8, 9, 10]\n"
          ],
          "name": "stdout"
        }
      ]
    },
    {
      "cell_type": "markdown",
      "metadata": {
        "id": "PSoIiZI66xwf",
        "colab_type": "text"
      },
      "source": [
        "##### **알고리즘 분석**"
      ]
    },
    {
      "cell_type": "markdown",
      "metadata": {
        "id": "iQyPRY1y9THt",
        "colab_type": "text"
      },
      "source": [
        "퀵 정렬은 기준값 설정이 중요하다.\n",
        "- 기준으로 정한 학생이 열 명 중 키가 가장 작은 학생이라면, 그룹을 두 개로 나눠도 의미가 없어진다.\n",
        "- 좋은 기준을 정하는 게 중요한데, 그 부분은 범위를 넘어선다."
      ]
    },
    {
      "cell_type": "markdown",
      "metadata": {
        "id": "Ji_5FH1F9mig",
        "colab_type": "text"
      },
      "source": [
        "계산 복잡도는 최악의 경우 선택, 삽입 정렬과 같은 $O(n^2)$이지만, 평균적일 땐 병합 정렬과 같은 $O(n\\cdot \\log n)$."
      ]
    },
    {
      "cell_type": "markdown",
      "metadata": {
        "id": "3yl8MbcICx4O",
        "colab_type": "text"
      },
      "source": [
        "##### **연습 문제**"
      ]
    },
    {
      "cell_type": "code",
      "metadata": {
        "id": "DLO_I52y0ToN",
        "colab_type": "code",
        "outputId": "a882b95d-aa5d-4fa3-8b84-3130ecae1924",
        "colab": {
          "base_uri": "https://localhost:8080/",
          "height": 179
        }
      },
      "source": [
        "# 11-1. 거품 정렬 구현\n",
        "def bubble_sort(a):\n",
        "  for i in range(0, len(a)-1):\n",
        "    j = i + 1\n",
        "    if a[i] > a[j]:\n",
        "      print(a)\n",
        "      a[i], a[j] = a[j], a[i]\n",
        "      bubble_sort(a)\n",
        "\n",
        "d = [1, 3, 5, 7, 6, 4, 2]\n",
        "bubble_sort(d)"
      ],
      "execution_count": 0,
      "outputs": [
        {
          "output_type": "stream",
          "text": [
            "[1, 3, 5, 7, 6, 4, 2]\n",
            "[1, 3, 5, 6, 7, 4, 2]\n",
            "[1, 3, 5, 6, 4, 7, 2]\n",
            "[1, 3, 5, 4, 6, 7, 2]\n",
            "[1, 3, 4, 5, 6, 7, 2]\n",
            "[1, 3, 4, 5, 6, 2, 7]\n",
            "[1, 3, 4, 5, 2, 6, 7]\n",
            "[1, 3, 4, 2, 5, 6, 7]\n",
            "[1, 3, 2, 4, 5, 6, 7]\n"
          ],
          "name": "stdout"
        }
      ]
    },
    {
      "cell_type": "code",
      "metadata": {
        "id": "4dQiDsvZBkFs",
        "colab_type": "code",
        "outputId": "698f04b8-0998-4745-b294-f357671bcfeb",
        "colab": {
          "base_uri": "https://localhost:8080/",
          "height": 125
        }
      },
      "source": [
        "# 책에 나온 해답\n",
        " \n",
        "def bubble_sort(a): \n",
        "  n = len(a)\n",
        "  while True:\n",
        "    changed = False\n",
        "    for i in range(0, n-1):\n",
        "      if a[i] > a[i+1]:\n",
        "        print(a)\n",
        "        a[i], a[i+1] = a[i+1], a[i]\n",
        "        changed = True\n",
        "    if changed == False:\n",
        "      return\n",
        "\n",
        "d = [2, 4, 5, 1, 3]\n",
        "bubble_sort(d)\n",
        "print(d)"
      ],
      "execution_count": 0,
      "outputs": [
        {
          "output_type": "stream",
          "text": [
            "[2, 4, 5, 1, 3]\n",
            "[2, 4, 1, 5, 3]\n",
            "[2, 4, 1, 3, 5]\n",
            "[2, 1, 4, 3, 5]\n",
            "[2, 1, 3, 4, 5]\n",
            "[1, 2, 3, 4, 5]\n"
          ],
          "name": "stdout"
        }
      ]
    },
    {
      "cell_type": "code",
      "metadata": {
        "id": "XYrXk6-yDTpD",
        "colab_type": "code",
        "colab": {}
      },
      "source": [
        ""
      ],
      "execution_count": 0,
      "outputs": []
    },
    {
      "cell_type": "markdown",
      "metadata": {
        "id": "ycQm7Oz-4HDe",
        "colab_type": "text"
      },
      "source": [
        "# 문제 12 **이분 탐색**\n",
        "\n",
        "**자료가 크기 순서대로 정렬된 리스트에서 특정한 값이 있는지 찾아 그 위치를 돌려주는 알고리즘 만들기.**"
      ]
    },
    {
      "cell_type": "markdown",
      "metadata": {
        "id": "IhHRj6yBBFPS",
        "colab_type": "text"
      },
      "source": [
        "##### **이분 탐색 알고리즘**"
      ]
    },
    {
      "cell_type": "markdown",
      "metadata": {
        "id": "4kVrPBWSBJmy",
        "colab_type": "text"
      },
      "source": [
        "이분 탐색의 원리를 일반적으로 정리하면 다음과 같다.\n",
        "1. 중간 위치를 찾는다.\n",
        "2. 찾는 값과 중간 위치 값을 비교한다.\n",
        "3. 같다면 원하는 값을 찾은 것이므로 위치 번호를 결괏값으로 돌려준다.\n",
        "4. 찾는 값이 중간 위치 값보다 크다면 중간 위치의 오른쪽을 대상으로 다시 탐색한다 (1번 과정부터 반복).\n",
        "5. 찾는 값이 중간 위치 값보다 작다면 중간 위치의 왼쪽을 대상으로 다시 탐색한다 (1번 과정부터 반복)."
      ]
    },
    {
      "cell_type": "code",
      "metadata": {
        "id": "T3LYBihtBm7Y",
        "colab_type": "code",
        "colab": {
          "base_uri": "https://localhost:8080/",
          "height": 35
        },
        "outputId": "adc31c08-67cb-4b51-f1d9-14acc9a2bf41"
      },
      "source": [
        "# 리스트에서 특정 숫자 위치 찾기(이분 탐색)\n",
        "# 입력: 리스트 a, 찾는 값 x\n",
        "# 출력: 찾으면 그 값의 위치, 찾지 못하면 -1\n",
        "\n",
        "def binary_search(a, v):\n",
        "  # 탐색할 범위를 저장하는 변수 start, end\n",
        "  # 리스트 전체를 범위로 탐색 시작 (0~len(a)-1)\n",
        "  start = 0\n",
        "  end = len(a) - 1\n",
        "\n",
        "  while start <= end:  # 탐색할 범위가 남아 있는 동안 반복\n",
        "    mid = (start+end) // 2  # 탐색 범위의 중간 위치\n",
        "    if v == a[mid]:  # 발견.\n",
        "      return mid\n",
        "    elif v > a[mid]:  # 찾는 값이 더 크면 오른족으로 범위를 좁혀 계속 탐색\n",
        "      start = mid + 1\n",
        "    else:  # 찾는 값이 더 작으면 왼쪽으로 범위를 좁혀 계속 탐색\n",
        "      end = mid - 1  \n",
        "    \n",
        "  return -1  # 찾지 못했을 때\n",
        "\n",
        "d = [1, 4, 9, 16, 25, 36, 49, 64, 81]\n",
        "print(binary_search(d, 36))"
      ],
      "execution_count": 9,
      "outputs": [
        {
          "output_type": "stream",
          "text": [
            "5\n"
          ],
          "name": "stdout"
        }
      ]
    },
    {
      "cell_type": "markdown",
      "metadata": {
        "id": "Yh1bwhoaFd2V",
        "colab_type": "text"
      },
      "source": [
        "##### **알고리즘 분석**"
      ]
    },
    {
      "cell_type": "markdown",
      "metadata": {
        "id": "10ELP9yJFhHQ",
        "colab_type": "text"
      },
      "source": [
        "이분 탐색은 값을 비교할 때마다 찾는 값이 있을 범위를 절반씩 좁히면서 탐색하는 효율적인 탐색 알고리즘.\n",
        "- 이분 탐색의 계산 복잡도는 $O(\\log n)$. 순차 탐색의 계산 복잡도인 $O(n)$보다 더 효율적이다.\n",
        "- 미리 정렬해야한다는 단점이 있지만, 필요한 값을 여러 번 찾아야 한다면 자료를 한 번 정렬한 다음에 이분 탐색을 이용하는 방법이 효율적이다."
      ]
    },
    {
      "cell_type": "code",
      "metadata": {
        "id": "BGq5cpYBDxYS",
        "colab_type": "code",
        "colab": {
          "base_uri": "https://localhost:8080/",
          "height": 35
        },
        "outputId": "521a163a-fc07-47c1-8d39-216b89dc664f"
      },
      "source": [
        "# 12-1. 재귀 호출을 사용해 이분 탐색 알고리즘을 만들기.\n",
        "def binary_search_sub(a, x, start, end):\n",
        "  # 종료 조건: 남은 탐색 범위가 비었으면 종료\n",
        "  if start > end:\n",
        "    return -1\n",
        "\n",
        "  mid = (start+end) // 2  # 탐색 범위의 중간 위치\n",
        "  if x == a[mid]:  # 발견\n",
        "    return mid\n",
        "  elif x > a[mid]:  # 찾는 값이 더 크면 중간을 기준으로 오른쪽 값을 대상으로 재귀 호출\n",
        "    return binary_search_sub(a, x, mid+1, end)\n",
        "  else:\n",
        "    return binary_search_sub(a, x, start, mid-1)\n",
        "  \n",
        "  return -1\n",
        "\n",
        "# 리스트 전체를 대상으로 재귀 호출 함수 호출\n",
        "def binary_search(a, x):\n",
        "  return binary_search_sub(a, x, 0, len(a)-1)\n",
        "\n",
        "d = [1, 4, 9, 16, 25, 36, 49, 64, 81]\n",
        "print(binary_search(d, 36))"
      ],
      "execution_count": 27,
      "outputs": [
        {
          "output_type": "stream",
          "text": [
            "5\n"
          ],
          "name": "stdout"
        }
      ]
    }
  ]
}