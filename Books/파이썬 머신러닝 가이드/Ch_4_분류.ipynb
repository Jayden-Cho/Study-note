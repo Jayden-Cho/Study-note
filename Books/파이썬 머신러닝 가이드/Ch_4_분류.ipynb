{
  "nbformat": 4,
  "nbformat_minor": 0,
  "metadata": {
    "colab": {
      "name": "Ch 4 분류",
      "provenance": [],
      "collapsed_sections": []
    },
    "kernelspec": {
      "name": "python3",
      "display_name": "Python 3"
    }
  },
  "cells": [
    {
      "cell_type": "markdown",
      "metadata": {
        "id": "z_QIw10QdWRb",
        "colab_type": "text"
      },
      "source": [
        "# 01 **분류(Classification)의 개요**"
      ]
    },
    {
      "cell_type": "markdown",
      "metadata": {
        "id": "ECNfmM3Mdb3i",
        "colab_type": "text"
      },
      "source": [
        "분류는 다양한 머신러닝 알고리즘으로 구성되어 있다.\n",
        "- 베이즈(Bayes) 통계와 생성 모델에 기반한 **나이브 베이즈**(Naive Bayes)\n",
        "- 독립변수와 종속변수의 선형 관계성에 기반한 **로지스틱 회귀**(Logistic Regression)\n",
        "- 데이터 균일도에 따른 규칙 기반의 **결정 트리**(Decision Tree)\n",
        "- 개별 클래스 간의 최대 분류 마진을 효과적으로 찾아주는 **서포트 벡터 머신**(Support Vector Machine)\n",
        "- 근접 거리를 기준으로 하는 **최소 근접**(Nearest Neighbor) 알고리즘\n",
        "- 심층 연결 기반의 **신경망**(Neural Network)\n",
        "- 서로 다른(또는 같은) 머신러닝 알고리즘을 결합한 **앙상블**(Ensemble)"
      ]
    },
    {
      "cell_type": "markdown",
      "metadata": {
        "id": "9xjJ1coPe2Jf",
        "colab_type": "text"
      },
      "source": [
        "앙상블은 서로 다른/같은 알고리즘을 단순히 결하한 형태도 있지만 일반적으로는 배깅과 부스팅 방식으로 나뉜다."
      ]
    },
    {
      "cell_type": "markdown",
      "metadata": {
        "id": "BQG3R3VOfYDx",
        "colab_type": "text"
      },
      "source": [
        "배깅 방식의 대표인 **랜덤 포레스트**는 뛰어난 예측 성능, 빠른 수행 시간, 유연성 등으로 많은 분석가가 애용하는 알고리즘이다."
      ]
    },
    {
      "cell_type": "markdown",
      "metadata": {
        "id": "iC0MP61pghyv",
        "colab_type": "text"
      },
      "source": [
        "하지만 요즘 대세는 부스팅 방식. \n",
        "- 부스팅의 효시라고 할 수 있는 **그래디언트 부스팅**의 경우 뛰어난 예측 성능을 가지고 있지만, 수행 시간이 너무 오래 걸려 최적화가 어려웠다.\n",
        "- 하지만 **XgBoost**와 **LightGBM** 등 기존 성능을 한 단계 발전시키면서도 수행 시간을 단축시킨 알고리즘을 계속 등장하며 주류로 자리매김했다."
      ]
    },
    {
      "cell_type": "markdown",
      "metadata": {
        "id": "bEpepuIXiCyB",
        "colab_type": "text"
      },
      "source": [
        "앙상블은 서로 다른/같은 알고리즘을 결합한다고 했는데, 대부분 동일한 알고리즘을 결합한다.\n",
        "- 앙상블의 기본 알고리즘으로 일반적으로 사용하는 것은 결정 트리."
      ]
    },
    {
      "cell_type": "markdown",
      "metadata": {
        "id": "BVyevV7Ei6xG",
        "colab_type": "text"
      },
      "source": [
        "결정 트리는 매우 쉽고 유연하게 적용될 수 있는 알고리즘이다.\n",
        "- 데이터 스케일링이나 정규화 등의 사전 가공의 영향이 매우 적다.\n",
        "- 하지만 복잡한 규칙 구조를 가져야 하고, 이로 인한 과적합이 발생해 반대로 예측 성능이 저하될 수도 있다."
      ]
    },
    {
      "cell_type": "markdown",
      "metadata": {
        "id": "JmDPb2phjHrb",
        "colab_type": "text"
      },
      "source": [
        "하지만 **이러한 단점이 앙상블 기법에서는 오히려 장점으로 작용한다**.\n",
        "- 앙상블은 매우 많은 여러 개의 약한 학습기를 결합해 확률적 보완과 오류가 발생한 부분에 대한 가중치를 계속 업데이트하면서 예측 성능을 향상시키는데, 결정 트리가 좋은 약한 학습기가 되기 때문이다."
      ]
    },
    {
      "cell_type": "markdown",
      "metadata": {
        "id": "Oppxb82gmC36",
        "colab_type": "text"
      },
      "source": [
        "# 02 **결정 트리**"
      ]
    },
    {
      "cell_type": "markdown",
      "metadata": {
        "id": "zkU9-1O8mEor",
        "colab_type": "text"
      },
      "source": [
        "결정 트리는 데이터에 있는 규칙을 <u>학습을 통해 자동으로 찾아내</u> 트리 기반의 분류 규칙을 만드는 것."
      ]
    },
    {
      "cell_type": "markdown",
      "metadata": {
        "id": "JklgDoBRoPFd",
        "colab_type": "text"
      },
      "source": [
        "데이터셋에 피처가 있고 이러한 피처가 결합해 규칙 조건을 만들 때마다 규칙 노드가 만들어진다.\n",
        "- 규칙이 많을수록, 트리 깊이가 깊어질수록 예측 성능이 저하될 가능성이 높다."
      ]
    },
    {
      "cell_type": "markdown",
      "metadata": {
        "id": "1mJ3wVQcof9_",
        "colab_type": "text"
      },
      "source": [
        "가능한 적은 결정 노드로 높은 예측 정확도를 가지려면 최대한 많은 데이터셋이 해당 분류에 속할 수 있도록 결정 노드의 규칙이 정해져야 한다.\n",
        "- 이를 위해선 최대한 **균일한 데이터셋**을 구성할 수 있도록 분할하는 것이 중요하다."
      ]
    },
    {
      "cell_type": "markdown",
      "metadata": {
        "id": "2l1DivAqo2pu",
        "colab_type": "text"
      },
      "source": [
        "데이터셋의 균일도는 데이터를 구분하는 데 필요한 정보의 양에 영향을 미친다.\n",
        "- 모두 검은 공으로 채워진 바구니에서 공을 하나 뽑았을 때 그 공이 검은색이라고 쉽게 예측할 수 있다.\n",
        "- 하지만 바구니 속 공의 종류가 다양하다면 뽑은 공이 무슨 색이라 단언하기 어렵다."
      ]
    },
    {
      "cell_type": "markdown",
      "metadata": {
        "id": "gd2on-1VpOYJ",
        "colab_type": "text"
      },
      "source": [
        "결정 노드는 정보 균일도가 높은 데이터셋을 먼저 선택할 수 있도록 규칙 조건을 만든다.\n",
        "- 정보 균일도가 데이터셋으로 쪼개질 수 있도록 조건을 찾아 서브 데이터셋을 만들고, 다시 이 서브 데이터셋에서 균일도가 높은 자식 데이터셋으로 쪼개는 방식으로 데이터 값을 예측한다."
      ]
    },
    {
      "cell_type": "markdown",
      "metadata": {
        "id": "48GL7p1McV26",
        "colab_type": "text"
      },
      "source": [
        "예를 들어 박스 안에 30개의 레고 블록이 있고, '형태'는 원, 네모, 세모, '색깔'은 노랑, 빨강, 파랑이 있다.\n",
        "- 이 중 노랑색 블록의 경우 모두 동그라미로 구성되었다 할 때, 첫 번째로 만들어져야 할 조건은 `if '색깔' == '노란색'`이다.\n",
        "- 왜냐면 모든 노란 블록이면 모두 동그라미라 예측할 수 있고, 그 다음 나머지 블록에 대해 다시 균일도 조건을 찾는게 효율적이기 때문이다."
      ]
    },
    {
      "cell_type": "markdown",
      "metadata": {
        "id": "VdysYbABdn_3",
        "colab_type": "text"
      },
      "source": [
        "정보의 균일도를 측정하는 대표적인 방법은 엔트로피를 이용한 정보 이득(information gain) 지수와 지니 계수가 있다.\n"
      ]
    },
    {
      "cell_type": "markdown",
      "metadata": {
        "id": "mdk6BThReYAC",
        "colab_type": "text"
      },
      "source": [
        "- **정보 이득**은 엔트로피라는 개념을 기반으로 한다. 결정 트리는 정보 이득이 높은 속성을 기준으로 분할한다.\n",
        "  - 엔트로피는 주어진 데이터 집합의 혼잡도를 의미한다. 같은 값이 섞여 있으면 엔트로피가 낮다.\n",
        "  - 정보 이득 지수는 1에서 엔트로피 지수를 뺀 값. `1-엔트로피 지수`.\n",
        "\n",
        "- **지니 계수**는 경제학에서 불평등 지수를 나타낼 때 사용하는 계수다. 0이 가장 평등하고 1로 갈수록 불평등하다.\n",
        "  - 머신러닝에 적용될 때는 지니 계수가 낮을수록 데이터 균일도가 높은 것으로 해석해 지니 계수가 낮은 속성을 기준으로 분할한다."
      ]
    },
    {
      "cell_type": "markdown",
      "metadata": {
        "id": "FQH9LDpdfSEC",
        "colab_type": "text"
      },
      "source": [
        "**정리**\n",
        "- 정보 이득 지수는 <u>높을수록</u>, 지니 계수는 <u>낮을수록</u> 기준이 된다."
      ]
    },
    {
      "cell_type": "markdown",
      "metadata": {
        "id": "E4DZ7RXYitEN",
        "colab_type": "text"
      },
      "source": [
        "`DecisionTreeClassifier`는 기본으로 지니 계수를 이용해 데이터셋을 분할한다.\n",
        "- 결정 트리의 일반적인 알고리즘은 정보 이득이 높거나 지니계수가 낮은 조건을 찾아 반복적으로 분할한 뒤, 모두 특정 분류에 속하게 되면 분할을 멈추고 분류를 결정한다."
      ]
    },
    {
      "cell_type": "markdown",
      "metadata": {
        "id": "96wN15F8je8O",
        "colab_type": "text"
      },
      "source": [
        "### **결정 트리 모델의 특징**"
      ]
    },
    {
      "cell_type": "markdown",
      "metadata": {
        "id": "rGOa3lxjjhdX",
        "colab_type": "text"
      },
      "source": [
        "결정 트리의 가장 큰 장점은 정보의 '균일도'라는 룰을 기반으로 하고 있어 알고리즘이 쉽고 직관적이다.\n",
        "- 시각화로 표현까지 할 수 있다.\n",
        "- 정보의 균일도 이외에 피처 스케일링이나 정규화 같은 전처리 작업이 필요 없다."
      ]
    },
    {
      "cell_type": "markdown",
      "metadata": {
        "id": "ou70lJv7jxZK",
        "colab_type": "text"
      },
      "source": [
        "가장 큰 단점은 과적합으로 정확도가 떨어진다는 점이다.\n",
        "- 피처 정보의 균일도에 따른 룰 규칙으로 서브 트리를 계속 만들다 보면 피처가 많고 균일도가 다양하게 존재할수록 트리의 깊이가 커지고 복잡해질 수밖에 없다."
      ]
    },
    {
      "cell_type": "markdown",
      "metadata": {
        "id": "WU_jxeRIkaF3",
        "colab_type": "text"
      },
      "source": [
        "### **결정 트리 파라미터**"
      ]
    },
    {
      "cell_type": "markdown",
      "metadata": {
        "id": "NbEoNkiRkca3",
        "colab_type": "text"
      },
      "source": [
        "사이킷런은 `DecisionTreeClassifier`와 `DecisionTreeRegressor` 클래스를 제공한다.\n",
        "- 사이킷런의 결정 트리 구현은 CART(Classification And Regression Trees) 알고리즘 기반이다."
      ]
    },
    {
      "cell_type": "markdown",
      "metadata": {
        "id": "EAA-yZwnlYPh",
        "colab_type": "text"
      },
      "source": [
        "두 클래스 모두 동일한 파라미터를 사용한다."
      ]
    },
    {
      "cell_type": "markdown",
      "metadata": {
        "id": "g_EQ3h7vlbaN",
        "colab_type": "text"
      },
      "source": [
        "- `min_samples_split`\n",
        "  - 노드를 분할하기 위한 최소한의 샘플 데이터 수. 과적합을 제어하는 데 사용된다.\n",
        "- `min_samples_leaf`\n",
        "  - 말단 노드(leaf)가 되기 위한 최소한의 샘플 데이터 수. 과적합을 제어하는 데 사용된다.\n",
        "  - 불균형 데이터의 경우 특정 클래스의 데이터가 작을 수 있으므로 이 경우 작게 설정해야 한다.\n",
        "- `max_features`\n",
        "  - 최적의 분할을 위해 고려할 최대 피처 개수. Default는 `None`. 데이터셋의 모든 피처를 사용해 분할.\n",
        "  - int형으로 지정하면 대상 피처의 개수, float형으로 지정하면 전체 피처 중 대상 피처의 퍼센트.\n",
        "  - `'sqrt'`는 $\\sqrt{전체\\ 피처\\ 개수}$만큼 선정.\n",
        "  - `'auto'`로 지정하면 `'sqrt'`와 동일.\n",
        "  - `'log'`는 전체 피처 중 $\\log_2{(전체\\ 피처\\ 개수)}$만큼 선정.\n",
        "  - `'None'`은 전체 피처 선정.\n",
        "- `max_depth`\n",
        "  - 트리의 최대 깊이를 규정.\n",
        "  - Default는 `None`. `None`으로 설정하면 완벽하게 클래스 결정 값이 될 때 까지 깊이를 계속 키우며 분할하거나 노드가 가지는 데이터 개수가 `min_samples_split`보다 작아질 때 까지 깊이를 증가시킨다.\n",
        "  - 깊이가 깊어지면 `min_samples_split` 설정대로 최대 분할해 과적합할 수 있으므로 적절한 값으로 제어가 필요하다.\n",
        "- `max_leaf_nodes`\n",
        "  - 말단 노드(Leaf)의 최대 개수."
      ]
    },
    {
      "cell_type": "markdown",
      "metadata": {
        "id": "7QxtuT6yzxXO",
        "colab_type": "text"
      },
      "source": [
        "결정 트리 알고리즘을 제어하는 대부분의 하이퍼 파라미터는 복잡한 트리가 생성되는 것을 막기 위한 용도이다."
      ]
    },
    {
      "cell_type": "markdown",
      "metadata": {
        "id": "xG9dgs-SpaIG",
        "colab_type": "text"
      },
      "source": [
        "### **결정 트리 모델의 시각화**"
      ]
    },
    {
      "cell_type": "markdown",
      "metadata": {
        "id": "B6iOoc7lqgBR",
        "colab_type": "text"
      },
      "source": [
        "`Graphviz` 패키지를 사용하면 어떠한 규칙을 가지고 트리를 생성하는지 시각적으로 보여줄 수 있다.\n",
        "- 사이킷런은 `export_graphviz()` API를 제공한다. \n",
        "- 함수 인자로 학습이 완료된 Estimator, 피처의 이름 리스트, 레이블 이름 리스트를 입력하면 트리를 시각화해 보여준다."
      ]
    },
    {
      "cell_type": "code",
      "metadata": {
        "id": "I5_5lTFMqKx-",
        "colab_type": "code",
        "outputId": "aaae2210-432f-4578-bb76-b66fce0dc52f",
        "colab": {
          "base_uri": "https://localhost:8080/",
          "height": 34
        }
      },
      "source": [
        "pip install Graphviz"
      ],
      "execution_count": 0,
      "outputs": [
        {
          "output_type": "stream",
          "text": [
            "Requirement already satisfied: Graphviz in /usr/local/lib/python3.6/dist-packages (0.10.1)\n"
          ],
          "name": "stdout"
        }
      ]
    },
    {
      "cell_type": "markdown",
      "metadata": {
        "id": "I8EOId9DrFet",
        "colab_type": "text"
      },
      "source": [
        "`Graphviz`를 이용해 붓꽃 데이터셋에 결정 트리를 적용할 때 어떻게 서브 트리가 구성되고 만들어지는지 시각화해보자."
      ]
    },
    {
      "cell_type": "code",
      "metadata": {
        "id": "eAgC6hmBpb2E",
        "colab_type": "code",
        "outputId": "1b57db7d-c492-4f61-a26b-7de7220de14a",
        "colab": {
          "base_uri": "https://localhost:8080/",
          "height": 119
        }
      },
      "source": [
        "from sklearn.tree import DecisionTreeClassifier\n",
        "from sklearn.datasets import load_iris\n",
        "from sklearn.model_selection import train_test_split\n",
        "import warnings\n",
        "warnings.filterwarnings('ignore')\n",
        "\n",
        "# DecisionTreeClassifier 객체 생성\n",
        "dt_clf = DecisionTreeClassifier(random_state=156)\n",
        "\n",
        "# 붓꽃 데이터를 로딩하고, 학습과 테스트 데이터셋으로 분리\n",
        "iris_data = load_iris()\n",
        "X_train, X_test, y_train, y_test = train_test_split(iris_data.data, iris_data.target,\n",
        "                                                    test_size=0.2, random_state=11)\n",
        "\n",
        "# DecisionTreeClassifier 학습.\n",
        "dt_clf.fit(X_train, y_train)"
      ],
      "execution_count": 0,
      "outputs": [
        {
          "output_type": "execute_result",
          "data": {
            "text/plain": [
              "DecisionTreeClassifier(ccp_alpha=0.0, class_weight=None, criterion='gini',\n",
              "                       max_depth=None, max_features=None, max_leaf_nodes=None,\n",
              "                       min_impurity_decrease=0.0, min_impurity_split=None,\n",
              "                       min_samples_leaf=1, min_samples_split=2,\n",
              "                       min_weight_fraction_leaf=0.0, presort='deprecated',\n",
              "                       random_state=156, splitter='best')"
            ]
          },
          "metadata": {
            "tags": []
          },
          "execution_count": 6
        }
      ]
    },
    {
      "cell_type": "markdown",
      "metadata": {
        "id": "LsyA7Yriru7Q",
        "colab_type": "text"
      },
      "source": [
        "`export_graphviz()`는 `Graphviz`가 읽어 들여 그래프 형태로 시각화할 수 있는 출력 파일을 생성한다.\n",
        "- 인자로 (1) 학습이 완료된 estimator, (2) Output 파일명, (3) 결정 클래스의 명칭, (4) 피처의 명칭."
      ]
    },
    {
      "cell_type": "code",
      "metadata": {
        "id": "BvR7lQeEqFDh",
        "colab_type": "code",
        "colab": {}
      },
      "source": [
        "from sklearn.tree import export_graphviz\n",
        "\n",
        "# export_graphviz()의 호출 결과로 out_file로 지정된 tree.dot 파일을 생성한다.\n",
        "export_graphviz(dt_clf, out_file='tree.dot', class_names=iris_data.target_names,\n",
        "                feature_names=iris_data.feature_names, impurity=True, filled=True)"
      ],
      "execution_count": 0,
      "outputs": []
    },
    {
      "cell_type": "markdown",
      "metadata": {
        "id": "eaaE6ytxuwBZ",
        "colab_type": "text"
      },
      "source": [
        "이렇게 생성된 출력 파일 'tree.dot'을 Graphviz의 파이썬 래퍼 모듈을 호출해 결정 트리의 규칙을 시각적으로 표현할 수 있다."
      ]
    },
    {
      "cell_type": "code",
      "metadata": {
        "id": "mvLvSpKgsXq6",
        "colab_type": "code",
        "outputId": "fe19e681-f3bf-42e0-e5f2-b1834f4a1767",
        "colab": {
          "base_uri": "https://localhost:8080/",
          "height": 916
        }
      },
      "source": [
        "import graphviz \n",
        "# 위에서 생성된 tree.dot 파일을 Graphviz가 읽어서 시각화\n",
        "with open(\"tree.dot\") as f:\n",
        "  dot_graph = f.read()\n",
        "graphviz.Source(dot_graph)"
      ],
      "execution_count": 0,
      "outputs": [
        {
          "output_type": "execute_result",
          "data": {
            "text/plain": [
              "<graphviz.files.Source at 0x7fc88b2aa828>"
            ],
            "image/svg+xml": "<?xml version=\"1.0\" encoding=\"UTF-8\" standalone=\"no\"?>\n<!DOCTYPE svg PUBLIC \"-//W3C//DTD SVG 1.1//EN\"\n \"http://www.w3.org/Graphics/SVG/1.1/DTD/svg11.dtd\">\n<!-- Generated by graphviz version 2.40.1 (20161225.0304)\n -->\n<!-- Title: Tree Pages: 1 -->\n<svg width=\"767pt\" height=\"671pt\"\n viewBox=\"0.00 0.00 767.00 671.00\" xmlns=\"http://www.w3.org/2000/svg\" xmlns:xlink=\"http://www.w3.org/1999/xlink\">\n<g id=\"graph0\" class=\"graph\" transform=\"scale(1 1) rotate(0) translate(4 667)\">\n<title>Tree</title>\n<polygon fill=\"#ffffff\" stroke=\"transparent\" points=\"-4,4 -4,-667 763,-667 763,4 -4,4\"/>\n<!-- 0 -->\n<g id=\"node1\" class=\"node\">\n<title>0</title>\n<polygon fill=\"#fffdfd\" stroke=\"#000000\" points=\"276.5,-663 112.5,-663 112.5,-580 276.5,-580 276.5,-663\"/>\n<text text-anchor=\"middle\" x=\"194.5\" y=\"-647.8\" font-family=\"Times,serif\" font-size=\"14.00\" fill=\"#000000\">petal length (cm) &lt;= 2.45</text>\n<text text-anchor=\"middle\" x=\"194.5\" y=\"-632.8\" font-family=\"Times,serif\" font-size=\"14.00\" fill=\"#000000\">gini = 0.667</text>\n<text text-anchor=\"middle\" x=\"194.5\" y=\"-617.8\" font-family=\"Times,serif\" font-size=\"14.00\" fill=\"#000000\">samples = 120</text>\n<text text-anchor=\"middle\" x=\"194.5\" y=\"-602.8\" font-family=\"Times,serif\" font-size=\"14.00\" fill=\"#000000\">value = [41, 40, 39]</text>\n<text text-anchor=\"middle\" x=\"194.5\" y=\"-587.8\" font-family=\"Times,serif\" font-size=\"14.00\" fill=\"#000000\">class = setosa</text>\n</g>\n<!-- 1 -->\n<g id=\"node2\" class=\"node\">\n<title>1</title>\n<polygon fill=\"#e58139\" stroke=\"#000000\" points=\"175,-536.5 58,-536.5 58,-468.5 175,-468.5 175,-536.5\"/>\n<text text-anchor=\"middle\" x=\"116.5\" y=\"-521.3\" font-family=\"Times,serif\" font-size=\"14.00\" fill=\"#000000\">gini = 0.0</text>\n<text text-anchor=\"middle\" x=\"116.5\" y=\"-506.3\" font-family=\"Times,serif\" font-size=\"14.00\" fill=\"#000000\">samples = 41</text>\n<text text-anchor=\"middle\" x=\"116.5\" y=\"-491.3\" font-family=\"Times,serif\" font-size=\"14.00\" fill=\"#000000\">value = [41, 0, 0]</text>\n<text text-anchor=\"middle\" x=\"116.5\" y=\"-476.3\" font-family=\"Times,serif\" font-size=\"14.00\" fill=\"#000000\">class = setosa</text>\n</g>\n<!-- 0&#45;&gt;1 -->\n<g id=\"edge1\" class=\"edge\">\n<title>0&#45;&gt;1</title>\n<path fill=\"none\" stroke=\"#000000\" d=\"M167.2194,-579.8796C159.8677,-568.6636 151.9036,-556.5131 144.5126,-545.2372\"/>\n<polygon fill=\"#000000\" stroke=\"#000000\" points=\"147.4014,-543.2598 138.9921,-536.8149 141.5469,-547.0972 147.4014,-543.2598\"/>\n<text text-anchor=\"middle\" x=\"133.8982\" y=\"-557.5905\" font-family=\"Times,serif\" font-size=\"14.00\" fill=\"#000000\">True</text>\n</g>\n<!-- 2 -->\n<g id=\"node3\" class=\"node\">\n<title>2</title>\n<polygon fill=\"#fafefc\" stroke=\"#000000\" points=\"354,-544 193,-544 193,-461 354,-461 354,-544\"/>\n<text text-anchor=\"middle\" x=\"273.5\" y=\"-528.8\" font-family=\"Times,serif\" font-size=\"14.00\" fill=\"#000000\">petal width (cm) &lt;= 1.55</text>\n<text text-anchor=\"middle\" x=\"273.5\" y=\"-513.8\" font-family=\"Times,serif\" font-size=\"14.00\" fill=\"#000000\">gini = 0.5</text>\n<text text-anchor=\"middle\" x=\"273.5\" y=\"-498.8\" font-family=\"Times,serif\" font-size=\"14.00\" fill=\"#000000\">samples = 79</text>\n<text text-anchor=\"middle\" x=\"273.5\" y=\"-483.8\" font-family=\"Times,serif\" font-size=\"14.00\" fill=\"#000000\">value = [0, 40, 39]</text>\n<text text-anchor=\"middle\" x=\"273.5\" y=\"-468.8\" font-family=\"Times,serif\" font-size=\"14.00\" fill=\"#000000\">class = versicolor</text>\n</g>\n<!-- 0&#45;&gt;2 -->\n<g id=\"edge2\" class=\"edge\">\n<title>0&#45;&gt;2</title>\n<path fill=\"none\" stroke=\"#000000\" d=\"M222.1304,-579.8796C227.93,-571.1434 234.1059,-561.8404 240.0908,-552.8253\"/>\n<polygon fill=\"#000000\" stroke=\"#000000\" points=\"243.1368,-554.5652 245.7517,-544.2981 237.3049,-550.6935 243.1368,-554.5652\"/>\n<text text-anchor=\"middle\" x=\"250.7022\" y=\"-565.103\" font-family=\"Times,serif\" font-size=\"14.00\" fill=\"#000000\">False</text>\n</g>\n<!-- 3 -->\n<g id=\"node4\" class=\"node\">\n<title>3</title>\n<polygon fill=\"#3ee684\" stroke=\"#000000\" points=\"265.5,-425 101.5,-425 101.5,-342 265.5,-342 265.5,-425\"/>\n<text text-anchor=\"middle\" x=\"183.5\" y=\"-409.8\" font-family=\"Times,serif\" font-size=\"14.00\" fill=\"#000000\">petal length (cm) &lt;= 5.25</text>\n<text text-anchor=\"middle\" x=\"183.5\" y=\"-394.8\" font-family=\"Times,serif\" font-size=\"14.00\" fill=\"#000000\">gini = 0.051</text>\n<text text-anchor=\"middle\" x=\"183.5\" y=\"-379.8\" font-family=\"Times,serif\" font-size=\"14.00\" fill=\"#000000\">samples = 38</text>\n<text text-anchor=\"middle\" x=\"183.5\" y=\"-364.8\" font-family=\"Times,serif\" font-size=\"14.00\" fill=\"#000000\">value = [0, 37, 1]</text>\n<text text-anchor=\"middle\" x=\"183.5\" y=\"-349.8\" font-family=\"Times,serif\" font-size=\"14.00\" fill=\"#000000\">class = versicolor</text>\n</g>\n<!-- 2&#45;&gt;3 -->\n<g id=\"edge3\" class=\"edge\">\n<title>2&#45;&gt;3</title>\n<path fill=\"none\" stroke=\"#000000\" d=\"M242.0224,-460.8796C235.3471,-452.0534 228.2342,-442.6485 221.3504,-433.5466\"/>\n<polygon fill=\"#000000\" stroke=\"#000000\" points=\"223.9357,-431.1626 215.112,-425.2981 218.3526,-435.3852 223.9357,-431.1626\"/>\n</g>\n<!-- 6 -->\n<g id=\"node7\" class=\"node\">\n<title>6</title>\n<polygon fill=\"#8b49e7\" stroke=\"#000000\" points=\"445,-425 284,-425 284,-342 445,-342 445,-425\"/>\n<text text-anchor=\"middle\" x=\"364.5\" y=\"-409.8\" font-family=\"Times,serif\" font-size=\"14.00\" fill=\"#000000\">petal width (cm) &lt;= 1.75</text>\n<text text-anchor=\"middle\" x=\"364.5\" y=\"-394.8\" font-family=\"Times,serif\" font-size=\"14.00\" fill=\"#000000\">gini = 0.136</text>\n<text text-anchor=\"middle\" x=\"364.5\" y=\"-379.8\" font-family=\"Times,serif\" font-size=\"14.00\" fill=\"#000000\">samples = 41</text>\n<text text-anchor=\"middle\" x=\"364.5\" y=\"-364.8\" font-family=\"Times,serif\" font-size=\"14.00\" fill=\"#000000\">value = [0, 3, 38]</text>\n<text text-anchor=\"middle\" x=\"364.5\" y=\"-349.8\" font-family=\"Times,serif\" font-size=\"14.00\" fill=\"#000000\">class = virginica</text>\n</g>\n<!-- 2&#45;&gt;6 -->\n<g id=\"edge6\" class=\"edge\">\n<title>2&#45;&gt;6</title>\n<path fill=\"none\" stroke=\"#000000\" d=\"M305.3274,-460.8796C312.1457,-451.9633 319.4156,-442.4565 326.4421,-433.268\"/>\n<polygon fill=\"#000000\" stroke=\"#000000\" points=\"329.2425,-435.3678 332.5368,-425.2981 323.682,-431.1156 329.2425,-435.3678\"/>\n</g>\n<!-- 4 -->\n<g id=\"node5\" class=\"node\">\n<title>4</title>\n<polygon fill=\"#39e581\" stroke=\"#000000\" points=\"117,-298.5 0,-298.5 0,-230.5 117,-230.5 117,-298.5\"/>\n<text text-anchor=\"middle\" x=\"58.5\" y=\"-283.3\" font-family=\"Times,serif\" font-size=\"14.00\" fill=\"#000000\">gini = 0.0</text>\n<text text-anchor=\"middle\" x=\"58.5\" y=\"-268.3\" font-family=\"Times,serif\" font-size=\"14.00\" fill=\"#000000\">samples = 37</text>\n<text text-anchor=\"middle\" x=\"58.5\" y=\"-253.3\" font-family=\"Times,serif\" font-size=\"14.00\" fill=\"#000000\">value = [0, 37, 0]</text>\n<text text-anchor=\"middle\" x=\"58.5\" y=\"-238.3\" font-family=\"Times,serif\" font-size=\"14.00\" fill=\"#000000\">class = versicolor</text>\n</g>\n<!-- 3&#45;&gt;4 -->\n<g id=\"edge4\" class=\"edge\">\n<title>3&#45;&gt;4</title>\n<path fill=\"none\" stroke=\"#000000\" d=\"M139.7811,-341.8796C127.5375,-330.2237 114.2339,-317.5587 102.0029,-305.9148\"/>\n<polygon fill=\"#000000\" stroke=\"#000000\" points=\"104.2012,-303.1751 94.5451,-298.8149 99.3746,-308.245 104.2012,-303.1751\"/>\n</g>\n<!-- 5 -->\n<g id=\"node6\" class=\"node\">\n<title>5</title>\n<polygon fill=\"#8139e5\" stroke=\"#000000\" points=\"245.5,-298.5 135.5,-298.5 135.5,-230.5 245.5,-230.5 245.5,-298.5\"/>\n<text text-anchor=\"middle\" x=\"190.5\" y=\"-283.3\" font-family=\"Times,serif\" font-size=\"14.00\" fill=\"#000000\">gini = 0.0</text>\n<text text-anchor=\"middle\" x=\"190.5\" y=\"-268.3\" font-family=\"Times,serif\" font-size=\"14.00\" fill=\"#000000\">samples = 1</text>\n<text text-anchor=\"middle\" x=\"190.5\" y=\"-253.3\" font-family=\"Times,serif\" font-size=\"14.00\" fill=\"#000000\">value = [0, 0, 1]</text>\n<text text-anchor=\"middle\" x=\"190.5\" y=\"-238.3\" font-family=\"Times,serif\" font-size=\"14.00\" fill=\"#000000\">class = virginica</text>\n</g>\n<!-- 3&#45;&gt;5 -->\n<g id=\"edge5\" class=\"edge\">\n<title>3&#45;&gt;5</title>\n<path fill=\"none\" stroke=\"#000000\" d=\"M185.9483,-341.8796C186.5757,-331.2134 187.2528,-319.7021 187.8881,-308.9015\"/>\n<polygon fill=\"#000000\" stroke=\"#000000\" points=\"191.3881,-309.0032 188.4815,-298.8149 184.4002,-308.5921 191.3881,-309.0032\"/>\n</g>\n<!-- 7 -->\n<g id=\"node8\" class=\"node\">\n<title>7</title>\n<polygon fill=\"#ffffff\" stroke=\"#000000\" points=\"441,-306 276,-306 276,-223 441,-223 441,-306\"/>\n<text text-anchor=\"middle\" x=\"358.5\" y=\"-290.8\" font-family=\"Times,serif\" font-size=\"14.00\" fill=\"#000000\">sepal length (cm) &lt;= 5.45</text>\n<text text-anchor=\"middle\" x=\"358.5\" y=\"-275.8\" font-family=\"Times,serif\" font-size=\"14.00\" fill=\"#000000\">gini = 0.5</text>\n<text text-anchor=\"middle\" x=\"358.5\" y=\"-260.8\" font-family=\"Times,serif\" font-size=\"14.00\" fill=\"#000000\">samples = 4</text>\n<text text-anchor=\"middle\" x=\"358.5\" y=\"-245.8\" font-family=\"Times,serif\" font-size=\"14.00\" fill=\"#000000\">value = [0, 2, 2]</text>\n<text text-anchor=\"middle\" x=\"358.5\" y=\"-230.8\" font-family=\"Times,serif\" font-size=\"14.00\" fill=\"#000000\">class = versicolor</text>\n</g>\n<!-- 6&#45;&gt;7 -->\n<g id=\"edge7\" class=\"edge\">\n<title>6&#45;&gt;7</title>\n<path fill=\"none\" stroke=\"#000000\" d=\"M362.4015,-341.8796C361.9883,-333.6838 361.5499,-324.9891 361.1219,-316.5013\"/>\n<polygon fill=\"#000000\" stroke=\"#000000\" points=\"364.6067,-316.1091 360.6075,-306.2981 357.6156,-316.4617 364.6067,-316.1091\"/>\n</g>\n<!-- 12 -->\n<g id=\"node13\" class=\"node\">\n<title>12</title>\n<polygon fill=\"#843ee6\" stroke=\"#000000\" points=\"623.5,-306 459.5,-306 459.5,-223 623.5,-223 623.5,-306\"/>\n<text text-anchor=\"middle\" x=\"541.5\" y=\"-290.8\" font-family=\"Times,serif\" font-size=\"14.00\" fill=\"#000000\">petal length (cm) &lt;= 4.85</text>\n<text text-anchor=\"middle\" x=\"541.5\" y=\"-275.8\" font-family=\"Times,serif\" font-size=\"14.00\" fill=\"#000000\">gini = 0.053</text>\n<text text-anchor=\"middle\" x=\"541.5\" y=\"-260.8\" font-family=\"Times,serif\" font-size=\"14.00\" fill=\"#000000\">samples = 37</text>\n<text text-anchor=\"middle\" x=\"541.5\" y=\"-245.8\" font-family=\"Times,serif\" font-size=\"14.00\" fill=\"#000000\">value = [0, 1, 36]</text>\n<text text-anchor=\"middle\" x=\"541.5\" y=\"-230.8\" font-family=\"Times,serif\" font-size=\"14.00\" fill=\"#000000\">class = virginica</text>\n</g>\n<!-- 6&#45;&gt;12 -->\n<g id=\"edge12\" class=\"edge\">\n<title>6&#45;&gt;12</title>\n<path fill=\"none\" stroke=\"#000000\" d=\"M426.406,-341.8796C440.823,-332.1868 456.278,-321.7961 471.0344,-311.8752\"/>\n<polygon fill=\"#000000\" stroke=\"#000000\" points=\"473.2829,-314.581 479.6289,-306.0969 469.3773,-308.7718 473.2829,-314.581\"/>\n</g>\n<!-- 8 -->\n<g id=\"node9\" class=\"node\">\n<title>8</title>\n<polygon fill=\"#8139e5\" stroke=\"#000000\" points=\"258.5,-179.5 148.5,-179.5 148.5,-111.5 258.5,-111.5 258.5,-179.5\"/>\n<text text-anchor=\"middle\" x=\"203.5\" y=\"-164.3\" font-family=\"Times,serif\" font-size=\"14.00\" fill=\"#000000\">gini = 0.0</text>\n<text text-anchor=\"middle\" x=\"203.5\" y=\"-149.3\" font-family=\"Times,serif\" font-size=\"14.00\" fill=\"#000000\">samples = 1</text>\n<text text-anchor=\"middle\" x=\"203.5\" y=\"-134.3\" font-family=\"Times,serif\" font-size=\"14.00\" fill=\"#000000\">value = [0, 0, 1]</text>\n<text text-anchor=\"middle\" x=\"203.5\" y=\"-119.3\" font-family=\"Times,serif\" font-size=\"14.00\" fill=\"#000000\">class = virginica</text>\n</g>\n<!-- 7&#45;&gt;8 -->\n<g id=\"edge8\" class=\"edge\">\n<title>7&#45;&gt;8</title>\n<path fill=\"none\" stroke=\"#000000\" d=\"M304.2885,-222.8796C288.6769,-210.8938 271.6753,-197.841 256.1592,-185.9287\"/>\n<polygon fill=\"#000000\" stroke=\"#000000\" points=\"258.2593,-183.1285 248.1959,-179.8149 253.9965,-188.6808 258.2593,-183.1285\"/>\n</g>\n<!-- 9 -->\n<g id=\"node10\" class=\"node\">\n<title>9</title>\n<polygon fill=\"#9cf2c0\" stroke=\"#000000\" points=\"440.5,-187 276.5,-187 276.5,-104 440.5,-104 440.5,-187\"/>\n<text text-anchor=\"middle\" x=\"358.5\" y=\"-171.8\" font-family=\"Times,serif\" font-size=\"14.00\" fill=\"#000000\">petal length (cm) &lt;= 5.45</text>\n<text text-anchor=\"middle\" x=\"358.5\" y=\"-156.8\" font-family=\"Times,serif\" font-size=\"14.00\" fill=\"#000000\">gini = 0.444</text>\n<text text-anchor=\"middle\" x=\"358.5\" y=\"-141.8\" font-family=\"Times,serif\" font-size=\"14.00\" fill=\"#000000\">samples = 3</text>\n<text text-anchor=\"middle\" x=\"358.5\" y=\"-126.8\" font-family=\"Times,serif\" font-size=\"14.00\" fill=\"#000000\">value = [0, 2, 1]</text>\n<text text-anchor=\"middle\" x=\"358.5\" y=\"-111.8\" font-family=\"Times,serif\" font-size=\"14.00\" fill=\"#000000\">class = versicolor</text>\n</g>\n<!-- 7&#45;&gt;9 -->\n<g id=\"edge9\" class=\"edge\">\n<title>7&#45;&gt;9</title>\n<path fill=\"none\" stroke=\"#000000\" d=\"M358.5,-222.8796C358.5,-214.6838 358.5,-205.9891 358.5,-197.5013\"/>\n<polygon fill=\"#000000\" stroke=\"#000000\" points=\"362.0001,-197.298 358.5,-187.2981 355.0001,-197.2981 362.0001,-197.298\"/>\n</g>\n<!-- 10 -->\n<g id=\"node11\" class=\"node\">\n<title>10</title>\n<polygon fill=\"#39e581\" stroke=\"#000000\" points=\"298,-68 183,-68 183,0 298,0 298,-68\"/>\n<text text-anchor=\"middle\" x=\"240.5\" y=\"-52.8\" font-family=\"Times,serif\" font-size=\"14.00\" fill=\"#000000\">gini = 0.0</text>\n<text text-anchor=\"middle\" x=\"240.5\" y=\"-37.8\" font-family=\"Times,serif\" font-size=\"14.00\" fill=\"#000000\">samples = 2</text>\n<text text-anchor=\"middle\" x=\"240.5\" y=\"-22.8\" font-family=\"Times,serif\" font-size=\"14.00\" fill=\"#000000\">value = [0, 2, 0]</text>\n<text text-anchor=\"middle\" x=\"240.5\" y=\"-7.8\" font-family=\"Times,serif\" font-size=\"14.00\" fill=\"#000000\">class = versicolor</text>\n</g>\n<!-- 9&#45;&gt;10 -->\n<g id=\"edge10\" class=\"edge\">\n<title>9&#45;&gt;10</title>\n<path fill=\"none\" stroke=\"#000000\" d=\"M314.5612,-103.9815C304.6402,-94.607 294.1103,-84.6572 284.1992,-75.2921\"/>\n<polygon fill=\"#000000\" stroke=\"#000000\" points=\"286.4334,-72.5878 276.7611,-68.2637 281.6257,-77.6757 286.4334,-72.5878\"/>\n</g>\n<!-- 11 -->\n<g id=\"node12\" class=\"node\">\n<title>11</title>\n<polygon fill=\"#8139e5\" stroke=\"#000000\" points=\"426.5,-68 316.5,-68 316.5,0 426.5,0 426.5,-68\"/>\n<text text-anchor=\"middle\" x=\"371.5\" y=\"-52.8\" font-family=\"Times,serif\" font-size=\"14.00\" fill=\"#000000\">gini = 0.0</text>\n<text text-anchor=\"middle\" x=\"371.5\" y=\"-37.8\" font-family=\"Times,serif\" font-size=\"14.00\" fill=\"#000000\">samples = 1</text>\n<text text-anchor=\"middle\" x=\"371.5\" y=\"-22.8\" font-family=\"Times,serif\" font-size=\"14.00\" fill=\"#000000\">value = [0, 0, 1]</text>\n<text text-anchor=\"middle\" x=\"371.5\" y=\"-7.8\" font-family=\"Times,serif\" font-size=\"14.00\" fill=\"#000000\">class = virginica</text>\n</g>\n<!-- 9&#45;&gt;11 -->\n<g id=\"edge11\" class=\"edge\">\n<title>9&#45;&gt;11</title>\n<path fill=\"none\" stroke=\"#000000\" d=\"M363.3407,-103.9815C364.3158,-95.618 365.3443,-86.7965 366.3302,-78.3409\"/>\n<polygon fill=\"#000000\" stroke=\"#000000\" points=\"369.8234,-78.6017 367.5051,-68.2637 362.8705,-77.791 369.8234,-78.6017\"/>\n</g>\n<!-- 13 -->\n<g id=\"node14\" class=\"node\">\n<title>13</title>\n<polygon fill=\"#c09cf2\" stroke=\"#000000\" points=\"624,-187 459,-187 459,-104 624,-104 624,-187\"/>\n<text text-anchor=\"middle\" x=\"541.5\" y=\"-171.8\" font-family=\"Times,serif\" font-size=\"14.00\" fill=\"#000000\">sepal length (cm) &lt;= 5.95</text>\n<text text-anchor=\"middle\" x=\"541.5\" y=\"-156.8\" font-family=\"Times,serif\" font-size=\"14.00\" fill=\"#000000\">gini = 0.444</text>\n<text text-anchor=\"middle\" x=\"541.5\" y=\"-141.8\" font-family=\"Times,serif\" font-size=\"14.00\" fill=\"#000000\">samples = 3</text>\n<text text-anchor=\"middle\" x=\"541.5\" y=\"-126.8\" font-family=\"Times,serif\" font-size=\"14.00\" fill=\"#000000\">value = [0, 1, 2]</text>\n<text text-anchor=\"middle\" x=\"541.5\" y=\"-111.8\" font-family=\"Times,serif\" font-size=\"14.00\" fill=\"#000000\">class = virginica</text>\n</g>\n<!-- 12&#45;&gt;13 -->\n<g id=\"edge13\" class=\"edge\">\n<title>12&#45;&gt;13</title>\n<path fill=\"none\" stroke=\"#000000\" d=\"M541.5,-222.8796C541.5,-214.6838 541.5,-205.9891 541.5,-197.5013\"/>\n<polygon fill=\"#000000\" stroke=\"#000000\" points=\"545.0001,-197.298 541.5,-187.2981 538.0001,-197.2981 545.0001,-197.298\"/>\n</g>\n<!-- 16 -->\n<g id=\"node17\" class=\"node\">\n<title>16</title>\n<polygon fill=\"#8139e5\" stroke=\"#000000\" points=\"759,-179.5 642,-179.5 642,-111.5 759,-111.5 759,-179.5\"/>\n<text text-anchor=\"middle\" x=\"700.5\" y=\"-164.3\" font-family=\"Times,serif\" font-size=\"14.00\" fill=\"#000000\">gini = 0.0</text>\n<text text-anchor=\"middle\" x=\"700.5\" y=\"-149.3\" font-family=\"Times,serif\" font-size=\"14.00\" fill=\"#000000\">samples = 34</text>\n<text text-anchor=\"middle\" x=\"700.5\" y=\"-134.3\" font-family=\"Times,serif\" font-size=\"14.00\" fill=\"#000000\">value = [0, 0, 34]</text>\n<text text-anchor=\"middle\" x=\"700.5\" y=\"-119.3\" font-family=\"Times,serif\" font-size=\"14.00\" fill=\"#000000\">class = virginica</text>\n</g>\n<!-- 12&#45;&gt;16 -->\n<g id=\"edge16\" class=\"edge\">\n<title>12&#45;&gt;16</title>\n<path fill=\"none\" stroke=\"#000000\" d=\"M597.1105,-222.8796C613.2013,-210.8368 630.7315,-197.7167 646.7091,-185.7586\"/>\n<polygon fill=\"#000000\" stroke=\"#000000\" points=\"648.9982,-188.4171 654.907,-179.623 644.8038,-182.8129 648.9982,-188.4171\"/>\n</g>\n<!-- 14 -->\n<g id=\"node15\" class=\"node\">\n<title>14</title>\n<polygon fill=\"#39e581\" stroke=\"#000000\" points=\"586,-68 471,-68 471,0 586,0 586,-68\"/>\n<text text-anchor=\"middle\" x=\"528.5\" y=\"-52.8\" font-family=\"Times,serif\" font-size=\"14.00\" fill=\"#000000\">gini = 0.0</text>\n<text text-anchor=\"middle\" x=\"528.5\" y=\"-37.8\" font-family=\"Times,serif\" font-size=\"14.00\" fill=\"#000000\">samples = 1</text>\n<text text-anchor=\"middle\" x=\"528.5\" y=\"-22.8\" font-family=\"Times,serif\" font-size=\"14.00\" fill=\"#000000\">value = [0, 1, 0]</text>\n<text text-anchor=\"middle\" x=\"528.5\" y=\"-7.8\" font-family=\"Times,serif\" font-size=\"14.00\" fill=\"#000000\">class = versicolor</text>\n</g>\n<!-- 13&#45;&gt;14 -->\n<g id=\"edge14\" class=\"edge\">\n<title>13&#45;&gt;14</title>\n<path fill=\"none\" stroke=\"#000000\" d=\"M536.6593,-103.9815C535.6842,-95.618 534.6557,-86.7965 533.6698,-78.3409\"/>\n<polygon fill=\"#000000\" stroke=\"#000000\" points=\"537.1295,-77.791 532.4949,-68.2637 530.1766,-78.6017 537.1295,-77.791\"/>\n</g>\n<!-- 15 -->\n<g id=\"node16\" class=\"node\">\n<title>15</title>\n<polygon fill=\"#8139e5\" stroke=\"#000000\" points=\"714.5,-68 604.5,-68 604.5,0 714.5,0 714.5,-68\"/>\n<text text-anchor=\"middle\" x=\"659.5\" y=\"-52.8\" font-family=\"Times,serif\" font-size=\"14.00\" fill=\"#000000\">gini = 0.0</text>\n<text text-anchor=\"middle\" x=\"659.5\" y=\"-37.8\" font-family=\"Times,serif\" font-size=\"14.00\" fill=\"#000000\">samples = 2</text>\n<text text-anchor=\"middle\" x=\"659.5\" y=\"-22.8\" font-family=\"Times,serif\" font-size=\"14.00\" fill=\"#000000\">value = [0, 0, 2]</text>\n<text text-anchor=\"middle\" x=\"659.5\" y=\"-7.8\" font-family=\"Times,serif\" font-size=\"14.00\" fill=\"#000000\">class = virginica</text>\n</g>\n<!-- 13&#45;&gt;15 -->\n<g id=\"edge15\" class=\"edge\">\n<title>13&#45;&gt;15</title>\n<path fill=\"none\" stroke=\"#000000\" d=\"M585.4388,-103.9815C595.3598,-94.607 605.8897,-84.6572 615.8008,-75.2921\"/>\n<polygon fill=\"#000000\" stroke=\"#000000\" points=\"618.3743,-77.6757 623.2389,-68.2637 613.5666,-72.5878 618.3743,-77.6757\"/>\n</g>\n</g>\n</svg>\n"
          },
          "metadata": {
            "tags": []
          },
          "execution_count": 8
        }
      ]
    },
    {
      "cell_type": "markdown",
      "metadata": {
        "id": "NN_C0YL-vsNW",
        "colab_type": "text"
      },
      "source": [
        "각 노드의 색깔은 붓꽃 데이터의 레이블 값을 의미한다.\n",
        "- 주황색은 Setosa, 초록색은 Versicolor, 보라색은 Virginica 레이블을 나타낸다.\n",
        "- 색깔이 짙어질수록 지니 계수가 낮고 해당 레이블에 속하는 샘플 데이터가 많다는 의미."
      ]
    },
    {
      "cell_type": "markdown",
      "metadata": {
        "id": "s5lzeiFm1_Do",
        "colab_type": "text"
      },
      "source": [
        "결정 트리는 균일도에 기반해 어떠한 속성을 규칙 조건으로 선택하느냐가 중요한 요건이다.\n",
        "- 중요한 몇 개의 피처가 명확한 규칙 트리를 만드는 데 크게 기여하고, 모델을 좀 더 간결하고 이상치에 강한 모델을 만들 수 있기 때문이다."
      ]
    },
    {
      "cell_type": "markdown",
      "metadata": {
        "id": "LgFQfacY20Dr",
        "colab_type": "text"
      },
      "source": [
        "사이킷런은 피처의 중요한 역할 지표를 `feature_importances_` 속성으로 제공한다.\n",
        "- `feature_importances_`는 ndarray 형태로 값을 반환하고 피처 순서대로 값이 할당된다."
      ]
    },
    {
      "cell_type": "markdown",
      "metadata": {
        "id": "6apSgpHj3EDr",
        "colab_type": "text"
      },
      "source": [
        "붓꽃 데이터셋에서 피처별로 결정 트리 알고리즘에서 중요도를 추출해보자."
      ]
    },
    {
      "cell_type": "code",
      "metadata": {
        "id": "Am1Go0gbvHYU",
        "colab_type": "code",
        "outputId": "d9d29605-d148-4787-9038-0c3e8c1b72eb",
        "colab": {
          "base_uri": "https://localhost:8080/",
          "height": 384
        }
      },
      "source": [
        "import seaborn as sns\n",
        "import numpy as np\n",
        "%matplotlib inline\n",
        "\n",
        "# feature importance 추출\n",
        "print(\"Feature importances:\\n{}\".format(np.round(dt_clf.feature_importances_, 3)))\n",
        "\n",
        "# feature별 importance 매핑\n",
        "for name, value in zip(iris_data.feature_names, dt_clf.feature_importances_):\n",
        "  print('{}: {:.3f}'.format(name, value))\n",
        "\n",
        "# feature importance를 column 별로 시각화하기\n",
        "sns.barplot(x=dt_clf.feature_importances_, y=iris_data.feature_names)"
      ],
      "execution_count": 0,
      "outputs": [
        {
          "output_type": "stream",
          "text": [
            "Feature importances:\n",
            "[0.025 0.    0.555 0.42 ]\n",
            "sepal length (cm): 0.025\n",
            "sepal width (cm): 0.000\n",
            "petal length (cm): 0.555\n",
            "petal width (cm): 0.420\n"
          ],
          "name": "stdout"
        },
        {
          "output_type": "execute_result",
          "data": {
            "text/plain": [
              "<matplotlib.axes._subplots.AxesSubplot at 0x7fc85610c828>"
            ]
          },
          "metadata": {
            "tags": []
          },
          "execution_count": 9
        },
        {
          "output_type": "display_data",
          "data": {
            "image/png": "[encoded data removed]",
            "text/plain": [
              "<Figure size 432x288 with 1 Axes>"
            ]
          },
          "metadata": {
            "tags": [],
            "needs_background": "light"
          }
        }
      ]
    },
    {
      "cell_type": "markdown",
      "metadata": {
        "id": "o6y9J40I4SAt",
        "colab_type": "text"
      },
      "source": [
        "`petal_length`가 가장 피처 중요도가 높음을 알 수 있다."
      ]
    },
    {
      "cell_type": "markdown",
      "metadata": {
        "id": "dlY3EHck4XxC",
        "colab_type": "text"
      },
      "source": [
        "결정 트리는 알고리즘 자체가 직관적이기 때문에 알고리즘과 관련된 요소를 시각적으로 표현할 수 있는 다양한 방안이 있다."
      ]
    },
    {
      "cell_type": "markdown",
      "metadata": {
        "id": "NDqXHVatnIBO",
        "colab_type": "text"
      },
      "source": [
        "### **결정 트리 과적합(Overfitting)**"
      ]
    },
    {
      "cell_type": "markdown",
      "metadata": {
        "id": "QlZxF7hau11M",
        "colab_type": "text"
      },
      "source": [
        "결정 트리가 어떻게 학습 데이터를 분할해 예측을 수행하는지와 이로 인한 과적합 문제를 시각화해 알아보자.\n",
        "- 각 피처가 X, Y축으로 나열된 2차원 그래프. X_features와 y_labels 데이터셋을 기반으로 결정 트리를 학습해 보자."
      ]
    },
    {
      "cell_type": "code",
      "metadata": {
        "id": "aC0mEiwi4EY6",
        "colab_type": "code",
        "outputId": "8066d72e-d0f8-4e10-a3af-ffc4808ff52f",
        "colab": {
          "base_uri": "https://localhost:8080/",
          "height": 298
        }
      },
      "source": [
        "from sklearn.datasets import make_classification\n",
        "import matplotlib.pyplot as plt\n",
        "%matplotlib inline\n",
        "\n",
        "plt.title(\"3 Class values with 2 features Sample data creation\")\n",
        "\n",
        "# 2차원 시각화를 위해서 피처는 2개, 레이블은 3가지 유형의 분류 샘플 데이터 생성.\n",
        "X_features, y_labels = make_classification(n_features=2, n_redundant=0, n_informative=2,\n",
        "                                           n_classes=3, n_clusters_per_class=1, random_state=0)\n",
        "\n",
        "# 그래프 형태로 2개의 피처로 2차원 좌표 시각화, 각 클래스 값은 다른 색깔로 표시됨.\n",
        "plt.scatter(X_features[:, 0], X_features[:, 1], marker='o', c=y_labels, s=25, edgecolors='k')"
      ],
      "execution_count": 0,
      "outputs": [
        {
          "output_type": "execute_result",
          "data": {
            "text/plain": [
              "<matplotlib.collections.PathCollection at 0x7fc8560adfd0>"
            ]
          },
          "metadata": {
            "tags": []
          },
          "execution_count": 10
        },
        {
          "output_type": "display_data",
          "data": {
            "image/png": "[encoded data removed]",
            "text/plain": [
              "<Figure size 432x288 with 1 Axes>"
            ]
          },
          "metadata": {
            "tags": [],
            "needs_background": "light"
          }
        }
      ]
    },
    {
      "cell_type": "markdown",
      "metadata": {
        "id": "vXWK7vM-w3uu",
        "colab_type": "text"
      },
      "source": [
        "첫 번째 학습에는 결정 트리의 하이퍼 파라미터를 디폴트로 하고, 켤정 트리 모델이 어떠한 기준을 가지고 분할하며 데이터를 분류하는지 확인해보자."
      ]
    },
    {
      "cell_type": "code",
      "metadata": {
        "id": "oxM48fyjxs81",
        "colab_type": "code",
        "colab": {}
      },
      "source": [
        "def visualize_boundary(model, X, y):\n",
        "    fig,ax = plt.subplots()\n",
        "    \n",
        "    # 학습 데이타 scatter plot으로 나타내기\n",
        "    ax.scatter(X[:, 0], X[:, 1], c=y, s=25, cmap='rainbow', edgecolor='k',\n",
        "               clim=(y.min(), y.max()), zorder=3)\n",
        "    ax.axis('tight')\n",
        "    ax.axis('off')\n",
        "    xlim_start , xlim_end = ax.get_xlim()\n",
        "    ylim_start , ylim_end = ax.get_ylim()\n",
        "    \n",
        "    # 호출 파라미터로 들어온 training 데이타로 model 학습 . \n",
        "    model.fit(X, y)\n",
        "    # meshgrid 형태인 모든 좌표값으로 예측 수행. \n",
        "    xx, yy = np.meshgrid(np.linspace(xlim_start,xlim_end, num=200),np.linspace(ylim_start,ylim_end, num=200))\n",
        "    Z = model.predict(np.c_[xx.ravel(), yy.ravel()]).reshape(xx.shape)\n",
        "    \n",
        "    # contourf() 를 이용하여 class boundary 를 visualization 수행. \n",
        "    n_classes = len(np.unique(y))\n",
        "    contours = ax.contourf(xx, yy, Z, alpha=0.3,\n",
        "                           levels=np.arange(n_classes + 1) - 0.5,\n",
        "                           cmap='rainbow', clim=(y.min(), y.max()),\n",
        "                           zorder=1)"
      ],
      "execution_count": 0,
      "outputs": []
    },
    {
      "cell_type": "code",
      "metadata": {
        "id": "knVqBaJLYniQ",
        "colab_type": "code",
        "outputId": "0f6c072a-879b-429a-f5d2-437e7a0ef151",
        "colab": {
          "base_uri": "https://localhost:8080/",
          "height": 248
        }
      },
      "source": [
        "from sklearn.tree import DecisionTreeClassifier\n",
        "\n",
        "# 특정한 트리 생성 제약 없는 결정 트리의 학습과 결정 경계 시각화.\n",
        "dt_clf = DecisionTreeClassifier().fit(X_features, y_labels)\n",
        "visualize_boundary(dt_clf, X_features, y_labels)"
      ],
      "execution_count": 0,
      "outputs": [
        {
          "output_type": "display_data",
          "data": {
            "image/png": "[encoded data removed]",
            "text/plain": [
              "<Figure size 432x288 with 1 Axes>"
            ]
          },
          "metadata": {
            "tags": [],
            "needs_background": "light"
          }
        }
      ]
    },
    {
      "cell_type": "markdown",
      "metadata": {
        "id": "gXhMcF__x7VB",
        "colab_type": "text"
      },
      "source": [
        "이상치 데이터도 분류하기 위해 분할이 자주 일어나 결정 기준 경계가 매우 많아지고 복잡해졌다.\n",
        "- 이런 복잡한 모델은 학습 데이터셋의 특성과 약간만 다른 형태의 데이터셋을 예측하면 예측 정확도가 떨어지게 된다."
      ]
    },
    {
      "cell_type": "markdown",
      "metadata": {
        "id": "i7wP9bVp_gZ1",
        "colab_type": "text"
      },
      "source": [
        "이번엔 `min_samples_leaf=6`으로 규칙을 완화해 어떻게 결정 기준 경계가 변하는지 살펴보자."
      ]
    },
    {
      "cell_type": "code",
      "metadata": {
        "id": "PcI5GE8ZxXK_",
        "colab_type": "code",
        "outputId": "efcd5193-6e66-4ba0-cb1b-b7f3a8d9e2e8",
        "colab": {
          "base_uri": "https://localhost:8080/",
          "height": 248
        }
      },
      "source": [
        "# min_samples_leaf=6으로 트리 생성 조건을 제약한 결정 경계 시각화\n",
        "dt_clf = DecisionTreeClassifier(min_samples_leaf=6).fit(X_features, y_labels)\n",
        "visualize_boundary(dt_clf, X_features, y_labels)"
      ],
      "execution_count": 0,
      "outputs": [
        {
          "output_type": "display_data",
          "data": {
            "image/png": "[encoded data removed]",
            "text/plain": [
              "<Figure size 432x288 with 1 Axes>"
            ]
          },
          "metadata": {
            "tags": [],
            "needs_background": "light"
          }
        }
      ]
    },
    {
      "cell_type": "markdown",
      "metadata": {
        "id": "uBmc3sR3EVlu",
        "colab_type": "text"
      },
      "source": [
        "좀 더 일반화된 분류 규칙에 따라 분류된 것 같다."
      ]
    },
    {
      "cell_type": "markdown",
      "metadata": {
        "id": "fMZC1-d3EmvR",
        "colab_type": "text"
      },
      "source": [
        "### **결정 트리 실습 - 사용자 행동 인식 데이터셋**"
      ]
    },
    {
      "cell_type": "markdown",
      "metadata": {
        "id": "qHdlBLRIEqui",
        "colab_type": "text"
      },
      "source": [
        "결정 트리를 이용해 사용자 행동 인식(Human Activity Recognition) 데이터셋에 대한 예측 분류를 수행해 보자.\n",
        "- 이 데이터셋은 30명에게 스마트폰 센서를 장학한 뒤 사람의 동작과 관련된 여러 피처를 수집한 데이터다.\n",
        "- 수집된 피처 세트를 기반으로 결정 트리를 이용해 어떠한 동작인지 예측해 보자."
      ]
    },
    {
      "cell_type": "code",
      "metadata": {
        "id": "LdrwXRyAFsgB",
        "colab_type": "code",
        "outputId": "42aa1637-9b08-4ab9-bbe4-cfd29881fb2f",
        "colab": {
          "resources": {
            "http://localhost:8080/nbextensions/google.colab/files.js": {
              "data": "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",
              "ok": true,
              "headers": [
                [
                  "content-type",
                  "application/javascript"
                ]
              ],
              "status": 200,
              "status_text": ""
            }
          },
          "base_uri": "https://localhost:8080/",
          "height": 108
        }
      },
      "source": [
        "from google.colab import files\n",
        "files.upload()"
      ],
      "execution_count": 0,
      "outputs": [
        {
          "output_type": "display_data",
          "data": {
            "text/html": [
              "\n",
              "     <input type=\"file\" id=\"files-14a9d186-ffd1-4ee6-9009-f5f34672ffec\" name=\"files[]\" multiple disabled />\n",
              "     <output id=\"result-14a9d186-ffd1-4ee6-9009-f5f34672ffec\">\n",
              "      Upload widget is only available when the cell has been executed in the\n",
              "      current browser session. Please rerun this cell to enable.\n",
              "      </output>\n",
              "      <script src=\"/nbextensions/google.colab/files.js\"></script> "
            ],
            "text/plain": [
              "<IPython.core.display.HTML object>"
            ]
          },
          "metadata": {
            "tags": []
          }
        },
        {
          "output_type": "stream",
          "text": [
            "Saving features.txt to features.txt\n"
          ],
          "name": "stdout"
        },
        {
          "output_type": "execute_result",
          "data": {
            "text/plain": [
              "{'features.txt': b'1 tBodyAcc-mean()-X\\n2 tBodyAcc-mean()-Y\\n3 tBodyAcc-mean()-Z\\n4 tBodyAcc-std()-X\\n5 tBodyAcc-std()-Y\\n6 tBodyAcc-std()-Z\\n7 tBodyAcc-mad()-X\\n8 tBodyAcc-mad()-Y\\n9 tBodyAcc-mad()-Z\\n10 tBodyAcc-max()-X\\n11 tBodyAcc-max()-Y\\n12 tBodyAcc-max()-Z\\n13 tBodyAcc-min()-X\\n14 tBodyAcc-min()-Y\\n15 tBodyAcc-min()-Z\\n16 tBodyAcc-sma()\\n17 tBodyAcc-energy()-X\\n18 tBodyAcc-energy()-Y\\n19 tBodyAcc-energy()-Z\\n20 tBodyAcc-iqr()-X\\n21 tBodyAcc-iqr()-Y\\n22 tBodyAcc-iqr()-Z\\n23 tBodyAcc-entropy()-X\\n24 tBodyAcc-entropy()-Y\\n25 tBodyAcc-entropy()-Z\\n26 tBodyAcc-arCoeff()-X,1\\n27 tBodyAcc-arCoeff()-X,2\\n28 tBodyAcc-arCoeff()-X,3\\n29 tBodyAcc-arCoeff()-X,4\\n30 tBodyAcc-arCoeff()-Y,1\\n31 tBodyAcc-arCoeff()-Y,2\\n32 tBodyAcc-arCoeff()-Y,3\\n33 tBodyAcc-arCoeff()-Y,4\\n34 tBodyAcc-arCoeff()-Z,1\\n35 tBodyAcc-arCoeff()-Z,2\\n36 tBodyAcc-arCoeff()-Z,3\\n37 tBodyAcc-arCoeff()-Z,4\\n38 tBodyAcc-correlation()-X,Y\\n39 tBodyAcc-correlation()-X,Z\\n40 tBodyAcc-correlation()-Y,Z\\n41 tGravityAcc-mean()-X\\n42 tGravityAcc-mean()-Y\\n43 tGravityAcc-mean()-Z\\n44 tGravityAcc-std()-X\\n45 tGravityAcc-std()-Y\\n46 tGravityAcc-std()-Z\\n47 tGravityAcc-mad()-X\\n48 tGravityAcc-mad()-Y\\n49 tGravityAcc-mad()-Z\\n50 tGravityAcc-max()-X\\n51 tGravityAcc-max()-Y\\n52 tGravityAcc-max()-Z\\n53 tGravityAcc-min()-X\\n54 tGravityAcc-min()-Y\\n55 tGravityAcc-min()-Z\\n56 tGravityAcc-sma()\\n57 tGravityAcc-energy()-X\\n58 tGravityAcc-energy()-Y\\n59 tGravityAcc-energy()-Z\\n60 tGravityAcc-iqr()-X\\n61 tGravityAcc-iqr()-Y\\n62 tGravityAcc-iqr()-Z\\n63 tGravityAcc-entropy()-X\\n64 tGravityAcc-entropy()-Y\\n65 tGravityAcc-entropy()-Z\\n66 tGravityAcc-arCoeff()-X,1\\n67 tGravityAcc-arCoeff()-X,2\\n68 tGravityAcc-arCoeff()-X,3\\n69 tGravityAcc-arCoeff()-X,4\\n70 tGravityAcc-arCoeff()-Y,1\\n71 tGravityAcc-arCoeff()-Y,2\\n72 tGravityAcc-arCoeff()-Y,3\\n73 tGravityAcc-arCoeff()-Y,4\\n74 tGravityAcc-arCoeff()-Z,1\\n75 tGravityAcc-arCoeff()-Z,2\\n76 tGravityAcc-arCoeff()-Z,3\\n77 tGravityAcc-arCoeff()-Z,4\\n78 tGravityAcc-correlation()-X,Y\\n79 tGravityAcc-correlation()-X,Z\\n80 tGravityAcc-correlation()-Y,Z\\n81 tBodyAccJerk-mean()-X\\n82 tBodyAccJerk-mean()-Y\\n83 tBodyAccJerk-mean()-Z\\n84 tBodyAccJerk-std()-X\\n85 tBodyAccJerk-std()-Y\\n86 tBodyAccJerk-std()-Z\\n87 tBodyAccJerk-mad()-X\\n88 tBodyAccJerk-mad()-Y\\n89 tBodyAccJerk-mad()-Z\\n90 tBodyAccJerk-max()-X\\n91 tBodyAccJerk-max()-Y\\n92 tBodyAccJerk-max()-Z\\n93 tBodyAccJerk-min()-X\\n94 tBodyAccJerk-min()-Y\\n95 tBodyAccJerk-min()-Z\\n96 tBodyAccJerk-sma()\\n97 tBodyAccJerk-energy()-X\\n98 tBodyAccJerk-energy()-Y\\n99 tBodyAccJerk-energy()-Z\\n100 tBodyAccJerk-iqr()-X\\n101 tBodyAccJerk-iqr()-Y\\n102 tBodyAccJerk-iqr()-Z\\n103 tBodyAccJerk-entropy()-X\\n104 tBodyAccJerk-entropy()-Y\\n105 tBodyAccJerk-entropy()-Z\\n106 tBodyAccJerk-arCoeff()-X,1\\n107 tBodyAccJerk-arCoeff()-X,2\\n108 tBodyAccJerk-arCoeff()-X,3\\n109 tBodyAccJerk-arCoeff()-X,4\\n110 tBodyAccJerk-arCoeff()-Y,1\\n111 tBodyAccJerk-arCoeff()-Y,2\\n112 tBodyAccJerk-arCoeff()-Y,3\\n113 tBodyAccJerk-arCoeff()-Y,4\\n114 tBodyAccJerk-arCoeff()-Z,1\\n115 tBodyAccJerk-arCoeff()-Z,2\\n116 tBodyAccJerk-arCoeff()-Z,3\\n117 tBodyAccJerk-arCoeff()-Z,4\\n118 tBodyAccJerk-correlation()-X,Y\\n119 tBodyAccJerk-correlation()-X,Z\\n120 tBodyAccJerk-correlation()-Y,Z\\n121 tBodyGyro-mean()-X\\n122 tBodyGyro-mean()-Y\\n123 tBodyGyro-mean()-Z\\n124 tBodyGyro-std()-X\\n125 tBodyGyro-std()-Y\\n126 tBodyGyro-std()-Z\\n127 tBodyGyro-mad()-X\\n128 tBodyGyro-mad()-Y\\n129 tBodyGyro-mad()-Z\\n130 tBodyGyro-max()-X\\n131 tBodyGyro-max()-Y\\n132 tBodyGyro-max()-Z\\n133 tBodyGyro-min()-X\\n134 tBodyGyro-min()-Y\\n135 tBodyGyro-min()-Z\\n136 tBodyGyro-sma()\\n137 tBodyGyro-energy()-X\\n138 tBodyGyro-energy()-Y\\n139 tBodyGyro-energy()-Z\\n140 tBodyGyro-iqr()-X\\n141 tBodyGyro-iqr()-Y\\n142 tBodyGyro-iqr()-Z\\n143 tBodyGyro-entropy()-X\\n144 tBodyGyro-entropy()-Y\\n145 tBodyGyro-entropy()-Z\\n146 tBodyGyro-arCoeff()-X,1\\n147 tBodyGyro-arCoeff()-X,2\\n148 tBodyGyro-arCoeff()-X,3\\n149 tBodyGyro-arCoeff()-X,4\\n150 tBodyGyro-arCoeff()-Y,1\\n151 tBodyGyro-arCoeff()-Y,2\\n152 tBodyGyro-arCoeff()-Y,3\\n153 tBodyGyro-arCoeff()-Y,4\\n154 tBodyGyro-arCoeff()-Z,1\\n155 tBodyGyro-arCoeff()-Z,2\\n156 tBodyGyro-arCoeff()-Z,3\\n157 tBodyGyro-arCoeff()-Z,4\\n158 tBodyGyro-correlation()-X,Y\\n159 tBodyGyro-correlation()-X,Z\\n160 tBodyGyro-correlation()-Y,Z\\n161 tBodyGyroJerk-mean()-X\\n162 tBodyGyroJerk-mean()-Y\\n163 tBodyGyroJerk-mean()-Z\\n164 tBodyGyroJerk-std()-X\\n165 tBodyGyroJerk-std()-Y\\n166 tBodyGyroJerk-std()-Z\\n167 tBodyGyroJerk-mad()-X\\n168 tBodyGyroJerk-mad()-Y\\n169 tBodyGyroJerk-mad()-Z\\n170 tBodyGyroJerk-max()-X\\n171 tBodyGyroJerk-max()-Y\\n172 tBodyGyroJerk-max()-Z\\n173 tBodyGyroJerk-min()-X\\n174 tBodyGyroJerk-min()-Y\\n175 tBodyGyroJerk-min()-Z\\n176 tBodyGyroJerk-sma()\\n177 tBodyGyroJerk-energy()-X\\n178 tBodyGyroJerk-energy()-Y\\n179 tBodyGyroJerk-energy()-Z\\n180 tBodyGyroJerk-iqr()-X\\n181 tBodyGyroJerk-iqr()-Y\\n182 tBodyGyroJerk-iqr()-Z\\n183 tBodyGyroJerk-entropy()-X\\n184 tBodyGyroJerk-entropy()-Y\\n185 tBodyGyroJerk-entropy()-Z\\n186 tBodyGyroJerk-arCoeff()-X,1\\n187 tBodyGyroJerk-arCoeff()-X,2\\n188 tBodyGyroJerk-arCoeff()-X,3\\n189 tBodyGyroJerk-arCoeff()-X,4\\n190 tBodyGyroJerk-arCoeff()-Y,1\\n191 tBodyGyroJerk-arCoeff()-Y,2\\n192 tBodyGyroJerk-arCoeff()-Y,3\\n193 tBodyGyroJerk-arCoeff()-Y,4\\n194 tBodyGyroJerk-arCoeff()-Z,1\\n195 tBodyGyroJerk-arCoeff()-Z,2\\n196 tBodyGyroJerk-arCoeff()-Z,3\\n197 tBodyGyroJerk-arCoeff()-Z,4\\n198 tBodyGyroJerk-correlation()-X,Y\\n199 tBodyGyroJerk-correlation()-X,Z\\n200 tBodyGyroJerk-correlation()-Y,Z\\n201 tBodyAccMag-mean()\\n202 tBodyAccMag-std()\\n203 tBodyAccMag-mad()\\n204 tBodyAccMag-max()\\n205 tBodyAccMag-min()\\n206 tBodyAccMag-sma()\\n207 tBodyAccMag-energy()\\n208 tBodyAccMag-iqr()\\n209 tBodyAccMag-entropy()\\n210 tBodyAccMag-arCoeff()1\\n211 tBodyAccMag-arCoeff()2\\n212 tBodyAccMag-arCoeff()3\\n213 tBodyAccMag-arCoeff()4\\n214 tGravityAccMag-mean()\\n215 tGravityAccMag-std()\\n216 tGravityAccMag-mad()\\n217 tGravityAccMag-max()\\n218 tGravityAccMag-min()\\n219 tGravityAccMag-sma()\\n220 tGravityAccMag-energy()\\n221 tGravityAccMag-iqr()\\n222 tGravityAccMag-entropy()\\n223 tGravityAccMag-arCoeff()1\\n224 tGravityAccMag-arCoeff()2\\n225 tGravityAccMag-arCoeff()3\\n226 tGravityAccMag-arCoeff()4\\n227 tBodyAccJerkMag-mean()\\n228 tBodyAccJerkMag-std()\\n229 tBodyAccJerkMag-mad()\\n230 tBodyAccJerkMag-max()\\n231 tBodyAccJerkMag-min()\\n232 tBodyAccJerkMag-sma()\\n233 tBodyAccJerkMag-energy()\\n234 tBodyAccJerkMag-iqr()\\n235 tBodyAccJerkMag-entropy()\\n236 tBodyAccJerkMag-arCoeff()1\\n237 tBodyAccJerkMag-arCoeff()2\\n238 tBodyAccJerkMag-arCoeff()3\\n239 tBodyAccJerkMag-arCoeff()4\\n240 tBodyGyroMag-mean()\\n241 tBodyGyroMag-std()\\n242 tBodyGyroMag-mad()\\n243 tBodyGyroMag-max()\\n244 tBodyGyroMag-min()\\n245 tBodyGyroMag-sma()\\n246 tBodyGyroMag-energy()\\n247 tBodyGyroMag-iqr()\\n248 tBodyGyroMag-entropy()\\n249 tBodyGyroMag-arCoeff()1\\n250 tBodyGyroMag-arCoeff()2\\n251 tBodyGyroMag-arCoeff()3\\n252 tBodyGyroMag-arCoeff()4\\n253 tBodyGyroJerkMag-mean()\\n254 tBodyGyroJerkMag-std()\\n255 tBodyGyroJerkMag-mad()\\n256 tBodyGyroJerkMag-max()\\n257 tBodyGyroJerkMag-min()\\n258 tBodyGyroJerkMag-sma()\\n259 tBodyGyroJerkMag-energy()\\n260 tBodyGyroJerkMag-iqr()\\n261 tBodyGyroJerkMag-entropy()\\n262 tBodyGyroJerkMag-arCoeff()1\\n263 tBodyGyroJerkMag-arCoeff()2\\n264 tBodyGyroJerkMag-arCoeff()3\\n265 tBodyGyroJerkMag-arCoeff()4\\n266 fBodyAcc-mean()-X\\n267 fBodyAcc-mean()-Y\\n268 fBodyAcc-mean()-Z\\n269 fBodyAcc-std()-X\\n270 fBodyAcc-std()-Y\\n271 fBodyAcc-std()-Z\\n272 fBodyAcc-mad()-X\\n273 fBodyAcc-mad()-Y\\n274 fBodyAcc-mad()-Z\\n275 fBodyAcc-max()-X\\n276 fBodyAcc-max()-Y\\n277 fBodyAcc-max()-Z\\n278 fBodyAcc-min()-X\\n279 fBodyAcc-min()-Y\\n280 fBodyAcc-min()-Z\\n281 fBodyAcc-sma()\\n282 fBodyAcc-energy()-X\\n283 fBodyAcc-energy()-Y\\n284 fBodyAcc-energy()-Z\\n285 fBodyAcc-iqr()-X\\n286 fBodyAcc-iqr()-Y\\n287 fBodyAcc-iqr()-Z\\n288 fBodyAcc-entropy()-X\\n289 fBodyAcc-entropy()-Y\\n290 fBodyAcc-entropy()-Z\\n291 fBodyAcc-maxInds-X\\n292 fBodyAcc-maxInds-Y\\n293 fBodyAcc-maxInds-Z\\n294 fBodyAcc-meanFreq()-X\\n295 fBodyAcc-meanFreq()-Y\\n296 fBodyAcc-meanFreq()-Z\\n297 fBodyAcc-skewness()-X\\n298 fBodyAcc-kurtosis()-X\\n299 fBodyAcc-skewness()-Y\\n300 fBodyAcc-kurtosis()-Y\\n301 fBodyAcc-skewness()-Z\\n302 fBodyAcc-kurtosis()-Z\\n303 fBodyAcc-bandsEnergy()-1,8\\n304 fBodyAcc-bandsEnergy()-9,16\\n305 fBodyAcc-bandsEnergy()-17,24\\n306 fBodyAcc-bandsEnergy()-25,32\\n307 fBodyAcc-bandsEnergy()-33,40\\n308 fBodyAcc-bandsEnergy()-41,48\\n309 fBodyAcc-bandsEnergy()-49,56\\n310 fBodyAcc-bandsEnergy()-57,64\\n311 fBodyAcc-bandsEnergy()-1,16\\n312 fBodyAcc-bandsEnergy()-17,32\\n313 fBodyAcc-bandsEnergy()-33,48\\n314 fBodyAcc-bandsEnergy()-49,64\\n315 fBodyAcc-bandsEnergy()-1,24\\n316 fBodyAcc-bandsEnergy()-25,48\\n317 fBodyAcc-bandsEnergy()-1,8\\n318 fBodyAcc-bandsEnergy()-9,16\\n319 fBodyAcc-bandsEnergy()-17,24\\n320 fBodyAcc-bandsEnergy()-25,32\\n321 fBodyAcc-bandsEnergy()-33,40\\n322 fBodyAcc-bandsEnergy()-41,48\\n323 fBodyAcc-bandsEnergy()-49,56\\n324 fBodyAcc-bandsEnergy()-57,64\\n325 fBodyAcc-bandsEnergy()-1,16\\n326 fBodyAcc-bandsEnergy()-17,32\\n327 fBodyAcc-bandsEnergy()-33,48\\n328 fBodyAcc-bandsEnergy()-49,64\\n329 fBodyAcc-bandsEnergy()-1,24\\n330 fBodyAcc-bandsEnergy()-25,48\\n331 fBodyAcc-bandsEnergy()-1,8\\n332 fBodyAcc-bandsEnergy()-9,16\\n333 fBodyAcc-bandsEnergy()-17,24\\n334 fBodyAcc-bandsEnergy()-25,32\\n335 fBodyAcc-bandsEnergy()-33,40\\n336 fBodyAcc-bandsEnergy()-41,48\\n337 fBodyAcc-bandsEnergy()-49,56\\n338 fBodyAcc-bandsEnergy()-57,64\\n339 fBodyAcc-bandsEnergy()-1,16\\n340 fBodyAcc-bandsEnergy()-17,32\\n341 fBodyAcc-bandsEnergy()-33,48\\n342 fBodyAcc-bandsEnergy()-49,64\\n343 fBodyAcc-bandsEnergy()-1,24\\n344 fBodyAcc-bandsEnergy()-25,48\\n345 fBodyAccJerk-mean()-X\\n346 fBodyAccJerk-mean()-Y\\n347 fBodyAccJerk-mean()-Z\\n348 fBodyAccJerk-std()-X\\n349 fBodyAccJerk-std()-Y\\n350 fBodyAccJerk-std()-Z\\n351 fBodyAccJerk-mad()-X\\n352 fBodyAccJerk-mad()-Y\\n353 fBodyAccJerk-mad()-Z\\n354 fBodyAccJerk-max()-X\\n355 fBodyAccJerk-max()-Y\\n356 fBodyAccJerk-max()-Z\\n357 fBodyAccJerk-min()-X\\n358 fBodyAccJerk-min()-Y\\n359 fBodyAccJerk-min()-Z\\n360 fBodyAccJerk-sma()\\n361 fBodyAccJerk-energy()-X\\n362 fBodyAccJerk-energy()-Y\\n363 fBodyAccJerk-energy()-Z\\n364 fBodyAccJerk-iqr()-X\\n365 fBodyAccJerk-iqr()-Y\\n366 fBodyAccJerk-iqr()-Z\\n367 fBodyAccJerk-entropy()-X\\n368 fBodyAccJerk-entropy()-Y\\n369 fBodyAccJerk-entropy()-Z\\n370 fBodyAccJerk-maxInds-X\\n371 fBodyAccJerk-maxInds-Y\\n372 fBodyAccJerk-maxInds-Z\\n373 fBodyAccJerk-meanFreq()-X\\n374 fBodyAccJerk-meanFreq()-Y\\n375 fBodyAccJerk-meanFreq()-Z\\n376 fBodyAccJerk-skewness()-X\\n377 fBodyAccJerk-kurtosis()-X\\n378 fBodyAccJerk-skewness()-Y\\n379 fBodyAccJerk-kurtosis()-Y\\n380 fBodyAccJerk-skewness()-Z\\n381 fBodyAccJerk-kurtosis()-Z\\n382 fBodyAccJerk-bandsEnergy()-1,8\\n383 fBodyAccJerk-bandsEnergy()-9,16\\n384 fBodyAccJerk-bandsEnergy()-17,24\\n385 fBodyAccJerk-bandsEnergy()-25,32\\n386 fBodyAccJerk-bandsEnergy()-33,40\\n387 fBodyAccJerk-bandsEnergy()-41,48\\n388 fBodyAccJerk-bandsEnergy()-49,56\\n389 fBodyAccJerk-bandsEnergy()-57,64\\n390 fBodyAccJerk-bandsEnergy()-1,16\\n391 fBodyAccJerk-bandsEnergy()-17,32\\n392 fBodyAccJerk-bandsEnergy()-33,48\\n393 fBodyAccJerk-bandsEnergy()-49,64\\n394 fBodyAccJerk-bandsEnergy()-1,24\\n395 fBodyAccJerk-bandsEnergy()-25,48\\n396 fBodyAccJerk-bandsEnergy()-1,8\\n397 fBodyAccJerk-bandsEnergy()-9,16\\n398 fBodyAccJerk-bandsEnergy()-17,24\\n399 fBodyAccJerk-bandsEnergy()-25,32\\n400 fBodyAccJerk-bandsEnergy()-33,40\\n401 fBodyAccJerk-bandsEnergy()-41,48\\n402 fBodyAccJerk-bandsEnergy()-49,56\\n403 fBodyAccJerk-bandsEnergy()-57,64\\n404 fBodyAccJerk-bandsEnergy()-1,16\\n405 fBodyAccJerk-bandsEnergy()-17,32\\n406 fBodyAccJerk-bandsEnergy()-33,48\\n407 fBodyAccJerk-bandsEnergy()-49,64\\n408 fBodyAccJerk-bandsEnergy()-1,24\\n409 fBodyAccJerk-bandsEnergy()-25,48\\n410 fBodyAccJerk-bandsEnergy()-1,8\\n411 fBodyAccJerk-bandsEnergy()-9,16\\n412 fBodyAccJerk-bandsEnergy()-17,24\\n413 fBodyAccJerk-bandsEnergy()-25,32\\n414 fBodyAccJerk-bandsEnergy()-33,40\\n415 fBodyAccJerk-bandsEnergy()-41,48\\n416 fBodyAccJerk-bandsEnergy()-49,56\\n417 fBodyAccJerk-bandsEnergy()-57,64\\n418 fBodyAccJerk-bandsEnergy()-1,16\\n419 fBodyAccJerk-bandsEnergy()-17,32\\n420 fBodyAccJerk-bandsEnergy()-33,48\\n421 fBodyAccJerk-bandsEnergy()-49,64\\n422 fBodyAccJerk-bandsEnergy()-1,24\\n423 fBodyAccJerk-bandsEnergy()-25,48\\n424 fBodyGyro-mean()-X\\n425 fBodyGyro-mean()-Y\\n426 fBodyGyro-mean()-Z\\n427 fBodyGyro-std()-X\\n428 fBodyGyro-std()-Y\\n429 fBodyGyro-std()-Z\\n430 fBodyGyro-mad()-X\\n431 fBodyGyro-mad()-Y\\n432 fBodyGyro-mad()-Z\\n433 fBodyGyro-max()-X\\n434 fBodyGyro-max()-Y\\n435 fBodyGyro-max()-Z\\n436 fBodyGyro-min()-X\\n437 fBodyGyro-min()-Y\\n438 fBodyGyro-min()-Z\\n439 fBodyGyro-sma()\\n440 fBodyGyro-energy()-X\\n441 fBodyGyro-energy()-Y\\n442 fBodyGyro-energy()-Z\\n443 fBodyGyro-iqr()-X\\n444 fBodyGyro-iqr()-Y\\n445 fBodyGyro-iqr()-Z\\n446 fBodyGyro-entropy()-X\\n447 fBodyGyro-entropy()-Y\\n448 fBodyGyro-entropy()-Z\\n449 fBodyGyro-maxInds-X\\n450 fBodyGyro-maxInds-Y\\n451 fBodyGyro-maxInds-Z\\n452 fBodyGyro-meanFreq()-X\\n453 fBodyGyro-meanFreq()-Y\\n454 fBodyGyro-meanFreq()-Z\\n455 fBodyGyro-skewness()-X\\n456 fBodyGyro-kurtosis()-X\\n457 fBodyGyro-skewness()-Y\\n458 fBodyGyro-kurtosis()-Y\\n459 fBodyGyro-skewness()-Z\\n460 fBodyGyro-kurtosis()-Z\\n461 fBodyGyro-bandsEnergy()-1,8\\n462 fBodyGyro-bandsEnergy()-9,16\\n463 fBodyGyro-bandsEnergy()-17,24\\n464 fBodyGyro-bandsEnergy()-25,32\\n465 fBodyGyro-bandsEnergy()-33,40\\n466 fBodyGyro-bandsEnergy()-41,48\\n467 fBodyGyro-bandsEnergy()-49,56\\n468 fBodyGyro-bandsEnergy()-57,64\\n469 fBodyGyro-bandsEnergy()-1,16\\n470 fBodyGyro-bandsEnergy()-17,32\\n471 fBodyGyro-bandsEnergy()-33,48\\n472 fBodyGyro-bandsEnergy()-49,64\\n473 fBodyGyro-bandsEnergy()-1,24\\n474 fBodyGyro-bandsEnergy()-25,48\\n475 fBodyGyro-bandsEnergy()-1,8\\n476 fBodyGyro-bandsEnergy()-9,16\\n477 fBodyGyro-bandsEnergy()-17,24\\n478 fBodyGyro-bandsEnergy()-25,32\\n479 fBodyGyro-bandsEnergy()-33,40\\n480 fBodyGyro-bandsEnergy()-41,48\\n481 fBodyGyro-bandsEnergy()-49,56\\n482 fBodyGyro-bandsEnergy()-57,64\\n483 fBodyGyro-bandsEnergy()-1,16\\n484 fBodyGyro-bandsEnergy()-17,32\\n485 fBodyGyro-bandsEnergy()-33,48\\n486 fBodyGyro-bandsEnergy()-49,64\\n487 fBodyGyro-bandsEnergy()-1,24\\n488 fBodyGyro-bandsEnergy()-25,48\\n489 fBodyGyro-bandsEnergy()-1,8\\n490 fBodyGyro-bandsEnergy()-9,16\\n491 fBodyGyro-bandsEnergy()-17,24\\n492 fBodyGyro-bandsEnergy()-25,32\\n493 fBodyGyro-bandsEnergy()-33,40\\n494 fBodyGyro-bandsEnergy()-41,48\\n495 fBodyGyro-bandsEnergy()-49,56\\n496 fBodyGyro-bandsEnergy()-57,64\\n497 fBodyGyro-bandsEnergy()-1,16\\n498 fBodyGyro-bandsEnergy()-17,32\\n499 fBodyGyro-bandsEnergy()-33,48\\n500 fBodyGyro-bandsEnergy()-49,64\\n501 fBodyGyro-bandsEnergy()-1,24\\n502 fBodyGyro-bandsEnergy()-25,48\\n503 fBodyAccMag-mean()\\n504 fBodyAccMag-std()\\n505 fBodyAccMag-mad()\\n506 fBodyAccMag-max()\\n507 fBodyAccMag-min()\\n508 fBodyAccMag-sma()\\n509 fBodyAccMag-energy()\\n510 fBodyAccMag-iqr()\\n511 fBodyAccMag-entropy()\\n512 fBodyAccMag-maxInds\\n513 fBodyAccMag-meanFreq()\\n514 fBodyAccMag-skewness()\\n515 fBodyAccMag-kurtosis()\\n516 fBodyBodyAccJerkMag-mean()\\n517 fBodyBodyAccJerkMag-std()\\n518 fBodyBodyAccJerkMag-mad()\\n519 fBodyBodyAccJerkMag-max()\\n520 fBodyBodyAccJerkMag-min()\\n521 fBodyBodyAccJerkMag-sma()\\n522 fBodyBodyAccJerkMag-energy()\\n523 fBodyBodyAccJerkMag-iqr()\\n524 fBodyBodyAccJerkMag-entropy()\\n525 fBodyBodyAccJerkMag-maxInds\\n526 fBodyBodyAccJerkMag-meanFreq()\\n527 fBodyBodyAccJerkMag-skewness()\\n528 fBodyBodyAccJerkMag-kurtosis()\\n529 fBodyBodyGyroMag-mean()\\n530 fBodyBodyGyroMag-std()\\n531 fBodyBodyGyroMag-mad()\\n532 fBodyBodyGyroMag-max()\\n533 fBodyBodyGyroMag-min()\\n534 fBodyBodyGyroMag-sma()\\n535 fBodyBodyGyroMag-energy()\\n536 fBodyBodyGyroMag-iqr()\\n537 fBodyBodyGyroMag-entropy()\\n538 fBodyBodyGyroMag-maxInds\\n539 fBodyBodyGyroMag-meanFreq()\\n540 fBodyBodyGyroMag-skewness()\\n541 fBodyBodyGyroMag-kurtosis()\\n542 fBodyBodyGyroJerkMag-mean()\\n543 fBodyBodyGyroJerkMag-std()\\n544 fBodyBodyGyroJerkMag-mad()\\n545 fBodyBodyGyroJerkMag-max()\\n546 fBodyBodyGyroJerkMag-min()\\n547 fBodyBodyGyroJerkMag-sma()\\n548 fBodyBodyGyroJerkMag-energy()\\n549 fBodyBodyGyroJerkMag-iqr()\\n550 fBodyBodyGyroJerkMag-entropy()\\n551 fBodyBodyGyroJerkMag-maxInds\\n552 fBodyBodyGyroJerkMag-meanFreq()\\n553 fBodyBodyGyroJerkMag-skewness()\\n554 fBodyBodyGyroJerkMag-kurtosis()\\n555 angle(tBodyAccMean,gravity)\\n556 angle(tBodyAccJerkMean),gravityMean)\\n557 angle(tBodyGyroMean,gravityMean)\\n558 angle(tBodyGyroJerkMean,gravityMean)\\n559 angle(X,gravityMean)\\n560 angle(Y,gravityMean)\\n561 angle(Z,gravityMean)\\n'}"
            ]
          },
          "metadata": {
            "tags": []
          },
          "execution_count": 16
        }
      ]
    },
    {
      "cell_type": "markdown",
      "metadata": {
        "id": "TYx_bZ3ZF7D9",
        "colab_type": "text"
      },
      "source": [
        "피처는 모두 561개가 있고, 공백으로 분리되어 있다. "
      ]
    },
    {
      "cell_type": "code",
      "metadata": {
        "id": "1GHywFjCF4R3",
        "colab_type": "code",
        "outputId": "5bec50e1-9bd4-46af-a3d9-e8b1ea62ead8",
        "colab": {
          "base_uri": "https://localhost:8080/",
          "height": 54
        }
      },
      "source": [
        "import pandas as pd\n",
        "import matplotlib.pyplot as plt\n",
        "%matplotlib inline\n",
        "\n",
        "# features.txt 파일에는 피처 이름 index와 피처명이 공백으로 분리되어 있음. 이를 DataFrame으로 로드.\n",
        "feature_name_df = pd.read_csv('features.txt', sep='\\s+',\n",
        "                              header=None, names=['column_index', 'column_name'])\n",
        "\n",
        "# 피처명 index를 제거하고, 피처명만 리스트 객체로 생성한 뒤 샘플로 10개만 추출.\n",
        "feature_name = feature_name_df.iloc[:, 1].values.tolist()\n",
        "print('전체 피처명에서 10개만 추출:', feature_name[: 10])"
      ],
      "execution_count": 0,
      "outputs": [
        {
          "output_type": "stream",
          "text": [
            "전체 피처명에서 10개만 추출: ['tBodyAcc-mean()-X', 'tBodyAcc-mean()-Y', 'tBodyAcc-mean()-Z', 'tBodyAcc-std()-X', 'tBodyAcc-std()-Y', 'tBodyAcc-std()-Z', 'tBodyAcc-mad()-X', 'tBodyAcc-mad()-Y', 'tBodyAcc-mad()-Z', 'tBodyAcc-max()-X']\n"
          ],
          "name": "stdout"
        }
      ]
    },
    {
      "cell_type": "markdown",
      "metadata": {
        "id": "KzARS-XuHpmG",
        "colab_type": "text"
      },
      "source": [
        "위 데이터프레임은 중복된 피처명을 몇개 가지고 있다. \n",
        "- 중복된 피처명이 있으면 오류가 발생하므로 원본 피처명에 _1 또는 _2를 추가해 DataFrame에 로드한다."
      ]
    },
    {
      "cell_type": "markdown",
      "metadata": {
        "id": "hxMbERWVH4qt",
        "colab_type": "text"
      },
      "source": [
        "먼저 중복된 피처명이 몇개 있는지 확인해보자."
      ]
    },
    {
      "cell_type": "code",
      "metadata": {
        "id": "YEmC_FZcHW-5",
        "colab_type": "code",
        "outputId": "55b2e069-a618-4b5e-a105-da96b3cc0bdc",
        "colab": {
          "base_uri": "https://localhost:8080/",
          "height": 269
        }
      },
      "source": [
        "feature_dup_df = feature_name_df.groupby('column_name').count()\n",
        "print(feature_dup_df[feature_dup_df['column_index']>1].count())\n",
        "feature_dup_df[feature_dup_df['column_index']>1].head()"
      ],
      "execution_count": 0,
      "outputs": [
        {
          "output_type": "stream",
          "text": [
            "column_index    42\n",
            "dtype: int64\n"
          ],
          "name": "stdout"
        },
        {
          "output_type": "execute_result",
          "data": {
            "text/html": [
              "<div>\n",
              "<style scoped>\n",
              "    .dataframe tbody tr th:only-of-type {\n",
              "        vertical-align: middle;\n",
              "    }\n",
              "\n",
              "    .dataframe tbody tr th {\n",
              "        vertical-align: top;\n",
              "    }\n",
              "\n",
              "    .dataframe thead th {\n",
              "        text-align: right;\n",
              "    }\n",
              "</style>\n",
              "<table border=\"1\" class=\"dataframe\">\n",
              "  <thead>\n",
              "    <tr style=\"text-align: right;\">\n",
              "      <th></th>\n",
              "      <th>column_index</th>\n",
              "    </tr>\n",
              "    <tr>\n",
              "      <th>column_name</th>\n",
              "      <th></th>\n",
              "    </tr>\n",
              "  </thead>\n",
              "  <tbody>\n",
              "    <tr>\n",
              "      <th>fBodyAcc-bandsEnergy()-1,16</th>\n",
              "      <td>3</td>\n",
              "    </tr>\n",
              "    <tr>\n",
              "      <th>fBodyAcc-bandsEnergy()-1,24</th>\n",
              "      <td>3</td>\n",
              "    </tr>\n",
              "    <tr>\n",
              "      <th>fBodyAcc-bandsEnergy()-1,8</th>\n",
              "      <td>3</td>\n",
              "    </tr>\n",
              "    <tr>\n",
              "      <th>fBodyAcc-bandsEnergy()-17,24</th>\n",
              "      <td>3</td>\n",
              "    </tr>\n",
              "    <tr>\n",
              "      <th>fBodyAcc-bandsEnergy()-17,32</th>\n",
              "      <td>3</td>\n",
              "    </tr>\n",
              "  </tbody>\n",
              "</table>\n",
              "</div>"
            ],
            "text/plain": [
              "                              column_index\n",
              "column_name                               \n",
              "fBodyAcc-bandsEnergy()-1,16              3\n",
              "fBodyAcc-bandsEnergy()-1,24              3\n",
              "fBodyAcc-bandsEnergy()-1,8               3\n",
              "fBodyAcc-bandsEnergy()-17,24             3\n",
              "fBodyAcc-bandsEnergy()-17,32             3"
            ]
          },
          "metadata": {
            "tags": []
          },
          "execution_count": 30
        }
      ]
    },
    {
      "cell_type": "code",
      "metadata": {
        "id": "BityAGjnIAzH",
        "colab_type": "code",
        "outputId": "e1ba72ee-7c36-4468-8991-77e1705c18c9",
        "colab": {
          "base_uri": "https://localhost:8080/",
          "height": 450
        }
      },
      "source": [
        "feature_dup_df"
      ],
      "execution_count": 0,
      "outputs": [
        {
          "output_type": "execute_result",
          "data": {
            "text/html": [
              "<div>\n",
              "<style scoped>\n",
              "    .dataframe tbody tr th:only-of-type {\n",
              "        vertical-align: middle;\n",
              "    }\n",
              "\n",
              "    .dataframe tbody tr th {\n",
              "        vertical-align: top;\n",
              "    }\n",
              "\n",
              "    .dataframe thead th {\n",
              "        text-align: right;\n",
              "    }\n",
              "</style>\n",
              "<table border=\"1\" class=\"dataframe\">\n",
              "  <thead>\n",
              "    <tr style=\"text-align: right;\">\n",
              "      <th></th>\n",
              "      <th>column_index</th>\n",
              "    </tr>\n",
              "    <tr>\n",
              "      <th>column_name</th>\n",
              "      <th></th>\n",
              "    </tr>\n",
              "  </thead>\n",
              "  <tbody>\n",
              "    <tr>\n",
              "      <th>angle(X,gravityMean)</th>\n",
              "      <td>1</td>\n",
              "    </tr>\n",
              "    <tr>\n",
              "      <th>angle(Y,gravityMean)</th>\n",
              "      <td>1</td>\n",
              "    </tr>\n",
              "    <tr>\n",
              "      <th>angle(Z,gravityMean)</th>\n",
              "      <td>1</td>\n",
              "    </tr>\n",
              "    <tr>\n",
              "      <th>angle(tBodyAccJerkMean),gravityMean)</th>\n",
              "      <td>1</td>\n",
              "    </tr>\n",
              "    <tr>\n",
              "      <th>angle(tBodyAccMean,gravity)</th>\n",
              "      <td>1</td>\n",
              "    </tr>\n",
              "    <tr>\n",
              "      <th>...</th>\n",
              "      <td>...</td>\n",
              "    </tr>\n",
              "    <tr>\n",
              "      <th>tGravityAccMag-max()</th>\n",
              "      <td>1</td>\n",
              "    </tr>\n",
              "    <tr>\n",
              "      <th>tGravityAccMag-mean()</th>\n",
              "      <td>1</td>\n",
              "    </tr>\n",
              "    <tr>\n",
              "      <th>tGravityAccMag-min()</th>\n",
              "      <td>1</td>\n",
              "    </tr>\n",
              "    <tr>\n",
              "      <th>tGravityAccMag-sma()</th>\n",
              "      <td>1</td>\n",
              "    </tr>\n",
              "    <tr>\n",
              "      <th>tGravityAccMag-std()</th>\n",
              "      <td>1</td>\n",
              "    </tr>\n",
              "  </tbody>\n",
              "</table>\n",
              "<p>477 rows × 1 columns</p>\n",
              "</div>"
            ],
            "text/plain": [
              "                                      column_index\n",
              "column_name                                       \n",
              "angle(X,gravityMean)                             1\n",
              "angle(Y,gravityMean)                             1\n",
              "angle(Z,gravityMean)                             1\n",
              "angle(tBodyAccJerkMean),gravityMean)             1\n",
              "angle(tBodyAccMean,gravity)                      1\n",
              "...                                            ...\n",
              "tGravityAccMag-max()                             1\n",
              "tGravityAccMag-mean()                            1\n",
              "tGravityAccMag-min()                             1\n",
              "tGravityAccMag-sma()                             1\n",
              "tGravityAccMag-std()                             1\n",
              "\n",
              "[477 rows x 1 columns]"
            ]
          },
          "metadata": {
            "tags": []
          },
          "execution_count": 28
        }
      ]
    },
    {
      "cell_type": "code",
      "metadata": {
        "id": "QRthPJeUIB5t",
        "colab_type": "code",
        "colab": {}
      },
      "source": [
        ""
      ],
      "execution_count": 0,
      "outputs": []
    }
  ]
}