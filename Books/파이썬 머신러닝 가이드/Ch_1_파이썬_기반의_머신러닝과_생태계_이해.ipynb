{
  "nbformat": 4,
  "nbformat_minor": 0,
  "metadata": {
    "colab": {
      "name": "Ch 1 파이썬 기반의 머신러닝과 생태계 이해",
      "provenance": [],
      "collapsed_sections": [
        "XIvc8ffcOYqW",
        "kOKfgXaMPLKf",
        "K_7P5gdXUorv",
        "lN35yR5rWazk",
        "dWzFMeCSZmai",
        "EKjUj7TynPvF",
        "JLSlBrD7nS6h",
        "me1MkxdjtdzL",
        "hV3vah6mx_pf",
        "G3DlmHT4ykqf",
        "GKzMAOZQzpBB",
        "5T09jUl-ZghA",
        "cqDhcekWeQmz",
        "Ni8FX_C5p5Ki",
        "MByWElrxqGw6",
        "LrJ8dcw0wEsq",
        "knVSF8TH7U2T",
        "4tvHaJic84oI",
        "SH7IMu3f-cl8",
        "-vbRU2yHEVjc",
        "rCRr-4WyFCN0"
      ]
    },
    "kernelspec": {
      "name": "python3",
      "display_name": "Python 3"
    }
  },
  "cells": [
    {
      "cell_type": "markdown",
      "metadata": {
        "id": "XIvc8ffcOYqW",
        "colab_type": "text"
      },
      "source": [
        "# 03 **넘파이**"
      ]
    },
    {
      "cell_type": "code",
      "metadata": {
        "id": "41rNXs45QiBJ",
        "colab_type": "code",
        "colab": {}
      },
      "source": [
        "import numpy as np"
      ],
      "execution_count": 0,
      "outputs": []
    },
    {
      "cell_type": "markdown",
      "metadata": {
        "id": "kOKfgXaMPLKf",
        "colab_type": "text"
      },
      "source": [
        "### 넘파이 ndarray 개요"
      ]
    },
    {
      "cell_type": "markdown",
      "metadata": {
        "id": "D_omGW6APNIA",
        "colab_type": "text"
      },
      "source": [
        "넘파이의 기반 데이터 타입은 `ndarray`.\n",
        "- `ndarray`을 이용해 다차원 배열을 생성하고 다양한 연산을 수행할 수 있다."
      ]
    },
    {
      "cell_type": "markdown",
      "metadata": {
        "id": "40CQzoVyQEjm",
        "colab_type": "text"
      },
      "source": [
        "넘파이 `array()` 함수는 파이썬의 리스트를 입력 받아 `ndarray`로 변환하는 기능을 수행한다.\n",
        "- `ndarray` 배열의 `shape` 변수는 `ndarray`의 크기를 튜플 형태로 가지고 있다."
      ]
    },
    {
      "cell_type": "code",
      "metadata": {
        "id": "B2sZ-FWCOJqr",
        "colab_type": "code",
        "outputId": "bc0b6728-d108-4daf-b1d1-4c3d4536773b",
        "colab": {
          "base_uri": "https://localhost:8080/",
          "height": 0
        }
      },
      "source": [
        "array1 = np.array([1, 2, 3])  # 리스트를 input으로 받음.\n",
        "print('array1 type: ', type(array1))\n",
        "print('array1 array 형태: ', array1.shape)"
      ],
      "execution_count": 12,
      "outputs": [
        {
          "output_type": "stream",
          "text": [
            "array1 type:  <class 'numpy.ndarray'>\n",
            "array1 array 형태:  (3,)\n"
          ],
          "name": "stdout"
        }
      ]
    },
    {
      "cell_type": "markdown",
      "metadata": {
        "id": "LqER9sJ_RTGG",
        "colab_type": "text"
      },
      "source": [
        "array1의 `shape`은 `(3, )`. 1차원 array임을 뜻한다.\n",
        "<br><br>"
      ]
    },
    {
      "cell_type": "code",
      "metadata": {
        "id": "w7_IfwIHQcXQ",
        "colab_type": "code",
        "outputId": "1acfdf11-ba97-4b5c-bf83-e5c1ce33f0cf",
        "colab": {
          "base_uri": "https://localhost:8080/",
          "height": 0
        }
      },
      "source": [
        "array2 = np.array([[1, 2, 3],\n",
        "                   [2, 3, 4]])\n",
        "print('array2 type: ', type(array2))\n",
        "print('array2 array 형태: ', array2.shape)"
      ],
      "execution_count": 13,
      "outputs": [
        {
          "output_type": "stream",
          "text": [
            "array2 type:  <class 'numpy.ndarray'>\n",
            "array2 array 형태:  (2, 3)\n"
          ],
          "name": "stdout"
        }
      ]
    },
    {
      "cell_type": "markdown",
      "metadata": {
        "id": "sglDbCbIRZ4C",
        "colab_type": "text"
      },
      "source": [
        "array2의 `shape`은 `(2, 3)`. 2차원 array임을 뜻한다.\n",
        "<br><BR>"
      ]
    },
    {
      "cell_type": "code",
      "metadata": {
        "id": "5WWrjjcYQv2-",
        "colab_type": "code",
        "outputId": "03c9c89f-f6c6-412f-e72b-9c4e1cab6d5f",
        "colab": {
          "base_uri": "https://localhost:8080/",
          "height": 0
        }
      },
      "source": [
        "array3 = np.array([[1, 2, 3]])\n",
        "print('array3 type: ', type(array3))\n",
        "print('array3 array 형태: ', array3.shape)"
      ],
      "execution_count": 14,
      "outputs": [
        {
          "output_type": "stream",
          "text": [
            "array3 type:  <class 'numpy.ndarray'>\n",
            "array3 array 형태:  (1, 3)\n"
          ],
          "name": "stdout"
        }
      ]
    },
    {
      "cell_type": "markdown",
      "metadata": {
        "id": "ATTF0JoDR7Gf",
        "colab_type": "text"
      },
      "source": [
        "array3의 `shape`은 `(1, 3)`. 2차원 array임을 뜻하는데,\n",
        "- array1은 명확하게 1차원임을 `(3, )` 형태로 표현했고,\n",
        "- array3 역시 `(1, 3)`으로 2차원 데이터임을 표현했다."
      ]
    },
    {
      "cell_type": "markdown",
      "metadata": {
        "id": "h10lwMMKSpdD",
        "colab_type": "text"
      },
      "source": [
        "이 차이를 이해하는 것은 매우 중요하다.\n",
        "- ML 프로세스를 진행하다 보면 명확히 1차원 또는 다차원 데이터를 요구하는 경우가 있는데, 차원이 달라 오류가 발생하는 경우가 빈번하다.\n",
        "- 차원의 차수변환 방법을 알아야 이런 오류를 막을 수 있다. 나중에 `reshape()` 때 다시 짚고 넘어가자. "
      ]
    },
    {
      "cell_type": "markdown",
      "metadata": {
        "id": "K_7P5gdXUorv",
        "colab_type": "text"
      },
      "source": [
        "### ndarray의 데이터 타입"
      ]
    },
    {
      "cell_type": "markdown",
      "metadata": {
        "id": "jz0jA-ZJUwl7",
        "colab_type": "text"
      },
      "source": [
        "ndarray내 데이터값은 숫자, 문자열 불 등 모두 가능하다. 하지만 한 개의 ndarray 객체에 같은 데이터 타입만 가능하다.\n",
        "- 다른 데이터 유형이 섞여 있는 리스트를 `ndarray`로 변경하면 데이터 크기가 더 큰 데이터 타입으로 형 변환을 일괄 적용한다."
      ]
    },
    {
      "cell_type": "code",
      "metadata": {
        "id": "783wH110Q5h4",
        "colab_type": "code",
        "outputId": "5a874c10-e0a3-40b8-f59c-c4052b9cdbae",
        "colab": {
          "base_uri": "https://localhost:8080/",
          "height": 0
        }
      },
      "source": [
        "lst = [1, 2, 'test']\n",
        "array = np.array(lst)\n",
        "print(array, array.dtype)"
      ],
      "execution_count": 15,
      "outputs": [
        {
          "output_type": "stream",
          "text": [
            "['1' '2' 'test'] <U21\n"
          ],
          "name": "stdout"
        }
      ]
    },
    {
      "cell_type": "code",
      "metadata": {
        "id": "R9AaRtspVZ_L",
        "colab_type": "code",
        "outputId": "70dfcc2e-a383-4527-b7cd-39c392d7c6a3",
        "colab": {
          "base_uri": "https://localhost:8080/",
          "height": 0
        }
      },
      "source": [
        "lst = [1, 2, 3.0]\n",
        "array = np.array(lst)\n",
        "print(array, array.dtype)"
      ],
      "execution_count": 16,
      "outputs": [
        {
          "output_type": "stream",
          "text": [
            "[1. 2. 3.] float64\n"
          ],
          "name": "stdout"
        }
      ]
    },
    {
      "cell_type": "markdown",
      "metadata": {
        "id": "iiDxBpizVrTc",
        "colab_type": "text"
      },
      "source": [
        "int와 string이 섞여 있다면 string으로, int와 float이 섞여 있으면 float으로 변환된다.\n",
        "- `astype()` 메서드로 `ndarray` 내 데이터 타입 변경이 가능하다. 보통 메모리를 절약해야 할 때 사용한다."
      ]
    },
    {
      "cell_type": "markdown",
      "metadata": {
        "id": "lN35yR5rWazk",
        "colab_type": "text"
      },
      "source": [
        "### ndarray를 편리하게 생성하기 - arange, zeros, ones"
      ]
    },
    {
      "cell_type": "markdown",
      "metadata": {
        "id": "kuFlnxo2WpZj",
        "colab_type": "text"
      },
      "source": [
        "특정 크기와 차원을 가진 `ndarray`를 연속값이나 0또는 1로 초기화해 생성해야할 때가 있다. 그럴 때 필요한 함수들이다."
      ]
    },
    {
      "cell_type": "markdown",
      "metadata": {
        "id": "wD8QrSMHXhcH",
        "colab_type": "text"
      },
      "source": [
        "`arange()` 함수는 `range()`와 유사하다. \n",
        "- 쉽게 생각하면 array를 `range()`로 표현하는 것이다.\n",
        "- `range()`와 유사하게 start값도 부여해 0이 아닌 다른 값부터 시작한 연속 값을 부여할 수도 있다."
      ]
    },
    {
      "cell_type": "code",
      "metadata": {
        "id": "tnRGvjarVoCj",
        "colab_type": "code",
        "outputId": "3f3308e7-6d77-48b8-99c6-f0fa3f5c83a2",
        "colab": {
          "base_uri": "https://localhost:8080/",
          "height": 0
        }
      },
      "source": [
        "seq_array = np.arange(10)\n",
        "print(seq_array)\n",
        "print(seq_array.dtype, seq_array.shape)"
      ],
      "execution_count": 17,
      "outputs": [
        {
          "output_type": "stream",
          "text": [
            "[0 1 2 3 4 5 6 7 8 9]\n",
            "int64 (10,)\n"
          ],
          "name": "stdout"
        }
      ]
    },
    {
      "cell_type": "markdown",
      "metadata": {
        "id": "jc4NfuJWX8HO",
        "colab_type": "text"
      },
      "source": [
        "`zeros()`와 `ones()` 함수는 튜플 형태의 `shape` 값을 입력하면 각각 모든 값을 0과 1로 채운 `ndarray`를 반환한다.\n",
        "- 함수 인자로 `dtype` 정하지 않으면 float64 형의 데이터로 `ndarray`를 채운다."
      ]
    },
    {
      "cell_type": "code",
      "metadata": {
        "id": "fPFfVscJX0Nm",
        "colab_type": "code",
        "outputId": "82c81464-6320-448e-a269-ff3b5f8c66e0",
        "colab": {
          "base_uri": "https://localhost:8080/",
          "height": 0
        }
      },
      "source": [
        "zero_array = np.zeros((3, 2), dtype='int32')\n",
        "print(zero_array)\n",
        "print(zero_array.dtype, zero_array.shape)"
      ],
      "execution_count": 18,
      "outputs": [
        {
          "output_type": "stream",
          "text": [
            "[[0 0]\n",
            " [0 0]\n",
            " [0 0]]\n",
            "int32 (3, 2)\n"
          ],
          "name": "stdout"
        }
      ]
    },
    {
      "cell_type": "code",
      "metadata": {
        "id": "e4LZWVd1Yasr",
        "colab_type": "code",
        "outputId": "4f4addef-2ac0-4d7f-874e-fa16d65ad843",
        "colab": {
          "base_uri": "https://localhost:8080/",
          "height": 0
        }
      },
      "source": [
        "one_array = np.ones((3, 2))\n",
        "print(one_array)\n",
        "print(one_array.dtype, one_array.shape)"
      ],
      "execution_count": 19,
      "outputs": [
        {
          "output_type": "stream",
          "text": [
            "[[1. 1.]\n",
            " [1. 1.]\n",
            " [1. 1.]]\n",
            "float64 (3, 2)\n"
          ],
          "name": "stdout"
        }
      ]
    },
    {
      "cell_type": "markdown",
      "metadata": {
        "id": "dWzFMeCSZmai",
        "colab_type": "text"
      },
      "source": [
        "### ndarray의 차원과 크기를 변경하는 reshape()"
      ]
    },
    {
      "cell_type": "markdown",
      "metadata": {
        "id": "O5ku01QvZrsP",
        "colab_type": "text"
      },
      "source": [
        "`reshape()` 메서드는 `ndarray`를 특정 차원 및 크기로 변환한다. 변환을 원하는 크기를 함수 인자로 부여하면 된다."
      ]
    },
    {
      "cell_type": "code",
      "metadata": {
        "id": "QDPzhfSLYvkp",
        "colab_type": "code",
        "outputId": "938e68f5-a34d-4a4c-8c11-bbf895020964",
        "colab": {
          "base_uri": "https://localhost:8080/",
          "height": 0
        }
      },
      "source": [
        "array = np.arange(10)\n",
        "print('array:\\n', array)"
      ],
      "execution_count": 20,
      "outputs": [
        {
          "output_type": "stream",
          "text": [
            "array:\n",
            " [0 1 2 3 4 5 6 7 8 9]\n"
          ],
          "name": "stdout"
        }
      ]
    },
    {
      "cell_type": "code",
      "metadata": {
        "id": "6OoPocdvZ6kr",
        "colab_type": "code",
        "outputId": "d7d60cd3-f6e8-446a-faef-f32b28476c33",
        "colab": {
          "base_uri": "https://localhost:8080/",
          "height": 0
        }
      },
      "source": [
        "array2 = array.reshape(2, 5)\n",
        "print('array2:\\n', array2)"
      ],
      "execution_count": 21,
      "outputs": [
        {
          "output_type": "stream",
          "text": [
            "array2:\n",
            " [[0 1 2 3 4]\n",
            " [5 6 7 8 9]]\n"
          ],
          "name": "stdout"
        }
      ]
    },
    {
      "cell_type": "code",
      "metadata": {
        "id": "EZnHXsg-aDof",
        "colab_type": "code",
        "outputId": "f880cf3f-7188-443d-f2d4-38a203de1d46",
        "colab": {
          "base_uri": "https://localhost:8080/",
          "height": 0
        }
      },
      "source": [
        "array3 = array.reshape(5, 2)\n",
        "print('array3:\\n', array3)"
      ],
      "execution_count": 22,
      "outputs": [
        {
          "output_type": "stream",
          "text": [
            "array3:\n",
            " [[0 1]\n",
            " [2 3]\n",
            " [4 5]\n",
            " [6 7]\n",
            " [8 9]]\n"
          ],
          "name": "stdout"
        }
      ]
    },
    {
      "cell_type": "markdown",
      "metadata": {
        "id": "vaPaom2haPmb",
        "colab_type": "text"
      },
      "source": [
        "`reshape()`은 지정된 사이즈로 변경할 수 없다면 오류를 발생한다."
      ]
    },
    {
      "cell_type": "code",
      "metadata": {
        "id": "3px1ZN92aOC1",
        "colab_type": "code",
        "outputId": "ba5b55ba-9479-45fa-9c33-5f94b2a5035e",
        "colab": {
          "base_uri": "https://localhost:8080/",
          "height": 0
        }
      },
      "source": [
        "#array.reshape(4, 3)\n",
        "\n",
        "'''\n",
        "---------------------------------------------------------------------------\n",
        "ValueError                                Traceback (most recent call last)\n",
        "<ipython-input-21-bab7effd8b9b> in <module>()\n",
        "----> 1 array.reshape(4, 3)\n",
        "\n",
        "ValueError: cannot reshape array of size 10 into shape (4,3)\n",
        "'''"
      ],
      "execution_count": 23,
      "outputs": [
        {
          "output_type": "execute_result",
          "data": {
            "text/plain": [
              "'\\n---------------------------------------------------------------------------\\nValueError                                Traceback (most recent call last)\\n<ipython-input-21-bab7effd8b9b> in <module>()\\n----> 1 array.reshape(4, 3)\\n\\nValueError: cannot reshape array of size 10 into shape (4,3)\\n'"
            ]
          },
          "metadata": {
            "tags": []
          },
          "execution_count": 23
        }
      ]
    },
    {
      "cell_type": "markdown",
      "metadata": {
        "id": "RMRbnX1Hala0",
        "colab_type": "text"
      },
      "source": [
        "`reshape()`를 실전에서 더욱 효율적으로 사용하는 경우는 인자로 -1을 적용하는 경우.\n",
        "- -1을 인자로 사용하면 `ndarray`와 호환되는 새로운 `shape`으로 변환한다."
      ]
    },
    {
      "cell_type": "code",
      "metadata": {
        "id": "aP2H5oh5aVoI",
        "colab_type": "code",
        "outputId": "b8a04ff0-358f-4548-bbe1-9a8d69e8c8ec",
        "colab": {
          "base_uri": "https://localhost:8080/",
          "height": 0
        }
      },
      "source": [
        "array = np.arange(10)\n",
        "print(array)\n",
        "array2 = array.reshape(-1, 5)  # 10개의 데이터를 2개의 row, 5개의 column에 할당.\n",
        "print('array2 shape:', array2.shape)\n",
        "array3 = array.reshape(5, -1)  # 10개의 데이터를 5개의 row, 2개의 column에 할당.\n",
        "print('array3 shape:', array3.shape)"
      ],
      "execution_count": 24,
      "outputs": [
        {
          "output_type": "stream",
          "text": [
            "[0 1 2 3 4 5 6 7 8 9]\n",
            "array2 shape: (2, 5)\n",
            "array3 shape: (5, 2)\n"
          ],
          "name": "stdout"
        }
      ]
    },
    {
      "cell_type": "markdown",
      "metadata": {
        "id": "DcJo6VG3btvw",
        "colab_type": "text"
      },
      "source": [
        "-1인자는 `reshape(-1, 1)`와 같은 형태로 자주 사용된다. \n",
        "- `reshape(-1, 1)`은 원본 `ndarray`가 어떤 형태라도 다수의 row와 오직 1개의 column을 가진 2차원 `ndarray`로 변환한다.\n",
        "- 여러 개의 `ndarray`는 `stack`이나 `concat`으로 결합할 때 각각의 `ndarray`의 형태를 통일해 유용하게 사용된다.\n",
        "\n",
        "> `ndarray`는 `tolist()` 메서드를 이용해 리스트 자료형으로 변환할 수 있다. \n",
        "> - 리스트를 `print`했을 때 더 이해하기 쉬워 `ndarray`를 리스트로 변환해 출력한다."
      ]
    },
    {
      "cell_type": "code",
      "metadata": {
        "id": "JTwmDimBa_LV",
        "colab_type": "code",
        "outputId": "40f38270-4a4c-4300-9a45-536b2b8e0a89",
        "colab": {
          "base_uri": "https://localhost:8080/",
          "height": 0
        }
      },
      "source": [
        "array = np.arange(8)\n",
        "array3d = array.reshape((2, 2, 2))\n",
        "print('array3d without tolist():\\n', array3d)\n",
        "print('\\narray3d:\\n',array3d.tolist())"
      ],
      "execution_count": 25,
      "outputs": [
        {
          "output_type": "stream",
          "text": [
            "array3d without tolist():\n",
            " [[[0 1]\n",
            "  [2 3]]\n",
            "\n",
            " [[4 5]\n",
            "  [6 7]]]\n",
            "\n",
            "array3d:\n",
            " [[[0, 1], [2, 3]], [[4, 5], [6, 7]]]\n"
          ],
          "name": "stdout"
        }
      ]
    },
    {
      "cell_type": "code",
      "metadata": {
        "id": "BDsfwX9RdEm_",
        "colab_type": "code",
        "outputId": "068d4934-2e4f-45ab-cf8a-cdea0ed36996",
        "colab": {
          "base_uri": "https://localhost:8080/",
          "height": 0
        }
      },
      "source": [
        "# 3차원 ndarray를 2차원 ndarray로 변환.\n",
        "array2d = array3d.reshape(-1, 1)\n",
        "print('array2d:\\n',array2d.tolist())\n",
        "print('array2d shape:', array2d.shape)"
      ],
      "execution_count": 26,
      "outputs": [
        {
          "output_type": "stream",
          "text": [
            "array2d:\n",
            " [[0], [1], [2], [3], [4], [5], [6], [7]]\n",
            "array2d shape: (8, 1)\n"
          ],
          "name": "stdout"
        }
      ]
    },
    {
      "cell_type": "code",
      "metadata": {
        "id": "-CqFzesEdd8v",
        "colab_type": "code",
        "outputId": "136e17dd-41bd-4620-f2e5-deb103b21f53",
        "colab": {
          "base_uri": "https://localhost:8080/",
          "height": 0
        }
      },
      "source": [
        "# 1차원 ndarray를 2차원 ndarray로 변환.\n",
        "array2d = array.reshape(-1, 1)\n",
        "print('array2d:\\n', array2d.tolist())\n",
        "print('array2d shape:', array2d.shape)"
      ],
      "execution_count": 27,
      "outputs": [
        {
          "output_type": "stream",
          "text": [
            "array2d:\n",
            " [[0], [1], [2], [3], [4], [5], [6], [7]]\n",
            "array2d shape: (8, 1)\n"
          ],
          "name": "stdout"
        }
      ]
    },
    {
      "cell_type": "markdown",
      "metadata": {
        "id": "EKjUj7TynPvF",
        "colab_type": "text"
      },
      "source": [
        "### 인덱싱(Indexing)"
      ]
    },
    {
      "cell_type": "markdown",
      "metadata": {
        "id": "JLSlBrD7nS6h",
        "colab_type": "text"
      },
      "source": [
        "##### **단일 값 추출**"
      ]
    },
    {
      "cell_type": "markdown",
      "metadata": {
        "id": "_pASB9DynjSY",
        "colab_type": "text"
      },
      "source": [
        "1개의 데이터값을 선택하려면 `ndarray` 객체에 해당하는 위치의 인덱스 값을 `[]` 안에 입력하면 된다."
      ]
    },
    {
      "cell_type": "code",
      "metadata": {
        "id": "2PDuHxrBd2m6",
        "colab_type": "code",
        "outputId": "5b964eff-e8d5-4f94-c736-b70e09bdcf76",
        "colab": {
          "base_uri": "https://localhost:8080/",
          "height": 0
        }
      },
      "source": [
        "array = np.arange(start=1, stop=10)\n",
        "print('array:',array)\n",
        "value1 = array[2]\n",
        "print('value1:', value1)\n",
        "value2 = array[-2]\n",
        "print('value2:', value2)"
      ],
      "execution_count": 28,
      "outputs": [
        {
          "output_type": "stream",
          "text": [
            "array: [1 2 3 4 5 6 7 8 9]\n",
            "value1: 3\n",
            "value2: 8\n"
          ],
          "name": "stdout"
        }
      ]
    },
    {
      "cell_type": "markdown",
      "metadata": {
        "id": "rQGJISUJoAN3",
        "colab_type": "text"
      },
      "source": [
        "다차원 `ndarray`에서 단일 값을 추출하는 방법은 좌표를 입력하는 것이라 생각하자."
      ]
    },
    {
      "cell_type": "code",
      "metadata": {
        "id": "lqHHFfkUnfkr",
        "colab_type": "code",
        "outputId": "2e27fef2-e4ca-482a-90d1-508ca3be301b",
        "colab": {
          "base_uri": "https://localhost:8080/",
          "height": 0
        }
      },
      "source": [
        "array = np.arange(start=1, stop=10)\n",
        "array2d = array.reshape(3, 3)\n",
        "print(array2d)\n",
        "\n",
        "print('(row=0, col=0):', array2d[0, 0])\n",
        "print('(row=2, col=0):', array2d[2, 0])"
      ],
      "execution_count": 29,
      "outputs": [
        {
          "output_type": "stream",
          "text": [
            "[[1 2 3]\n",
            " [4 5 6]\n",
            " [7 8 9]]\n",
            "(row=0, col=0): 1\n",
            "(row=2, col=0): 7\n"
          ],
          "name": "stdout"
        }
      ]
    },
    {
      "cell_type": "markdown",
      "metadata": {
        "id": "ZXmYQeyhozYn",
        "colab_type": "text"
      },
      "source": [
        "주목해야 할 부분은 axis0과 axis1. \n",
        "- axis0은 로우 방향, axis1은 컬럼 방향의 축을 의미한다. **로우와 컬럼은 `ndarray`에서는 사용되는 않는 방식이다**.\n",
        "- 2차원이므로 axis0, axis1으로 구분되고 3차원은 axis0, axis1, axis2, 총 3개의 축을 가지게 된다."
      ]
    },
    {
      "cell_type": "markdown",
      "metadata": {
        "id": "ZBYjGSF0pR_K",
        "colab_type": "text"
      },
      "source": [
        "axis0이 로우 방향, axis1이 컬럼 방향 축임을 이해하는 것은 중요하다.\n",
        "- 다차원 `ndarray`의 경우 축(axis)에 따른 연산을 지원하기 때문이다."
      ]
    },
    {
      "cell_type": "markdown",
      "metadata": {
        "id": "me1MkxdjtdzL",
        "colab_type": "text"
      },
      "source": [
        "##### **슬라이싱**"
      ]
    },
    {
      "cell_type": "markdown",
      "metadata": {
        "id": "MTsLjOa6tkBC",
        "colab_type": "text"
      },
      "source": [
        "단일 데이터값 추출을 제외하고 슬라이싱, 팬시 인덱싱, 불린 인덱싱으로 추출된 데이터 세트는 모두 `ndarray` 타입."
      ]
    },
    {
      "cell_type": "code",
      "metadata": {
        "id": "pDGC4OR0thRM",
        "colab_type": "code",
        "outputId": "dba28a0d-9d84-45da-d4b2-42c5b102ccfc",
        "colab": {
          "base_uri": "https://localhost:8080/",
          "height": 51
        }
      },
      "source": [
        "array = np.arange(start=1, stop=10)\n",
        "array2 = array[0:3]\n",
        "print(array2)\n",
        "print(type(array2))"
      ],
      "execution_count": 30,
      "outputs": [
        {
          "output_type": "stream",
          "text": [
            "[1 2 3]\n",
            "<class 'numpy.ndarray'>\n"
          ],
          "name": "stdout"
        }
      ]
    },
    {
      "cell_type": "markdown",
      "metadata": {
        "id": "OMpOe2xduCUg",
        "colab_type": "text"
      },
      "source": [
        "2차원 `ndarray`에서의 슬라이싱도 1차원과 유사하다.\n",
        "- 콤마(,)로 로우와 컬럼 인덱스를 지칭하는 부분만 다르다."
      ]
    },
    {
      "cell_type": "code",
      "metadata": {
        "id": "s-vpjt6It9Cq",
        "colab_type": "code",
        "outputId": "e6071486-8025-45a5-e18b-97176bdf945c",
        "colab": {
          "base_uri": "https://localhost:8080/",
          "height": 136
        }
      },
      "source": [
        "array1d = np.arange(start=1, stop=10)\n",
        "array2d = array1d.reshape(3, 3)\n",
        "print('array2d:\\n:', array2d)\n",
        "print('array2d[0:2, 0:2]\\n', array2d[0:2, 0:2])"
      ],
      "execution_count": 31,
      "outputs": [
        {
          "output_type": "stream",
          "text": [
            "array2d:\n",
            ": [[1 2 3]\n",
            " [4 5 6]\n",
            " [7 8 9]]\n",
            "array2d[0:2, 0:2]\n",
            " [[1 2]\n",
            " [4 5]]\n"
          ],
          "name": "stdout"
        }
      ]
    },
    {
      "cell_type": "markdown",
      "metadata": {
        "id": "hV3vah6mx_pf",
        "colab_type": "text"
      },
      "source": [
        "##### **팬시 인덱싱**"
      ]
    },
    {
      "cell_type": "markdown",
      "metadata": {
        "id": "BzFpknS1yENI",
        "colab_type": "text"
      },
      "source": [
        "리스트나 `ndarray`로 인덱스 집합을 지정하면 해당 위치의 인덱스에 해당하는 `ndarray`를 반환하는 인덱싱 방식. 팬시하진 않음."
      ]
    },
    {
      "cell_type": "code",
      "metadata": {
        "id": "pwlqYS9lvKih",
        "colab_type": "code",
        "outputId": "2c665f01-9f84-4236-f4b8-fc96a8c7b328",
        "colab": {
          "base_uri": "https://localhost:8080/",
          "height": 136
        }
      },
      "source": [
        "array = np.arange(1, 10).reshape(3, 3)\n",
        "print('array:\\n', array)\n",
        "array1 = array[[0, 1], 0:1]\n",
        "print('array1:\\n', array1)"
      ],
      "execution_count": 32,
      "outputs": [
        {
          "output_type": "stream",
          "text": [
            "array:\n",
            " [[1 2 3]\n",
            " [4 5 6]\n",
            " [7 8 9]]\n",
            "array1:\n",
            " [[1]\n",
            " [4]]\n"
          ],
          "name": "stdout"
        }
      ]
    },
    {
      "cell_type": "markdown",
      "metadata": {
        "id": "G3DlmHT4ykqf",
        "colab_type": "text"
      },
      "source": [
        "##### **불린 인덱싱**"
      ]
    },
    {
      "cell_type": "markdown",
      "metadata": {
        "id": "XTpRQ7xuzMKB",
        "colab_type": "text"
      },
      "source": [
        "조건 필터링과 검색을 동시에 할 수 있기 때문에 자주 사용된다. \n",
        "- `ndarray`의 인덱스를 지정하는 `[]` 내에 조건문을 기재하면 된다."
      ]
    },
    {
      "cell_type": "code",
      "metadata": {
        "id": "8BKI0TTKyRRZ",
        "colab_type": "code",
        "outputId": "afee52b5-ec49-4338-b6ac-103a07ec145b",
        "colab": {
          "base_uri": "https://localhost:8080/",
          "height": 0
        }
      },
      "source": [
        "array1d = np.arange(1, 10)\n",
        "array2 = array1d[array1d>5]\n",
        "print('array1d > 5 불린 인덱싱 결과 값:', array2)"
      ],
      "execution_count": 33,
      "outputs": [
        {
          "output_type": "stream",
          "text": [
            "array1d > 5 불린 인덱싱 결과 값: [6 7 8 9]\n"
          ],
          "name": "stdout"
        }
      ]
    },
    {
      "cell_type": "markdown",
      "metadata": {
        "id": "GKzMAOZQzpBB",
        "colab_type": "text"
      },
      "source": [
        "### 행렬의 정렬 - sort()와 argsort()"
      ]
    },
    {
      "cell_type": "markdown",
      "metadata": {
        "id": "bbOPJ-IxZXHT",
        "colab_type": "text"
      },
      "source": [
        "행렬을 정렬하는 `np.sort()`와 `ndarray.sort()`, 그리고 정렬된 행렬의 인덱스를 반환하는 `argsort()`에 대해 알아보자."
      ]
    },
    {
      "cell_type": "markdown",
      "metadata": {
        "id": "5T09jUl-ZghA",
        "colab_type": "text"
      },
      "source": [
        "##### **행렬 정렬**"
      ]
    },
    {
      "cell_type": "markdown",
      "metadata": {
        "id": "N2bxRqkwZ8nw",
        "colab_type": "text"
      },
      "source": [
        "`np.sort()`는 넘파이에서 `sort()`를 호출하는 방식.\n",
        "- `np.sort()`의 경우 원 행렬은 유지한 채 원 행렬의 정렬된 행렬을 반환한다.\n",
        "\n",
        "`ndarray.sort()`는 행렬 자체에서 `sort()`를 호출하는 방식.\n",
        "- `ndarray.sort()`는 원 행렬 자체를 정렬한 형태로 변환하고 반환 값은 `None`."
      ]
    },
    {
      "cell_type": "markdown",
      "metadata": {
        "id": "iEixDvNKbIxS",
        "colab_type": "text"
      },
      "source": [
        "> `ndarray.sort()`은 기존 행렬이 변경되고, `np.sort()` 새로운 행렬을 생성한다."
      ]
    },
    {
      "cell_type": "code",
      "metadata": {
        "id": "f0rWOoCoXWK0",
        "colab_type": "code",
        "colab": {
          "base_uri": "https://localhost:8080/",
          "height": 119
        },
        "outputId": "03c96bc3-cae0-40ee-c264-f325a68e7e96"
      },
      "source": [
        "org_array = np.array([3, 1, 9, 5])\n",
        "print(\"원본 행렬:\", org_array)\n",
        "\n",
        "# np.sort()로 정렬\n",
        "sort_array1 = np.sort(org_array)\n",
        "print('np.sort() 호출 후 반환된 정렬 행렬:', sort_array1)\n",
        "print('np.sort() 호출 후 원본 행렬:', org_array)  # np.sort()로 정렬했으므로 기존 행렬에는 변화가 없다.\n",
        "\n",
        "# ndarray.sort()로 정렬\n",
        "sort_array2 = org_array.sort()\n",
        "print('\\norg_array.sort() 호출 후 반환된 행렬:', sort_array2)\n",
        "print('org_array.sort() 호출 후 원본 행렬:', org_array)  # 원본 행렬이 정렬됐다."
      ],
      "execution_count": 39,
      "outputs": [
        {
          "output_type": "stream",
          "text": [
            "원본 행렬: [3 1 9 5]\n",
            "np.sort() 호출 후 반환된 정렬 행렬: [1 3 5 9]\n",
            "np.sort() 호출 후 원본 행렬: [3 1 9 5]\n",
            "\n",
            "org_array.sort() 호출 후 반환된 행렬: None\n",
            "org_array.sort() 호출 후 원본 행렬: [1 3 5 9]\n"
          ],
          "name": "stdout"
        }
      ]
    },
    {
      "cell_type": "markdown",
      "metadata": {
        "id": "fN_jSCJ2cpPJ",
        "colab_type": "text"
      },
      "source": [
        "내림차순을 적용하기 위해선 기존 공식에 `[::-1]`을 적용하면 된다."
      ]
    },
    {
      "cell_type": "code",
      "metadata": {
        "id": "YwQsbcDvbmvW",
        "colab_type": "code",
        "colab": {
          "base_uri": "https://localhost:8080/",
          "height": 34
        },
        "outputId": "4969535c-4a2b-49fa-d483-09fe63f1c9c7"
      },
      "source": [
        "sort_array1_desc = np.sort(org_array)[::-1]\n",
        "print('내림차순으로 정렬:', sort_array1_desc)"
      ],
      "execution_count": 40,
      "outputs": [
        {
          "output_type": "stream",
          "text": [
            "내림차순으로 정렬: [9 5 3 1]\n"
          ],
          "name": "stdout"
        }
      ]
    },
    {
      "cell_type": "markdown",
      "metadata": {
        "id": "jFlFpkCOdZ-k",
        "colab_type": "text"
      },
      "source": [
        "행렬이 2차원 이상일 경우 axis 축 값 설정을 통해 로우, 컬럼 방향으로 정렬을 수행할 수 있다."
      ]
    },
    {
      "cell_type": "code",
      "metadata": {
        "id": "sOGZI2UFdVPE",
        "colab_type": "code",
        "colab": {
          "base_uri": "https://localhost:8080/",
          "height": 170
        },
        "outputId": "ea9f8855-7ffc-4847-a839-a4425ae170df"
      },
      "source": [
        "array2d = np.array([[8, 12],\n",
        "                    [7, 1]])\n",
        "print('원 행렬:\\n', array2d)\n",
        "sort_array2d_axis0 = np.sort(array2d, axis=0)\n",
        "print('로우 방향으로 정렬:\\n', sort_array2d_axis0)\n",
        "sort_array2d_axis1 = np.sort(array2d, axis=1)\n",
        "print('컬럼 방향으로 정렬:\\n', sort_array2d_axis1)"
      ],
      "execution_count": 44,
      "outputs": [
        {
          "output_type": "stream",
          "text": [
            "원 행렬:\n",
            " [[ 8 12]\n",
            " [ 7  1]]\n",
            "로우 방향으로 정렬:\n",
            " [[ 7  1]\n",
            " [ 8 12]]\n",
            "컬럼 방향으로 정렬:\n",
            " [[ 8 12]\n",
            " [ 1  7]]\n"
          ],
          "name": "stdout"
        }
      ]
    },
    {
      "cell_type": "markdown",
      "metadata": {
        "id": "cqDhcekWeQmz",
        "colab_type": "text"
      },
      "source": [
        "##### **정렬된 행렬의 인덱스를 반환하기**"
      ]
    },
    {
      "cell_type": "markdown",
      "metadata": {
        "id": "4XxrHKB6eUH0",
        "colab_type": "text"
      },
      "source": [
        "원본 행렬이 정렬되었을 때 기존 원본 행렬의 원소에 대한 인덱스를 필요로 할 때 `np.argsort()`를 이용한다.\n",
        "- `np.argsort()`는 정렬 행렬의 원본 행렬 인덱스를 `ndarray` 형으로 반환한다."
      ]
    },
    {
      "cell_type": "code",
      "metadata": {
        "id": "C1fiES2Ed5ir",
        "colab_type": "code",
        "colab": {
          "base_uri": "https://localhost:8080/",
          "height": 51
        },
        "outputId": "76b97890-a93c-47ea-f997-ea95491727c5"
      },
      "source": [
        "org_array = np.array([3, 1, 9, 5])\n",
        "sort_indices = np.argsort(org_array)\n",
        "print(type(sort_indices))\n",
        "print(\"행렬 정렬 시 원본 행렬의 인덱스:\", sort_indices)"
      ],
      "execution_count": 47,
      "outputs": [
        {
          "output_type": "stream",
          "text": [
            "<class 'numpy.ndarray'>\n",
            "행렬 정렬 시 원본 행렬의 인덱스: [1 0 3 2]\n"
          ],
          "name": "stdout"
        }
      ]
    },
    {
      "cell_type": "markdown",
      "metadata": {
        "id": "TWiRHz5ugRG-",
        "colab_type": "text"
      },
      "source": [
        "내림차순으로 정렬시 위와 같이 `[::-1]`을 적용하면 된다."
      ]
    },
    {
      "cell_type": "code",
      "metadata": {
        "id": "ZqTdbzzzgBTE",
        "colab_type": "code",
        "colab": {
          "base_uri": "https://localhost:8080/",
          "height": 34
        },
        "outputId": "3c97b98a-5c04-493d-b74c-c7ff06b0f488"
      },
      "source": [
        "org_array = np.array([3, 1, 9, 5])\n",
        "sort_indices_desc = np.argsort(org_array)[::-1]\n",
        "print('행렬 내림차순 정렬 시 원본 행렬의 인덱스:', sort_indices_desc)"
      ],
      "execution_count": 48,
      "outputs": [
        {
          "output_type": "stream",
          "text": [
            "행렬 내림차순 정렬 시 원본 행렬의 인덱스: [2 3 0 1]\n"
          ],
          "name": "stdout"
        }
      ]
    },
    {
      "cell_type": "markdown",
      "metadata": {
        "id": "w6q8I4hRmOZj",
        "colab_type": "text"
      },
      "source": [
        "`argsort()`는 넘파이에서 활용도가 매우 높다. \n",
        "- `ndarray`는 판다스 DataFrame같은 메타 데이터를 가질 수 없다. 그래서 실제 값과 그 값이 뜻하는 메타 데이터를 별도의 `ndarray`로 가져야 한다."
      ]
    },
    {
      "cell_type": "markdown",
      "metadata": {
        "id": "D2LvNgr4mzsW",
        "colab_type": "text"
      },
      "source": [
        "예를 들어 학생별 시험 성적을 데이터로 표현하기 위해선 이름과 성적을 각각 `ndarray`로 가져야 한다.\n",
        "- John=78, Mike=95, Sarah=84를 `ndarray`로 활용하고자 한다면 `name=['John', 'Mike', 'Sarah']`와 `score=[78, 95, 84]`와 같이 2개의 `ndarray`가 필요하다.\n",
        "- 이 때 성적순으로 이름을 출력하고자 한다면 `np.argsort(score)`로 반환된 인덱스를 `name`에 팬시 인덱스를 적용해 추출할 수 있다."
      ]
    },
    {
      "cell_type": "code",
      "metadata": {
        "id": "9ttmLDPZgg0T",
        "colab_type": "code",
        "colab": {
          "base_uri": "https://localhost:8080/",
          "height": 51
        },
        "outputId": "b1fb143b-60ee-465d-8b9e-224afcead3e4"
      },
      "source": [
        "name = np.array(['John', 'Mike', 'Sarah', 'Kate', 'Samuel'])\n",
        "score = np.array([78, 95, 84, 98, 88])\n",
        "\n",
        "sort_indices_asc = np.argsort(score)\n",
        "print('성적 오름차순 정렬 score의 인덱스: ', sort_indices_asc)\n",
        "print('성적 오름차순으로 name의 이름 출력:', name[sort_indices_asc])"
      ],
      "execution_count": 53,
      "outputs": [
        {
          "output_type": "stream",
          "text": [
            "성적 오름차순 정렬 score의 인덱스:  [0 2 4 1 3]\n",
            "성적 오름차순으로 name의 이름 출력: ['John' 'Sarah' 'Samuel' 'Mike' 'Kate']\n"
          ],
          "name": "stdout"
        }
      ]
    },
    {
      "cell_type": "markdown",
      "metadata": {
        "id": "Ni8FX_C5p5Ki",
        "colab_type": "text"
      },
      "source": [
        "### 선형대수 연산 - 행렬 내적과 전치 행렬 구하기"
      ]
    },
    {
      "cell_type": "markdown",
      "metadata": {
        "id": "CyK_1wsbp_hA",
        "colab_type": "text"
      },
      "source": [
        "넘파이는 다양한 선형대수 연산을 지원하는데, 그 중 가장 많이 사용되는 행렬 내적과 전치 행렬을 구하는 방법을 알아보자."
      ]
    },
    {
      "cell_type": "markdown",
      "metadata": {
        "id": "MByWElrxqGw6",
        "colab_type": "text"
      },
      "source": [
        "##### **행렬 내적(행렬 곱)**"
      ]
    },
    {
      "cell_type": "markdown",
      "metadata": {
        "id": "hKwyFbb1vlrE",
        "colab_type": "text"
      },
      "source": [
        "두 행렬 A와 B의 내적은 `np.dot()`을 이용해 계산이 가능하다."
      ]
    },
    {
      "cell_type": "code",
      "metadata": {
        "id": "_z9JIlIup9mG",
        "colab_type": "code",
        "colab": {
          "base_uri": "https://localhost:8080/",
          "height": 68
        },
        "outputId": "c7a1129d-30b2-4b40-ce28-2221fac569f3"
      },
      "source": [
        "A = np.array([[1, 2, 3],\n",
        "              [4, 5, 6]])\n",
        "B = np.array([[7, 8],\n",
        "              [9, 10],\n",
        "              [11, 12]])\n",
        "dot_product = np.dot(A, B)\n",
        "print('행렬 내적 결과:\\n', dot_product)"
      ],
      "execution_count": 54,
      "outputs": [
        {
          "output_type": "stream",
          "text": [
            "행렬 내적 결과:\n",
            " [[ 58  64]\n",
            " [139 154]]\n"
          ],
          "name": "stdout"
        }
      ]
    },
    {
      "cell_type": "markdown",
      "metadata": {
        "id": "LrJ8dcw0wEsq",
        "colab_type": "text"
      },
      "source": [
        "##### **전치 행렬**"
      ]
    },
    {
      "cell_type": "markdown",
      "metadata": {
        "id": "Y6n0dqsNwJHu",
        "colab_type": "text"
      },
      "source": [
        "넘파이의 `transpose()`를 통해 전치 행렬을 쉽게 구할 수 있다."
      ]
    },
    {
      "cell_type": "code",
      "metadata": {
        "id": "-wh_vT0wwDbo",
        "colab_type": "code",
        "colab": {
          "base_uri": "https://localhost:8080/",
          "height": 119
        },
        "outputId": "8bba20e1-053a-46ea-fba5-8e053792ac21"
      },
      "source": [
        "A = np.array([[1, 2],\n",
        "              [3, 4]])\n",
        "transpose_mat = np.transpose(A)\n",
        "print('A 행렬:\\n', A)\n",
        "print('A의 전치 행렬:\\n', transpose_mat)"
      ],
      "execution_count": 56,
      "outputs": [
        {
          "output_type": "stream",
          "text": [
            "A 행렬:\n",
            " [[1 2]\n",
            " [3 4]]\n",
            "A의 전치 행렬:\n",
            " [[1 3]\n",
            " [2 4]]\n"
          ],
          "name": "stdout"
        }
      ]
    },
    {
      "cell_type": "markdown",
      "metadata": {
        "id": "knVSF8TH7U2T",
        "colab_type": "text"
      },
      "source": [
        "# 04 **데이터 핸들링 - 판다스**"
      ]
    },
    {
      "cell_type": "code",
      "metadata": {
        "id": "16Otsk-I9AvC",
        "colab_type": "code",
        "colab": {}
      },
      "source": [
        "import pandas as pd"
      ],
      "execution_count": 0,
      "outputs": []
    },
    {
      "cell_type": "markdown",
      "metadata": {
        "id": "4tvHaJic84oI",
        "colab_type": "text"
      },
      "source": [
        "### Kaggle setup"
      ]
    },
    {
      "cell_type": "code",
      "metadata": {
        "id": "QofA0Hqm7YkK",
        "colab_type": "code",
        "colab": {
          "resources": {
            "http://localhost:8080/nbextensions/google.colab/files.js": {
              "data": "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",
              "ok": true,
              "headers": [
                [
                  "content-type",
                  "application/javascript"
                ]
              ],
              "status": 200,
              "status_text": ""
            }
          },
          "base_uri": "https://localhost:8080/",
          "height": 275
        },
        "outputId": "24216f07-6a3f-499c-d264-cafaecd6c9ee"
      },
      "source": [
        "# 코랩에서 Kaggle 실행\n",
        "!pip install kaggle\n",
        "from google.colab import files\n",
        "files.upload()"
      ],
      "execution_count": 70,
      "outputs": [
        {
          "output_type": "stream",
          "text": [
            "Requirement already satisfied: kaggle in /usr/local/lib/python3.6/dist-packages (1.5.6)\n",
            "Requirement already satisfied: six>=1.10 in /usr/local/lib/python3.6/dist-packages (from kaggle) (1.12.0)\n",
            "Requirement already satisfied: python-dateutil in /usr/local/lib/python3.6/dist-packages (from kaggle) (2.8.1)\n",
            "Requirement already satisfied: requests in /usr/local/lib/python3.6/dist-packages (from kaggle) (2.21.0)\n",
            "Requirement already satisfied: python-slugify in /usr/local/lib/python3.6/dist-packages (from kaggle) (4.0.0)\n",
            "Requirement already satisfied: tqdm in /usr/local/lib/python3.6/dist-packages (from kaggle) (4.38.0)\n",
            "Requirement already satisfied: urllib3<1.25,>=1.21.1 in /usr/local/lib/python3.6/dist-packages (from kaggle) (1.24.3)\n",
            "Requirement already satisfied: certifi in /usr/local/lib/python3.6/dist-packages (from kaggle) (2019.11.28)\n",
            "Requirement already satisfied: idna<2.9,>=2.5 in /usr/local/lib/python3.6/dist-packages (from requests->kaggle) (2.8)\n",
            "Requirement already satisfied: chardet<3.1.0,>=3.0.2 in /usr/local/lib/python3.6/dist-packages (from requests->kaggle) (3.0.4)\n",
            "Requirement already satisfied: text-unidecode>=1.3 in /usr/local/lib/python3.6/dist-packages (from python-slugify->kaggle) (1.3)\n"
          ],
          "name": "stdout"
        },
        {
          "output_type": "display_data",
          "data": {
            "text/html": [
              "\n",
              "     <input type=\"file\" id=\"files-7530d750-99f4-4771-a832-875831ba3888\" name=\"files[]\" multiple disabled />\n",
              "     <output id=\"result-7530d750-99f4-4771-a832-875831ba3888\">\n",
              "      Upload widget is only available when the cell has been executed in the\n",
              "      current browser session. Please rerun this cell to enable.\n",
              "      </output>\n",
              "      <script src=\"/nbextensions/google.colab/files.js\"></script> "
            ],
            "text/plain": [
              "<IPython.core.display.HTML object>"
            ]
          },
          "metadata": {
            "tags": []
          }
        },
        {
          "output_type": "stream",
          "text": [
            "Saving kaggle.json to kaggle.json\n"
          ],
          "name": "stdout"
        },
        {
          "output_type": "execute_result",
          "data": {
            "text/plain": [
              "{'kaggle.json': b'{\"username\":\"tjdrms2023\",\"key\":\"420f91d78b4ea1dbbe26e3078903b138\"}'}"
            ]
          },
          "metadata": {
            "tags": []
          },
          "execution_count": 70
        }
      ]
    },
    {
      "cell_type": "code",
      "metadata": {
        "id": "h1NRsDyl7xW2",
        "colab_type": "code",
        "colab": {
          "base_uri": "https://localhost:8080/",
          "height": 34
        },
        "outputId": "86fdf57c-1abc-44d9-e484-18c4e29eb0fa"
      },
      "source": [
        "# 파일 제대로 업로드됐는지 확인하기.\n",
        "ls -1ha kaggle.json"
      ],
      "execution_count": 71,
      "outputs": [
        {
          "output_type": "stream",
          "text": [
            "kaggle.json\n"
          ],
          "name": "stdout"
        }
      ]
    },
    {
      "cell_type": "code",
      "metadata": {
        "id": "KD2Q5SoR8CJ5",
        "colab_type": "code",
        "colab": {
          "base_uri": "https://localhost:8080/",
          "height": 408
        },
        "outputId": "caa2cf20-4d8e-48be-9cab-b8f5445299fd"
      },
      "source": [
        "!mkdir -p ~/.kaggle\n",
        "!cp kaggle.json ~/.kaggle/\n",
        "# Permission Warning 이 일어나지 않도록 \n",
        "!chmod 600 ~/.kaggle/kaggle.json\n",
        "# 본인이 참가한 모든 대회 보기 \n",
        "!kaggle competitions list"
      ],
      "execution_count": 72,
      "outputs": [
        {
          "output_type": "stream",
          "text": [
            "Warning: Looks like you're using an outdated API Version, please consider updating (server 1.5.6 / client 1.5.4)\n",
            "ref                                               deadline             category            reward  teamCount  userHasEntered  \n",
            "------------------------------------------------  -------------------  ---------------  ---------  ---------  --------------  \n",
            "digit-recognizer                                  2030-01-01 00:00:00  Getting Started  Knowledge       2232           False  \n",
            "titanic                                           2030-01-01 00:00:00  Getting Started  Knowledge      17344            True  \n",
            "house-prices-advanced-regression-techniques       2030-01-01 00:00:00  Getting Started  Knowledge       4617            True  \n",
            "connectx                                          2030-01-01 00:00:00  Getting Started  Knowledge        299           False  \n",
            "nlp-getting-started                               2030-01-01 00:00:00  Getting Started      Kudos       3170           False  \n",
            "competitive-data-science-predict-future-sales     2020-12-31 23:59:00  Playground           Kudos       6124           False  \n",
            "m5-forecasting-accuracy                           2020-06-30 23:59:00  Featured           $50,000       1706           False  \n",
            "m5-forecasting-uncertainty                        2020-06-30 23:59:00  Featured           $50,000        125           False  \n",
            "jigsaw-multilingual-toxic-comment-classification  2020-06-22 23:59:00  Featured           $50,000        284           False  \n",
            "tweet-sentiment-extraction                        2020-06-02 23:59:00  Featured           $15,000        356            True  \n",
            "imet-2020-fgvc7                                   2020-05-28 23:59:00  Research         Knowledge          8           False  \n",
            "abstraction-and-reasoning-challenge               2020-05-27 23:59:00  Research           $20,000        545           False  \n",
            "imaterialist-fashion-2020-fgvc7                   2020-05-26 23:59:00  Research         Knowledge          6           False  \n",
            "liverpool-ion-switching                           2020-05-25 23:59:00  Research           $25,000       1372           False  \n",
            "flower-classification-with-tpus                   2020-05-11 23:59:00  Playground          Prizes        467           False  \n",
            "iwildcam-2020-fgvc7                               2020-05-11 23:59:00  Research         Knowledge         52           False  \n",
            "herbarium-2020-fgvc7                              2020-05-11 23:59:00  Research         Knowledge         38           False  \n",
            "plant-pathology-2020-fgvc7                        2020-05-11 23:59:00  Research         Knowledge        390           False  \n",
            "march-madness-analytics-2020                      2020-04-30 23:59:00  Analytics          $25,000          0           False  \n",
            "covid19-global-forecasting-week-2                 2020-04-29 23:59:00  Research         Knowledge        575           False  \n"
          ],
          "name": "stdout"
        }
      ]
    },
    {
      "cell_type": "code",
      "metadata": {
        "id": "pHj_VhmB8HSY",
        "colab_type": "code",
        "colab": {
          "base_uri": "https://localhost:8080/",
          "height": 187
        },
        "outputId": "c5971efc-222d-495f-dec4-5adea098295f"
      },
      "source": [
        "# 타이타닉 데이터 불러오기\n",
        "! kaggle competitions download -c titanic"
      ],
      "execution_count": 73,
      "outputs": [
        {
          "output_type": "stream",
          "text": [
            "Warning: Looks like you're using an outdated API Version, please consider updating (server 1.5.6 / client 1.5.4)\n",
            "Downloading train.csv to /content\n",
            "  0% 0.00/59.8k [00:00<?, ?B/s]\n",
            "100% 59.8k/59.8k [00:00<00:00, 51.3MB/s]\n",
            "Downloading gender_submission.csv to /content\n",
            "  0% 0.00/3.18k [00:00<?, ?B/s]\n",
            "100% 3.18k/3.18k [00:00<00:00, 3.01MB/s]\n",
            "Downloading test.csv to /content\n",
            "  0% 0.00/28.0k [00:00<?, ?B/s]\n",
            "100% 28.0k/28.0k [00:00<00:00, 28.4MB/s]\n"
          ],
          "name": "stdout"
        }
      ]
    },
    {
      "cell_type": "code",
      "metadata": {
        "id": "-v-ATlRb8bqY",
        "colab_type": "code",
        "colab": {
          "base_uri": "https://localhost:8080/",
          "height": 34
        },
        "outputId": "919f0334-e6b9-439c-a6ad-213c48524462"
      },
      "source": [
        "# 불러온 데이터 확인하기\n",
        "!ls"
      ],
      "execution_count": 74,
      "outputs": [
        {
          "output_type": "stream",
          "text": [
            "gender_submission.csv  kaggle.json  sample_data  test.csv  train.csv\n"
          ],
          "name": "stdout"
        }
      ]
    },
    {
      "cell_type": "code",
      "metadata": {
        "id": "g73qft0c8eyA",
        "colab_type": "code",
        "colab": {
          "base_uri": "https://localhost:8080/",
          "height": 136
        },
        "outputId": "93c5ccb1-9462-486f-d620-3676338d17a9"
      },
      "source": [
        "# 필요한 파일 압축 풀기\n",
        "# !unzip ___"
      ],
      "execution_count": 75,
      "outputs": [
        {
          "output_type": "stream",
          "text": [
            "Archive:  train.csv\n",
            "  End-of-central-directory signature not found.  Either this file is not\n",
            "  a zipfile, or it constitutes one disk of a multi-part archive.  In the\n",
            "  latter case the central directory and zipfile comment will be found on\n",
            "  the last disk(s) of this archive.\n",
            "unzip:  cannot find zipfile directory in one of train.csv or\n",
            "        train.csv.zip, and cannot find train.csv.ZIP, period.\n"
          ],
          "name": "stdout"
        }
      ]
    },
    {
      "cell_type": "markdown",
      "metadata": {
        "id": "SH7IMu3f-cl8",
        "colab_type": "text"
      },
      "source": [
        "### 판다스 시작 - 파일을 DataFrame으로 로딩, 기본 API"
      ]
    },
    {
      "cell_type": "markdown",
      "metadata": {
        "id": "UNGHFTiO-iTH",
        "colab_type": "text"
      },
      "source": [
        "판다스는 다양한 포맷으로 된 파일을 DataFrame으로 로딩할 수 있는 편리한 API를 제공한다.\n",
        "- 대표적으로 `read_csv()`, `read_table()`, `read_fwf()`가 있다.\n",
        "- `read_table()`과 `read_csv()`의 가장 큰 차이는 Delimiter가 콤마(,)냐 탭(\\t)이냐의 차이.\n",
        "- `read_fwf()`는 Fixed Width(고정 길이 기반) 포맷을 DataFrame으로 로딩하기 위한 API."
      ]
    },
    {
      "cell_type": "code",
      "metadata": {
        "id": "1FhRQiec-g6k",
        "colab_type": "code",
        "colab": {
          "base_uri": "https://localhost:8080/",
          "height": 204
        },
        "outputId": "fb7f55ab-7c22-4bf1-8f29-d3d1018350da"
      },
      "source": [
        "titanic_df = pd.read_csv('train.csv')\n",
        "titanic_df.head(5)"
      ],
      "execution_count": 80,
      "outputs": [
        {
          "output_type": "execute_result",
          "data": {
            "text/html": [
              "<div>\n",
              "<style scoped>\n",
              "    .dataframe tbody tr th:only-of-type {\n",
              "        vertical-align: middle;\n",
              "    }\n",
              "\n",
              "    .dataframe tbody tr th {\n",
              "        vertical-align: top;\n",
              "    }\n",
              "\n",
              "    .dataframe thead th {\n",
              "        text-align: right;\n",
              "    }\n",
              "</style>\n",
              "<table border=\"1\" class=\"dataframe\">\n",
              "  <thead>\n",
              "    <tr style=\"text-align: right;\">\n",
              "      <th></th>\n",
              "      <th>PassengerId</th>\n",
              "      <th>Survived</th>\n",
              "      <th>Pclass</th>\n",
              "      <th>Name</th>\n",
              "      <th>Sex</th>\n",
              "      <th>Age</th>\n",
              "      <th>SibSp</th>\n",
              "      <th>Parch</th>\n",
              "      <th>Ticket</th>\n",
              "      <th>Fare</th>\n",
              "      <th>Cabin</th>\n",
              "      <th>Embarked</th>\n",
              "    </tr>\n",
              "  </thead>\n",
              "  <tbody>\n",
              "    <tr>\n",
              "      <th>0</th>\n",
              "      <td>1</td>\n",
              "      <td>0</td>\n",
              "      <td>3</td>\n",
              "      <td>Braund, Mr. Owen Harris</td>\n",
              "      <td>male</td>\n",
              "      <td>22.0</td>\n",
              "      <td>1</td>\n",
              "      <td>0</td>\n",
              "      <td>A/5 21171</td>\n",
              "      <td>7.2500</td>\n",
              "      <td>NaN</td>\n",
              "      <td>S</td>\n",
              "    </tr>\n",
              "    <tr>\n",
              "      <th>1</th>\n",
              "      <td>2</td>\n",
              "      <td>1</td>\n",
              "      <td>1</td>\n",
              "      <td>Cumings, Mrs. John Bradley (Florence Briggs Th...</td>\n",
              "      <td>female</td>\n",
              "      <td>38.0</td>\n",
              "      <td>1</td>\n",
              "      <td>0</td>\n",
              "      <td>PC 17599</td>\n",
              "      <td>71.2833</td>\n",
              "      <td>C85</td>\n",
              "      <td>C</td>\n",
              "    </tr>\n",
              "    <tr>\n",
              "      <th>2</th>\n",
              "      <td>3</td>\n",
              "      <td>1</td>\n",
              "      <td>3</td>\n",
              "      <td>Heikkinen, Miss. Laina</td>\n",
              "      <td>female</td>\n",
              "      <td>26.0</td>\n",
              "      <td>0</td>\n",
              "      <td>0</td>\n",
              "      <td>STON/O2. 3101282</td>\n",
              "      <td>7.9250</td>\n",
              "      <td>NaN</td>\n",
              "      <td>S</td>\n",
              "    </tr>\n",
              "    <tr>\n",
              "      <th>3</th>\n",
              "      <td>4</td>\n",
              "      <td>1</td>\n",
              "      <td>1</td>\n",
              "      <td>Futrelle, Mrs. Jacques Heath (Lily May Peel)</td>\n",
              "      <td>female</td>\n",
              "      <td>35.0</td>\n",
              "      <td>1</td>\n",
              "      <td>0</td>\n",
              "      <td>113803</td>\n",
              "      <td>53.1000</td>\n",
              "      <td>C123</td>\n",
              "      <td>S</td>\n",
              "    </tr>\n",
              "    <tr>\n",
              "      <th>4</th>\n",
              "      <td>5</td>\n",
              "      <td>0</td>\n",
              "      <td>3</td>\n",
              "      <td>Allen, Mr. William Henry</td>\n",
              "      <td>male</td>\n",
              "      <td>35.0</td>\n",
              "      <td>0</td>\n",
              "      <td>0</td>\n",
              "      <td>373450</td>\n",
              "      <td>8.0500</td>\n",
              "      <td>NaN</td>\n",
              "      <td>S</td>\n",
              "    </tr>\n",
              "  </tbody>\n",
              "</table>\n",
              "</div>"
            ],
            "text/plain": [
              "   PassengerId  Survived  Pclass  ...     Fare Cabin  Embarked\n",
              "0            1         0       3  ...   7.2500   NaN         S\n",
              "1            2         1       1  ...  71.2833   C85         C\n",
              "2            3         1       3  ...   7.9250   NaN         S\n",
              "3            4         1       1  ...  53.1000  C123         S\n",
              "4            5         0       3  ...   8.0500   NaN         S\n",
              "\n",
              "[5 rows x 12 columns]"
            ]
          },
          "metadata": {
            "tags": []
          },
          "execution_count": 80
        }
      ]
    },
    {
      "cell_type": "code",
      "metadata": {
        "id": "FAF7gVreCKdV",
        "colab_type": "code",
        "colab": {
          "base_uri": "https://localhost:8080/",
          "height": 297
        },
        "outputId": "06025f20-0830-425c-de4a-9e75afe6c4c4"
      },
      "source": [
        "titanic_df.describe()"
      ],
      "execution_count": 81,
      "outputs": [
        {
          "output_type": "execute_result",
          "data": {
            "text/html": [
              "<div>\n",
              "<style scoped>\n",
              "    .dataframe tbody tr th:only-of-type {\n",
              "        vertical-align: middle;\n",
              "    }\n",
              "\n",
              "    .dataframe tbody tr th {\n",
              "        vertical-align: top;\n",
              "    }\n",
              "\n",
              "    .dataframe thead th {\n",
              "        text-align: right;\n",
              "    }\n",
              "</style>\n",
              "<table border=\"1\" class=\"dataframe\">\n",
              "  <thead>\n",
              "    <tr style=\"text-align: right;\">\n",
              "      <th></th>\n",
              "      <th>PassengerId</th>\n",
              "      <th>Survived</th>\n",
              "      <th>Pclass</th>\n",
              "      <th>Age</th>\n",
              "      <th>SibSp</th>\n",
              "      <th>Parch</th>\n",
              "      <th>Fare</th>\n",
              "    </tr>\n",
              "  </thead>\n",
              "  <tbody>\n",
              "    <tr>\n",
              "      <th>count</th>\n",
              "      <td>891.000000</td>\n",
              "      <td>891.000000</td>\n",
              "      <td>891.000000</td>\n",
              "      <td>714.000000</td>\n",
              "      <td>891.000000</td>\n",
              "      <td>891.000000</td>\n",
              "      <td>891.000000</td>\n",
              "    </tr>\n",
              "    <tr>\n",
              "      <th>mean</th>\n",
              "      <td>446.000000</td>\n",
              "      <td>0.383838</td>\n",
              "      <td>2.308642</td>\n",
              "      <td>29.699118</td>\n",
              "      <td>0.523008</td>\n",
              "      <td>0.381594</td>\n",
              "      <td>32.204208</td>\n",
              "    </tr>\n",
              "    <tr>\n",
              "      <th>std</th>\n",
              "      <td>257.353842</td>\n",
              "      <td>0.486592</td>\n",
              "      <td>0.836071</td>\n",
              "      <td>14.526497</td>\n",
              "      <td>1.102743</td>\n",
              "      <td>0.806057</td>\n",
              "      <td>49.693429</td>\n",
              "    </tr>\n",
              "    <tr>\n",
              "      <th>min</th>\n",
              "      <td>1.000000</td>\n",
              "      <td>0.000000</td>\n",
              "      <td>1.000000</td>\n",
              "      <td>0.420000</td>\n",
              "      <td>0.000000</td>\n",
              "      <td>0.000000</td>\n",
              "      <td>0.000000</td>\n",
              "    </tr>\n",
              "    <tr>\n",
              "      <th>25%</th>\n",
              "      <td>223.500000</td>\n",
              "      <td>0.000000</td>\n",
              "      <td>2.000000</td>\n",
              "      <td>20.125000</td>\n",
              "      <td>0.000000</td>\n",
              "      <td>0.000000</td>\n",
              "      <td>7.910400</td>\n",
              "    </tr>\n",
              "    <tr>\n",
              "      <th>50%</th>\n",
              "      <td>446.000000</td>\n",
              "      <td>0.000000</td>\n",
              "      <td>3.000000</td>\n",
              "      <td>28.000000</td>\n",
              "      <td>0.000000</td>\n",
              "      <td>0.000000</td>\n",
              "      <td>14.454200</td>\n",
              "    </tr>\n",
              "    <tr>\n",
              "      <th>75%</th>\n",
              "      <td>668.500000</td>\n",
              "      <td>1.000000</td>\n",
              "      <td>3.000000</td>\n",
              "      <td>38.000000</td>\n",
              "      <td>1.000000</td>\n",
              "      <td>0.000000</td>\n",
              "      <td>31.000000</td>\n",
              "    </tr>\n",
              "    <tr>\n",
              "      <th>max</th>\n",
              "      <td>891.000000</td>\n",
              "      <td>1.000000</td>\n",
              "      <td>3.000000</td>\n",
              "      <td>80.000000</td>\n",
              "      <td>8.000000</td>\n",
              "      <td>6.000000</td>\n",
              "      <td>512.329200</td>\n",
              "    </tr>\n",
              "  </tbody>\n",
              "</table>\n",
              "</div>"
            ],
            "text/plain": [
              "       PassengerId    Survived      Pclass  ...       SibSp       Parch        Fare\n",
              "count   891.000000  891.000000  891.000000  ...  891.000000  891.000000  891.000000\n",
              "mean    446.000000    0.383838    2.308642  ...    0.523008    0.381594   32.204208\n",
              "std     257.353842    0.486592    0.836071  ...    1.102743    0.806057   49.693429\n",
              "min       1.000000    0.000000    1.000000  ...    0.000000    0.000000    0.000000\n",
              "25%     223.500000    0.000000    2.000000  ...    0.000000    0.000000    7.910400\n",
              "50%     446.000000    0.000000    3.000000  ...    0.000000    0.000000   14.454200\n",
              "75%     668.500000    1.000000    3.000000  ...    1.000000    0.000000   31.000000\n",
              "max     891.000000    1.000000    3.000000  ...    8.000000    6.000000  512.329200\n",
              "\n",
              "[8 rows x 7 columns]"
            ]
          },
          "metadata": {
            "tags": []
          },
          "execution_count": 81
        }
      ]
    },
    {
      "cell_type": "markdown",
      "metadata": {
        "id": "vEMSr-ZZCWlr",
        "colab_type": "text"
      },
      "source": [
        "Pclass 컬럼이 어떠한 분포로 구성되어 있는지 살펴보자.\n",
        "- `value_counts()` 메서드를 호출하면 해당 칼럼값의 유형과 건수를 확인할 수 있다. \n",
        "- `value_counts()`는 Series에서만 가능하다. DataFrame은 지원하지 않는다."
      ]
    },
    {
      "cell_type": "code",
      "metadata": {
        "id": "WSV-eruYCT9k",
        "colab_type": "code",
        "colab": {
          "base_uri": "https://localhost:8080/",
          "height": 85
        },
        "outputId": "29af91fa-9682-4efc-cc4a-7104e2ee1430"
      },
      "source": [
        "titanic_df['Pclass'].value_counts()"
      ],
      "execution_count": 82,
      "outputs": [
        {
          "output_type": "execute_result",
          "data": {
            "text/plain": [
              "3    491\n",
              "1    216\n",
              "2    184\n",
              "Name: Pclass, dtype: int64"
            ]
          },
          "metadata": {
            "tags": []
          },
          "execution_count": 82
        }
      ]
    },
    {
      "cell_type": "markdown",
      "metadata": {
        "id": "RN5tX4IbCypF",
        "colab_type": "text"
      },
      "source": [
        "DataFrame의 `[]` 연산자 내부에 칼럼명을 입력하면 해당 칼럼에 해당하는 Series 객체를 반환한다."
      ]
    },
    {
      "cell_type": "code",
      "metadata": {
        "id": "nogHwzjqCsbe",
        "colab_type": "code",
        "colab": {
          "base_uri": "https://localhost:8080/",
          "height": 34
        },
        "outputId": "1dac4dbd-b047-48d8-b15d-61d21bc0f427"
      },
      "source": [
        "titanic_pclass = titanic_df['Pclass']\n",
        "print(type(titanic_pclass))"
      ],
      "execution_count": 83,
      "outputs": [
        {
          "output_type": "stream",
          "text": [
            "<class 'pandas.core.series.Series'>\n"
          ],
          "name": "stdout"
        }
      ]
    },
    {
      "cell_type": "markdown",
      "metadata": {
        "id": "639hLhHpC_hz",
        "colab_type": "text"
      },
      "source": [
        "Series는 Index와 단 하나의 칼럼으로 구성된 데이터 세트.\n",
        "- Index는 단순히 숫자 값과 같은 의미 없는 식별자만 할당하는 것이 아니라 고유성이 보장되면 의미 있는 데이터값 할당도 가능하다.\n",
        "- 아래의 경우 칼럼 값별 데이터 건수를 반환하므로 고유 칼럼 값을 식별자로 사용할 수 있다."
      ]
    },
    {
      "cell_type": "code",
      "metadata": {
        "id": "J3HH0eWsC-Aw",
        "colab_type": "code",
        "colab": {
          "base_uri": "https://localhost:8080/",
          "height": 102
        },
        "outputId": "d2b928d0-58b8-42ce-9a40-a86b5444b0a7"
      },
      "source": [
        "value_counts = titanic_df['Pclass'].value_counts()\n",
        "print(type(value_counts))\n",
        "print(value_counts)"
      ],
      "execution_count": 84,
      "outputs": [
        {
          "output_type": "stream",
          "text": [
            "<class 'pandas.core.series.Series'>\n",
            "3    491\n",
            "1    216\n",
            "2    184\n",
            "Name: Pclass, dtype: int64\n"
          ],
          "name": "stdout"
        }
      ]
    },
    {
      "cell_type": "markdown",
      "metadata": {
        "id": "-vbRU2yHEVjc",
        "colab_type": "text"
      },
      "source": [
        "### DataFrame과 리스트, 딕셔너리, 넘파이 ndarray 상호 변환"
      ]
    },
    {
      "cell_type": "markdown",
      "metadata": {
        "id": "I3AbFXaQEvAW",
        "colab_type": "text"
      },
      "source": [
        "기본적으로 DataFrame은 리스트, 딕셔너리, 그리고 `ndarray` 등 다양한 데이터로부터 생성될 수 있다.\n",
        "- 반대로 리스트, 딕셔너리, `ndarray`로 변환될 수 있다.\n",
        "- 특히 사이킷런의 많은 API들은 `ndarray`를 입력 인자로 사용하는 경우가 대부분이다."
      ]
    },
    {
      "cell_type": "markdown",
      "metadata": {
        "id": "rCRr-4WyFCN0",
        "colab_type": "text"
      },
      "source": [
        "##### **ndarray, 리스트, 딕셔너리를 DataFrame으로 변환하기**"
      ]
    },
    {
      "cell_type": "code",
      "metadata": {
        "id": "mfWPYtijEZ6l",
        "colab_type": "code",
        "colab": {}
      },
      "source": [
        ""
      ],
      "execution_count": 0,
      "outputs": []
    }
  ]
}