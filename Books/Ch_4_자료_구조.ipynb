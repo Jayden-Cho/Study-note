{
  "nbformat": 4,
  "nbformat_minor": 0,
  "metadata": {
    "colab": {
      "name": "Ch 4 자료 구조",
      "provenance": []
    },
    "kernelspec": {
      "name": "python3",
      "display_name": "Python 3"
    }
  },
  "cells": [
    {
      "cell_type": "markdown",
      "metadata": {
        "id": "FqlpthwtUq6O",
        "colab_type": "text"
      },
      "source": [
        "# 문제 13 **회문 찾기 - 큐와 스택**\n",
        "\n",
        "**문자열이 회문인지 아닌지 판단하여 회문이면 True, 아니면 False를 결과로 알려주는 알고리즘 만들기**"
      ]
    },
    {
      "cell_type": "markdown",
      "metadata": {
        "id": "DXGRwAsYZwOF",
        "colab_type": "text"
      },
      "source": [
        "어떤 문장이 주어졌을 때, 이 문장이 회문인지 아닌지 판단하려면 어떻게 해야 할까?\n",
        "- 큐와 스택을 활용해 회문을 판단하는 방법을 살펴보자."
      ]
    },
    {
      "cell_type": "markdown",
      "metadata": {
        "id": "CX81mH2-ayGg",
        "colab_type": "text"
      },
      "source": [
        "##### **큐와 스택**"
      ]
    },
    {
      "cell_type": "markdown",
      "metadata": {
        "id": "uYuIs6gIbz7t",
        "colab_type": "text"
      },
      "source": [
        "큐와 스택은 컴퓨터 과학에서 다루는 여러 가지 자료 구조 중에서도 가장 기본적인 것.\n",
        "- 두 자료 구조 모두 '자료를 넣는 동작'과 '자료를 빼는 동작'을 할 수 있고, 들어간 자료가 일렬로 보관된다는 공통점이 있다.\n",
        "- 하지만 <u>자료를 넣고 뺄 때 동작하는 방식</u>이 서로 다르다."
      ]
    },
    {
      "cell_type": "markdown",
      "metadata": {
        "id": "E3yaK3tZeINN",
        "colab_type": "text"
      },
      "source": [
        "**큐** (First In First Out)\n",
        "- '줄 서기'에 비유할 수 있다. 가장 먼저 줄을 선 사람이 가장 먼저 택시를 타게되는 원리.\n",
        "- 큐에 자료를 한 개 집어넣는 동작을 '인큐(enqueue)', 큐 안에 있는 자료를 한 개 꺼내는 동작을 '디큐(dequeue)'라고 표현한다."
      ]
    },
    {
      "cell_type": "markdown",
      "metadata": {
        "id": "DQu6PVYeefOS",
        "colab_type": "text"
      },
      "source": [
        "**스택** (Last In First Out)\n",
        "- '접시 쌓기'에 비유할 수 있다. 맨 아래에 있는 접시를 꺼내려면 맨 위에 있는 접시부터 하나하나 꺼내야 한다는 것과 비슷한 원리.\n",
        "- 스택에 자료를 하나 집어넣는 동작을 '푸시(push)', 스택 안에 있는 자료를 하나 꺼내는 동작을 '팝(pop)'이라고 표현한다."
      ]
    },
    {
      "cell_type": "markdown",
      "metadata": {
        "id": "CXup3Xg3fW-u",
        "colab_type": "text"
      },
      "source": [
        "**리스트로 큐와 스택 사용하기**\n",
        "- 큐와 스택은 자료를 일렬로 보관하는 특징이 있다. 그러므로 파이썬의 리스트를 이용해 쉽게 만들 수 있다."
      ]
    },
    {
      "cell_type": "code",
      "metadata": {
        "id": "F7ODcm94UjQQ",
        "colab_type": "code",
        "outputId": "f75441b0-136c-4c68-9cee-4cef9b302397",
        "colab": {
          "base_uri": "https://localhost:8080/",
          "height": 54
        }
      },
      "source": [
        "'''# Queue\n",
        "qu = []  # 초기화. 빈 리스트를 만듦.\n",
        "qu.append(x)  # 자료 넣기(enqueue). 리스트의 맨 뒤에 자료를 추가.\n",
        "x = qu.pop(0)  # 자료 꺼내기(dequeue). 리스트의 맨 앞(0번 위치)에서 자료를 꺼냄.'''"
      ],
      "execution_count": 0,
      "outputs": [
        {
          "output_type": "execute_result",
          "data": {
            "text/plain": [
              "'# Queue\\nqu = []  # 초기화. 빈 리스트를 만듦.\\nqu.append(x)  # 자료 넣기(enqueue). 리스트의 맨 뒤에 자료를 추가.\\nx = qu.pop(0)  # 자료 꺼내기(dequeue). 리스트의 맨 앞(0번 위치)에서 자료를 꺼냄.'"
            ]
          },
          "metadata": {
            "tags": []
          },
          "execution_count": 2
        }
      ]
    },
    {
      "cell_type": "code",
      "metadata": {
        "id": "eSKSSTsqf0Nz",
        "colab_type": "code",
        "outputId": "1bfc07fc-5651-40a1-c521-cceebb5c746b",
        "colab": {
          "base_uri": "https://localhost:8080/",
          "height": 34
        }
      },
      "source": [
        "'''# Stack\n",
        "st = []  # 초기화. 빈 리스트를 만듦.\n",
        "st.append(x)  # 자료 넣기(push). 리스트의 맨 뒤에 자료를 추가.\n",
        "x = st.pop(0)  # 자료 꺼내기(pop). 리스트의 맨 뒤에서 자료를 꺼냄.'''"
      ],
      "execution_count": 0,
      "outputs": [
        {
          "output_type": "execute_result",
          "data": {
            "text/plain": [
              "'# Stack\\nst = []  # 초기화. 빈 리스트를 만듦.\\nst.append(x)  # 자료 넣기(push). 리스트의 맨 뒤에 자료를 추가.\\nx = st.pop(0)  # 자료 꺼내기(pop). 리스트의 맨 뒤에서 자료를 꺼냄.'"
            ]
          },
          "metadata": {
            "tags": []
          },
          "execution_count": 3
        }
      ]
    },
    {
      "cell_type": "markdown",
      "metadata": {
        "id": "lDcW45LdgHLJ",
        "colab_type": "text"
      },
      "source": [
        "##### **회문 찾기 알고리즘**"
      ]
    },
    {
      "cell_type": "markdown",
      "metadata": {
        "id": "Yo9A0G4Yg59_",
        "colab_type": "text"
      },
      "source": [
        "주어진 문장의 문자들을 하나하나 큐와 스택에 넣고 하나씩 자료를 꺼낸다고 할 때, \n",
        "- 큐는 들어간 순서 그대로, 스택은 들어간 순서와 정반대로 뽑혀 나온다.\n",
        "- 큐에서 꺼낸 문자들이 스택에서 꺼낸 문자들과 모두 같다면 그 문장은 회문이다."
      ]
    },
    {
      "cell_type": "code",
      "metadata": {
        "id": "tcAy_9CngFJH",
        "colab_type": "code",
        "outputId": "0e4707a2-6c62-4f0e-c190-a6afb4c1ba67",
        "colab": {
          "base_uri": "https://localhost:8080/",
          "height": 68
        }
      },
      "source": [
        "# 주어진 문장이 회문인지 아닌지 찾기(큐와 스택의 특징을 이용)\n",
        "# 입력: 문자열 s\n",
        "# 출력: 회문이면 True, 아니면 False\n",
        "\n",
        "def palindrome(s):\n",
        "  # 큐와 스택을 리스트로 정의\n",
        "  qu, st = [], []\n",
        "  # 1단계: 문자열의 알파벳 문자를 각각 큐와 스택에 넣음\n",
        "  for x in s:\n",
        "    # 해당 문자가 알파벳이면(공백, 숫자, 특수문자가 아니면)\n",
        "    # 큐와 스택에 각각 그 문자를 추가\n",
        "    if x.isalpha():\n",
        "      qu.append(x.lower())\n",
        "      st.append(x.lower())\n",
        "    \n",
        "  # 2단계: 큐와 스택에 들어 있는 문자를 꺼내면서 비교\n",
        "  while qu:\n",
        "    if qu.pop(0) != st.pop():\n",
        "      return False\n",
        "\n",
        "  return True\n",
        "\n",
        "print(palindrome(\"Wow\"))\n",
        "print(palindrome(\"Madam, I'm Adam.\"))\n",
        "print(palindrome(\"Madam, I am Adam.\"))"
      ],
      "execution_count": 0,
      "outputs": [
        {
          "output_type": "stream",
          "text": [
            "True\n",
            "True\n",
            "False\n"
          ],
          "name": "stdout"
        }
      ]
    },
    {
      "cell_type": "code",
      "metadata": {
        "id": "VhJA-VS6nHtq",
        "colab_type": "code",
        "outputId": "bc3f4ac5-9825-4188-8a87-9ac98f3de0d3",
        "colab": {
          "base_uri": "https://localhost:8080/",
          "height": 34
        }
      },
      "source": [
        "def palindrome(d):\n",
        "  lst = [x.lower() for x in d if x.isalpha()]\n",
        "  while len(lst) >= 2:\n",
        "    if lst.pop(0) != lst.pop(-1):\n",
        "      return False\n",
        "  return True\n",
        "\n",
        "d = \"Madam, I'm Adam\"\n",
        "palindrome(d)"
      ],
      "execution_count": 0,
      "outputs": [
        {
          "output_type": "execute_result",
          "data": {
            "text/plain": [
              "True"
            ]
          },
          "metadata": {
            "tags": []
          },
          "execution_count": 25
        }
      ]
    },
    {
      "cell_type": "code",
      "metadata": {
        "id": "r-2qHx_BoIsN",
        "colab_type": "code",
        "outputId": "d8ebd8b3-0218-497f-c67c-f5f0d3cf45d2",
        "colab": {
          "base_uri": "https://localhost:8080/",
          "height": 68
        }
      },
      "source": [
        "def palindrome(s):\n",
        "  i = 0  # 문자열의 앞에서 비교할 위치\n",
        "  j = len(s) - 1  # 문자열의 뒤에서 비교할 위치\n",
        "  while i < j:  # 중간까지만 검사하면 됨.\n",
        "    # i 위치에 있는 문자가 알파벳 문자가 아니면 뒤로 이동\n",
        "    if s[i].isalpha() == False:\n",
        "      i += 1\n",
        "    # j 위치에 있는 문자가 알파벳 문자가 아니면 뒤로 이동\n",
        "    elif s[j].isalpha() == False:\n",
        "      j -= 1\n",
        "    # i와 j 위치에 둘 다 알파벳 문자가 있으면 두 문자를 비교하고 다르면 회문이 아님.\n",
        "    elif s[i].lower() != s[j].lower():\n",
        "      return False\n",
        "    # i와 j 위치에 두 문자를 비교하고 같으면 다음 비교 대상으로 넘어감.\n",
        "    else:\n",
        "      i += 1\n",
        "      j -= 1\n",
        "  return True\n",
        "\n",
        "print(palindrome(\"Wow\"))\n",
        "print(palindrome(\"Madam, I'm Adam.\"))\n",
        "print(palindrome(\"Madam, I am Adam.\"))"
      ],
      "execution_count": 0,
      "outputs": [
        {
          "output_type": "stream",
          "text": [
            "True\n",
            "True\n",
            "False\n"
          ],
          "name": "stdout"
        }
      ]
    },
    {
      "cell_type": "markdown",
      "metadata": {
        "id": "WHf82jnpexP0",
        "colab_type": "text"
      },
      "source": [
        "# 문제 14 **동명이인 찾기 2**"
      ]
    },
    {
      "cell_type": "markdown",
      "metadata": {
        "id": "W-qgAGqmfm1o",
        "colab_type": "text"
      },
      "source": [
        "**n명의 사람 이름 중에 같은 이름을 찾아 집합으로 만들어 돌려주는 알고리즘 만들기**"
      ]
    },
    {
      "cell_type": "markdown",
      "metadata": {
        "id": "4MLK6gNPlZYp",
        "colab_type": "text"
      },
      "source": [
        "##### **자주 사용하는 딕셔너리 기능**"
      ]
    },
    {
      "cell_type": "code",
      "metadata": {
        "id": "DisvHf-olrfb",
        "colab_type": "code",
        "colab": {
          "base_uri": "https://localhost:8080/",
          "height": 34
        },
        "outputId": "2f0e019a-b4a7-4e26-ae8f-8c199e2a66a9"
      },
      "source": [
        "d = {'Justin': 13, 'John': 10, 'Mike': 9}\n",
        "\n",
        "# len(a).\n",
        "len(d)  # result: 3\n",
        "\n",
        "# d[key].\n",
        "d[\"Mike\"]  # result: 9\n",
        "\n",
        "# d[key] = value. 키에 값을 저장한다.\n",
        "d[\"Summer\"] = 1\n",
        "d  # result: {'John': 10, 'Justin': 13, 'Mike': 9, 'Summer': 1}\n",
        "\n",
        "# del d[key]. 키에 해당하는 값을 지운다.\n",
        "del d[\"Summer\"]\n",
        "d  # result: {'John': 10, 'Justin': 13, 'Mike': 9}\n",
        "\n",
        "# clear(). 딕셔너리에 담긴 모든 자료를 지운다.\n",
        "d  # result: {}"
      ],
      "execution_count": 9,
      "outputs": [
        {
          "output_type": "execute_result",
          "data": {
            "text/plain": [
              "{'John': 10, 'Justin': 13, 'Mike': 9}"
            ]
          },
          "metadata": {
            "tags": []
          },
          "execution_count": 9
        }
      ]
    },
    {
      "cell_type": "markdown",
      "metadata": {
        "id": "UKvHIVB7oYUn",
        "colab_type": "text"
      },
      "source": [
        "##### **딕셔너리를 이용해 동명이인을 찾는 알고리즘**"
      ]
    },
    {
      "cell_type": "code",
      "metadata": {
        "id": "NTJPnwItezWP",
        "colab_type": "code",
        "colab": {
          "base_uri": "https://localhost:8080/",
          "height": 51
        },
        "outputId": "3cf5ab0f-7811-4a57-92fa-af9659ac4f2a"
      },
      "source": [
        "# 두 번 이상 나온 이름 찾기\n",
        "# 입력: 이름이 n개 들어 있는 리스트\n",
        "# 출력: n개의 이름 중 반복되는 이름의 집합\n",
        "\n",
        "def find_same_name(a):\n",
        "  # 1단계: 각 이름이 등장한 횟수를 딕셔너리로 만듦.\n",
        "  name_dict = {}\n",
        "  for name in a:  # 리스트 a에 있는 자료들을 차례로 반복.\n",
        "    if name in name_dict:  # 이름이 name_dict에 있으면\n",
        "      name_dict[name] += 1  # 등장 횟수를 1 증가\n",
        "    else:  # 새 이름이면\n",
        "      name_dict[name] = 1  # 등장 횟수를 1로 저장\n",
        "\n",
        "  # 2단계: 만들어진 딕셔너리에서 등장 횟수가 2 이상인 것을 결과에 추가.\n",
        "  result = set()  # 결괏값을 저장할 빈 집합\n",
        "  for name in name_dict:  # 딕셔너리 name_dict에 있는 자료들을 차례로 반복\n",
        "    if name_dict[name] >= 2:\n",
        "      result.add(name)\n",
        "\n",
        "  return result\n",
        "\n",
        "name = [\"Tom\", \"Jerry\", \"Mike\", \"Tom\"]\n",
        "print(find_same_name(name))\n",
        "\n",
        "name2 = [\"Tom\", \"Jerry\", \"Mike\", \"Tom\", \"Mike\"]\n",
        "print(find_same_name(name2))"
      ],
      "execution_count": 2,
      "outputs": [
        {
          "output_type": "stream",
          "text": [
            "{'Tom'}\n",
            "{'Tom', 'Mike'}\n"
          ],
          "name": "stdout"
        }
      ]
    },
    {
      "cell_type": "markdown",
      "metadata": {
        "id": "RT5iENZNod7k",
        "colab_type": "text"
      },
      "source": [
        "##### **알고리즘 분석**"
      ]
    },
    {
      "cell_type": "markdown",
      "metadata": {
        "id": "O-Z3nDSxohvd",
        "colab_type": "text"
      },
      "source": [
        "문제 3에서 살펴본 동명이인을 찾는 알고리즘의 계산 복잡도는 $O(n^2)$였다.\n",
        "- 반면 딕셔너리를 이용한 알고리즘은 리스트를 정보를 딕셔너리에 넣고(n번), \n",
        "- 다음 딕셔너리에 저장된 이름을 확인해 등장 횟수가 2 이상인 자료를 찾는다(n번 이하)."
      ]
    },
    {
      "cell_type": "markdown",
      "metadata": {
        "id": "VOr9BQeTr7De",
        "colab_type": "text"
      },
      "source": [
        "##### **연습 문제**"
      ]
    },
    {
      "cell_type": "code",
      "metadata": {
        "id": "sGSZgZlQpQ5N",
        "colab_type": "code",
        "colab": {
          "base_uri": "https://localhost:8080/",
          "height": 51
        },
        "outputId": "49d7b819-db92-4a24-e88c-02a295e98b84"
      },
      "source": [
        "# 14-1. 연습 문제 7-3을 딕셔너리를 사용해 풀기.\n",
        "\n",
        "def find_stu(d, n):\n",
        "  if n in d:\n",
        "    return d[n]\n",
        "  else:\n",
        "    return \"?\"\n",
        "\n",
        "\n",
        "stu_info = {\n",
        "    39: 'Justin',\n",
        "    14: 'John',\n",
        "    67: 'Mike', \n",
        "    105: 'Summer'\n",
        "}\n",
        "\n",
        "print(find_stu(stu_info, 105))\n",
        "print(find_stu(stu_info, 44))"
      ],
      "execution_count": 24,
      "outputs": [
        {
          "output_type": "stream",
          "text": [
            "Summer\n",
            "?\n"
          ],
          "name": "stdout"
        }
      ]
    },
    {
      "cell_type": "code",
      "metadata": {
        "id": "234Op3gxq36F",
        "colab_type": "code",
        "colab": {}
      },
      "source": [
        ""
      ],
      "execution_count": 0,
      "outputs": []
    }
  ]
}