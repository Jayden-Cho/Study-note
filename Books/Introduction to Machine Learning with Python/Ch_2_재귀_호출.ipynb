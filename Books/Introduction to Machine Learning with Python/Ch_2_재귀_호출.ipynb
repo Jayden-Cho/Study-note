{
  "nbformat": 4,
  "nbformat_minor": 0,
  "metadata": {
    "colab": {
      "name": "Ch 2 재귀 호출",
      "provenance": [],
      "collapsed_sections": [
        "qbTFBiQYWR2o",
        "HAA5HdQoe9N-",
        "3QXCc14vd65z",
        "1BcI81D5d4TW",
        "nLiqBHobfXvz",
        "6bgR4Z70fxGa",
        "LzBO9AayyFF4",
        "IoHrN7GS2bM4",
        "uyoBS82i3Ini",
        "SCNNCqQG5QKr",
        "NgimyTrO6-cx",
        "tfEOamgsOZ6e",
        "lYBLFGlFOav4",
        "Ug4iLS_nTIsq",
        "Uv6TE3wRUF0s"
      ],
      "authorship_tag": "ABX9TyNCZ7bk4ZFTYtKuL1hshKcG",
      "include_colab_link": true
    },
    "kernelspec": {
      "name": "python3",
      "display_name": "Python 3"
    }
  },
  "cells": [
    {
      "cell_type": "markdown",
      "metadata": {
        "id": "view-in-github",
        "colab_type": "text"
      },
      "source": [
        "<a href=\"https://colab.research.google.com/github/Jayden-Cho/Study-note/blob/master/Ch_2_%EC%9E%AC%EA%B7%80_%ED%98%B8%EC%B6%9C.ipynb\" target=\"_parent\"><img src=\"https://colab.research.google.com/assets/colab-badge.svg\" alt=\"Open In Colab\"/></a>"
      ]
    },
    {
      "cell_type": "markdown",
      "metadata": {
        "id": "qbTFBiQYWR2o",
        "colab_type": "text"
      },
      "source": [
        "# 문제04 **팩토리얼 구하기**\n",
        "\n",
        "**1부터 n까지 연속한 정수의 곱을 구하는 알고리즘 만들기**"
      ]
    },
    {
      "cell_type": "markdown",
      "metadata": {
        "id": "HAA5HdQoe9N-",
        "colab_type": "text"
      },
      "source": [
        "##### **재귀 호출**"
      ]
    },
    {
      "cell_type": "markdown",
      "metadata": {
        "id": "yETApYT7dmyL",
        "colab_type": "text"
      },
      "source": [
        "재귀 호출은 어떤 함수 안에서 자기 자신을 부르는 것.\n",
        "- 재귀 호출 프로그램이 정상적으로 작동하려면 '종료 조건'이 필요하다.\n",
        "- 재귀 호출 함수가 계산 결과를 돌려줄 때는 `return` 명령을 사용해 종료 조건의 결괏값부터 돌려준다."
      ]
    },
    {
      "cell_type": "markdown",
      "metadata": {
        "id": "3QXCc14vd65z",
        "colab_type": "text"
      },
      "source": [
        "##### **팩토리얼 알고리즘**"
      ]
    },
    {
      "cell_type": "code",
      "metadata": {
        "id": "Y45EvRareF1h",
        "colab_type": "code",
        "outputId": "5ea6820d-abf7-4ee1-92fb-e2242f366fae",
        "colab": {
          "base_uri": "https://localhost:8080/",
          "height": 71
        }
      },
      "source": [
        "# for문을 사용한 팩토리얼 알고리즘\n",
        "\n",
        "def fact1(n):\n",
        "  total = 1\n",
        "  for i in range(1, n+1):\n",
        "    total *= i\n",
        "  return total\n",
        "\n",
        "print(fact1(1))\n",
        "print(fact1(5))\n",
        "print(fact1(10))"
      ],
      "execution_count": 0,
      "outputs": [
        {
          "output_type": "stream",
          "text": [
            "1\n",
            "120\n",
            "3628800\n"
          ],
          "name": "stdout"
        }
      ]
    },
    {
      "cell_type": "code",
      "metadata": {
        "id": "RbzAq2b0egfC",
        "colab_type": "code",
        "outputId": "8e634bd9-f2f1-42d4-87df-3283e1545b86",
        "colab": {
          "base_uri": "https://localhost:8080/",
          "height": 71
        }
      },
      "source": [
        "# 재귀 호출을 사용한 팩토리얼 알고리즘\n",
        "\n",
        "def fact2(n):\n",
        "  if n <= 1:\n",
        "    return 1\n",
        "  return n * fact2(n-1)\n",
        "\n",
        "print(fact2(1))\n",
        "print(fact2(5))\n",
        "print(fact2(10))"
      ],
      "execution_count": 0,
      "outputs": [
        {
          "output_type": "stream",
          "text": [
            "1\n",
            "120\n",
            "3628800\n"
          ],
          "name": "stdout"
        }
      ]
    },
    {
      "cell_type": "markdown",
      "metadata": {
        "id": "1BcI81D5d4TW",
        "colab_type": "text"
      },
      "source": [
        "##### **알고리즘 분석**"
      ]
    },
    {
      "cell_type": "markdown",
      "metadata": {
        "id": "Ddk2khCMfBfj",
        "colab_type": "text"
      },
      "source": [
        "- for 반복문을 이용한 프로그램의 경우 n!을 구하려면 곱셈이 n번 필요하다.\n",
        "- 재귀 호출 알고리즘의 경우 n!을 구하려면 곱셈이 n-1번 필요하다.\n",
        "\n",
        "큰 수에서는 n이나 n-1이나 차이 없다. 두 경우 모두 계산복잡도는 $O(n)$으로 동일하다."
      ]
    },
    {
      "cell_type": "markdown",
      "metadata": {
        "id": "nLiqBHobfXvz",
        "colab_type": "text"
      },
      "source": [
        "##### **재귀 호출의 일반적인 형태**"
      ]
    },
    {
      "cell_type": "markdown",
      "metadata": {
        "id": "FjtWpiQQfabb",
        "colab_type": "text"
      },
      "source": [
        "재귀 호출은 보통 다음과 같은 구조로 형성되있다."
      ]
    },
    {
      "cell_type": "code",
      "metadata": {
        "id": "Rcw-c957YLBM",
        "colab_type": "code",
        "colab": {}
      },
      "source": [
        "# def func(입력 값):\n",
        "#  if 입력 값이 충분히 작으면: --- 종료 조건\n",
        "#    return 결괏값\n",
        "#  ...\n",
        "#  func(더 작은 입력 값)\n",
        "#  ...\n",
        "#  return 결괏값"
      ],
      "execution_count": 0,
      "outputs": []
    },
    {
      "cell_type": "markdown",
      "metadata": {
        "id": "6bgR4Z70fxGa",
        "colab_type": "text"
      },
      "source": [
        "##### **연습 문제**"
      ]
    },
    {
      "cell_type": "markdown",
      "metadata": {
        "id": "wBnPcx88gHUa",
        "colab_type": "text"
      },
      "source": [
        "**4-1** 1부터 n까지의 합 구하기를 재귀 호출로 만들기."
      ]
    },
    {
      "cell_type": "code",
      "metadata": {
        "id": "R8VNJi-vfvj-",
        "colab_type": "code",
        "outputId": "f9e323be-12a3-464f-9273-ab10f0218f7f",
        "colab": {
          "base_uri": "https://localhost:8080/",
          "height": 71
        }
      },
      "source": [
        "def sumRecur(n):\n",
        "  if n == 1:\n",
        "    return 1\n",
        "  return n + sumRecur(n-1)\n",
        "\n",
        "print(sumRecur(3))\n",
        "print(sumRecur(5))\n",
        "print(sumRecur(10))"
      ],
      "execution_count": 0,
      "outputs": [
        {
          "output_type": "stream",
          "text": [
            "6\n",
            "15\n",
            "55\n"
          ],
          "name": "stdout"
        }
      ]
    },
    {
      "cell_type": "markdown",
      "metadata": {
        "id": "T-yFWjo5gM-K",
        "colab_type": "text"
      },
      "source": [
        "**4-2** 숫자 n개 중에서 최댓값 찾기를 재귀 호출로 만들기."
      ]
    },
    {
      "cell_type": "code",
      "metadata": {
        "id": "iacXhl-YgRVK",
        "colab_type": "code",
        "outputId": "7fd231e1-9dfa-49ba-b59f-14e9097e7812",
        "colab": {
          "base_uri": "https://localhost:8080/",
          "height": 35
        }
      },
      "source": [
        "def findMaxRecur(a, n):\n",
        "  if n == 1:\n",
        "    return a[0]\n",
        "  mxNum = findMaxRecur(a, n-1)\n",
        "  if mxNum > a[n-1]:\n",
        "    return mxNum\n",
        "  else:\n",
        "    return a[n-1]\n",
        "\n",
        "a = [1, 3, 5, 4, 2]\n",
        "findMaxRecur(a, len(a))"
      ],
      "execution_count": 0,
      "outputs": [
        {
          "output_type": "execute_result",
          "data": {
            "text/plain": [
              "5"
            ]
          },
          "metadata": {
            "tags": []
          },
          "execution_count": 15
        }
      ]
    },
    {
      "cell_type": "markdown",
      "metadata": {
        "id": "LzBO9AayyFF4",
        "colab_type": "text"
      },
      "source": [
        "# 문제 05 **최대공약수 구하기**\n",
        "\n",
        "**두 자연수 a와 b의 최대공약수를 구하는 알고리즘 만들기**"
      ]
    },
    {
      "cell_type": "markdown",
      "metadata": {
        "id": "IoHrN7GS2bM4",
        "colab_type": "text"
      },
      "source": [
        "##### **최대공약수 알고리즘**"
      ]
    },
    {
      "cell_type": "markdown",
      "metadata": {
        "id": "Tm205pQu2ghQ",
        "colab_type": "text"
      },
      "source": [
        "1. 두 수중 더 작은 값을 i에 저장한다.\n",
        "2. i가 두 수의 공통된 약수인지 확인한다.\n",
        "3. 공통된 약수면 이 값을 결괏값으로 돌려주고 종료한다.\n",
        "4. 공통된 약수가 아니면 i를 1 감소시키고 2번으로 돌아가 반복한다."
      ]
    },
    {
      "cell_type": "markdown",
      "metadata": {
        "id": "7dQpBSUI2tml",
        "colab_type": "text"
      },
      "source": [
        "이 알고리즘을 프로그램으로 만들면 다음과 같다."
      ]
    },
    {
      "cell_type": "code",
      "metadata": {
        "id": "K5b80r5c0UL4",
        "colab_type": "code",
        "outputId": "83372cc6-6302-42c5-defb-709f0cf8927b",
        "colab": {
          "base_uri": "https://localhost:8080/",
          "height": 53
        }
      },
      "source": [
        "# 문제: 최대공약수 구하기\n",
        "# 입력: a, b\n",
        "# 출력: a와 b의 최대공약수\n",
        "\n",
        "def gcd(a, b):\n",
        "  i = min(a, b)  # 두 수 중에서 최솟값을 구하는 파이썬 함수\n",
        "  while True:\n",
        "    if a%i==0 and b%i==0:\n",
        "      return i\n",
        "    i -= 1\n",
        "  \n",
        "print(gcd(1, 5))\n",
        "print(gcd(81, 27))"
      ],
      "execution_count": 0,
      "outputs": [
        {
          "output_type": "stream",
          "text": [
            "1\n",
            "27\n"
          ],
          "name": "stdout"
        }
      ]
    },
    {
      "cell_type": "markdown",
      "metadata": {
        "id": "uyoBS82i3Ini",
        "colab_type": "text"
      },
      "source": [
        "##### **유클리드 알고리즘**"
      ]
    },
    {
      "cell_type": "markdown",
      "metadata": {
        "id": "vx-8o8lE3L4z",
        "colab_type": "text"
      },
      "source": [
        "유클리드가 발견한 최대공약수의 성질을 이용해보자.\n",
        "1. a와 b의 최대공약수는 'b'와 'a를 b로 나눈 나머지'의 최대공약수와 같다. 즉, gcd(a, b)=gcd(b, a%b) 이다.\n",
        "2. 어떤 수와 0의 최대공약수는 자기 자신이다. 즉, gcd(n, 0)=n이다."
      ]
    },
    {
      "cell_type": "markdown",
      "metadata": {
        "id": "HLDZdvC03nVi",
        "colab_type": "text"
      },
      "source": [
        "예를 들자면,\n",
        "- `gcd(60, 24) = gcd(24, 60%24) = gcd(24, 12) = gcd(12, 24%12) = gcd(12, 0) = 12`"
      ]
    },
    {
      "cell_type": "markdown",
      "metadata": {
        "id": "sp-Ko_PS4CWt",
        "colab_type": "text"
      },
      "source": [
        "'재귀 호출'로 이 문제를 풀 수 있다.\n",
        "- 재귀 호출이 무한히 반복되지 않도록 하는 데 필요한 종료 조건은?\n",
        "  - '어떤 수와 0의 최대공역수는 자기 자신'."
      ]
    },
    {
      "cell_type": "markdown",
      "metadata": {
        "id": "gXQm8DcJ4L2I",
        "colab_type": "text"
      },
      "source": [
        "유클리드 알고리즘을 이용한 프로그램은 다음과 같다."
      ]
    },
    {
      "cell_type": "code",
      "metadata": {
        "id": "J5luaouv27oV",
        "colab_type": "code",
        "outputId": "a8ae8543-e813-423e-f4f2-8a00946607c2",
        "colab": {
          "base_uri": "https://localhost:8080/",
          "height": 53
        }
      },
      "source": [
        "def gcd(a, b):\n",
        "  if b==0:\n",
        "    return a\n",
        "  return gcd(b, a%b)\n",
        "\n",
        "print(gcd(1, 5))\n",
        "print(gcd(81, 27))"
      ],
      "execution_count": 0,
      "outputs": [
        {
          "output_type": "stream",
          "text": [
            "1\n",
            "27\n"
          ],
          "name": "stdout"
        }
      ]
    },
    {
      "cell_type": "markdown",
      "metadata": {
        "id": "0Gu56uiw4fDA",
        "colab_type": "text"
      },
      "source": [
        "> **재귀 호출의 이해를 돕는 방법**\n",
        "> 1. 종이에 직접 함수 호출 과정을 적어보자.\n",
        ">   - 함수가 호출될 때 마다 안쪽으로 들여 쓰고, 값이 반환되면 다시 바깥쪽으로 돌아가는 형식으로 적다보면 함수 호출을 이해하는 데 도움이 된다.\n",
        "> 2. 함수의 입력 값을 화면에 출력해보기.\n",
        ">   - `gcd(a, b)` 함수에 `print()`를 추가해보면 실행되는 과정을 직접 확인할 수 있다."
      ]
    },
    {
      "cell_type": "code",
      "metadata": {
        "id": "hPU9oMOp4Y7h",
        "colab_type": "code",
        "outputId": "7cf0dcda-6a3e-41ed-b134-ff7de5eed8dd",
        "colab": {
          "base_uri": "https://localhost:8080/",
          "height": 107
        }
      },
      "source": [
        "def gcd(a, b):\n",
        "  print(\"gcd: \", a, b)\n",
        "  if b==0:\n",
        "    return a\n",
        "  return gcd(b, a%b)\n",
        "\n",
        "print(gcd(24, 36))"
      ],
      "execution_count": 0,
      "outputs": [
        {
          "output_type": "stream",
          "text": [
            "gcd:  24 36\n",
            "gcd:  36 24\n",
            "gcd:  24 12\n",
            "gcd:  12 0\n",
            "12\n"
          ],
          "name": "stdout"
        }
      ]
    },
    {
      "cell_type": "markdown",
      "metadata": {
        "id": "SCNNCqQG5QKr",
        "colab_type": "text"
      },
      "source": [
        "##### **연습 문제**"
      ]
    },
    {
      "cell_type": "code",
      "metadata": {
        "id": "ud8uzx605TQ5",
        "colab_type": "code",
        "outputId": "d7a6f8be-2351-4d68-9535-bc69b1ccd841",
        "colab": {
          "base_uri": "https://localhost:8080/",
          "height": 35
        }
      },
      "source": [
        "# 피보나치 수열을 재귀 호출을 이용해 구현하기.\n",
        "\n",
        "def fibonacci(n):\n",
        "  if n <=1:\n",
        "    return n\n",
        "  return fibonacci(n-1) + fibonacci(n-2)\n",
        "\n",
        "print(fibonacci(8))"
      ],
      "execution_count": 0,
      "outputs": [
        {
          "output_type": "stream",
          "text": [
            "21\n"
          ],
          "name": "stdout"
        }
      ]
    },
    {
      "cell_type": "markdown",
      "metadata": {
        "id": "NgimyTrO6-cx",
        "colab_type": "text"
      },
      "source": [
        "# 문제 06 **하노이의 탑 옮기기**\n",
        "\n",
        "**원반이 n개인 하노이의 탑을 옮기기 위한 원반 이동 순서를 출력하는 알고리즘 만들기**"
      ]
    },
    {
      "cell_type": "markdown",
      "metadata": {
        "id": "tfEOamgsOZ6e",
        "colab_type": "text"
      },
      "source": [
        "##### **하노이의 탑**"
      ]
    },
    {
      "cell_type": "markdown",
      "metadata": {
        "id": "PNA09eQaNnQ6",
        "colab_type": "text"
      },
      "source": [
        "간단한 원반 옮기기 퍼즐. \n",
        "- 어떻게 하면 원반 n개를 모두 가장 왼쪽 기둥에서 가장 오른쪽 기둥으로 옮길 수 있을까 하는 문제.\n",
        "- 세 가지 제약 사항이 있다.\n",
        "1. 크기가 다른 원반 n개를 출발점 기둥에서 도착점 기둥으로 전부 옮겨야 한다.\n",
        "2. 원반은 한 번에 한 개씩만.\n",
        "3. 원반을 옮기는 과정에서 큰 원반을 작은 원반 위로 올릴 수 없다."
      ]
    },
    {
      "cell_type": "markdown",
      "metadata": {
        "id": "lYBLFGlFOav4",
        "colab_type": "text"
      },
      "source": [
        "##### **하노이의 탑 풀이**"
      ]
    },
    {
      "cell_type": "markdown",
      "metadata": {
        "id": "nqdiDTVkOduI",
        "colab_type": "text"
      },
      "source": [
        "아무리 복잡한 문제라도 입력 크기가 작은 간단한 문제부터 차근차근 생각하면 아이디어가 떠오르기 마련이다.\n",
        "\n",
        "**원반이 한 개일 때**\n",
        "- 1번 기둥의 원반을 3번 기둥으로 옮기면 끝.\n",
        "<br>\n",
        "\n",
        "**원반이 두 개일 때**\n",
        "- 1번 기둥의 맨 위에 있는 원반을 2번 기둥으로 옮긴다 (1 -> 2).\n",
        "- 1번 기둥에 남아 있는 큰 원반을 3번 기둥으로 옮긴다 (1 -> 3).\n",
        "- 2번 기둥에 남아 있는 원반을 3번 기둥으로 옮긴다 (2 -> 3). 총 세 번.\n",
        "<br>\n",
        "\n",
        "**원반이 세 개일 때**\n",
        "- 원반 두 개인 문제를 풀었다는 것을 기억하자.\n",
        "- 1번 기둥의 두 원반을 2번 기둥에 옮긴다 (세 번).\n",
        "- 1번 기둥에 남아 있는 큰 원반을 3번 기둥으로 옮긴다 (1 -> 3).\n",
        "- 2번 기둥에 있는 두 원반을 3번 기둥으로 옮긴다 (세 번). 총 일곱 번.\n",
        "<br>\n",
        "\n",
        "**원반이 n개일 때**\n",
        "- 1번 기둥에 있는 n-1개 원반을 2번 기둥으로 옮긴다 (n-1개 원반 하노이 문제).\n",
        "- 1번 기둥에 남아 있는 가장 큰 원반을 3번 기둥으로 옮긴다 (1 -> 3).\n",
        "- 2번 기둥에 있는 n-1개 원반을 2번 기둥으로 옮긴다 (n-1개 원반 하노이 문제)."
      ]
    },
    {
      "cell_type": "markdown",
      "metadata": {
        "id": "Ug4iLS_nTIsq",
        "colab_type": "text"
      },
      "source": [
        "##### **하노이의 탑 알고리즘**"
      ]
    },
    {
      "cell_type": "code",
      "metadata": {
        "id": "c3bdsJWiTMAj",
        "colab_type": "code",
        "outputId": "d7c428f1-a6e3-4d1b-d88d-506d65e6773d",
        "colab": {
          "base_uri": "https://localhost:8080/",
          "height": 269
        }
      },
      "source": [
        "# 문제: 하노이의 탑\n",
        "# 입력: 옮기려는 원반의 개수 n\n",
        "#     : 옮길 원반이 현재 있는 출발점 기둥 from_pos\n",
        "#     : 원반을 옮길 도착점 기둥 to_pos\n",
        "#     : 옮기는 과정에서 사용할 보조 기둥 aux_pos\n",
        "# 출력: 원반을 옮기는 순서\n",
        "\n",
        "def hanoi(n, from_pos, to_pos, aux_pos):\n",
        "  if n == 1:\n",
        "    print(from_pos, \"->\", to_pos)\n",
        "    return\n",
        "\n",
        "  hanoi(n-1, from_pos, aux_pos, to_pos)\n",
        "  print(from_pos, \"->\", to_pos)\n",
        "  hanoi(n-1, aux_pos, to_pos, from_pos)\n",
        "\n",
        "print(\"n = 1\")\n",
        "hanoi(1, 1, 3, 2)\n",
        "print(\"n = 2\")\n",
        "hanoi(2, 1, 3, 2)\n",
        "print(\"n = 3\")\n",
        "hanoi(3, 1, 3, 2)"
      ],
      "execution_count": 0,
      "outputs": [
        {
          "output_type": "stream",
          "text": [
            "n = 1\n",
            "1 -> 3\n",
            "n = 2\n",
            "1 -> 2\n",
            "1 -> 3\n",
            "2 -> 3\n",
            "n = 3\n",
            "1 -> 3\n",
            "1 -> 2\n",
            "3 -> 2\n",
            "1 -> 3\n",
            "2 -> 1\n",
            "2 -> 3\n",
            "1 -> 3\n"
          ],
          "name": "stdout"
        }
      ]
    },
    {
      "cell_type": "markdown",
      "metadata": {
        "id": "Uv6TE3wRUF0s",
        "colab_type": "text"
      },
      "source": [
        "##### **알고리즘 분석**"
      ]
    },
    {
      "cell_type": "markdown",
      "metadata": {
        "id": "wmv8Kih_UJXS",
        "colab_type": "text"
      },
      "source": [
        "입력 크기(탑의 층수)가 클수록 원반을 더 많이 움직여야 한다.\n",
        "- n층짜리 하노이의 탑을 옮기려면 원반을 모두 $2^n-1$번 옮겨야 한다.\n",
        "- 계산복잡도는 $O(2^n)$으로 표현할 수 있다."
      ]
    },
    {
      "cell_type": "markdown",
      "metadata": {
        "id": "cjF0uLakUcMj",
        "colab_type": "text"
      },
      "source": [
        "> **지금까지 살펴본 계산복잡도**\n",
        "> - $O(1)$: n과 무관하게 일정한 시간이 걸림.\n",
        "> - $O(n)$: n과 비례하여 계산 시간이 증가함.\n",
        "> - $O(n^2)$: n의 제곱에 비례해 계산 시간이 증가함.\n",
        "> - $O(2^n)$: 2의 n 제곱에 비례해 계산 시간이 증가함."
      ]
    },
    {
      "cell_type": "code",
      "metadata": {
        "id": "wmrXBIitUBKd",
        "colab_type": "code",
        "colab": {}
      },
      "source": [
        ""
      ],
      "execution_count": 0,
      "outputs": []
    }
  ]
}